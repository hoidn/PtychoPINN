{
 "cells": [
  {
   "cell_type": "code",
   "execution_count": null,
   "metadata": {},
   "outputs": [],
   "source": [
    "from importlib import reload\n",
    "import matplotlib.pyplot as plt\n",
    "\n",
    "def init():\n",
    "    from ptycho import params as p\n",
    "    p.cfg['size'] = 392\n",
    "    p.cfg['positions.provided'] = False\n",
    "    p.cfg['data_source'] = 'lines'\n",
    "    p.cfg['set_phi'] = False\n",
    "    p.cfg['nepochs'] = 60\n",
    "\n",
    "    p.cfg['offset'] = 4\n",
    "    p.cfg['max_position_jitter'] = 3\n",
    "    p.cfg['output_prefix'] = 'lines3'\n",
    "\n",
    "    p.cfg['gridsize'] = 2\n",
    "    p.cfg['n_filters_scale'] = 2\n",
    "    p.cfg['object.big'] = True\n",
    "    p.cfg['intensity_scale.trainable'] = True\n",
    "    p.cfg['probe.trainable'] = False\n",
    "    \n",
    "    p.cfg['outer_offset_train'] = 8\n",
    "    p.cfg['outer_offset_test'] = 20\n",
    "    p.cfg['nimgs_train'] = 2\n",
    "    p.cfg['nimgs_test'] = 2\n",
    "    \n",
    "init()\n",
    "\n",
    "from ptycho.evaluation import save_metrics\n",
    "from ptycho.evaluation import trim\n",
    "from ptycho import tf_helper as hh\n",
    "from ptycho import probe\n"
   ]
  },
  {
   "cell_type": "code",
   "execution_count": null,
   "metadata": {},
   "outputs": [],
   "source": [
    "probe.set_default_probe()\n",
    "\n",
    "\n",
    "from ptycho import params as p\n",
    "from ptycho import generate_data as init"
   ]
  },
  {
   "cell_type": "code",
   "execution_count": null,
   "metadata": {},
   "outputs": [],
   "source": [
    "init.X_train.shape"
   ]
  },
  {
   "cell_type": "markdown",
   "metadata": {},
   "source": [
    "## Full PINN model, best params:"
   ]
  },
  {
   "cell_type": "code",
   "execution_count": null,
   "metadata": {
    "scrolled": true
   },
   "outputs": [],
   "source": [
    "from ptycho import params as p\n",
    "p.cfg['data_source'] = 'lines'\n",
    "p.cfg['offset'] = 4\n",
    "p.cfg['max_position_jitter'] = 10\n",
    "p.cfg['output_prefix'] = 'lines2'\n",
    "\n",
    "p.cfg['gridsize'] = 2\n",
    "p.cfg['n_filters_scale'] = 2\n",
    "p.cfg['object.big'] = True\n",
    "p.cfg['intensity_scale.trainable'] = True\n",
    "\n",
    "from ptycho import train, model\n",
    "# reload(model)\n",
    "# reload(train)\n",
    "\n",
    "# print(p.cfg)\n",
    "from ptycho.train import *"
   ]
  },
  {
   "cell_type": "code",
   "execution_count": null,
   "metadata": {},
   "outputs": [],
   "source": [
    "from ptycho import train_pinn "
   ]
  },
  {
   "cell_type": "code",
   "execution_count": null,
   "metadata": {},
   "outputs": [],
   "source": [
    "d = save_metrics(stitched_obj, YY_ground_truth, label = 'PINN,NLL,overlaps')\n",
    "d\n",
    "#d0 = d"
   ]
  },
  {
   "cell_type": "code",
   "execution_count": null,
   "metadata": {},
   "outputs": [],
   "source": [
    "import matplotlib.pyplot as plt\n",
    "import numpy as np\n",
    "\n",
    "fig, axs = plt.subplots(2, 2, figsize=(10, 10))\n",
    "\n",
    "# reconstructed amplitude images\n",
    "img1 = axs[0, 0].imshow(np.absolute(stitched_obj)[0], cmap='jet', interpolation='none')\n",
    "axs[0, 0].set_title('Reconstructed amplitude')\n",
    "\n",
    "# reconstructed phase images\n",
    "axs[0, 1].imshow(np.angle(stitched_obj)[0], cmap='jet')\n",
    "fig.colorbar(img1, ax=axs[0, 1])\n",
    "axs[0, 1].set_title('Reconstructed phase')\n",
    "\n",
    "# ground truth amplitude images\n",
    "img = axs[1, 0].imshow(np.absolute(init.YY_ground_truth), interpolation='none', cmap='jet')\n",
    "axs[1, 0].set_title('Ground truth amplitude')\n",
    "\n",
    "# ground truth phase images\n",
    "img = axs[1, 1].imshow(np.angle(init.YY_ground_truth), interpolation='none', cmap='jet')\n",
    "axs[1, 1].set_title('Ground truth phase')\n",
    "fig.colorbar(img, ax=axs[1, 1])"
   ]
  },
  {
   "cell_type": "code",
   "execution_count": null,
   "metadata": {},
   "outputs": [],
   "source": [
    "np.absolute(p.get('probe')).shape\n"
   ]
  },
  {
   "cell_type": "code",
   "execution_count": null,
   "metadata": {},
   "outputs": [],
   "source": [
    "from ptycho import evaluation\n",
    "idxs = list(range(0, 100, 10))\n",
    "ptychopinn_heatmaps = [evaluation.summarize(i, pred_amp, reconstructed_obj,\n",
    "                    X_test, Y_I_test, Y_phi_test, np.absolute(p.get('probe'))[:, :, 0], 0) for i in idxs]"
   ]
  },
  {
   "cell_type": "code",
   "execution_count": null,
   "metadata": {},
   "outputs": [],
   "source": [
    "from ptycho import evaluation\n",
    "idxs = list(range(0, 100, 10))\n",
    "ptychopinn_heatmaps = [evaluation.summarize(i, pred_amp, reconstructed_obj,\n",
    "                    X_test, Y_I_test, Y_phi_test, np.absolute(p.get('probe'))[:, :, 0], 0) for i in idxs]"
   ]
  },
  {
   "cell_type": "code",
   "execution_count": null,
   "metadata": {},
   "outputs": [],
   "source": [
    "from ptycho import evaluation\n",
    "\n",
    "evaluation.plt_metrics(history, metric2 = 'trimmed_obj_loss')"
   ]
  },
  {
   "cell_type": "markdown",
   "metadata": {},
   "source": [
    "## PINN, NLL, no overlap:"
   ]
  },
  {
   "cell_type": "code",
   "execution_count": null,
   "metadata": {},
   "outputs": [],
   "source": [
    "from ptycho import train_pinn"
   ]
  },
  {
   "cell_type": "code",
   "execution_count": null,
   "metadata": {},
   "outputs": [],
   "source": [
    "p.cfg['gridsize'] = 1\n",
    "p.cfg['nll_weight'] = 1.\n",
    "p.cfg['mae_weight'] = 0.\n",
    "\n",
    "reload(init)\n",
    "reload(train.model)\n",
    "reload(train_pinn)\n",
    "\n",
    "# print(p.cfg)\n",
    "from ptycho.generate_data import *\n",
    "from ptycho.train import *;"
   ]
  },
  {
   "cell_type": "code",
   "execution_count": null,
   "metadata": {},
   "outputs": [],
   "source": [
    "from ptycho.generate_data import *\n",
    "X_test.shape"
   ]
  },
  {
   "cell_type": "code",
   "execution_count": null,
   "metadata": {},
   "outputs": [],
   "source": [
    "from ptycho import evaluation\n",
    "pinn_heatmaps = [evaluation.summarize(i, train_pinn.pred_amp, train_pinn.reconstructed_obj,\n",
    "                    X_test, Y_I_test, Y_phi_test, np.absolute(p.get('probe'))[:, :, 0], 0) for i in idxs]"
   ]
  },
  {
   "cell_type": "code",
   "execution_count": null,
   "metadata": {},
   "outputs": [],
   "source": [
    "img_dict_ptychopinn = ptychopinn_heatmaps[0]\n",
    "img_dict_pinn = pinn_heatmaps[0]\n",
    "\n",
    "img_dict_pinn.keys()"
   ]
  },
  {
   "cell_type": "markdown",
   "metadata": {},
   "source": [
    "# Compare reconstructions of PINN with and without overlaps"
   ]
  },
  {
   "cell_type": "code",
   "execution_count": null,
   "metadata": {},
   "outputs": [],
   "source": [
    "import matplotlib.pyplot as plt\n",
    "import matplotlib\n",
    "\n",
    "matplotlib.rcParams['font.size'] = 10\n",
    "\n",
    "fig, axs = plt.subplots(2, 3, figsize=(7.5, 5))\n",
    "\n",
    "# Slicing for central 32x32 region\n",
    "slice_32x32 = slice(img_dict_ptychopinn['true_amp_illuminated'].shape[0]//2 - 16, \n",
    "                    img_dict_ptychopinn['true_amp_illuminated'].shape[0]//2 + 16)\n",
    "\n",
    "# Top row for diffraction\n",
    "axs[0, 0].imshow(img_dict_ptychopinn['true_diffraction'], cmap='jet')\n",
    "axs[0, 0].set_title('True diffraction')\n",
    "axs[0, 0].axis('off')\n",
    "\n",
    "axs[0, 1].imshow(img_dict_ptychopinn['rec_diffraction'], cmap='jet')\n",
    "axs[0, 1].set_title('PtychoPINN: \\n reconstructed diffraction')\n",
    "axs[0, 1].axis('off')\n",
    "\n",
    "axs[0, 2].imshow(img_dict_pinn['rec_diffraction'], cmap='jet')\n",
    "axs[0, 2].set_title('PINN: \\n reconstructed diffraction')\n",
    "axs[0, 2].axis('off')\n",
    "\n",
    "# Bottom row for amplitude\n",
    "axs[1, 0].imshow(img_dict_ptychopinn['true_amp_illuminated'][slice_32x32, slice_32x32], cmap='jet')\n",
    "axs[1, 0].set_title('True amplitude')\n",
    "axs[1, 0].axis('off')\n",
    "\n",
    "axs[1, 1].imshow(img_dict_ptychopinn['rec_amp_illuminated'][slice_32x32, slice_32x32], cmap='jet')\n",
    "axs[1, 1].set_title('PtychoPINN: \\n reconstructed amplitude')\n",
    "axs[1, 1].axis('off')\n",
    "\n",
    "axs[1, 2].imshow(img_dict_pinn['rec_amp_illuminated'][slice_32x32, slice_32x32], cmap='jet')\n",
    "axs[1, 2].set_title('PINN: \\n reconstructed amplitude')\n",
    "axs[1, 2].axis('off')\n",
    "\n",
    "plt.tight_layout()\n",
    "plt.show()\n"
   ]
  },
  {
   "cell_type": "code",
   "execution_count": null,
   "metadata": {},
   "outputs": [],
   "source": [
    "import numpy as np\n",
    "import matplotlib.pyplot as plt\n",
    "import matplotlib\n",
    "\n",
    "from matplotlib import rcParams\n",
    "\n",
    "matplotlib.rcParams['font.size'] = 11\n",
    "rcParams['font.family'] = 'serif'\n",
    "rcParams['font.serif'] = ['Computer Modern']\n",
    "\n",
    "fig, axs = plt.subplots(2, 3, figsize=(7.5, 5))\n",
    "\n",
    "# Slicing for central 32x32 region\n",
    "slice_32x32 = slice(img_dict_ptychopinn['true_amp_illuminated'].shape[0]//2 - 16, \n",
    "                    img_dict_ptychopinn['true_amp_illuminated'].shape[0]//2 + 16)\n",
    "\n",
    "# Save true_diffraction as a variable for easier subtraction\n",
    "true_diffraction = img_dict_ptychopinn['true_diffraction']\n",
    "\n",
    "# Calculate difference for PtychoPINN and PINN\n",
    "\n",
    "diff_ptychopinn = np.log(\n",
    "    np.abs(np.exp(img_dict_ptychopinn['rec_diffraction']) - np.exp(true_diffraction) * intensity_scale)\n",
    ")\n",
    "diff_pinn = np.log(\n",
    "    np.abs(np.exp(img_dict_pinn['rec_diffraction']) - np.exp(true_diffraction) * intensity_scale)\n",
    ")\n",
    "\n",
    "# Calculate vmin and vmax (use highest non-infinite value if vmax is np.inf)\n",
    "vmin = 0#np.minimum(np.min(diff_ptychopinn), np.min(diff_pinn))\n",
    "\n",
    "# Replace np.inf with a large finite number for max\n",
    "max_ptychopinn = np.max(diff_ptychopinn[np.isfinite(diff_ptychopinn)]) if np.isinf(np.max(diff_ptychopinn)) else np.max(diff_ptychopinn)\n",
    "max_pinn = np.max(diff_pinn[np.isfinite(diff_pinn)]) if np.isinf(np.max(diff_pinn)) else np.max(diff_pinn)\n",
    "vmax = np.maximum(max_ptychopinn, max_pinn)\n",
    "\n",
    "# Top row for diffraction\n",
    "im1 = axs[0, 0].imshow(true_diffraction + np.log(intensity_scale), cmap='jet')\n",
    "axs[0, 0].set_title('True diffraction \\n (log)')\n",
    "axs[0, 0].axis('off')\n",
    "fig.colorbar(im1, ax=axs[0, 0])\n",
    "\n",
    "im2 = axs[0, 1].imshow(diff_ptychopinn, cmap='jet', vmin=vmin, vmax=vmax)\n",
    "axs[0, 1].set_title('PtychoPINN: diffraction \\n error (log absolute)')\n",
    "axs[0, 1].axis('off')\n",
    "fig.colorbar(im2, ax=axs[0, 1])\n",
    "\n",
    "im3 = axs[0, 2].imshow(diff_pinn, cmap='jet', vmin=vmin, vmax=vmax)\n",
    "axs[0, 2].set_title('PINN: diffraction \\n error (log absolute)')\n",
    "axs[0, 2].axis('off')\n",
    "fig.colorbar(im3, ax=axs[0, 2])\n",
    "\n",
    "# Bottom row for amplitude\n",
    "axs[1, 0].imshow(img_dict_ptychopinn['true_amp_illuminated'][slice_32x32, slice_32x32], cmap='jet')\n",
    "axs[1, 0].set_title('True amplitude')\n",
    "axs[1, 0].axis('off')\n",
    "\n",
    "axs[1, 1].imshow(img_dict_ptychopinn['rec_amp_illuminated'][slice_32x32, slice_32x32], cmap='jet')\n",
    "axs[1, 1].set_title('PtychoPINN: \\n reconstructed amplitude')\n",
    "axs[1, 1].axis('off')\n",
    "\n",
    "axs[1, 2].imshow(img_dict_pinn['rec_amp_illuminated'][slice_32x32, slice_32x32], cmap='jet')\n",
    "axs[1, 2].set_title('PINN: \\n reconstructed amplitude')\n",
    "axs[1, 2].axis('off')\n",
    "\n",
    "plt.tight_layout()\n",
    "plt.show()\n"
   ]
  },
  {
   "cell_type": "code",
   "execution_count": null,
   "metadata": {},
   "outputs": [],
   "source": [
    "def normed_ff_np(arr):\n",
    "    return (f.fftshift(np.absolute(f.fft2(np.array(arr)))) / np.sqrt(h * w))"
   ]
  },
  {
   "cell_type": "code",
   "execution_count": null,
   "metadata": {},
   "outputs": [],
   "source": [
    "from ptycho import fourier as f"
   ]
  },
  {
   "cell_type": "markdown",
   "metadata": {},
   "source": [
    "# More real- and diffraction-space reconstructions"
   ]
  },
  {
   "cell_type": "code",
   "execution_count": null,
   "metadata": {},
   "outputs": [],
   "source": [
    "# !ln ../xrd_clustering/notebooks/visualization.py\n",
    "from ptycho import visualization as vis\n",
    "reload(vis)\n",
    "\n",
    "off = 5\n",
    "i = 0\n",
    "\n",
    "vmin = np.min(Y_I_test[:, 16:-16, 16:-16][i:i + off])\n",
    "vmax = np.max(Y_I_test[:, 16:-16, 16:-16][i:i + off])\n",
    "\n",
    "print('diffraction reconstruction')\n",
    "vis.display_imgs(np.log(np.absolute(pred_amp[:, :, :, 0]))[i:i + off])\n",
    "\n",
    "print('diffraction ground truth')\n",
    "vis.display_imgs(np.log(np.absolute(X_test[:, :, :, 0]))[i:i + off])\n",
    "\n",
    "print('object reconstruction (amp)')\n",
    "vis.display_imgs(np.absolute(reconstructed_obj[:, 16:-16, 16:-16, 0])[i:i + off], vmin = vmin, vmax = vmax)\n",
    "# print('object reconstruction (phase)')\n",
    "# vis.display_imgs(np.angle(b[:, 16:-16, 16:-16, 0])[i:i + 10])#, vmin = vmin, vmax = vmax)\n",
    "print('object ground truth')\n",
    "vis.display_imgs(Y_I_test[:, 16:-16, 16:-16, 0][i:i + off], vmin = vmin, vmax = vmax)"
   ]
  },
  {
   "cell_type": "code",
   "execution_count": null,
   "metadata": {},
   "outputs": [],
   "source": [
    "plt.rcParams[\"figure.figsize\"] = (10, 5)\n",
    "\n",
    "\n",
    "plt.subplot(2, 3, 1)\n",
    "\n",
    "plt.imshow(Y_I_train[0, :, :, 0], cmap = 'jet')\n",
    "\n",
    "plt.subplot(2, 3, 2)\n",
    "plt.imshow(np.absolute(model.autoencoder.variables[-1]), cmap = 'jet')\n",
    "# plt.colorbar()\n",
    "\n",
    "\n",
    "plt.subplot(2, 3, 4)\n",
    "plt.imshow(np.absolute(reconstructed_obj[100, :, :, 0]), cmap = 'jet')\n",
    "\n",
    "plt.subplot(2, 3, 5)\n",
    "tmp = np.absolute(f.fftshift(f.fft2(np.array(model.autoencoder.variables[-1][:, :, 0]))))\n",
    "plt.imshow(np.log(tmp),\n",
    "          cmap  ='jet')\n",
    "\n",
    "plt.subplot(2, 3, 6)\n",
    "plt.imshow(np.log(X_train[0, :, :, 0]), cmap = 'jet')\n",
    "\n",
    "# for i, v in enumerate(model.autoencoder.variables):\n",
    "#     print(i, v.shape)"
   ]
  },
  {
   "cell_type": "code",
   "execution_count": null,
   "metadata": {},
   "outputs": [],
   "source": [
    "plt.rcParams[\"figure.figsize\"] = (5, 5)\n",
    "Itest = (X_test * p.get('intensity_scale'))**2\n",
    "print(Itest.shape, np.max(Itest, axis = 1).max(axis = 1).mean())\n",
    "\n",
    "plt.imshow(np.log(np.sqrt(Itest[0, :, :, 0])), cmap = 'jet')\n",
    "plt.colorbar()"
   ]
  },
  {
   "cell_type": "code",
   "execution_count": null,
   "metadata": {},
   "outputs": [],
   "source": []
  }
 ],
 "metadata": {
  "accelerator": "GPU",
  "colab": {
   "name": "tf2_train_network.ipynb",
   "provenance": []
  },
  "kernelspec": {
   "display_name": "Python 3 (ipykernel)",
   "language": "python",
   "name": "python3"
  },
  "language_info": {
   "codemirror_mode": {
    "name": "ipython",
    "version": 3
   },
   "file_extension": ".py",
   "mimetype": "text/x-python",
   "name": "python",
   "nbconvert_exporter": "python",
   "pygments_lexer": "ipython3",
   "version": "3.10.14"
  },
  "varInspector": {
   "cols": {
    "lenName": 16,
    "lenType": 16,
    "lenVar": 40
   },
   "kernels_config": {
    "python": {
     "delete_cmd_postfix": "",
     "delete_cmd_prefix": "del ",
     "library": "var_list.py",
     "varRefreshCmd": "print(var_dic_list())"
    },
    "r": {
     "delete_cmd_postfix": ") ",
     "delete_cmd_prefix": "rm(",
     "library": "var_list.r",
     "varRefreshCmd": "cat(var_dic_list()) "
    }
   },
   "types_to_exclude": [
    "module",
    "function",
    "builtin_function_or_method",
    "instance",
    "_Feature"
   ],
   "window_display": false
  },
  "widgets": {
   "application/vnd.jupyter.widget-state+json": {
    "3f59d93769ee47bf914ee44cf97a699a": {
     "model_module": "@jupyter-widgets/base",
     "model_name": "LayoutModel",
     "state": {
      "_model_module": "@jupyter-widgets/base",
      "_model_module_version": "1.2.0",
      "_model_name": "LayoutModel",
      "_view_count": null,
      "_view_module": "@jupyter-widgets/base",
      "_view_module_version": "1.2.0",
      "_view_name": "LayoutView",
      "align_content": null,
      "align_items": null,
      "align_self": null,
      "border": null,
      "bottom": null,
      "display": null,
      "flex": null,
      "flex_flow": null,
      "grid_area": null,
      "grid_auto_columns": null,
      "grid_auto_flow": null,
      "grid_auto_rows": null,
      "grid_column": null,
      "grid_gap": null,
      "grid_row": null,
      "grid_template_areas": null,
      "grid_template_columns": null,
      "grid_template_rows": null,
      "height": null,
      "justify_content": null,
      "justify_items": null,
      "left": null,
      "margin": null,
      "max_height": null,
      "max_width": null,
      "min_height": null,
      "min_width": null,
      "object_fit": null,
      "object_position": null,
      "order": null,
      "overflow": null,
      "overflow_x": null,
      "overflow_y": null,
      "padding": null,
      "right": null,
      "top": null,
      "visibility": null,
      "width": null
     }
    },
    "513de58c4be3457a85df9498ea496b7a": {
     "model_module": "@jupyter-widgets/controls",
     "model_name": "HTMLModel",
     "state": {
      "_dom_classes": [],
      "_model_module": "@jupyter-widgets/controls",
      "_model_module_version": "1.5.0",
      "_model_name": "HTMLModel",
      "_view_count": null,
      "_view_module": "@jupyter-widgets/controls",
      "_view_module_version": "1.5.0",
      "_view_name": "HTMLView",
      "description": "",
      "description_tooltip": null,
      "layout": "IPY_MODEL_53c72b9d83d649199b0e1dc9bebecda1",
      "placeholder": "\u200b",
      "style": "IPY_MODEL_7be2d71cda04459d8a7a3017ba492fc6",
      "value": " 161/161 [01:49&lt;00:00,  1.46it/s]"
     }
    },
    "53c72b9d83d649199b0e1dc9bebecda1": {
     "model_module": "@jupyter-widgets/base",
     "model_name": "LayoutModel",
     "state": {
      "_model_module": "@jupyter-widgets/base",
      "_model_module_version": "1.2.0",
      "_model_name": "LayoutModel",
      "_view_count": null,
      "_view_module": "@jupyter-widgets/base",
      "_view_module_version": "1.2.0",
      "_view_name": "LayoutView",
      "align_content": null,
      "align_items": null,
      "align_self": null,
      "border": null,
      "bottom": null,
      "display": null,
      "flex": null,
      "flex_flow": null,
      "grid_area": null,
      "grid_auto_columns": null,
      "grid_auto_flow": null,
      "grid_auto_rows": null,
      "grid_column": null,
      "grid_gap": null,
      "grid_row": null,
      "grid_template_areas": null,
      "grid_template_columns": null,
      "grid_template_rows": null,
      "height": null,
      "justify_content": null,
      "justify_items": null,
      "left": null,
      "margin": null,
      "max_height": null,
      "max_width": null,
      "min_height": null,
      "min_width": null,
      "object_fit": null,
      "object_position": null,
      "order": null,
      "overflow": null,
      "overflow_x": null,
      "overflow_y": null,
      "padding": null,
      "right": null,
      "top": null,
      "visibility": null,
      "width": null
     }
    },
    "64269af9f8c543ad8ab3fd882be2892a": {
     "model_module": "@jupyter-widgets/base",
     "model_name": "LayoutModel",
     "state": {
      "_model_module": "@jupyter-widgets/base",
      "_model_module_version": "1.2.0",
      "_model_name": "LayoutModel",
      "_view_count": null,
      "_view_module": "@jupyter-widgets/base",
      "_view_module_version": "1.2.0",
      "_view_name": "LayoutView",
      "align_content": null,
      "align_items": null,
      "align_self": null,
      "border": null,
      "bottom": null,
      "display": null,
      "flex": null,
      "flex_flow": null,
      "grid_area": null,
      "grid_auto_columns": null,
      "grid_auto_flow": null,
      "grid_auto_rows": null,
      "grid_column": null,
      "grid_gap": null,
      "grid_row": null,
      "grid_template_areas": null,
      "grid_template_columns": null,
      "grid_template_rows": null,
      "height": null,
      "justify_content": null,
      "justify_items": null,
      "left": null,
      "margin": null,
      "max_height": null,
      "max_width": null,
      "min_height": null,
      "min_width": null,
      "object_fit": null,
      "object_position": null,
      "order": null,
      "overflow": null,
      "overflow_x": null,
      "overflow_y": null,
      "padding": null,
      "right": null,
      "top": null,
      "visibility": null,
      "width": null
     }
    },
    "775a151aaf1b45579fc45aa58b6e16b6": {
     "model_module": "@jupyter-widgets/controls",
     "model_name": "ProgressStyleModel",
     "state": {
      "_model_module": "@jupyter-widgets/controls",
      "_model_module_version": "1.5.0",
      "_model_name": "ProgressStyleModel",
      "_view_count": null,
      "_view_module": "@jupyter-widgets/base",
      "_view_module_version": "1.2.0",
      "_view_name": "StyleView",
      "bar_color": null,
      "description_width": "initial"
     }
    },
    "7be2d71cda04459d8a7a3017ba492fc6": {
     "model_module": "@jupyter-widgets/controls",
     "model_name": "DescriptionStyleModel",
     "state": {
      "_model_module": "@jupyter-widgets/controls",
      "_model_module_version": "1.5.0",
      "_model_name": "DescriptionStyleModel",
      "_view_count": null,
      "_view_module": "@jupyter-widgets/base",
      "_view_module_version": "1.2.0",
      "_view_name": "StyleView",
      "description_width": ""
     }
    },
    "c5433a738c8347eda89de6fa790ba382": {
     "model_module": "@jupyter-widgets/controls",
     "model_name": "FloatProgressModel",
     "state": {
      "_dom_classes": [],
      "_model_module": "@jupyter-widgets/controls",
      "_model_module_version": "1.5.0",
      "_model_name": "FloatProgressModel",
      "_view_count": null,
      "_view_module": "@jupyter-widgets/controls",
      "_view_module_version": "1.5.0",
      "_view_name": "ProgressView",
      "bar_style": "success",
      "description": "100%",
      "description_tooltip": null,
      "layout": "IPY_MODEL_64269af9f8c543ad8ab3fd882be2892a",
      "max": 161,
      "min": 0,
      "orientation": "horizontal",
      "style": "IPY_MODEL_775a151aaf1b45579fc45aa58b6e16b6",
      "value": 161
     }
    },
    "cb8cf668a4554b5dba67108d8ef5f4e4": {
     "model_module": "@jupyter-widgets/controls",
     "model_name": "HBoxModel",
     "state": {
      "_dom_classes": [],
      "_model_module": "@jupyter-widgets/controls",
      "_model_module_version": "1.5.0",
      "_model_name": "HBoxModel",
      "_view_count": null,
      "_view_module": "@jupyter-widgets/controls",
      "_view_module_version": "1.5.0",
      "_view_name": "HBoxView",
      "box_style": "",
      "children": [
       "IPY_MODEL_c5433a738c8347eda89de6fa790ba382",
       "IPY_MODEL_513de58c4be3457a85df9498ea496b7a"
      ],
      "layout": "IPY_MODEL_3f59d93769ee47bf914ee44cf97a699a"
     }
    }
   }
  }
 },
 "nbformat": 4,
 "nbformat_minor": 4
}