{
 "cells": [
  {
   "cell_type": "markdown",
   "id": "86b65f0a",
   "metadata": {},
   "source": [
    "TODOs\n",
    "\n",
    "* use a proper mask. it should be tighter than the current one"
   ]
  },
  {
   "cell_type": "code",
   "execution_count": 1,
   "id": "41fe6119",
   "metadata": {},
   "outputs": [
    {
     "name": "stderr",
     "output_type": "stream",
     "text": [
      "2023-10-26 16:26:05.757481: I tensorflow/core/platform/cpu_feature_guard.cc:193] This TensorFlow binary is optimized with oneAPI Deep Neural Network Library (oneDNN) to use the following CPU instructions in performance-critical operations:  AVX2 FMA\n",
      "To enable them in other operations, rebuild TensorFlow with the appropriate compiler flags.\n",
      "2023-10-26 16:26:05.849583: E tensorflow/stream_executor/cuda/cuda_blas.cc:2981] Unable to register cuBLAS factory: Attempting to register factory for plugin cuBLAS when one has already been registered\n",
      "2023-10-26 16:26:06.255388: W tensorflow/stream_executor/platform/default/dso_loader.cc:64] Could not load dynamic library 'libnvinfer.so.7'; dlerror: libnvinfer.so.7: cannot open shared object file: No such file or directory; LD_LIBRARY_PATH: :/home/ollie/anaconda3/envs/tf/lib/\n",
      "2023-10-26 16:26:06.255433: W tensorflow/stream_executor/platform/default/dso_loader.cc:64] Could not load dynamic library 'libnvinfer_plugin.so.7'; dlerror: libnvinfer_plugin.so.7: cannot open shared object file: No such file or directory; LD_LIBRARY_PATH: :/home/ollie/anaconda3/envs/tf/lib/\n",
      "2023-10-26 16:26:06.255437: W tensorflow/compiler/tf2tensorrt/utils/py_utils.cc:38] TF-TRT Warning: Cannot dlopen some TensorRT libraries. If you would like to use Nvidia GPU with TensorRT, please make sure the missing libraries mentioned above are installed properly.\n",
      "/home/ollie/anaconda3/envs/tf/lib/python3.9/site-packages/scipy/__init__.py:146: UserWarning: A NumPy version >=1.16.5 and <1.23.0 is required for this version of SciPy (detected version 1.23.0\n",
      "  warnings.warn(f\"A NumPy version >={np_minversion} and <{np_maxversion}\"\n",
      "2023-10-26 16:26:06.721163: I tensorflow/stream_executor/cuda/cuda_gpu_executor.cc:980] successful NUMA node read from SysFS had negative value (-1), but there must be at least one NUMA node, so returning NUMA node zero\n",
      "2023-10-26 16:26:06.738963: I tensorflow/stream_executor/cuda/cuda_gpu_executor.cc:980] successful NUMA node read from SysFS had negative value (-1), but there must be at least one NUMA node, so returning NUMA node zero\n",
      "2023-10-26 16:26:06.739109: I tensorflow/stream_executor/cuda/cuda_gpu_executor.cc:980] successful NUMA node read from SysFS had negative value (-1), but there must be at least one NUMA node, so returning NUMA node zero\n",
      "2023-10-26 16:26:06.976349: I tensorflow/core/platform/cpu_feature_guard.cc:193] This TensorFlow binary is optimized with oneAPI Deep Neural Network Library (oneDNN) to use the following CPU instructions in performance-critical operations:  AVX2 FMA\n",
      "To enable them in other operations, rebuild TensorFlow with the appropriate compiler flags.\n",
      "2023-10-26 16:26:06.977462: I tensorflow/stream_executor/cuda/cuda_gpu_executor.cc:980] successful NUMA node read from SysFS had negative value (-1), but there must be at least one NUMA node, so returning NUMA node zero\n",
      "2023-10-26 16:26:06.977637: I tensorflow/stream_executor/cuda/cuda_gpu_executor.cc:980] successful NUMA node read from SysFS had negative value (-1), but there must be at least one NUMA node, so returning NUMA node zero\n",
      "2023-10-26 16:26:06.977756: I tensorflow/stream_executor/cuda/cuda_gpu_executor.cc:980] successful NUMA node read from SysFS had negative value (-1), but there must be at least one NUMA node, so returning NUMA node zero\n",
      "2023-10-26 16:26:07.424585: I tensorflow/stream_executor/cuda/cuda_gpu_executor.cc:980] successful NUMA node read from SysFS had negative value (-1), but there must be at least one NUMA node, so returning NUMA node zero\n",
      "2023-10-26 16:26:07.424723: I tensorflow/stream_executor/cuda/cuda_gpu_executor.cc:980] successful NUMA node read from SysFS had negative value (-1), but there must be at least one NUMA node, so returning NUMA node zero\n",
      "2023-10-26 16:26:07.424821: I tensorflow/stream_executor/cuda/cuda_gpu_executor.cc:980] successful NUMA node read from SysFS had negative value (-1), but there must be at least one NUMA node, so returning NUMA node zero\n",
      "2023-10-26 16:26:07.424890: I tensorflow/core/common_runtime/gpu/gpu_process_state.cc:222] Using CUDA malloc Async allocator for GPU: 0\n",
      "2023-10-26 16:26:07.424969: I tensorflow/core/common_runtime/gpu/gpu_device.cc:1616] Created device /job:localhost/replica:0/task:0/device:GPU:0 with 5474 MB memory:  -> device: 0, name: NVIDIA GeForce RTX 3090, pci bus id: 0000:04:00.0, compute capability: 8.6\n"
     ]
    }
   ],
   "source": [
    "import torch\n",
    "import numpy as np\n",
    "import matplotlib.pyplot as plt\n",
    "\n",
    "N = 64\n",
    "\n",
    "def get_squared_distance():\n",
    "    \"\"\"\n",
    "    Return array of distances from the center\n",
    "    \"\"\"\n",
    "    centered_indices = np.arange(N) - N // 2 + .5\n",
    "    x, y = np.meshgrid(centered_indices, centered_indices)\n",
    "    d = np.sqrt(x*x+y*y)\n",
    "    return d\n",
    "\n",
    "#obj = np.load('/Users/ollie/Downloads/data_recon.npz')\n",
    "obj = np.load('recon_2x2_1x1_with_positions.npz')\n",
    "\n",
    "import ptycho.tf_helper as hh\n",
    "\n",
    "imgs, coords = obj['imgs'], obj['coords']\n",
    "\n",
    "mask = hh.mk_centermask(imgs, N, 4, kind = 'center')\n",
    "imgs = np.array(imgs * mask)\n",
    "# imgs = imgs[:, 16:-16, 16:-16, :]\n",
    "# imgs = imgs / imgs.mean()\n",
    "\n",
    "from ptycho import probe\n",
    "import torch\n",
    "import numpy as np\n",
    "import matplotlib.pyplot as plt\n",
    "\n",
    "# Load data\n",
    "data = obj#np.load('/mnt/data/data (1).npz')\n",
    "# imgs = torch.tensor(data['imgs'])\n",
    "imgs = torch.tensor((imgs))\n",
    "mask = torch.tensor(np.array(mask))\n",
    "\n",
    "# # use tighter mask\n",
    "# imgs = torch.tensor((imgs))\n",
    "# mask = torch.tensor(np.array(mask))\n",
    "probe_mask_real = (get_squared_distance() < N // 4)[..., None]\n",
    "mask[...] = torch.tensor(probe_mask_real)\n",
    "imgs = imgs * mask\n",
    "\n",
    "\n",
    "\n",
    "def torch_cross_image_full(im1, im2, submean = False,\n",
    "                          return_complex = False, convolve = False):\n",
    "    # convolution instead of cross correlation\n",
    "    # Subtract the mean\n",
    "    if submean:\n",
    "        im1_gray = im1 - torch.mean(im1, axis = [1, 2])[:, None, None]\n",
    "        im2_gray = im2 - torch.mean(im2, axis = [1, 2])[:, None, None]\n",
    "    else:\n",
    "        im1_gray = im1 #- torch.mean(im1, axis = [1, 2])[:, None, None]\n",
    "        im2_gray = im2 #- torch.mean(im2, axis = [1, 2])[:, None, None]\n",
    "    \n",
    "    # Zero-pad both images to double the size\n",
    "    N = im1_gray.shape[-1] // 2\n",
    "    im1_padded = torch.nn.functional.pad(im1_gray, (0, N, 0, N))\n",
    "    im2_padded = torch.nn.functional.pad(im2_gray, (0, N, 0, N))\n",
    "    \n",
    "    # Compute FFT for both padded images\n",
    "    fft_im1 = torch.fft.fft2(im1_padded)\n",
    "    fft_im2 = torch.fft.fft2(im2_padded)\n",
    "    \n",
    "    # Multiply FFT of im1 with the complex conjugate of the FFT of reversed im2\n",
    "#     product = fft_im1 * torch.conj(fft_im2.flip([-2, -1]))\n",
    "    if convolve:\n",
    "        product = fft_im1 * fft_im2\n",
    "    else:\n",
    "        product = fft_im1 * torch.conj(fft_im2)\n",
    "    \n",
    "    # Compute inverse FFT to get the cross-correlation\n",
    "    cross_corr_complex = torch.fft.fftshift(torch.fft.ifft2(product))\n",
    "    \n",
    "    # Extract real component\n",
    "    cross_corr_magnitude = torch.abs(cross_corr_complex)\n",
    "    norm = torch.max(cross_corr_magnitude)\n",
    "    \n",
    "    if return_complex:\n",
    "        return cross_corr_complex / norm\n",
    "    \n",
    "    return cross_corr_magnitude / norm"
   ]
  },
  {
   "cell_type": "code",
   "execution_count": 17,
   "id": "354de888",
   "metadata": {},
   "outputs": [],
   "source": [
    "np.savez('poscorrection_selfcontained.npz', imgs = imgs, mask = mask, coords = coords)"
   ]
  },
  {
   "cell_type": "code",
   "execution_count": 2,
   "id": "9aee9724",
   "metadata": {},
   "outputs": [
    {
     "data": {
      "text/plain": [
       "<matplotlib.image.AxesImage at 0x7ff5286f0ca0>"
      ]
     },
     "execution_count": 2,
     "metadata": {},
     "output_type": "execute_result"
    },
    {
     "data": {
      "image/png": "[encoded data removed]",
      "text/plain": [
       "<Figure size 640x480 with 1 Axes>"
      ]
     },
     "metadata": {},
     "output_type": "display_data"
    }
   ],
   "source": [
    "plt.imshow(np.abs(imgs[0, :, :, 0]))"
   ]
  },
  {
   "cell_type": "code",
   "execution_count": 3,
   "id": "e097bded",
   "metadata": {},
   "outputs": [
    {
     "data": {
      "text/plain": [
       "<matplotlib.image.AxesImage at 0x7ff49c1721c0>"
      ]
     },
     "execution_count": 3,
     "metadata": {},
     "output_type": "execute_result"
    },
    {
     "data": {
      "image/png": "[encoded data removed]",
      "text/plain": [
       "<Figure size 640x480 with 1 Axes>"
      ]
     },
     "metadata": {},
     "output_type": "display_data"
    }
   ],
   "source": [
    "plt.imshow(np.abs(mask[0, :, :, 0]))"
   ]
  },
  {
   "cell_type": "code",
   "execution_count": 9,
   "id": "da385498",
   "metadata": {},
   "outputs": [],
   "source": [
    "epsilon = 1\n",
    "nn = 16#54\n",
    "# ccorr_ref = torch_cross_image_full(imgs[:, :, :, 0], imgs[:, :, :, 0], convolve=False, submean = True)[:, nn: -nn, nn: -nn]\n",
    "\n",
    "\n",
    "def channel_ccorr(imgs, i):\n",
    "    ccorr = torch_cross_image_full(imgs[:, :, :, 0], imgs[:, :, :, i])[:,  nn: -nn, nn: -nn]\n",
    "    ncorr = torch_cross_image_full(torch.abs(mask[:, :, :, 0]), torch.abs(mask[:, :, :, i]))[:, nn: -nn, nn: -nn]\n",
    "    return (ccorr / (epsilon + np.abs(ncorr)))\n",
    "\n",
    "gridsize = 2\n",
    "ccorr2s = torch.stack(tuple(channel_ccorr(imgs, i) for i in range(gridsize**2)), dim=-1)"
   ]
  },
  {
   "cell_type": "code",
   "execution_count": 10,
   "id": "574b4943",
   "metadata": {
    "scrolled": true
   },
   "outputs": [
    {
     "name": "stderr",
     "output_type": "stream",
     "text": [
      "/home/ollie/anaconda3/envs/tf/lib/python3.9/site-packages/torch/functional.py:478: UserWarning: torch.meshgrid: in an upcoming release, it will be required to pass the indexing argument. (Triggered internally at  /opt/conda/conda-bld/pytorch_1659484746322/work/aten/src/ATen/native/TensorShape.cpp:2894.)\n",
      "  return _VF.meshgrid(tensors, **kwargs)  # type: ignore[attr-defined]\n"
     ]
    },
    {
     "data": {
      "text/plain": [
       "(torch.Size([25, 1, 2, 4]),\n",
       " tensor([[[[ 0.0000,  0.4576, -0.5833, -0.6667],\n",
       "           [ 0.0000, -1.0847, -0.3333, -0.9333]]]]),\n",
       " array([[[[ 1.62183805, -0.64688545, -0.26744538, -0.70750723],\n",
       "          [ 0.0848721 , -1.14667661, -0.34404734,  1.40585185]]]]))"
      ]
     },
     "execution_count": 10,
     "metadata": {},
     "output_type": "execute_result"
    }
   ],
   "source": [
    "# ccorr2s[:, :mm, :, :] = 0\n",
    "# ccorr2s[:, -mm:, :, :] = 0\n",
    "# ccorr2s[:, :, :mm, :] = 0\n",
    "# ccorr2s[:, :, -mm:, :] = 0\n",
    "\n",
    "# TODO get weighted center of mass instead of center of mass of binary mask\n",
    "# New function definition\n",
    "def find_peak_positions(tensor, nominal_coords):\n",
    "    b, N, _, c = tensor.shape\n",
    "    result = torch.zeros((b, 1, 2, c), dtype=tensor.dtype)\n",
    "    reshaped_tensor = tensor.view(b, N * N, c)\n",
    "    max_val, _ = torch.max(reshaped_tensor, dim=1, keepdim=True)\n",
    "    mask = (reshaped_tensor >= max_val * 0.85)\n",
    "    x, y = torch.meshgrid(torch.arange(N), torch.arange(N))\n",
    "    x = x.flatten().float()\n",
    "    y = y.flatten().float()\n",
    "    \n",
    "    for i in range(c):\n",
    "        channel_mask = mask[:, :, i]\n",
    "        mass_x = torch.sum(x * channel_mask.float(), dim=1) / torch.sum(channel_mask, dim=1)\n",
    "        mass_y = torch.sum(y * channel_mask.float(), dim=1) / torch.sum(channel_mask, dim=1)\n",
    "        \n",
    "        # cross correlation offsets are sign-flipped relative to the model's definition\n",
    "        # Also, for the LCLS data we have to swap x and y\n",
    "        result[:, 0, 0, i] = -mass_y\n",
    "        result[:, 0, 1, i] = -mass_x\n",
    "    \n",
    "    # Shift so that the first-image relative coords are the same as their nominal coords under the model's\n",
    "    # definition, which uses the solution region CM as origin\n",
    "    result = result + N // 2 #+ nominal_coords[:1, ...]\n",
    "    return result, mask\n",
    "\n",
    "peak_positions, peakmasks = find_peak_positions(ccorr2s, coords)\n",
    "\n",
    "# Show the shape and some content of the resulting tensor\n",
    "peak_positions.shape, peak_positions[:1, :, :, :], coords[:1, ...]\n"
   ]
  },
  {
   "cell_type": "code",
   "execution_count": 11,
   "id": "bf394c19",
   "metadata": {},
   "outputs": [],
   "source": [
    "def cmshift(peak_positions):\n",
    "    return peak_positions - peak_positions.mean(axis = 3)[:, :, :, None]"
   ]
  },
  {
   "cell_type": "code",
   "execution_count": 12,
   "id": "a1baac95",
   "metadata": {},
   "outputs": [],
   "source": [
    "from scipy.stats import pearsonr"
   ]
  },
  {
   "cell_type": "code",
   "execution_count": 13,
   "id": "5c74ad9a",
   "metadata": {
    "scrolled": false
   },
   "outputs": [
    {
     "data": {
      "text/plain": [
       "(0.30357890642158586, 0.002137526149105296)"
      ]
     },
     "execution_count": 13,
     "metadata": {},
     "output_type": "execute_result"
    }
   ],
   "source": [
    "ii = 1\n",
    "pearsonr((peak_positions - peak_positions[:, :, :, :1])[:, :, ii, :].ravel(),\n",
    "         (coords - coords[:, :, :, :1])[:, :, ii, :].ravel())"
   ]
  },
  {
   "cell_type": "code",
   "execution_count": 14,
   "id": "ad632533",
   "metadata": {},
   "outputs": [
    {
     "data": {
      "text/plain": [
       "(0.1506264530816754, 0.13468605149898027)"
      ]
     },
     "execution_count": 14,
     "metadata": {},
     "output_type": "execute_result"
    }
   ],
   "source": [
    "pearsonr(cmshift(peak_positions)[:, :, ii, :].ravel(),\n",
    "         cmshift(coords - coords[:, :, :, :1])[:, :, ii, :].ravel())"
   ]
  },
  {
   "cell_type": "code",
   "execution_count": 15,
   "id": "e2197828",
   "metadata": {},
   "outputs": [
    {
     "data": {
      "text/plain": [
       "<matplotlib.colorbar.Colorbar at 0x7ff49c0f56a0>"
      ]
     },
     "execution_count": 15,
     "metadata": {},
     "output_type": "execute_result"
    },
    {
     "data": {
      "image/png": "[encoded data removed]",
      "text/plain": [
       "<Figure size 640x480 with 2 Axes>"
      ]
     },
     "metadata": {},
     "output_type": "display_data"
    }
   ],
   "source": [
    "mm = 16\n",
    "plt.imshow(ccorr2s[0, mm: -mm, mm: -mm, 1], cmap = 'jet')\n",
    "plt.colorbar()"
   ]
  },
  {
   "cell_type": "code",
   "execution_count": 16,
   "id": "343d7593",
   "metadata": {},
   "outputs": [
    {
     "data": {
      "text/plain": [
       "<matplotlib.image.AxesImage at 0x7ff49c00dee0>"
      ]
     },
     "execution_count": 16,
     "metadata": {},
     "output_type": "execute_result"
    },
    {
     "data": {
      "image/png": "[encoded data removed]",
      "text/plain": [
       "<Figure size 640x480 with 1 Axes>"
      ]
     },
     "metadata": {},
     "output_type": "display_data"
    }
   ],
   "source": [
    "plt.imshow(ccorr2s[0, :, :, 0] >= (0.7 * ccorr2s[0, :, :, 0].max()), cmap = 'jet')\n"
   ]
  },
  {
   "cell_type": "code",
   "execution_count": 294,
   "id": "d3a4ac8c",
   "metadata": {},
   "outputs": [
    {
     "data": {
      "text/plain": [
       "(0.9808277431607988, 0.9833094240361473)"
      ]
     },
     "execution_count": 294,
     "metadata": {},
     "output_type": "execute_result"
    }
   ],
   "source": [
    "np.std(coords[:, :, 0, :].ravel()), np.std(coords[:, :, 1, :].ravel())"
   ]
  },
  {
   "cell_type": "code",
   "execution_count": 268,
   "id": "0ebbdb6b",
   "metadata": {
    "scrolled": true
   },
   "outputs": [
    {
     "data": {
      "text/plain": [
       "array([[[ 1.62183805, -0.64688545, -0.26744538, -0.70750723],\n",
       "        [ 0.0848721 , -1.14667661, -0.34404734,  1.40585185]]])"
      ]
     },
     "execution_count": 268,
     "metadata": {},
     "output_type": "execute_result"
    }
   ],
   "source": [
    "coords[0]"
   ]
  },
  {
   "cell_type": "code",
   "execution_count": 98,
   "id": "df3d7697",
   "metadata": {},
   "outputs": [],
   "source": [
    "from scipy.ndimage.measurements import center_of_mass as cm"
   ]
  }
 ],
 "metadata": {
  "kernelspec": {
   "display_name": "Python 3 (ipykernel)",
   "language": "python",
   "name": "python3"
  },
  "language_info": {
   "codemirror_mode": {
    "name": "ipython",
    "version": 3
   },
   "file_extension": ".py",
   "mimetype": "text/x-python",
   "name": "python",
   "nbconvert_exporter": "python",
   "pygments_lexer": "ipython3",
   "version": "3.9.13"
  }
 },
 "nbformat": 4,
 "nbformat_minor": 5
}
