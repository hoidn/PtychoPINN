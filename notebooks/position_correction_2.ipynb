{
 "cells": [
  {
   "cell_type": "markdown",
   "id": "86b65f0a",
   "metadata": {},
   "source": [
    "TODOs\n",
    "\n",
    "* use a proper mask. it should be tighter than the current one\n",
    "* fill outside mask"
   ]
  },
  {
   "cell_type": "code",
   "execution_count": 123,
   "id": "41fe6119",
   "metadata": {},
   "outputs": [],
   "source": [
    "import torch\n",
    "import numpy as np\n",
    "import matplotlib.pyplot as plt\n",
    "\n",
    "N = 64\n",
    "\n",
    "def get_squared_distance():\n",
    "    \"\"\"\n",
    "    Return array of distances from the center\n",
    "    \"\"\"\n",
    "    centered_indices = np.arange(N) - N // 2 + .5\n",
    "    x, y = np.meshgrid(centered_indices, centered_indices)\n",
    "    d = np.sqrt(x*x+y*y)\n",
    "    return d\n",
    "\n",
    "#obj = np.load('/Users/ollie/Downloads/data_recon.npz')\n",
    "obj = np.load('recon_2x2_1x1_with_positions.npz')\n",
    "\n",
    "import ptycho.tf_helper as hh\n",
    "\n",
    "imgs, coords = obj['imgs'], obj['coords']\n",
    "#imgs, coords, nn_indices = obj['imgs'], obj['coords'], obj['nn_indices']\n",
    "\n",
    "mask = hh.mk_centermask(imgs, N, 4, kind = 'center')\n",
    "imgs = np.array(imgs * mask)\n",
    "# imgs = imgs[:, 16:-16, 16:-16, :]\n",
    "# imgs = imgs / imgs.mean()\n",
    "\n",
    "from ptycho import probe\n",
    "import torch\n",
    "import numpy as np\n",
    "import matplotlib.pyplot as plt\n",
    "\n",
    "# Load data\n",
    "data = obj#np.load('/mnt/data/data (1).npz')\n",
    "# imgs = torch.tensor(data['imgs'])\n",
    "imgs = torch.tensor((imgs))\n",
    "mask = torch.tensor(np.array(mask))\n",
    "\n",
    "# # use tighter mask\n",
    "# imgs = torch.tensor((imgs))\n",
    "# mask = torch.tensor(np.array(mask))\n",
    "probe_mask_real = (get_squared_distance() < N // 4)[..., None]\n",
    "mask[...] = torch.tensor(probe_mask_real)\n",
    "imgs = imgs * mask\n",
    "\n",
    "\n",
    "\n",
    "def torch_cross_image_full(im1, im2, submean = False,\n",
    "                          return_complex = False, convolve = False,\n",
    "                          abs = False,\n",
    "                          angle = False):\n",
    "    # convolution instead of cross correlation\n",
    "    # Subtract the mean\n",
    "    if abs:\n",
    "        im1 = torch.abs(im1)\n",
    "        im2 = torch.abs(im2)\n",
    "    if angle:\n",
    "        im1 = torch.angle(im1)\n",
    "        im2 = torch.angle(im2)\n",
    "    if submean:\n",
    "        im1_gray = im1 - torch.mean(im1, axis = [1, 2])[:, None, None]\n",
    "        im2_gray = im2 - torch.mean(im2, axis = [1, 2])[:, None, None]\n",
    "    else:\n",
    "        im1_gray = im1 #- torch.mean(im1, axis = [1, 2])[:, None, None]\n",
    "        im2_gray = im2 #- torch.mean(im2, axis = [1, 2])[:, None, None]\n",
    "    \n",
    "    # Zero-pad both images to double the size\n",
    "    N = im1_gray.shape[-1] // 2\n",
    "    im1_padded = torch.nn.functional.pad(im1_gray, (0, N, 0, N))\n",
    "    im2_padded = torch.nn.functional.pad(im2_gray, (0, N, 0, N))\n",
    "    \n",
    "    # Compute FFT for both padded images\n",
    "    fft_im1 = torch.fft.fft2(im1_padded)\n",
    "    fft_im2 = torch.fft.fft2(im2_padded)\n",
    "    \n",
    "    # Multiply FFT of im1 with the complex conjugate of the FFT of reversed im2\n",
    "#     product = fft_im1 * torch.conj(fft_im2.flip([-2, -1]))\n",
    "    if convolve:\n",
    "        product = fft_im1 * fft_im2\n",
    "    else:\n",
    "        product = fft_im1 * torch.conj(fft_im2)\n",
    "    \n",
    "    # Compute inverse FFT to get the cross-correlation\n",
    "    cross_corr_complex = torch.fft.fftshift(torch.fft.ifft2(product))\n",
    "    \n",
    "    # Extract real component\n",
    "    cross_corr_magnitude = torch.abs(cross_corr_complex)\n",
    "    norm = torch.max(cross_corr_magnitude)\n",
    "    \n",
    "    if return_complex:\n",
    "        return cross_corr_complex / norm\n",
    "    \n",
    "    return cross_corr_magnitude / norm"
   ]
  },
  {
   "cell_type": "code",
   "execution_count": 124,
   "id": "d618618b",
   "metadata": {},
   "outputs": [],
   "source": [
    "np.savez('poscorrection_selfcontained.npz', imgs = imgs[:5], mask = mask[:5], coords = coords[:5])"
   ]
  },
  {
   "cell_type": "code",
   "execution_count": 125,
   "id": "4ff1b43b",
   "metadata": {},
   "outputs": [
    {
     "data": {
      "text/plain": [
       "<matplotlib.image.AxesImage at 0x7f9e19431370>"
      ]
     },
     "execution_count": 125,
     "metadata": {},
     "output_type": "execute_result"
    },
    {
     "data": {
      "image/png": "[encoded data removed]",
      "text/plain": [
       "<Figure size 640x480 with 1 Axes>"
      ]
     },
     "metadata": {},
     "output_type": "display_data"
    }
   ],
   "source": [
    "plt.imshow(np.abs(imgs[0, :, :, 0]))"
   ]
  },
  {
   "cell_type": "code",
   "execution_count": 126,
   "id": "e097bded",
   "metadata": {},
   "outputs": [
    {
     "data": {
      "text/plain": [
       "<matplotlib.image.AxesImage at 0x7f9e1938ec40>"
      ]
     },
     "execution_count": 126,
     "metadata": {},
     "output_type": "execute_result"
    },
    {
     "data": {
      "image/png": "[encoded data removed]",
      "text/plain": [
       "<Figure size 640x480 with 1 Axes>"
      ]
     },
     "metadata": {},
     "output_type": "display_data"
    }
   ],
   "source": [
    "plt.imshow(np.abs(mask[0, :, :, 0]))"
   ]
  },
  {
   "cell_type": "code",
   "execution_count": 167,
   "id": "da385498",
   "metadata": {},
   "outputs": [],
   "source": [
    "epsilon = .1\n",
    "nn = 16#54\n",
    "# ccorr_ref = torch_cross_image_full(imgs[:, :, :, 0], imgs[:, :, :, 0], convolve=False, submean = True)[:, nn: -nn, nn: -nn]\n",
    "\n",
    "\n",
    "def channel_ccorr(imgs, i):\n",
    "    ccorr = torch_cross_image_full(imgs[:, :, :, 0], imgs[:, :, :, i])[:,  nn: -nn, nn: -nn]\n",
    "    ncorr = torch_cross_image_full(torch.abs(mask[:, :, :, 0]), torch.abs(mask[:, :, :, i]))[:, nn: -nn, nn: -nn]\n",
    "    return (ccorr / (epsilon + np.abs(ncorr)))\n",
    "\n",
    "gridsize = 2\n",
    "ccorr2s = torch.stack(tuple(channel_ccorr(imgs, i) for i in range(gridsize**2)), dim=-1)"
   ]
  },
  {
   "cell_type": "code",
   "execution_count": 168,
   "id": "3aca4cc2",
   "metadata": {},
   "outputs": [
    {
     "data": {
      "text/plain": [
       "torch.Size([25, 64, 64, 4])"
      ]
     },
     "execution_count": 168,
     "metadata": {},
     "output_type": "execute_result"
    }
   ],
   "source": [
    "imgs.shape"
   ]
  },
  {
   "cell_type": "code",
   "execution_count": 169,
   "id": "6d838bcd",
   "metadata": {},
   "outputs": [],
   "source": [
    "kk = 22"
   ]
  },
  {
   "cell_type": "code",
   "execution_count": 173,
   "id": "1d2630cd",
   "metadata": {},
   "outputs": [
    {
     "data": {
      "text/plain": [
       "<matplotlib.image.AxesImage at 0x7f9e18566c70>"
      ]
     },
     "execution_count": 173,
     "metadata": {},
     "output_type": "execute_result"
    },
    {
     "data": {
      "image/png": "[encoded data removed]",
      "text/plain": [
       "<Figure size 640x480 with 1 Axes>"
      ]
     },
     "metadata": {},
     "output_type": "display_data"
    }
   ],
   "source": [
    "i = 3\n",
    "b = 12\n",
    "plt.imshow(torch_cross_image_full(imgs[:, kk: -kk, kk: -kk, 3], imgs[:, kk: -kk, kk: -kk, i])[b, ...], cmap = 'jet')"
   ]
  },
  {
   "cell_type": "code",
   "execution_count": 119,
   "id": "574b4943",
   "metadata": {
    "scrolled": true
   },
   "outputs": [
    {
     "data": {
      "text/plain": [
       "(torch.Size([25, 1, 2, 4]),\n",
       " tensor([[[[  0.0000,  -2.0000,   0.0000, -20.2500],\n",
       "           [  0.0000,  -2.4286,   0.0000,  -3.0000]]]]),\n",
       " array([[[[ 1.62183805, -0.64688545, -0.26744538, -0.70750723],\n",
       "          [ 0.0848721 , -1.14667661, -0.34404734,  1.40585185]]]]))"
      ]
     },
     "execution_count": 119,
     "metadata": {},
     "output_type": "execute_result"
    }
   ],
   "source": [
    "mm = 4\n",
    "\n",
    "# ccorr2s[:, :mm, :, :] = 0\n",
    "# ccorr2s[:, -mm:, :, :] = 0\n",
    "# ccorr2s[:, :, :mm, :] = 0\n",
    "# ccorr2s[:, :, -mm:, :] = 0\n",
    "\n",
    "# TODO get weighted center of mass instead of center of mass of binary mask\n",
    "# New function definition\n",
    "def find_peak_positions(tensor, nominal_coords):\n",
    "    b, N, _, c = tensor.shape\n",
    "    result = torch.zeros((b, 1, 2, c), dtype=tensor.dtype)\n",
    "    reshaped_tensor = tensor.view(b, N * N, c)\n",
    "    max_val, _ = torch.max(reshaped_tensor, dim=1, keepdim=True)\n",
    "    mask = (reshaped_tensor >= max_val * 0.95)\n",
    "    x, y = torch.meshgrid(torch.arange(N), torch.arange(N))\n",
    "    x = x.flatten().float()\n",
    "    y = y.flatten().float()\n",
    "    \n",
    "    for i in range(c):\n",
    "        channel_mask = mask[:, :, i]\n",
    "        mass_x = torch.sum(x * channel_mask.float(), dim=1) / torch.sum(channel_mask, dim=1)\n",
    "        mass_y = torch.sum(y * channel_mask.float(), dim=1) / torch.sum(channel_mask, dim=1)\n",
    "        \n",
    "        # cross correlation offsets are sign-flipped relative to the model's definition\n",
    "        # Also, for the LCLS data we have to swap x and y\n",
    "        result[:, 0, 0, i] = -mass_y\n",
    "        result[:, 0, 1, i] = -mass_x\n",
    "    \n",
    "    # Shift so that the first-image relative coords are the same as their nominal coords under the model's\n",
    "    # definition, which uses the solution region CM as origin\n",
    "    result = result + N // 2 #+ nominal_coords[:1, ...]\n",
    "    return result, mask\n",
    "\n",
    "peak_positions, peakmasks = find_peak_positions(ccorr2s, coords)\n",
    "\n",
    "# Show the shape and some content of the resulting tensor\n",
    "peak_positions.shape, peak_positions[:1, :, :, :], coords[:1, ...]"
   ]
  },
  {
   "cell_type": "code",
   "execution_count": 120,
   "id": "64be2313",
   "metadata": {},
   "outputs": [],
   "source": [
    "def cmshift(peak_positions):\n",
    "    return peak_positions - peak_positions.mean(axis = 3)[:, :, :, None]"
   ]
  },
  {
   "cell_type": "code",
   "execution_count": 121,
   "id": "38c5479c",
   "metadata": {},
   "outputs": [],
   "source": [
    "from scipy.stats import pearsonr"
   ]
  },
  {
   "cell_type": "code",
   "execution_count": 122,
   "id": "f69104aa",
   "metadata": {
    "scrolled": false
   },
   "outputs": [
    {
     "data": {
      "text/plain": [
       "(0.03330638086583802, 0.7421801309905405)"
      ]
     },
     "execution_count": 122,
     "metadata": {},
     "output_type": "execute_result"
    }
   ],
   "source": [
    "ii = 0\n",
    "pearsonr((peak_positions - peak_positions[:, :, :, :1])[:, :, ii, :].ravel(),\n",
    "         (coords - coords[:, :, :, :1])[:, :, ii, :].ravel())"
   ]
  },
  {
   "cell_type": "code",
   "execution_count": 110,
   "id": "7efcf877",
   "metadata": {},
   "outputs": [
    {
     "data": {
      "text/plain": [
       "(0.12344528936567556, 0.22109596152304706)"
      ]
     },
     "execution_count": 110,
     "metadata": {},
     "output_type": "execute_result"
    }
   ],
   "source": [
    "ii = 1\n",
    "pearsonr(cmshift(peak_positions)[:, :, ii, :].ravel(),\n",
    "         cmshift(coords - coords[:, :, :, :1])[:, :, ii, :].ravel())"
   ]
  },
  {
   "cell_type": "code",
   "execution_count": 111,
   "id": "e3cbe3a2",
   "metadata": {},
   "outputs": [
    {
     "data": {
      "text/plain": [
       "torch.Size([25, 1, 2, 4])"
      ]
     },
     "execution_count": 111,
     "metadata": {},
     "output_type": "execute_result"
    }
   ],
   "source": [
    "peak_positions.shape"
   ]
  },
  {
   "cell_type": "code",
   "execution_count": 112,
   "id": "63b71d65",
   "metadata": {},
   "outputs": [
    {
     "data": {
      "text/plain": [
       "torch.Size([25, 64, 64, 4])"
      ]
     },
     "execution_count": 112,
     "metadata": {},
     "output_type": "execute_result"
    }
   ],
   "source": [
    "imgs.shape"
   ]
  },
  {
   "cell_type": "code",
   "execution_count": 155,
   "id": "8925ea19",
   "metadata": {},
   "outputs": [],
   "source": [
    "kk = 20"
   ]
  },
  {
   "cell_type": "code",
   "execution_count": 162,
   "id": "75d90fd5",
   "metadata": {},
   "outputs": [
    {
     "data": {
      "text/plain": [
       "<matplotlib.image.AxesImage at 0x7f9e18745040>"
      ]
     },
     "execution_count": 162,
     "metadata": {},
     "output_type": "execute_result"
    },
    {
     "data": {
      "image/png": "[encoded data removed]",
      "text/plain": [
       "<Figure size 640x480 with 1 Axes>"
      ]
     },
     "metadata": {},
     "output_type": "display_data"
    }
   ],
   "source": [
    "plt.imshow(np.absolute(imgs[12, kk: -kk, kk: -kk, 2]), cmap = 'jet')"
   ]
  },
  {
   "cell_type": "code",
   "execution_count": 146,
   "id": "9f360e3e",
   "metadata": {},
   "outputs": [
    {
     "data": {
      "text/plain": [
       "<matplotlib.colorbar.Colorbar at 0x7f9e18d25eb0>"
      ]
     },
     "execution_count": 146,
     "metadata": {},
     "output_type": "execute_result"
    },
    {
     "data": {
      "image/png": "[encoded data removed]",
      "text/plain": [
       "<Figure size 640x480 with 2 Axes>"
      ]
     },
     "metadata": {},
     "output_type": "display_data"
    }
   ],
   "source": [
    "plt.imshow(ccorr2s[12, mm: -mm, mm: -mm, 3], cmap = 'jet')\n",
    "plt.colorbar()"
   ]
  },
  {
   "cell_type": "code",
   "execution_count": 14,
   "id": "62f074d8",
   "metadata": {},
   "outputs": [
    {
     "data": {
      "text/plain": [
       "<matplotlib.colorbar.Colorbar at 0x7ff77b1d1940>"
      ]
     },
     "execution_count": 14,
     "metadata": {},
     "output_type": "execute_result"
    },
    {
     "data": {
      "image/png": "[encoded data removed]",
      "text/plain": [
       "<Figure size 640x480 with 2 Axes>"
      ]
     },
     "metadata": {},
     "output_type": "display_data"
    }
   ],
   "source": [
    "plt.imshow(ccorr2s[24, mm: -mm, mm: -mm, 3], cmap = 'jet')\n",
    "plt.colorbar()"
   ]
  },
  {
   "cell_type": "code",
   "execution_count": 19,
   "id": "ca13d849",
   "metadata": {},
   "outputs": [
    {
     "data": {
      "text/plain": [
       "<matplotlib.image.AxesImage at 0x7f8068173730>"
      ]
     },
     "execution_count": 19,
     "metadata": {},
     "output_type": "execute_result"
    },
    {
     "data": {
      "image/png": "[encoded data removed]",
      "text/plain": [
       "<Figure size 640x480 with 1 Axes>"
      ]
     },
     "metadata": {},
     "output_type": "display_data"
    }
   ],
   "source": [
    "plt.imshow(ccorr2s[0, :, :, 0] >= (0.9 * ccorr2s[0, :, :, 0].max()), cmap = 'jet')\n"
   ]
  },
  {
   "cell_type": "code",
   "execution_count": 15,
   "id": "25326875",
   "metadata": {},
   "outputs": [
    {
     "data": {
      "text/plain": [
       "<matplotlib.image.AxesImage at 0x7ff6dc0634c0>"
      ]
     },
     "execution_count": 15,
     "metadata": {},
     "output_type": "execute_result"
    },
    {
     "data": {
      "image/png": "[encoded data removed]",
      "text/plain": [
       "<Figure size 640x480 with 1 Axes>"
      ]
     },
     "metadata": {},
     "output_type": "display_data"
    }
   ],
   "source": [
    "plt.imshow(ccorr2s[0, :, :, 0] >= (0.9 * ccorr2s[0, :, :, 0].max()), cmap = 'jet')\n"
   ]
  },
  {
   "cell_type": "code",
   "execution_count": 96,
   "id": "f3bed228",
   "metadata": {},
   "outputs": [
    {
     "data": {
      "text/plain": [
       "(1.4391395934717246, 1.4003763238713578)"
      ]
     },
     "execution_count": 96,
     "metadata": {},
     "output_type": "execute_result"
    }
   ],
   "source": [
    "np.std((coords - coords[..., :1])[:, :, 0, :].ravel()), np.std((coords - coords[..., :1])[:, :, 1, :].ravel())"
   ]
  },
  {
   "cell_type": "code",
   "execution_count": 93,
   "id": "3132f3ff",
   "metadata": {},
   "outputs": [
    {
     "data": {
      "text/plain": [
       "(2.6057518, 1.5918528)"
      ]
     },
     "execution_count": 93,
     "metadata": {},
     "output_type": "execute_result"
    }
   ],
   "source": [
    "np.std(np.array(peak_positions[:, :, 0, :].ravel())),np.std(np.array(peak_positions[:, :, 1, :].ravel()))"
   ]
  },
  {
   "cell_type": "code",
   "execution_count": 20,
   "id": "d6080a81",
   "metadata": {},
   "outputs": [
    {
     "ename": "TypeError",
     "evalue": "std() received an invalid combination of arguments - got (ddof=int, dtype=NoneType, out=NoneType, axis=NoneType, ), but expected one of:\n * (tuple of ints dim, bool unbiased, bool keepdim)\n * (tuple of ints dim, *, int correction, bool keepdim)\n      didn't match because some of the keywords were incorrect: ddof, dtype, out, axis\n * (bool unbiased)\n * (tuple of names dim, bool unbiased, bool keepdim)\n * (tuple of names dim, *, int correction, bool keepdim)\n      didn't match because some of the keywords were incorrect: ddof, dtype, out, axis\n",
     "output_type": "error",
     "traceback": [
      "\u001b[0;31m---------------------------------------------------------------------------\u001b[0m",
      "\u001b[0;31mTypeError\u001b[0m                                 Traceback (most recent call last)",
      "Input \u001b[0;32mIn [20]\u001b[0m, in \u001b[0;36m<cell line: 1>\u001b[0;34m()\u001b[0m\n\u001b[0;32m----> 1\u001b[0m \u001b[43mnp\u001b[49m\u001b[38;5;241;43m.\u001b[39;49m\u001b[43mstd\u001b[49m\u001b[43m(\u001b[49m\u001b[43mpeak_positions\u001b[49m\u001b[43m[\u001b[49m\u001b[43m:\u001b[49m\u001b[43m,\u001b[49m\u001b[43m \u001b[49m\u001b[43m:\u001b[49m\u001b[43m,\u001b[49m\u001b[43m \u001b[49m\u001b[38;5;241;43m0\u001b[39;49m\u001b[43m,\u001b[49m\u001b[43m \u001b[49m\u001b[43m:\u001b[49m\u001b[43m]\u001b[49m\u001b[38;5;241;43m.\u001b[39;49m\u001b[43mravel\u001b[49m\u001b[43m(\u001b[49m\u001b[43m)\u001b[49m\u001b[43m)\u001b[49m, np\u001b[38;5;241m.\u001b[39mstd(peak_positions[:, :, \u001b[38;5;241m1\u001b[39m, :]\u001b[38;5;241m.\u001b[39mravel())\n",
      "File \u001b[0;32m<__array_function__ internals>:180\u001b[0m, in \u001b[0;36mstd\u001b[0;34m(*args, **kwargs)\u001b[0m\n",
      "File \u001b[0;32m~/anaconda3/envs/tf/lib/python3.9/site-packages/numpy/core/fromnumeric.py:3571\u001b[0m, in \u001b[0;36mstd\u001b[0;34m(a, axis, dtype, out, ddof, keepdims, where)\u001b[0m\n\u001b[1;32m   3569\u001b[0m         \u001b[38;5;28;01mpass\u001b[39;00m\n\u001b[1;32m   3570\u001b[0m     \u001b[38;5;28;01melse\u001b[39;00m:\n\u001b[0;32m-> 3571\u001b[0m         \u001b[38;5;28;01mreturn\u001b[39;00m \u001b[43mstd\u001b[49m\u001b[43m(\u001b[49m\u001b[43maxis\u001b[49m\u001b[38;5;241;43m=\u001b[39;49m\u001b[43maxis\u001b[49m\u001b[43m,\u001b[49m\u001b[43m \u001b[49m\u001b[43mdtype\u001b[49m\u001b[38;5;241;43m=\u001b[39;49m\u001b[43mdtype\u001b[49m\u001b[43m,\u001b[49m\u001b[43m \u001b[49m\u001b[43mout\u001b[49m\u001b[38;5;241;43m=\u001b[39;49m\u001b[43mout\u001b[49m\u001b[43m,\u001b[49m\u001b[43m \u001b[49m\u001b[43mddof\u001b[49m\u001b[38;5;241;43m=\u001b[39;49m\u001b[43mddof\u001b[49m\u001b[43m,\u001b[49m\u001b[43m \u001b[49m\u001b[38;5;241;43m*\u001b[39;49m\u001b[38;5;241;43m*\u001b[39;49m\u001b[43mkwargs\u001b[49m\u001b[43m)\u001b[49m\n\u001b[1;32m   3573\u001b[0m \u001b[38;5;28;01mreturn\u001b[39;00m _methods\u001b[38;5;241m.\u001b[39m_std(a, axis\u001b[38;5;241m=\u001b[39maxis, dtype\u001b[38;5;241m=\u001b[39mdtype, out\u001b[38;5;241m=\u001b[39mout, ddof\u001b[38;5;241m=\u001b[39mddof,\n\u001b[1;32m   3574\u001b[0m                      \u001b[38;5;241m*\u001b[39m\u001b[38;5;241m*\u001b[39mkwargs)\n",
      "\u001b[0;31mTypeError\u001b[0m: std() received an invalid combination of arguments - got (ddof=int, dtype=NoneType, out=NoneType, axis=NoneType, ), but expected one of:\n * (tuple of ints dim, bool unbiased, bool keepdim)\n * (tuple of ints dim, *, int correction, bool keepdim)\n      didn't match because some of the keywords were incorrect: ddof, dtype, out, axis\n * (bool unbiased)\n * (tuple of names dim, bool unbiased, bool keepdim)\n * (tuple of names dim, *, int correction, bool keepdim)\n      didn't match because some of the keywords were incorrect: ddof, dtype, out, axis\n"
     ]
    }
   ],
   "source": [
    "np.std(peak_positions[:, :, 0, :].ravel()), np.std(peak_positions[:, :, 1, :].ravel())"
   ]
  },
  {
   "cell_type": "code",
   "execution_count": 268,
   "id": "1e0c188d",
   "metadata": {
    "scrolled": true
   },
   "outputs": [
    {
     "data": {
      "text/plain": [
       "array([[[ 1.62183805, -0.64688545, -0.26744538, -0.70750723],\n",
       "        [ 0.0848721 , -1.14667661, -0.34404734,  1.40585185]]])"
      ]
     },
     "execution_count": 268,
     "metadata": {},
     "output_type": "execute_result"
    }
   ],
   "source": [
    "coords[0]"
   ]
  },
  {
   "cell_type": "code",
   "execution_count": 98,
   "id": "df3d7697",
   "metadata": {},
   "outputs": [],
   "source": [
    "from scipy.ndimage.measurements import center_of_mass as cm"
   ]
  }
 ],
 "metadata": {
  "kernelspec": {
   "display_name": "Python 3 (ipykernel)",
   "language": "python",
   "name": "python3"
  },
  "language_info": {
   "codemirror_mode": {
    "name": "ipython",
    "version": 3
   },
   "file_extension": ".py",
   "mimetype": "text/x-python",
   "name": "python",
   "nbconvert_exporter": "python",
   "pygments_lexer": "ipython3",
   "version": "3.9.13"
  }
 },
 "nbformat": 4,
 "nbformat_minor": 5
}
