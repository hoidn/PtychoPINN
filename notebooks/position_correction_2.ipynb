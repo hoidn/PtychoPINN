{
 "cells": [
  {
   "cell_type": "markdown",
   "id": "86b65f0a",
   "metadata": {},
   "source": [
    "TODOs\n",
    "\n",
    "* use a proper mask. it should be tighter than the current one\n",
    "* fill outside mask"
   ]
  },
  {
   "cell_type": "code",
   "execution_count": 1,
   "id": "41fe6119",
   "metadata": {},
   "outputs": [
    {
     "name": "stderr",
     "output_type": "stream",
     "text": [
      "2023-10-26 20:07:08.387288: I tensorflow/core/platform/cpu_feature_guard.cc:193] This TensorFlow binary is optimized with oneAPI Deep Neural Network Library (oneDNN) to use the following CPU instructions in performance-critical operations:  AVX2 FMA\n",
      "To enable them in other operations, rebuild TensorFlow with the appropriate compiler flags.\n",
      "2023-10-26 20:07:08.479196: E tensorflow/stream_executor/cuda/cuda_blas.cc:2981] Unable to register cuBLAS factory: Attempting to register factory for plugin cuBLAS when one has already been registered\n",
      "2023-10-26 20:07:08.889830: W tensorflow/stream_executor/platform/default/dso_loader.cc:64] Could not load dynamic library 'libnvinfer.so.7'; dlerror: libnvinfer.so.7: cannot open shared object file: No such file or directory; LD_LIBRARY_PATH: :/home/ollie/anaconda3/envs/tf/lib/\n",
      "2023-10-26 20:07:08.889875: W tensorflow/stream_executor/platform/default/dso_loader.cc:64] Could not load dynamic library 'libnvinfer_plugin.so.7'; dlerror: libnvinfer_plugin.so.7: cannot open shared object file: No such file or directory; LD_LIBRARY_PATH: :/home/ollie/anaconda3/envs/tf/lib/\n",
      "2023-10-26 20:07:08.889879: W tensorflow/compiler/tf2tensorrt/utils/py_utils.cc:38] TF-TRT Warning: Cannot dlopen some TensorRT libraries. If you would like to use Nvidia GPU with TensorRT, please make sure the missing libraries mentioned above are installed properly.\n",
      "/home/ollie/anaconda3/envs/tf/lib/python3.9/site-packages/scipy/__init__.py:146: UserWarning: A NumPy version >=1.16.5 and <1.23.0 is required for this version of SciPy (detected version 1.23.0\n",
      "  warnings.warn(f\"A NumPy version >={np_minversion} and <{np_maxversion}\"\n",
      "2023-10-26 20:07:09.359826: I tensorflow/stream_executor/cuda/cuda_gpu_executor.cc:980] successful NUMA node read from SysFS had negative value (-1), but there must be at least one NUMA node, so returning NUMA node zero\n",
      "2023-10-26 20:07:09.377563: I tensorflow/stream_executor/cuda/cuda_gpu_executor.cc:980] successful NUMA node read from SysFS had negative value (-1), but there must be at least one NUMA node, so returning NUMA node zero\n",
      "2023-10-26 20:07:09.377688: I tensorflow/stream_executor/cuda/cuda_gpu_executor.cc:980] successful NUMA node read from SysFS had negative value (-1), but there must be at least one NUMA node, so returning NUMA node zero\n",
      "2023-10-26 20:07:09.616394: I tensorflow/core/platform/cpu_feature_guard.cc:193] This TensorFlow binary is optimized with oneAPI Deep Neural Network Library (oneDNN) to use the following CPU instructions in performance-critical operations:  AVX2 FMA\n",
      "To enable them in other operations, rebuild TensorFlow with the appropriate compiler flags.\n",
      "2023-10-26 20:07:09.617513: I tensorflow/stream_executor/cuda/cuda_gpu_executor.cc:980] successful NUMA node read from SysFS had negative value (-1), but there must be at least one NUMA node, so returning NUMA node zero\n",
      "2023-10-26 20:07:09.617670: I tensorflow/stream_executor/cuda/cuda_gpu_executor.cc:980] successful NUMA node read from SysFS had negative value (-1), but there must be at least one NUMA node, so returning NUMA node zero\n",
      "2023-10-26 20:07:09.617772: I tensorflow/stream_executor/cuda/cuda_gpu_executor.cc:980] successful NUMA node read from SysFS had negative value (-1), but there must be at least one NUMA node, so returning NUMA node zero\n",
      "2023-10-26 20:07:10.065844: I tensorflow/stream_executor/cuda/cuda_gpu_executor.cc:980] successful NUMA node read from SysFS had negative value (-1), but there must be at least one NUMA node, so returning NUMA node zero\n",
      "2023-10-26 20:07:10.065982: I tensorflow/stream_executor/cuda/cuda_gpu_executor.cc:980] successful NUMA node read from SysFS had negative value (-1), but there must be at least one NUMA node, so returning NUMA node zero\n",
      "2023-10-26 20:07:10.066080: I tensorflow/stream_executor/cuda/cuda_gpu_executor.cc:980] successful NUMA node read from SysFS had negative value (-1), but there must be at least one NUMA node, so returning NUMA node zero\n",
      "2023-10-26 20:07:10.066156: I tensorflow/core/common_runtime/gpu/gpu_process_state.cc:222] Using CUDA malloc Async allocator for GPU: 0\n",
      "2023-10-26 20:07:10.066236: I tensorflow/core/common_runtime/gpu/gpu_device.cc:1616] Created device /job:localhost/replica:0/task:0/device:GPU:0 with 5474 MB memory:  -> device: 0, name: NVIDIA GeForce RTX 3090, pci bus id: 0000:04:00.0, compute capability: 8.6\n"
     ]
    }
   ],
   "source": [
    "import torch\n",
    "import numpy as np\n",
    "import matplotlib.pyplot as plt\n",
    "\n",
    "N = 64\n",
    "\n",
    "def get_squared_distance():\n",
    "    \"\"\"\n",
    "    Return array of distances from the center\n",
    "    \"\"\"\n",
    "    centered_indices = np.arange(N) - N // 2 + .5\n",
    "    x, y = np.meshgrid(centered_indices, centered_indices)\n",
    "    d = np.sqrt(x*x+y*y)\n",
    "    return d\n",
    "\n",
    "#obj = np.load('/Users/ollie/Downloads/data_recon.npz')\n",
    "obj = np.load('recon_2x2_1x1_with_positions.npz')\n",
    "\n",
    "import ptycho.tf_helper as hh\n",
    "\n",
    "imgs, coords = obj['imgs'], obj['coords']\n",
    "\n",
    "mask = hh.mk_centermask(imgs, N, 4, kind = 'center')\n",
    "imgs = np.array(imgs * mask)\n",
    "# imgs = imgs[:, 16:-16, 16:-16, :]\n",
    "# imgs = imgs / imgs.mean()\n",
    "\n",
    "from ptycho import probe\n",
    "import torch\n",
    "import numpy as np\n",
    "import matplotlib.pyplot as plt\n",
    "\n",
    "# Load data\n",
    "data = obj#np.load('/mnt/data/data (1).npz')\n",
    "# imgs = torch.tensor(data['imgs'])\n",
    "imgs = torch.tensor((imgs))\n",
    "mask = torch.tensor(np.array(mask))\n",
    "\n",
    "# # use tighter mask\n",
    "# imgs = torch.tensor((imgs))\n",
    "# mask = torch.tensor(np.array(mask))\n",
    "probe_mask_real = (get_squared_distance() < N // 4)[..., None]\n",
    "mask[...] = torch.tensor(probe_mask_real)\n",
    "imgs = imgs * mask\n",
    "\n",
    "\n",
    "\n",
    "def torch_cross_image_full(im1, im2, submean = False,\n",
    "                          return_complex = False, convolve = False):\n",
    "    # convolution instead of cross correlation\n",
    "    # Subtract the mean\n",
    "    if submean:\n",
    "        im1_gray = im1 - torch.mean(im1, axis = [1, 2])[:, None, None]\n",
    "        im2_gray = im2 - torch.mean(im2, axis = [1, 2])[:, None, None]\n",
    "    else:\n",
    "        im1_gray = im1 #- torch.mean(im1, axis = [1, 2])[:, None, None]\n",
    "        im2_gray = im2 #- torch.mean(im2, axis = [1, 2])[:, None, None]\n",
    "    \n",
    "    # Zero-pad both images to double the size\n",
    "    N = im1_gray.shape[-1] // 2\n",
    "    im1_padded = torch.nn.functional.pad(im1_gray, (0, N, 0, N))\n",
    "    im2_padded = torch.nn.functional.pad(im2_gray, (0, N, 0, N))\n",
    "    \n",
    "    # Compute FFT for both padded images\n",
    "    fft_im1 = torch.fft.fft2(im1_padded)\n",
    "    fft_im2 = torch.fft.fft2(im2_padded)\n",
    "    \n",
    "    # Multiply FFT of im1 with the complex conjugate of the FFT of reversed im2\n",
    "#     product = fft_im1 * torch.conj(fft_im2.flip([-2, -1]))\n",
    "    if convolve:\n",
    "        product = fft_im1 * fft_im2\n",
    "    else:\n",
    "        product = fft_im1 * torch.conj(fft_im2)\n",
    "    \n",
    "    # Compute inverse FFT to get the cross-correlation\n",
    "    cross_corr_complex = torch.fft.fftshift(torch.fft.ifft2(product))\n",
    "    \n",
    "    # Extract real component\n",
    "    cross_corr_magnitude = torch.abs(cross_corr_complex)\n",
    "    norm = torch.max(cross_corr_magnitude)\n",
    "    \n",
    "    if return_complex:\n",
    "        return cross_corr_complex / norm\n",
    "    \n",
    "    return cross_corr_magnitude / norm"
   ]
  },
  {
   "cell_type": "code",
   "execution_count": 2,
   "id": "d618618b",
   "metadata": {},
   "outputs": [],
   "source": [
    "np.savez('poscorrection_selfcontained.npz', imgs = imgs[:5], mask = mask[:5], coords = coords[:5])"
   ]
  },
  {
   "cell_type": "code",
   "execution_count": 3,
   "id": "4ff1b43b",
   "metadata": {},
   "outputs": [
    {
     "data": {
      "text/plain": [
       "<matplotlib.image.AxesImage at 0x7f8110f31460>"
      ]
     },
     "execution_count": 3,
     "metadata": {},
     "output_type": "execute_result"
    },
    {
     "data": {
      "image/png": "[encoded data removed]",
      "text/plain": [
       "<Figure size 640x480 with 1 Axes>"
      ]
     },
     "metadata": {},
     "output_type": "display_data"
    }
   ],
   "source": [
    "plt.imshow(np.abs(imgs[0, :, :, 0]))"
   ]
  },
  {
   "cell_type": "code",
   "execution_count": 4,
   "id": "e097bded",
   "metadata": {},
   "outputs": [
    {
     "data": {
      "text/plain": [
       "<matplotlib.image.AxesImage at 0x7f80682d05b0>"
      ]
     },
     "execution_count": 4,
     "metadata": {},
     "output_type": "execute_result"
    },
    {
     "data": {
      "image/png": "[encoded data removed]",
      "text/plain": [
       "<Figure size 640x480 with 1 Axes>"
      ]
     },
     "metadata": {},
     "output_type": "display_data"
    }
   ],
   "source": [
    "plt.imshow(np.abs(mask[0, :, :, 0]))"
   ]
  },
  {
   "cell_type": "code",
   "execution_count": 5,
   "id": "042669e3",
   "metadata": {},
   "outputs": [],
   "source": [
    "# import torch\n",
    "# import numpy as np\n",
    "\n",
    "# def nearest_neighbor_infill(tensor):\n",
    "#     \"\"\"\n",
    "#     Perform nearest neighbor infill on a 4D tensor.\n",
    "    \n",
    "#     Parameters:\n",
    "#         tensor (torch.Tensor): A 4D tensor with dimensions [batch_size, height, width, channels]\n",
    "        \n",
    "#     Returns:\n",
    "#         torch.Tensor: A tensor with zero regions infilled using nearest-neighbor algorithm\n",
    "#     \"\"\"\n",
    "    \n",
    "#     # Create a mask for zero regions\n",
    "#     zero_mask = torch.abs(tensor) == 0\n",
    "    \n",
    "#     # Iterate through batch and channel dimensions\n",
    "#     for i in range(tensor.shape[0]):\n",
    "#         for j in range(tensor.shape[3]):\n",
    "            \n",
    "#             # Extract the 2D slice\n",
    "#             slice_2d = tensor[i, :, :, j]\n",
    "#             zero_mask_2d = zero_mask[i, :, :, j]\n",
    "            \n",
    "#             # Find the non-zero elements and their indices\n",
    "#             non_zero_indices = torch.nonzero(~zero_mask_2d)\n",
    "#             non_zero_values = slice_2d[~zero_mask_2d]\n",
    "            \n",
    "#             # Find the zero elements and their indices\n",
    "#             zero_indices = torch.nonzero(zero_mask_2d)\n",
    "            \n",
    "#             # Use nearest-neighbor infilling\n",
    "#             for zero_index in zero_indices:\n",
    "#                 distances = torch.sum((non_zero_indices - zero_index)**2, dim=1)\n",
    "#                 nearest_index = torch.argmin(distances)\n",
    "#                 slice_2d[tuple(zero_index)] = non_zero_values[nearest_index]\n",
    "            \n",
    "#             # Update the original tensor\n",
    "#             tensor[i, :, :, j] = slice_2d\n",
    "    \n",
    "#     return tensor\n",
    "\n",
    "# # Usage\n",
    "# # Assuming 'imgs_tensor' is your original tensor\n",
    "# # infilled_tensor = nearest_neighbor_infill(imgs_tensor)\n",
    "# tmp = nearest_neighbor_infill(imgs)"
   ]
  },
  {
   "cell_type": "code",
   "execution_count": 12,
   "id": "da385498",
   "metadata": {},
   "outputs": [],
   "source": [
    "epsilon = .1\n",
    "nn = 16#54\n",
    "# ccorr_ref = torch_cross_image_full(imgs[:, :, :, 0], imgs[:, :, :, 0], convolve=False, submean = True)[:, nn: -nn, nn: -nn]\n",
    "\n",
    "\n",
    "def channel_ccorr(imgs, i):\n",
    "    ccorr = torch_cross_image_full(imgs[:, :, :, 0], imgs[:, :, :, i])[:,  nn: -nn, nn: -nn]\n",
    "    ncorr = torch_cross_image_full(torch.abs(mask[:, :, :, 0]), torch.abs(mask[:, :, :, i]))[:, nn: -nn, nn: -nn]\n",
    "    return (ccorr / (epsilon + np.abs(ncorr)))\n",
    "\n",
    "gridsize = 2\n",
    "ccorr2s = torch.stack(tuple(channel_ccorr(imgs, i) for i in range(gridsize**2)), dim=-1)"
   ]
  },
  {
   "cell_type": "code",
   "execution_count": 13,
   "id": "574b4943",
   "metadata": {
    "scrolled": true
   },
   "outputs": [
    {
     "data": {
      "text/plain": [
       "(torch.Size([25, 1, 2, 4]),\n",
       " tensor([[[[ 0.0000,  0.9367, -0.7213, -0.4030],\n",
       "           [ 0.0000, -4.6962, -1.9180, -3.2985]]]]),\n",
       " array([[[[ 1.62183805, -0.64688545, -0.26744538, -0.70750723],\n",
       "          [ 0.0848721 , -1.14667661, -0.34404734,  1.40585185]]]]))"
      ]
     },
     "execution_count": 13,
     "metadata": {},
     "output_type": "execute_result"
    }
   ],
   "source": [
    "# ccorr2s[:, :mm, :, :] = 0\n",
    "# ccorr2s[:, -mm:, :, :] = 0\n",
    "# ccorr2s[:, :, :mm, :] = 0\n",
    "# ccorr2s[:, :, -mm:, :] = 0\n",
    "\n",
    "# TODO get weighted center of mass instead of center of mass of binary mask\n",
    "# New function definition\n",
    "def find_peak_positions(tensor, nominal_coords):\n",
    "    b, N, _, c = tensor.shape\n",
    "    result = torch.zeros((b, 1, 2, c), dtype=tensor.dtype)\n",
    "    reshaped_tensor = tensor.view(b, N * N, c)\n",
    "    max_val, _ = torch.max(reshaped_tensor, dim=1, keepdim=True)\n",
    "    mask = (reshaped_tensor >= max_val * 0.9)\n",
    "    x, y = torch.meshgrid(torch.arange(N), torch.arange(N))\n",
    "    x = x.flatten().float()\n",
    "    y = y.flatten().float()\n",
    "    \n",
    "    for i in range(c):\n",
    "        channel_mask = mask[:, :, i]\n",
    "        mass_x = torch.sum(x * channel_mask.float(), dim=1) / torch.sum(channel_mask, dim=1)\n",
    "        mass_y = torch.sum(y * channel_mask.float(), dim=1) / torch.sum(channel_mask, dim=1)\n",
    "        \n",
    "        # cross correlation offsets are sign-flipped relative to the model's definition\n",
    "        # Also, for the LCLS data we have to swap x and y\n",
    "        result[:, 0, 0, i] = -mass_y\n",
    "        result[:, 0, 1, i] = -mass_x\n",
    "    \n",
    "    # Shift so that the first-image relative coords are the same as their nominal coords under the model's\n",
    "    # definition, which uses the solution region CM as origin\n",
    "    result = result + N // 2 #+ nominal_coords[:1, ...]\n",
    "    return result, mask\n",
    "\n",
    "peak_positions, peakmasks = find_peak_positions(ccorr2s, coords)\n",
    "\n",
    "# Show the shape and some content of the resulting tensor\n",
    "peak_positions.shape, peak_positions[:1, :, :, :], coords[:1, ...]"
   ]
  },
  {
   "cell_type": "code",
   "execution_count": 14,
   "id": "64be2313",
   "metadata": {},
   "outputs": [],
   "source": [
    "def cmshift(peak_positions):\n",
    "    return peak_positions - peak_positions.mean(axis = 3)[:, :, :, None]"
   ]
  },
  {
   "cell_type": "code",
   "execution_count": 15,
   "id": "38c5479c",
   "metadata": {},
   "outputs": [],
   "source": [
    "from scipy.stats import pearsonr"
   ]
  },
  {
   "cell_type": "code",
   "execution_count": 23,
   "id": "f69104aa",
   "metadata": {
    "scrolled": false
   },
   "outputs": [
    {
     "data": {
      "text/plain": [
       "(0.2815182079099, 0.004548079539112146)"
      ]
     },
     "execution_count": 23,
     "metadata": {},
     "output_type": "execute_result"
    }
   ],
   "source": [
    "ii = 1\n",
    "pearsonr((peak_positions - peak_positions[:, :, :, :1])[:, :, ii, :].ravel(),\n",
    "         (coords - coords[:, :, :, :1])[:, :, ii, :].ravel())"
   ]
  },
  {
   "cell_type": "code",
   "execution_count": 17,
   "id": "7efcf877",
   "metadata": {},
   "outputs": [
    {
     "data": {
      "text/plain": [
       "(0.19180727891562988, 0.05590845303717299)"
      ]
     },
     "execution_count": 17,
     "metadata": {},
     "output_type": "execute_result"
    }
   ],
   "source": [
    "pearsonr(cmshift(peak_positions)[:, :, ii, :].ravel(),\n",
    "         cmshift(coords - coords[:, :, :, :1])[:, :, ii, :].ravel())"
   ]
  },
  {
   "cell_type": "code",
   "execution_count": 24,
   "id": "dd7f46be",
   "metadata": {},
   "outputs": [
    {
     "data": {
      "text/plain": [
       "torch.Size([25, 1, 2, 4])"
      ]
     },
     "execution_count": 24,
     "metadata": {},
     "output_type": "execute_result"
    }
   ],
   "source": [
    "peak_positions.shape"
   ]
  },
  {
   "cell_type": "code",
   "execution_count": 18,
   "id": "9f360e3e",
   "metadata": {},
   "outputs": [
    {
     "data": {
      "text/plain": [
       "<matplotlib.colorbar.Colorbar at 0x7f8068268460>"
      ]
     },
     "execution_count": 18,
     "metadata": {},
     "output_type": "execute_result"
    },
    {
     "data": {
      "image/png": "[encoded data removed]",
      "text/plain": [
       "<Figure size 640x480 with 2 Axes>"
      ]
     },
     "metadata": {},
     "output_type": "display_data"
    }
   ],
   "source": [
    "mm = 4\n",
    "plt.imshow(ccorr2s[24, mm: -mm, mm: -mm, 3], cmap = 'jet')\n",
    "plt.colorbar()"
   ]
  },
  {
   "cell_type": "code",
   "execution_count": 19,
   "id": "ca13d849",
   "metadata": {},
   "outputs": [
    {
     "data": {
      "text/plain": [
       "<matplotlib.image.AxesImage at 0x7f8068173730>"
      ]
     },
     "execution_count": 19,
     "metadata": {},
     "output_type": "execute_result"
    },
    {
     "data": {
      "image/png": "[encoded data removed]",
      "text/plain": [
       "<Figure size 640x480 with 1 Axes>"
      ]
     },
     "metadata": {},
     "output_type": "display_data"
    }
   ],
   "source": [
    "plt.imshow(ccorr2s[0, :, :, 0] >= (0.9 * ccorr2s[0, :, :, 0].max()), cmap = 'jet')\n"
   ]
  },
  {
   "cell_type": "code",
   "execution_count": 96,
   "id": "f3bed228",
   "metadata": {},
   "outputs": [
    {
     "data": {
      "text/plain": [
       "(1.4391395934717246, 1.4003763238713578)"
      ]
     },
     "execution_count": 96,
     "metadata": {},
     "output_type": "execute_result"
    }
   ],
   "source": [
    "np.std((coords - coords[..., :1])[:, :, 0, :].ravel()), np.std((coords - coords[..., :1])[:, :, 1, :].ravel())"
   ]
  },
  {
   "cell_type": "code",
   "execution_count": 93,
   "id": "3132f3ff",
   "metadata": {},
   "outputs": [
    {
     "data": {
      "text/plain": [
       "(2.6057518, 1.5918528)"
      ]
     },
     "execution_count": 93,
     "metadata": {},
     "output_type": "execute_result"
    }
   ],
   "source": [
    "np.std(np.array(peak_positions[:, :, 0, :].ravel())),np.std(np.array(peak_positions[:, :, 1, :].ravel()))"
   ]
  },
  {
   "cell_type": "code",
   "execution_count": 20,
   "id": "d6080a81",
   "metadata": {},
   "outputs": [
    {
     "ename": "TypeError",
     "evalue": "std() received an invalid combination of arguments - got (ddof=int, dtype=NoneType, out=NoneType, axis=NoneType, ), but expected one of:\n * (tuple of ints dim, bool unbiased, bool keepdim)\n * (tuple of ints dim, *, int correction, bool keepdim)\n      didn't match because some of the keywords were incorrect: ddof, dtype, out, axis\n * (bool unbiased)\n * (tuple of names dim, bool unbiased, bool keepdim)\n * (tuple of names dim, *, int correction, bool keepdim)\n      didn't match because some of the keywords were incorrect: ddof, dtype, out, axis\n",
     "output_type": "error",
     "traceback": [
      "\u001b[0;31m---------------------------------------------------------------------------\u001b[0m",
      "\u001b[0;31mTypeError\u001b[0m                                 Traceback (most recent call last)",
      "Input \u001b[0;32mIn [20]\u001b[0m, in \u001b[0;36m<cell line: 1>\u001b[0;34m()\u001b[0m\n\u001b[0;32m----> 1\u001b[0m \u001b[43mnp\u001b[49m\u001b[38;5;241;43m.\u001b[39;49m\u001b[43mstd\u001b[49m\u001b[43m(\u001b[49m\u001b[43mpeak_positions\u001b[49m\u001b[43m[\u001b[49m\u001b[43m:\u001b[49m\u001b[43m,\u001b[49m\u001b[43m \u001b[49m\u001b[43m:\u001b[49m\u001b[43m,\u001b[49m\u001b[43m \u001b[49m\u001b[38;5;241;43m0\u001b[39;49m\u001b[43m,\u001b[49m\u001b[43m \u001b[49m\u001b[43m:\u001b[49m\u001b[43m]\u001b[49m\u001b[38;5;241;43m.\u001b[39;49m\u001b[43mravel\u001b[49m\u001b[43m(\u001b[49m\u001b[43m)\u001b[49m\u001b[43m)\u001b[49m, np\u001b[38;5;241m.\u001b[39mstd(peak_positions[:, :, \u001b[38;5;241m1\u001b[39m, :]\u001b[38;5;241m.\u001b[39mravel())\n",
      "File \u001b[0;32m<__array_function__ internals>:180\u001b[0m, in \u001b[0;36mstd\u001b[0;34m(*args, **kwargs)\u001b[0m\n",
      "File \u001b[0;32m~/anaconda3/envs/tf/lib/python3.9/site-packages/numpy/core/fromnumeric.py:3571\u001b[0m, in \u001b[0;36mstd\u001b[0;34m(a, axis, dtype, out, ddof, keepdims, where)\u001b[0m\n\u001b[1;32m   3569\u001b[0m         \u001b[38;5;28;01mpass\u001b[39;00m\n\u001b[1;32m   3570\u001b[0m     \u001b[38;5;28;01melse\u001b[39;00m:\n\u001b[0;32m-> 3571\u001b[0m         \u001b[38;5;28;01mreturn\u001b[39;00m \u001b[43mstd\u001b[49m\u001b[43m(\u001b[49m\u001b[43maxis\u001b[49m\u001b[38;5;241;43m=\u001b[39;49m\u001b[43maxis\u001b[49m\u001b[43m,\u001b[49m\u001b[43m \u001b[49m\u001b[43mdtype\u001b[49m\u001b[38;5;241;43m=\u001b[39;49m\u001b[43mdtype\u001b[49m\u001b[43m,\u001b[49m\u001b[43m \u001b[49m\u001b[43mout\u001b[49m\u001b[38;5;241;43m=\u001b[39;49m\u001b[43mout\u001b[49m\u001b[43m,\u001b[49m\u001b[43m \u001b[49m\u001b[43mddof\u001b[49m\u001b[38;5;241;43m=\u001b[39;49m\u001b[43mddof\u001b[49m\u001b[43m,\u001b[49m\u001b[43m \u001b[49m\u001b[38;5;241;43m*\u001b[39;49m\u001b[38;5;241;43m*\u001b[39;49m\u001b[43mkwargs\u001b[49m\u001b[43m)\u001b[49m\n\u001b[1;32m   3573\u001b[0m \u001b[38;5;28;01mreturn\u001b[39;00m _methods\u001b[38;5;241m.\u001b[39m_std(a, axis\u001b[38;5;241m=\u001b[39maxis, dtype\u001b[38;5;241m=\u001b[39mdtype, out\u001b[38;5;241m=\u001b[39mout, ddof\u001b[38;5;241m=\u001b[39mddof,\n\u001b[1;32m   3574\u001b[0m                      \u001b[38;5;241m*\u001b[39m\u001b[38;5;241m*\u001b[39mkwargs)\n",
      "\u001b[0;31mTypeError\u001b[0m: std() received an invalid combination of arguments - got (ddof=int, dtype=NoneType, out=NoneType, axis=NoneType, ), but expected one of:\n * (tuple of ints dim, bool unbiased, bool keepdim)\n * (tuple of ints dim, *, int correction, bool keepdim)\n      didn't match because some of the keywords were incorrect: ddof, dtype, out, axis\n * (bool unbiased)\n * (tuple of names dim, bool unbiased, bool keepdim)\n * (tuple of names dim, *, int correction, bool keepdim)\n      didn't match because some of the keywords were incorrect: ddof, dtype, out, axis\n"
     ]
    }
   ],
   "source": [
    "np.std(peak_positions[:, :, 0, :].ravel()), np.std(peak_positions[:, :, 1, :].ravel())"
   ]
  },
  {
   "cell_type": "code",
   "execution_count": 268,
   "id": "1e0c188d",
   "metadata": {
    "scrolled": true
   },
   "outputs": [
    {
     "data": {
      "text/plain": [
       "array([[[ 1.62183805, -0.64688545, -0.26744538, -0.70750723],\n",
       "        [ 0.0848721 , -1.14667661, -0.34404734,  1.40585185]]])"
      ]
     },
     "execution_count": 268,
     "metadata": {},
     "output_type": "execute_result"
    }
   ],
   "source": [
    "coords[0]"
   ]
  },
  {
   "cell_type": "code",
   "execution_count": 98,
   "id": "df3d7697",
   "metadata": {},
   "outputs": [],
   "source": [
    "from scipy.ndimage.measurements import center_of_mass as cm"
   ]
  }
 ],
 "metadata": {
  "kernelspec": {
   "display_name": "Python 3 (ipykernel)",
   "language": "python",
   "name": "python3"
  },
  "language_info": {
   "codemirror_mode": {
    "name": "ipython",
    "version": 3
   },
   "file_extension": ".py",
   "mimetype": "text/x-python",
   "name": "python",
   "nbconvert_exporter": "python",
   "pygments_lexer": "ipython3",
   "version": "3.9.13"
  }
 },
 "nbformat": 4,
 "nbformat_minor": 5
}
