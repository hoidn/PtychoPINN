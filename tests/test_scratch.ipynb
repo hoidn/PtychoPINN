{
 "cells": [
  {
   "cell_type": "code",
   "execution_count": 1,
   "metadata": {},
   "outputs": [],
   "source": [
    "import torch\n",
    "from ptycho_torch import helper as hh\n",
    "import matplotlib.pyplot as plt\n",
    "from ptycho_torch.config_params import Config\n"
   ]
  },
  {
   "cell_type": "code",
   "execution_count": 10,
   "metadata": {},
   "outputs": [
    {
     "data": {
      "text/plain": [
       "torch.Size([16, 16, 16])"
      ]
     },
     "execution_count": 10,
     "metadata": {},
     "output_type": "execute_result"
    }
   ],
   "source": [
    "test = torch.rand(4,1,16,16)\n",
    "#Expand along 2nd dimension\n",
    "test_expanded = test.expand(-1,4,-1,-1)\n",
    "test_flatten = torch.flatten(test_expanded,0,1)\n",
    "\n",
    "test_flatten.shape"
   ]
  },
  {
   "cell_type": "code",
   "execution_count": 11,
   "metadata": {},
   "outputs": [
    {
     "data": {
      "text/plain": [
       "torch.Size([16, 1])"
      ]
     },
     "execution_count": 11,
     "metadata": {},
     "output_type": "execute_result"
    }
   ],
   "source": [
    "x = torch.arange(78)\n",
    "y = torch.arange(78)\n",
    "\n",
    "random = torch.rand(16,1,2)\n",
    "random[:,:,0].shape"
   ]
  },
  {
   "cell_type": "code",
   "execution_count": 2,
   "metadata": {},
   "outputs": [],
   "source": [
    "cfg = {'N': 16,\n",
    "       'offset': 20,\n",
    "       'gridsize': 2,\n",
    "       'max_position_jitter': 10\n",
    "    }\n",
    "\n",
    "config = Config()\n",
    "config.set_config(cfg)"
   ]
  },
  {
   "cell_type": "markdown",
   "metadata": {},
   "source": [
    "Testing patch reassembly function from helper.py"
   ]
  },
  {
   "cell_type": "code",
   "execution_count": 3,
   "metadata": {},
   "outputs": [
    {
     "name": "stdout",
     "output_type": "stream",
     "text": [
      "tensor([[ 0.0889,  0.1111,  0.1333,  0.1556,  0.1778,  0.2000,  0.2222,  0.2444,\n",
      "          0.2667,  0.2889,  0.3111,  0.3333,  0.3556,  0.3778,  0.4000,  0.4222,\n",
      "          0.4444,  0.4667,  0.4889,  0.5111,  0.5333,  0.5556,  0.5778,  0.6000,\n",
      "          0.6222,  0.6444,  0.6667,  0.6889,  0.7111,  0.7333,  0.7556,  0.7778,\n",
      "          0.8000,  0.8222,  0.8444,  0.8667,  0.8889,  0.9111,  0.9333,  0.9556,\n",
      "          0.9778,  1.0000,  1.0222,  1.0444,  1.0667,  1.0889],\n",
      "        [ 0.0889,  0.1111,  0.1333,  0.1556,  0.1778,  0.2000,  0.2222,  0.2444,\n",
      "          0.2667,  0.2889,  0.3111,  0.3333,  0.3556,  0.3778,  0.4000,  0.4222,\n",
      "          0.4444,  0.4667,  0.4889,  0.5111,  0.5333,  0.5556,  0.5778,  0.6000,\n",
      "          0.6222,  0.6444,  0.6667,  0.6889,  0.7111,  0.7333,  0.7556,  0.7778,\n",
      "          0.8000,  0.8222,  0.8444,  0.8667,  0.8889,  0.9111,  0.9333,  0.9556,\n",
      "          0.9778,  1.0000,  1.0222,  1.0444,  1.0667,  1.0889],\n",
      "        [-0.0889, -0.0667, -0.0444, -0.0222,  0.0000,  0.0222,  0.0444,  0.0667,\n",
      "          0.0889,  0.1111,  0.1333,  0.1556,  0.1778,  0.2000,  0.2222,  0.2444,\n",
      "          0.2667,  0.2889,  0.3111,  0.3333,  0.3556,  0.3778,  0.4000,  0.4222,\n",
      "          0.4444,  0.4667,  0.4889,  0.5111,  0.5333,  0.5556,  0.5778,  0.6000,\n",
      "          0.6222,  0.6444,  0.6667,  0.6889,  0.7111,  0.7333,  0.7556,  0.7778,\n",
      "          0.8000,  0.8222,  0.8444,  0.8667,  0.8889,  0.9111],\n",
      "        [-0.0889, -0.0667, -0.0444, -0.0222,  0.0000,  0.0222,  0.0444,  0.0667,\n",
      "          0.0889,  0.1111,  0.1333,  0.1556,  0.1778,  0.2000,  0.2222,  0.2444,\n",
      "          0.2667,  0.2889,  0.3111,  0.3333,  0.3556,  0.3778,  0.4000,  0.4222,\n",
      "          0.4444,  0.4667,  0.4889,  0.5111,  0.5333,  0.5556,  0.5778,  0.6000,\n",
      "          0.6222,  0.6444,  0.6667,  0.6889,  0.7111,  0.7333,  0.7556,  0.7778,\n",
      "          0.8000,  0.8222,  0.8444,  0.8667,  0.8889,  0.9111],\n",
      "        [ 0.2000,  0.2222,  0.2444,  0.2667,  0.2889,  0.3111,  0.3333,  0.3556,\n",
      "          0.3778,  0.4000,  0.4222,  0.4444,  0.4667,  0.4889,  0.5111,  0.5333,\n",
      "          0.5556,  0.5778,  0.6000,  0.6222,  0.6444,  0.6667,  0.6889,  0.7111,\n",
      "          0.7333,  0.7556,  0.7778,  0.8000,  0.8222,  0.8444,  0.8667,  0.8889,\n",
      "          0.9111,  0.9333,  0.9556,  0.9778,  1.0000,  1.0222,  1.0444,  1.0667,\n",
      "          1.0889,  1.1111,  1.1333,  1.1556,  1.1778,  1.2000],\n",
      "        [ 0.2000,  0.2222,  0.2444,  0.2667,  0.2889,  0.3111,  0.3333,  0.3556,\n",
      "          0.3778,  0.4000,  0.4222,  0.4444,  0.4667,  0.4889,  0.5111,  0.5333,\n",
      "          0.5556,  0.5778,  0.6000,  0.6222,  0.6444,  0.6667,  0.6889,  0.7111,\n",
      "          0.7333,  0.7556,  0.7778,  0.8000,  0.8222,  0.8444,  0.8667,  0.8889,\n",
      "          0.9111,  0.9333,  0.9556,  0.9778,  1.0000,  1.0222,  1.0444,  1.0667,\n",
      "          1.0889,  1.1111,  1.1333,  1.1556,  1.1778,  1.2000],\n",
      "        [-0.2000, -0.1778, -0.1556, -0.1333, -0.1111, -0.0889, -0.0667, -0.0444,\n",
      "         -0.0222,  0.0000,  0.0222,  0.0444,  0.0667,  0.0889,  0.1111,  0.1333,\n",
      "          0.1556,  0.1778,  0.2000,  0.2222,  0.2444,  0.2667,  0.2889,  0.3111,\n",
      "          0.3333,  0.3556,  0.3778,  0.4000,  0.4222,  0.4444,  0.4667,  0.4889,\n",
      "          0.5111,  0.5333,  0.5556,  0.5778,  0.6000,  0.6222,  0.6444,  0.6667,\n",
      "          0.6889,  0.7111,  0.7333,  0.7556,  0.7778,  0.8000],\n",
      "        [-0.2000, -0.1778, -0.1556, -0.1333, -0.1111, -0.0889, -0.0667, -0.0444,\n",
      "         -0.0222,  0.0000,  0.0222,  0.0444,  0.0667,  0.0889,  0.1111,  0.1333,\n",
      "          0.1556,  0.1778,  0.2000,  0.2222,  0.2444,  0.2667,  0.2889,  0.3111,\n",
      "          0.3333,  0.3556,  0.3778,  0.4000,  0.4222,  0.4444,  0.4667,  0.4889,\n",
      "          0.5111,  0.5333,  0.5556,  0.5778,  0.6000,  0.6222,  0.6444,  0.6667,\n",
      "          0.6889,  0.7111,  0.7333,  0.7556,  0.7778,  0.8000]]) tensor([[ 0.0889,  0.1111,  0.1333,  0.1556,  0.1778,  0.2000,  0.2222,  0.2444,\n",
      "          0.2667,  0.2889,  0.3111,  0.3333,  0.3556,  0.3778,  0.4000,  0.4222,\n",
      "          0.4444,  0.4667,  0.4889,  0.5111,  0.5333,  0.5556,  0.5778,  0.6000,\n",
      "          0.6222,  0.6444,  0.6667,  0.6889,  0.7111,  0.7333,  0.7556,  0.7778,\n",
      "          0.8000,  0.8222,  0.8444,  0.8667,  0.8889,  0.9111,  0.9333,  0.9556,\n",
      "          0.9778,  1.0000,  1.0222,  1.0444,  1.0667,  1.0889],\n",
      "        [-0.0889, -0.0667, -0.0444, -0.0222,  0.0000,  0.0222,  0.0444,  0.0667,\n",
      "          0.0889,  0.1111,  0.1333,  0.1556,  0.1778,  0.2000,  0.2222,  0.2444,\n",
      "          0.2667,  0.2889,  0.3111,  0.3333,  0.3556,  0.3778,  0.4000,  0.4222,\n",
      "          0.4444,  0.4667,  0.4889,  0.5111,  0.5333,  0.5556,  0.5778,  0.6000,\n",
      "          0.6222,  0.6444,  0.6667,  0.6889,  0.7111,  0.7333,  0.7556,  0.7778,\n",
      "          0.8000,  0.8222,  0.8444,  0.8667,  0.8889,  0.9111],\n",
      "        [-0.0889, -0.0667, -0.0444, -0.0222,  0.0000,  0.0222,  0.0444,  0.0667,\n",
      "          0.0889,  0.1111,  0.1333,  0.1556,  0.1778,  0.2000,  0.2222,  0.2444,\n",
      "          0.2667,  0.2889,  0.3111,  0.3333,  0.3556,  0.3778,  0.4000,  0.4222,\n",
      "          0.4444,  0.4667,  0.4889,  0.5111,  0.5333,  0.5556,  0.5778,  0.6000,\n",
      "          0.6222,  0.6444,  0.6667,  0.6889,  0.7111,  0.7333,  0.7556,  0.7778,\n",
      "          0.8000,  0.8222,  0.8444,  0.8667,  0.8889,  0.9111],\n",
      "        [ 0.0889,  0.1111,  0.1333,  0.1556,  0.1778,  0.2000,  0.2222,  0.2444,\n",
      "          0.2667,  0.2889,  0.3111,  0.3333,  0.3556,  0.3778,  0.4000,  0.4222,\n",
      "          0.4444,  0.4667,  0.4889,  0.5111,  0.5333,  0.5556,  0.5778,  0.6000,\n",
      "          0.6222,  0.6444,  0.6667,  0.6889,  0.7111,  0.7333,  0.7556,  0.7778,\n",
      "          0.8000,  0.8222,  0.8444,  0.8667,  0.8889,  0.9111,  0.9333,  0.9556,\n",
      "          0.9778,  1.0000,  1.0222,  1.0444,  1.0667,  1.0889],\n",
      "        [ 0.2000,  0.2222,  0.2444,  0.2667,  0.2889,  0.3111,  0.3333,  0.3556,\n",
      "          0.3778,  0.4000,  0.4222,  0.4444,  0.4667,  0.4889,  0.5111,  0.5333,\n",
      "          0.5556,  0.5778,  0.6000,  0.6222,  0.6444,  0.6667,  0.6889,  0.7111,\n",
      "          0.7333,  0.7556,  0.7778,  0.8000,  0.8222,  0.8444,  0.8667,  0.8889,\n",
      "          0.9111,  0.9333,  0.9556,  0.9778,  1.0000,  1.0222,  1.0444,  1.0667,\n",
      "          1.0889,  1.1111,  1.1333,  1.1556,  1.1778,  1.2000],\n",
      "        [-0.2000, -0.1778, -0.1556, -0.1333, -0.1111, -0.0889, -0.0667, -0.0444,\n",
      "         -0.0222,  0.0000,  0.0222,  0.0444,  0.0667,  0.0889,  0.1111,  0.1333,\n",
      "          0.1556,  0.1778,  0.2000,  0.2222,  0.2444,  0.2667,  0.2889,  0.3111,\n",
      "          0.3333,  0.3556,  0.3778,  0.4000,  0.4222,  0.4444,  0.4667,  0.4889,\n",
      "          0.5111,  0.5333,  0.5556,  0.5778,  0.6000,  0.6222,  0.6444,  0.6667,\n",
      "          0.6889,  0.7111,  0.7333,  0.7556,  0.7778,  0.8000],\n",
      "        [-0.2000, -0.1778, -0.1556, -0.1333, -0.1111, -0.0889, -0.0667, -0.0444,\n",
      "         -0.0222,  0.0000,  0.0222,  0.0444,  0.0667,  0.0889,  0.1111,  0.1333,\n",
      "          0.1556,  0.1778,  0.2000,  0.2222,  0.2444,  0.2667,  0.2889,  0.3111,\n",
      "          0.3333,  0.3556,  0.3778,  0.4000,  0.4222,  0.4444,  0.4667,  0.4889,\n",
      "          0.5111,  0.5333,  0.5556,  0.5778,  0.6000,  0.6222,  0.6444,  0.6667,\n",
      "          0.6889,  0.7111,  0.7333,  0.7556,  0.7778,  0.8000],\n",
      "        [ 0.2000,  0.2222,  0.2444,  0.2667,  0.2889,  0.3111,  0.3333,  0.3556,\n",
      "          0.3778,  0.4000,  0.4222,  0.4444,  0.4667,  0.4889,  0.5111,  0.5333,\n",
      "          0.5556,  0.5778,  0.6000,  0.6222,  0.6444,  0.6667,  0.6889,  0.7111,\n",
      "          0.7333,  0.7556,  0.7778,  0.8000,  0.8222,  0.8444,  0.8667,  0.8889,\n",
      "          0.9111,  0.9333,  0.9556,  0.9778,  1.0000,  1.0222,  1.0444,  1.0667,\n",
      "          1.0889,  1.1111,  1.1333,  1.1556,  1.1778,  1.2000]])\n"
     ]
    },
    {
     "name": "stderr",
     "output_type": "stream",
     "text": [
      "/root/miniconda3/envs/ptychopinn_ptychodus_pytorch/lib/python3.10/site-packages/torch/nn/functional.py:4343: UserWarning: Default grid_sample and affine_grid behavior has changed to align_corners=False since 1.3.0. Please specify align_corners=True if the old behavior is desired. See the documentation of grid_sample for details.\n",
      "  warnings.warn(\n"
     ]
    }
   ],
   "source": [
    "#Create random 4D test tensor\n",
    "test_tensor = torch.rand(2, 4, 16, 16, dtype = torch.cfloat)\n",
    "\n",
    "#Create random 2d offset tensor\n",
    "disp_1, disp_2 = 4, 9\n",
    "test_offset = torch.tensor([[[[-disp_1,-disp_1]],[[-disp_1,disp_1]],[[disp_1,disp_1]],[[disp_1,-disp_1]]],\n",
    "                            [[[-disp_2,-disp_2]],[[-disp_2,disp_2]],[[disp_2,disp_2]],[[disp_2,-disp_2]]]])\n",
    "#Test reassemble_patches_position_real from hh\n",
    "reassembled_tensor = hh.reassemble_patches_position_real(test_tensor, test_offset)\n",
    "\n"
   ]
  },
  {
   "cell_type": "code",
   "execution_count": 4,
   "metadata": {},
   "outputs": [],
   "source": [
    "reassembled_tensor[1,:21,:21] = 0\n",
    "reassembled_tensor[1,25:,:21] = 0\n",
    "reassembled_tensor[1,:21,25:] = 0"
   ]
  },
  {
   "cell_type": "code",
   "execution_count": 5,
   "metadata": {},
   "outputs": [
    {
     "data": {
      "text/plain": [
       "<matplotlib.image.AxesImage at 0x7faddc15af80>"
      ]
     },
     "execution_count": 5,
     "metadata": {},
     "output_type": "execute_result"
    },
    {
     "data": {
      "image/png": "[encoded data removed]",
      "text/plain": [
       "<Figure size 640x480 with 1 Axes>"
      ]
     },
     "metadata": {},
     "output_type": "display_data"
    }
   ],
   "source": [
    "#Plot image from squeezed tensor reassembled_tensor[0,:,:]\n",
    "plt.imshow(abs(reassembled_tensor[1,:,:]).squeeze().detach().numpy())"
   ]
  },
  {
   "cell_type": "code",
   "execution_count": 6,
   "metadata": {},
   "outputs": [
    {
     "data": {
      "text/plain": [
       "(torch.Size([2, 46, 46]), torch.Size([2, 4, 1, 2]))"
      ]
     },
     "execution_count": 6,
     "metadata": {},
     "output_type": "execute_result"
    }
   ],
   "source": [
    "reassembled_tensor.shape, test_offset.shape"
   ]
  },
  {
   "cell_type": "code",
   "execution_count": 7,
   "metadata": {},
   "outputs": [
    {
     "name": "stdout",
     "output_type": "stream",
     "text": [
      "tensor([[-0.0889, -0.0667, -0.0444, -0.0222,  0.0000,  0.0222,  0.0444,  0.0667,\n",
      "          0.0889,  0.1111,  0.1333,  0.1556,  0.1778,  0.2000,  0.2222,  0.2444,\n",
      "          0.2667,  0.2889,  0.3111,  0.3333,  0.3556,  0.3778,  0.4000,  0.4222,\n",
      "          0.4444,  0.4667,  0.4889,  0.5111,  0.5333,  0.5556,  0.5778,  0.6000,\n",
      "          0.6222,  0.6444,  0.6667,  0.6889,  0.7111,  0.7333,  0.7556,  0.7778,\n",
      "          0.8000,  0.8222,  0.8444,  0.8667,  0.8889,  0.9111],\n",
      "        [-0.0889, -0.0667, -0.0444, -0.0222,  0.0000,  0.0222,  0.0444,  0.0667,\n",
      "          0.0889,  0.1111,  0.1333,  0.1556,  0.1778,  0.2000,  0.2222,  0.2444,\n",
      "          0.2667,  0.2889,  0.3111,  0.3333,  0.3556,  0.3778,  0.4000,  0.4222,\n",
      "          0.4444,  0.4667,  0.4889,  0.5111,  0.5333,  0.5556,  0.5778,  0.6000,\n",
      "          0.6222,  0.6444,  0.6667,  0.6889,  0.7111,  0.7333,  0.7556,  0.7778,\n",
      "          0.8000,  0.8222,  0.8444,  0.8667,  0.8889,  0.9111],\n",
      "        [ 0.0889,  0.1111,  0.1333,  0.1556,  0.1778,  0.2000,  0.2222,  0.2444,\n",
      "          0.2667,  0.2889,  0.3111,  0.3333,  0.3556,  0.3778,  0.4000,  0.4222,\n",
      "          0.4444,  0.4667,  0.4889,  0.5111,  0.5333,  0.5556,  0.5778,  0.6000,\n",
      "          0.6222,  0.6444,  0.6667,  0.6889,  0.7111,  0.7333,  0.7556,  0.7778,\n",
      "          0.8000,  0.8222,  0.8444,  0.8667,  0.8889,  0.9111,  0.9333,  0.9556,\n",
      "          0.9778,  1.0000,  1.0222,  1.0444,  1.0667,  1.0889],\n",
      "        [ 0.0889,  0.1111,  0.1333,  0.1556,  0.1778,  0.2000,  0.2222,  0.2444,\n",
      "          0.2667,  0.2889,  0.3111,  0.3333,  0.3556,  0.3778,  0.4000,  0.4222,\n",
      "          0.4444,  0.4667,  0.4889,  0.5111,  0.5333,  0.5556,  0.5778,  0.6000,\n",
      "          0.6222,  0.6444,  0.6667,  0.6889,  0.7111,  0.7333,  0.7556,  0.7778,\n",
      "          0.8000,  0.8222,  0.8444,  0.8667,  0.8889,  0.9111,  0.9333,  0.9556,\n",
      "          0.9778,  1.0000,  1.0222,  1.0444,  1.0667,  1.0889],\n",
      "        [-0.2000, -0.1778, -0.1556, -0.1333, -0.1111, -0.0889, -0.0667, -0.0444,\n",
      "         -0.0222,  0.0000,  0.0222,  0.0444,  0.0667,  0.0889,  0.1111,  0.1333,\n",
      "          0.1556,  0.1778,  0.2000,  0.2222,  0.2444,  0.2667,  0.2889,  0.3111,\n",
      "          0.3333,  0.3556,  0.3778,  0.4000,  0.4222,  0.4444,  0.4667,  0.4889,\n",
      "          0.5111,  0.5333,  0.5556,  0.5778,  0.6000,  0.6222,  0.6444,  0.6667,\n",
      "          0.6889,  0.7111,  0.7333,  0.7556,  0.7778,  0.8000],\n",
      "        [-0.2000, -0.1778, -0.1556, -0.1333, -0.1111, -0.0889, -0.0667, -0.0444,\n",
      "         -0.0222,  0.0000,  0.0222,  0.0444,  0.0667,  0.0889,  0.1111,  0.1333,\n",
      "          0.1556,  0.1778,  0.2000,  0.2222,  0.2444,  0.2667,  0.2889,  0.3111,\n",
      "          0.3333,  0.3556,  0.3778,  0.4000,  0.4222,  0.4444,  0.4667,  0.4889,\n",
      "          0.5111,  0.5333,  0.5556,  0.5778,  0.6000,  0.6222,  0.6444,  0.6667,\n",
      "          0.6889,  0.7111,  0.7333,  0.7556,  0.7778,  0.8000],\n",
      "        [ 0.2000,  0.2222,  0.2444,  0.2667,  0.2889,  0.3111,  0.3333,  0.3556,\n",
      "          0.3778,  0.4000,  0.4222,  0.4444,  0.4667,  0.4889,  0.5111,  0.5333,\n",
      "          0.5556,  0.5778,  0.6000,  0.6222,  0.6444,  0.6667,  0.6889,  0.7111,\n",
      "          0.7333,  0.7556,  0.7778,  0.8000,  0.8222,  0.8444,  0.8667,  0.8889,\n",
      "          0.9111,  0.9333,  0.9556,  0.9778,  1.0000,  1.0222,  1.0444,  1.0667,\n",
      "          1.0889,  1.1111,  1.1333,  1.1556,  1.1778,  1.2000],\n",
      "        [ 0.2000,  0.2222,  0.2444,  0.2667,  0.2889,  0.3111,  0.3333,  0.3556,\n",
      "          0.3778,  0.4000,  0.4222,  0.4444,  0.4667,  0.4889,  0.5111,  0.5333,\n",
      "          0.5556,  0.5778,  0.6000,  0.6222,  0.6444,  0.6667,  0.6889,  0.7111,\n",
      "          0.7333,  0.7556,  0.7778,  0.8000,  0.8222,  0.8444,  0.8667,  0.8889,\n",
      "          0.9111,  0.9333,  0.9556,  0.9778,  1.0000,  1.0222,  1.0444,  1.0667,\n",
      "          1.0889,  1.1111,  1.1333,  1.1556,  1.1778,  1.2000]]) tensor([[-0.0889, -0.0667, -0.0444, -0.0222,  0.0000,  0.0222,  0.0444,  0.0667,\n",
      "          0.0889,  0.1111,  0.1333,  0.1556,  0.1778,  0.2000,  0.2222,  0.2444,\n",
      "          0.2667,  0.2889,  0.3111,  0.3333,  0.3556,  0.3778,  0.4000,  0.4222,\n",
      "          0.4444,  0.4667,  0.4889,  0.5111,  0.5333,  0.5556,  0.5778,  0.6000,\n",
      "          0.6222,  0.6444,  0.6667,  0.6889,  0.7111,  0.7333,  0.7556,  0.7778,\n",
      "          0.8000,  0.8222,  0.8444,  0.8667,  0.8889,  0.9111],\n",
      "        [ 0.0889,  0.1111,  0.1333,  0.1556,  0.1778,  0.2000,  0.2222,  0.2444,\n",
      "          0.2667,  0.2889,  0.3111,  0.3333,  0.3556,  0.3778,  0.4000,  0.4222,\n",
      "          0.4444,  0.4667,  0.4889,  0.5111,  0.5333,  0.5556,  0.5778,  0.6000,\n",
      "          0.6222,  0.6444,  0.6667,  0.6889,  0.7111,  0.7333,  0.7556,  0.7778,\n",
      "          0.8000,  0.8222,  0.8444,  0.8667,  0.8889,  0.9111,  0.9333,  0.9556,\n",
      "          0.9778,  1.0000,  1.0222,  1.0444,  1.0667,  1.0889],\n",
      "        [ 0.0889,  0.1111,  0.1333,  0.1556,  0.1778,  0.2000,  0.2222,  0.2444,\n",
      "          0.2667,  0.2889,  0.3111,  0.3333,  0.3556,  0.3778,  0.4000,  0.4222,\n",
      "          0.4444,  0.4667,  0.4889,  0.5111,  0.5333,  0.5556,  0.5778,  0.6000,\n",
      "          0.6222,  0.6444,  0.6667,  0.6889,  0.7111,  0.7333,  0.7556,  0.7778,\n",
      "          0.8000,  0.8222,  0.8444,  0.8667,  0.8889,  0.9111,  0.9333,  0.9556,\n",
      "          0.9778,  1.0000,  1.0222,  1.0444,  1.0667,  1.0889],\n",
      "        [-0.0889, -0.0667, -0.0444, -0.0222,  0.0000,  0.0222,  0.0444,  0.0667,\n",
      "          0.0889,  0.1111,  0.1333,  0.1556,  0.1778,  0.2000,  0.2222,  0.2444,\n",
      "          0.2667,  0.2889,  0.3111,  0.3333,  0.3556,  0.3778,  0.4000,  0.4222,\n",
      "          0.4444,  0.4667,  0.4889,  0.5111,  0.5333,  0.5556,  0.5778,  0.6000,\n",
      "          0.6222,  0.6444,  0.6667,  0.6889,  0.7111,  0.7333,  0.7556,  0.7778,\n",
      "          0.8000,  0.8222,  0.8444,  0.8667,  0.8889,  0.9111],\n",
      "        [-0.2000, -0.1778, -0.1556, -0.1333, -0.1111, -0.0889, -0.0667, -0.0444,\n",
      "         -0.0222,  0.0000,  0.0222,  0.0444,  0.0667,  0.0889,  0.1111,  0.1333,\n",
      "          0.1556,  0.1778,  0.2000,  0.2222,  0.2444,  0.2667,  0.2889,  0.3111,\n",
      "          0.3333,  0.3556,  0.3778,  0.4000,  0.4222,  0.4444,  0.4667,  0.4889,\n",
      "          0.5111,  0.5333,  0.5556,  0.5778,  0.6000,  0.6222,  0.6444,  0.6667,\n",
      "          0.6889,  0.7111,  0.7333,  0.7556,  0.7778,  0.8000],\n",
      "        [ 0.2000,  0.2222,  0.2444,  0.2667,  0.2889,  0.3111,  0.3333,  0.3556,\n",
      "          0.3778,  0.4000,  0.4222,  0.4444,  0.4667,  0.4889,  0.5111,  0.5333,\n",
      "          0.5556,  0.5778,  0.6000,  0.6222,  0.6444,  0.6667,  0.6889,  0.7111,\n",
      "          0.7333,  0.7556,  0.7778,  0.8000,  0.8222,  0.8444,  0.8667,  0.8889,\n",
      "          0.9111,  0.9333,  0.9556,  0.9778,  1.0000,  1.0222,  1.0444,  1.0667,\n",
      "          1.0889,  1.1111,  1.1333,  1.1556,  1.1778,  1.2000],\n",
      "        [ 0.2000,  0.2222,  0.2444,  0.2667,  0.2889,  0.3111,  0.3333,  0.3556,\n",
      "          0.3778,  0.4000,  0.4222,  0.4444,  0.4667,  0.4889,  0.5111,  0.5333,\n",
      "          0.5556,  0.5778,  0.6000,  0.6222,  0.6444,  0.6667,  0.6889,  0.7111,\n",
      "          0.7333,  0.7556,  0.7778,  0.8000,  0.8222,  0.8444,  0.8667,  0.8889,\n",
      "          0.9111,  0.9333,  0.9556,  0.9778,  1.0000,  1.0222,  1.0444,  1.0667,\n",
      "          1.0889,  1.1111,  1.1333,  1.1556,  1.1778,  1.2000],\n",
      "        [-0.2000, -0.1778, -0.1556, -0.1333, -0.1111, -0.0889, -0.0667, -0.0444,\n",
      "         -0.0222,  0.0000,  0.0222,  0.0444,  0.0667,  0.0889,  0.1111,  0.1333,\n",
      "          0.1556,  0.1778,  0.2000,  0.2222,  0.2444,  0.2667,  0.2889,  0.3111,\n",
      "          0.3333,  0.3556,  0.3778,  0.4000,  0.4222,  0.4444,  0.4667,  0.4889,\n",
      "          0.5111,  0.5333,  0.5556,  0.5778,  0.6000,  0.6222,  0.6444,  0.6667,\n",
      "          0.6889,  0.7111,  0.7333,  0.7556,  0.7778,  0.8000]])\n",
      "torch.Size([8, 1, 46, 46])\n",
      "torch.Size([8, 1, 16, 16])\n"
     ]
    }
   ],
   "source": [
    "test_channel_extract = hh.extract_channels_from_region(reassembled_tensor[:,None,:,:], test_offset)"
   ]
  },
  {
   "cell_type": "code",
   "execution_count": 70,
   "metadata": {},
   "outputs": [
    {
     "data": {
      "text/plain": [
       "(tensor([0.3862, 0.7454, 0.6629, 0.4981, 0.5585]),\n",
       " tensor([0.0000, 0.0000, 0.0000, 0.0000, 0.0000, 0.0000, 0.2954, 0.7129, 0.4118,\n",
       "         0.4443]))"
      ]
     },
     "execution_count": 70,
     "metadata": {},
     "output_type": "execute_result"
    }
   ],
   "source": [
    "abs(test_channel_extract[1,0,-1,:5]), abs(reassembled_tensor[1,21,:10])"
   ]
  },
  {
   "cell_type": "code",
   "execution_count": 79,
   "metadata": {},
   "outputs": [
    {
     "data": {
      "text/plain": [
       "torch.Size([1, 1, 2])"
      ]
     },
     "execution_count": 79,
     "metadata": {},
     "output_type": "execute_result"
    }
   ],
   "source": [
    "test_offset[0,0][None,:,:].shape"
   ]
  },
  {
   "cell_type": "code",
   "execution_count": 9,
   "metadata": {},
   "outputs": [],
   "source": [
    "import torch.nn.functional as F"
   ]
  },
  {
   "cell_type": "code",
   "execution_count": null,
   "metadata": {},
   "outputs": [],
   "source": [
    "img = torch.rand(1,16,16)"
   ]
  },
  {
   "cell_type": "code",
   "execution_count": 83,
   "metadata": {},
   "outputs": [],
   "source": [
    "c, h, w = img.shape\n",
    "\n",
    "x_s, y_s = (torch.arange(h) + 0)/(h-1), (torch.arange(w) + 0)/(w-1)\n",
    "\n",
    "grid_shifted = torch.dstack(torch.meshgrid(x_s,y_s)) * 2 - 1\n",
    "\n",
    "sampled = F.grid_sample(img[None], grid_shifted[None], align_corners = True)"
   ]
  },
  {
   "cell_type": "code",
   "execution_count": 84,
   "metadata": {},
   "outputs": [
    {
     "data": {
      "text/plain": [
       "torch.Size([1, 1, 16, 16])"
      ]
     },
     "execution_count": 84,
     "metadata": {},
     "output_type": "execute_result"
    }
   ],
   "source": [
    "sampled.shape"
   ]
  },
  {
   "cell_type": "code",
   "execution_count": 85,
   "metadata": {},
   "outputs": [
    {
     "data": {
      "text/plain": [
       "(tensor([0.0103]), tensor([[0.0103]]))"
      ]
     },
     "execution_count": 85,
     "metadata": {},
     "output_type": "execute_result"
    }
   ],
   "source": [
    "img[:,0,0], sampled[:,:,0,0]"
   ]
  },
  {
   "cell_type": "code",
   "execution_count": 56,
   "metadata": {},
   "outputs": [],
   "source": [
    "def Translation(img, offset, jitter_amt):\n",
    "    '''\n",
    "    Translation function with custom complex number support.\n",
    "    Uses torch.nn.functional.grid_sample to perform subpixel translation.\n",
    "    Meant to be performed on a flattened set of inputs.\n",
    "\n",
    "    Grid_sample takes an input of (N, C, H_in, W_in) and grid of (N, H_out, W_out, 2) to\n",
    "    output (N, C, H_out, W_out). In our case, C is 1 because we already flattened the channels from (N, C, H_in, W_in)\n",
    "    to (N * C, H_in, W_in). Offset is (N*C, 1, 2)\n",
    "\n",
    "    We transform the input solution region to (N, 1, H, W), and the grid to (N, H_out, W_out, 2).\n",
    "    The grid essentially contains all c possible translations of the input region.\n",
    "\n",
    "    The output in our case will be (N, 1, H_out, W_out)\n",
    "\n",
    "    Inputs\n",
    "    ------\n",
    "    img: torch.Tensor (N, H, W). Stack of images in a solution region. dtype complex, cfloat \n",
    "    offset: torch.Tensor (N, 1, 2). Offset of each image in the solution region\n",
    "\n",
    "    Outputs\n",
    "    ------\n",
    "    out: torch.Tensor (N, 1, H_out, W_out)\n",
    "    '''\n",
    "    n, h, w = img.shape\n",
    "    #Create 2d grid to sample bilinear interpolation from\n",
    "    x, y = torch.arange(h), torch.arange(w)\n",
    "    #Add offset to x, y using broadcasting (H) -> (C, H)\n",
    "    jitter_x = torch.normal(torch.zeros(offset[:,:,0].shape), #offset: [n, 1]\n",
    "                          std=jitter_amt)\n",
    "    jitter_y = torch.normal(torch.zeros(offset[:,:,1].shape), #offset: [n, 1]\n",
    "                          std=jitter_amt)\n",
    "    \n",
    "    x_shifted, y_shifted = (x + offset[:, :, 0] + jitter_x)/(h-1), \\\n",
    "                           (y + offset[:, :, 1] + jitter_y)/(w-1)\n",
    "    \n",
    "    #Create meshgrid using manual stacking method C x H x W x 2)\n",
    "    #Multiply by 2 and subtract 1 to shift to [-1, 1] range for use by grid_sample\n",
    "    grid = torch.stack([x_shifted.unsqueeze(-1).expand(n, -1, y_shifted.shape[1]),\n",
    "                    y_shifted.unsqueeze(1).expand(n, x_shifted.shape[1], -1)],\n",
    "                    dim = -1) * 2 - 1\n",
    "    \n",
    "    print(grid)\n",
    "\n",
    "    #Apply F.grid_sample to translate real and imaginary parts separately.\n",
    "    #grid_sample does not have native complex tensor support\n",
    "    #Need to unsqueeze img to have it work with grid_sample (check documentation). \n",
    "    #In our case, color channels are 1 (singleton) and so we just unsqueeze at 2nd dimension\n",
    "\n",
    "    translated_real = F.grid_sample(img.unsqueeze(1).real, grid,\n",
    "                                    mode = 'bilinear', align_corners = True)\n",
    "    if img.dtype == torch.complex64:\n",
    "        translated_imag = F.grid_sample(img.unsqueeze(1).imag, grid,\n",
    "                                        mode = 'bilinear', align_corners = True)\n",
    "    else:\n",
    "        translated_imag = torch.zeros_like(translated_real)\n",
    "\n",
    "    #Combine real and imag\n",
    "    translated = torch.view_as_complex(torch.stack((translated_real, translated_imag),\n",
    "                                                   dim = -1))\n",
    "    \n",
    "    return translated"
   ]
  },
  {
   "cell_type": "code",
   "execution_count": 58,
   "metadata": {},
   "outputs": [
    {
     "data": {
      "text/plain": [
       "tensor([[-9,  9]])"
      ]
     },
     "execution_count": 58,
     "metadata": {},
     "output_type": "execute_result"
    }
   ],
   "source": [
    "test_offset[1,1]"
   ]
  },
  {
   "cell_type": "code",
   "execution_count": 61,
   "metadata": {},
   "outputs": [
    {
     "name": "stdout",
     "output_type": "stream",
     "text": [
      "tensor([0.0000, 1.0000, 2.0000, 3.0000, 4.0000])\n"
     ]
    }
   ],
   "source": [
    "#Testing translate out\n",
    "test_translate = Translation(reassembled_tensor[1,:,:][None,:,:].real, torch.tensor([[-0,0]])[None,:,:], 0)"
   ]
  },
  {
   "cell_type": "code",
   "execution_count": 70,
   "metadata": {},
   "outputs": [
    {
     "data": {
      "text/plain": [
       "torch.Size([1, 1, 46, 46])"
      ]
     },
     "execution_count": 70,
     "metadata": {},
     "output_type": "execute_result"
    }
   ],
   "source": [
    "test_translate.shape"
   ]
  },
  {
   "cell_type": "code",
   "execution_count": 75,
   "metadata": {},
   "outputs": [
    {
     "data": {
      "text/plain": [
       "(tensor(0.3230+0.5552j), tensor([[0.4525+0.j]]))"
      ]
     },
     "execution_count": 75,
     "metadata": {},
     "output_type": "execute_result"
    }
   ],
   "source": [
    "reassembled_tensor[1,21,7], test_translate[:,:,21,7]\n"
   ]
  },
  {
   "cell_type": "code",
   "execution_count": 66,
   "metadata": {},
   "outputs": [
    {
     "data": {
      "image/png": "[encoded data removed]",
      "text/plain": [
       "<Figure size 640x480 with 2 Axes>"
      ]
     },
     "metadata": {},
     "output_type": "display_data"
    }
   ],
   "source": [
    "#Plot reassembled_tensor[0,:,:] and test_translate side by side\n",
    "\n",
    "plt.subplot(1,2,1)\n",
    "plt.imshow(reassembled_tensor[1,:,:].real.squeeze().detach().numpy())\n",
    "#Use fixed clim\n",
    "plt.clim(0,1)\n",
    "plt.subplot(1,2,2)\n",
    "#plt.imshow(reassembled_tensor[1,:,:].real.squeeze().detach().numpy())\n",
    "plt.imshow(test_translate.real.squeeze())\n",
    "plt.clim(0,1)\n"
   ]
  },
  {
   "cell_type": "code",
   "execution_count": 71,
   "metadata": {},
   "outputs": [
    {
     "data": {
      "text/plain": [
       "<matplotlib.image.AxesImage at 0x7f0471f3a140>"
      ]
     },
     "execution_count": 71,
     "metadata": {},
     "output_type": "execute_result"
    },
    {
     "data": {
      "image/png": "[encoded data removed]",
      "text/plain": [
       "<Figure size 640x480 with 1 Axes>"
      ]
     },
     "metadata": {},
     "output_type": "display_data"
    }
   ],
   "source": [
    "plt.imshow(abs(test_channel_extract[1,0,:,:]).squeeze().detach().numpy())"
   ]
  },
  {
   "cell_type": "code",
   "execution_count": null,
   "metadata": {},
   "outputs": [],
   "source": []
  }
 ],
 "metadata": {
  "kernelspec": {
   "display_name": "ptychopinn_ptychodus_pytorch",
   "language": "python",
   "name": "python3"
  },
  "language_info": {
   "codemirror_mode": {
    "name": "ipython",
    "version": 3
   },
   "file_extension": ".py",
   "mimetype": "text/x-python",
   "name": "python",
   "nbconvert_exporter": "python",
   "pygments_lexer": "ipython3",
   "version": "3.10.14"
  }
 },
 "nbformat": 4,
 "nbformat_minor": 2
}
