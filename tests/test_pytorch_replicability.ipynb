{
 "cells": [
  {
   "cell_type": "markdown",
   "metadata": {},
   "source": [
    "# Introduction\n",
    "\n",
    "This notebook serves to replicate Oliver's results with his tensorflow model on a dataset with zero overlap conditions. We'll be testing the simplified version of the model where there are zero overlaps."
   ]
  },
  {
   "cell_type": "code",
   "execution_count": 1,
   "metadata": {},
   "outputs": [
    {
     "name": "stderr",
     "output_type": "stream",
     "text": [
      "/root/miniconda3/envs/ptychopinn_ptychodus_pytorch/lib/python3.10/site-packages/scipy/__init__.py:146: UserWarning: A NumPy version >=1.17.3 and <1.25.0 is required for this version of SciPy (detected version 1.26.4\n",
      "  warnings.warn(f\"A NumPy version >={np_minversion} and <{np_maxversion}\"\n"
     ]
    }
   ],
   "source": [
    "import os\n",
    "\n",
    "#Change working directory to /Users/albertvong/Documents/Argonne/PtychoPINN/\n",
    "os.chdir('/home/av_linux/PtychoPINN')\n",
    "import numpy as np\n",
    "import importlib\n",
    "\n",
    "import torch\n",
    "from torch import nn\n",
    "from torch.nn import functional as F\n",
    "from torch.utils.data import DataLoader, Subset\n",
    "from tensordict import TensorDict, TensorDictBase\n",
    "\n",
    "import lightning as L\n",
    "import mlflow.pytorch\n",
    "from mlflow import MlflowClient\n",
    "\n",
    "from ptycho_torch.dset_loader_pt_mmap import PtychoDataset\n",
    "from ptycho_torch.model import PtychoPINN\n",
    "import ptycho_torch.helper as hh\n",
    "\n",
    "import matplotlib.pyplot as plt\n",
    "\n"
   ]
  },
  {
   "cell_type": "markdown",
   "metadata": {},
   "source": [
    "We're going to try MAE loss first just to take the Poisson scaling out of the equation."
   ]
  },
  {
   "cell_type": "code",
   "execution_count": 2,
   "metadata": {},
   "outputs": [],
   "source": [
    "from ptycho_torch.config_params import TrainingConfig, DataConfig, ModelConfig\n",
    "\n",
    "data_config_default = {\n",
    "    'nphotons': 1e5,\n",
    "    'N': 64,\n",
    "    'C': 4,\n",
    "    'K': 6,\n",
    "    'n_subsample': 10,\n",
    "    'grid_size': (2,2),\n",
    "    'probe_dir_get': True,\n",
    "    'normalize': False\n",
    "}\n",
    "\n",
    "\n",
    "model_config_default = {\n",
    "    'intensity_scale_trainable': True,\n",
    "    'max_position_jitter': 10, #Random jitter for translation (helps make model more robust)\n",
    "    'n_filters_scale': 2, #Shrinking factor for channels\n",
    "    'intensity_scale': 10000.0, #General intensity scale guess, this can be trainable. Needs to be float\n",
    "    'object.big': False, #True if need patch reassembly\n",
    "    'probe.big': False, #True if need patch reassembly\n",
    "    'offset': 4,\n",
    "    'loss_function': 'MAE'\n",
    "}\n",
    "\n",
    "training_config_default = {\n",
    "    'nll': True, #Negative log likelihood for loss function\n",
    "    'device': 'cuda'\n",
    "}\n",
    "\n",
    "t_config, d_config, m_config = TrainingConfig(), DataConfig(), ModelConfig()\n",
    "\n",
    "t_config.set_settings(training_config_default)\n",
    "d_config.set_settings(data_config_default)\n",
    "m_config.set_settings(model_config_default)"
   ]
  },
  {
   "cell_type": "code",
   "execution_count": 3,
   "metadata": {},
   "outputs": [],
   "source": [
    "from ptycho_torch.model import Autoencoder"
   ]
  },
  {
   "cell_type": "code",
   "execution_count": 4,
   "metadata": {},
   "outputs": [],
   "source": [
    "torch.manual_seed(2208707539130493126)\n",
    "autoenc = Autoencoder(2)"
   ]
  },
  {
   "cell_type": "code",
   "execution_count": 5,
   "metadata": {},
   "outputs": [
    {
     "data": {
      "text/plain": [
       "Autoencoder(\n",
       "  (encoder): Encoder(\n",
       "    (blocks): ModuleList(\n",
       "      (0): ConvPoolBlock(\n",
       "        (conv1): Conv2d(1, 64, kernel_size=(3, 3), stride=(1, 1), padding=same)\n",
       "        (conv2): Conv2d(64, 64, kernel_size=(3, 3), stride=(1, 1), padding=same)\n",
       "        (pool): MaxPool2d(kernel_size=(2, 2), stride=(2, 2), padding=0, dilation=1, ceil_mode=False)\n",
       "      )\n",
       "      (1): ConvPoolBlock(\n",
       "        (conv1): Conv2d(64, 128, kernel_size=(3, 3), stride=(1, 1), padding=same)\n",
       "        (conv2): Conv2d(128, 128, kernel_size=(3, 3), stride=(1, 1), padding=same)\n",
       "        (pool): MaxPool2d(kernel_size=(2, 2), stride=(2, 2), padding=0, dilation=1, ceil_mode=False)\n",
       "      )\n",
       "      (2): ConvPoolBlock(\n",
       "        (conv1): Conv2d(128, 256, kernel_size=(3, 3), stride=(1, 1), padding=same)\n",
       "        (conv2): Conv2d(256, 256, kernel_size=(3, 3), stride=(1, 1), padding=same)\n",
       "        (pool): MaxPool2d(kernel_size=(2, 2), stride=(2, 2), padding=0, dilation=1, ceil_mode=False)\n",
       "      )\n",
       "    )\n",
       "  )\n",
       "  (decoder_amp): Decoder_amp(\n",
       "    (blocks): ModuleList(\n",
       "      (0): ConvUpBlock(\n",
       "        (conv1): Conv2d(256, 128, kernel_size=(3, 3), stride=(1, 1), padding=same)\n",
       "        (conv2): Conv2d(128, 128, kernel_size=(3, 3), stride=(1, 1), padding=same)\n",
       "        (up): Upsample(scale_factor=(2.0, 2.0), mode='nearest')\n",
       "      )\n",
       "      (1): ConvUpBlock(\n",
       "        (conv1): Conv2d(128, 64, kernel_size=(3, 3), stride=(1, 1), padding=same)\n",
       "        (conv2): Conv2d(64, 64, kernel_size=(3, 3), stride=(1, 1), padding=same)\n",
       "        (up): Upsample(scale_factor=(2.0, 2.0), mode='nearest')\n",
       "      )\n",
       "    )\n",
       "    (amp_activation): Tanh_custom_act()\n",
       "    (amp): Decoder_last(\n",
       "      (conv1): Conv2d(60, 1, kernel_size=(3, 3), stride=(1, 1), padding=same)\n",
       "      (conv_up_block): ConvUpBlock(\n",
       "        (conv1): Conv2d(4, 64, kernel_size=(3, 3), stride=(1, 1), padding=same)\n",
       "        (conv2): Conv2d(64, 64, kernel_size=(3, 3), stride=(1, 1), padding=same)\n",
       "        (up): Upsample(scale_factor=(2.0, 2.0), mode='nearest')\n",
       "      )\n",
       "      (conv2): Conv2d(64, 1, kernel_size=(3, 3), stride=(1, 1), padding=same)\n",
       "      (padding): ConstantPad2d(padding=(16, 16, 16, 16), value=0)\n",
       "    )\n",
       "  )\n",
       "  (decoder_phase): Decoder_phase(\n",
       "    (blocks): ModuleList(\n",
       "      (0): ConvUpBlock(\n",
       "        (conv1): Conv2d(256, 128, kernel_size=(3, 3), stride=(1, 1), padding=same)\n",
       "        (conv2): Conv2d(128, 128, kernel_size=(3, 3), stride=(1, 1), padding=same)\n",
       "        (up): Upsample(scale_factor=(2.0, 2.0), mode='nearest')\n",
       "      )\n",
       "      (1): ConvUpBlock(\n",
       "        (conv1): Conv2d(128, 64, kernel_size=(3, 3), stride=(1, 1), padding=same)\n",
       "        (conv2): Conv2d(64, 64, kernel_size=(3, 3), stride=(1, 1), padding=same)\n",
       "        (up): Upsample(scale_factor=(2.0, 2.0), mode='nearest')\n",
       "      )\n",
       "    )\n",
       "    (phase_activation): Tanh_custom_act()\n",
       "    (phase): Decoder_last(\n",
       "      (conv1): Conv2d(60, 1, kernel_size=(3, 3), stride=(1, 1), padding=same)\n",
       "      (conv_up_block): ConvUpBlock(\n",
       "        (conv1): Conv2d(4, 64, kernel_size=(3, 3), stride=(1, 1), padding=same)\n",
       "        (conv2): Conv2d(64, 64, kernel_size=(3, 3), stride=(1, 1), padding=same)\n",
       "        (up): Upsample(scale_factor=(2.0, 2.0), mode='nearest')\n",
       "      )\n",
       "      (conv2): Conv2d(64, 1, kernel_size=(3, 3), stride=(1, 1), padding=same)\n",
       "      (padding): ConstantPad2d(padding=(16, 16, 16, 16), value=0)\n",
       "    )\n",
       "  )\n",
       ")"
      ]
     },
     "execution_count": 5,
     "metadata": {},
     "output_type": "execute_result"
    }
   ],
   "source": [
    "autoenc"
   ]
  },
  {
   "cell_type": "code",
   "execution_count": 6,
   "metadata": {},
   "outputs": [],
   "source": [
    "torch.manual_seed(42)\n",
    "test_tensor = torch.randn((64, 1, 64, 64))\n",
    "\n",
    "out_amp, out_phase = autoenc(test_tensor)"
   ]
  },
  {
   "cell_type": "code",
   "execution_count": 7,
   "metadata": {},
   "outputs": [
    {
     "data": {
      "text/plain": [
       "torch.Size([64, 1, 64, 64])"
      ]
     },
     "execution_count": 7,
     "metadata": {},
     "output_type": "execute_result"
    }
   ],
   "source": [
    "out_amp.shape"
   ]
  },
  {
   "cell_type": "code",
   "execution_count": 8,
   "metadata": {},
   "outputs": [
    {
     "data": {
      "text/plain": [
       "<matplotlib.colorbar.Colorbar at 0x7fefe2d52740>"
      ]
     },
     "execution_count": 8,
     "metadata": {},
     "output_type": "execute_result"
    },
    {
     "data": {
      "image/png": "[encoded data removed]",
      "text/plain": [
       "<Figure size 640x480 with 2 Axes>"
      ]
     },
     "metadata": {},
     "output_type": "display_data"
    }
   ],
   "source": [
    "plt.imshow(out_amp[0,0,:,:].detach().numpy())\n",
    "plt.colorbar()"
   ]
  },
  {
   "cell_type": "markdown",
   "metadata": {},
   "source": [
    "# Modifying Oliver's Dataset\n",
    "\n",
    "We're going to create an artifical dataset from \"lines_no_overlap.npz\". \n",
    "\n",
    "We technically only need X (diffraction stack) and probe (probe). The other fields that are typically in the dataset (such as xcoords, ycoords) do not need to be populated as they start empty after initialization. We have modified dataset.py to only load these fields if object.big = True"
   ]
  },
  {
   "cell_type": "code",
   "execution_count": 16,
   "metadata": {},
   "outputs": [
    {
     "data": {
      "text/plain": [
       "['X',\n",
       " 'Y_I',\n",
       " 'Y_phi',\n",
       " 'norm_Y_I',\n",
       " 'YY_full',\n",
       " 'coords_nominal',\n",
       " 'coords_true',\n",
       " 'nn_indices',\n",
       " 'global_offsets',\n",
       " 'local_offsets',\n",
       " 'probe']"
      ]
     },
     "execution_count": 16,
     "metadata": {},
     "output_type": "execute_result"
    }
   ],
   "source": [
    "test = np.load('ptycho_torch/datasets/lines_no_overlap.npz')\n",
    "test.files"
   ]
  },
  {
   "cell_type": "code",
   "execution_count": null,
   "metadata": {},
   "outputs": [
    {
     "data": {
      "text/plain": [
       "array([0.       , 0.6142169, 1.2284338, 1.8426509, 2.4568677, 3.0710847,\n",
       "       3.6853018, 4.2995186, 4.9137354, 5.5279527, 6.1421695],\n",
       "      dtype=float32)"
      ]
     },
     "execution_count": 21,
     "metadata": {},
     "output_type": "execute_result"
    }
   ],
   "source": [
    "#Histogram the values in test['X'][:100]\n",
    "\n",
    "c, b = np.histogram(test['X'][:100])\n"
   ]
  },
  {
   "cell_type": "code",
   "execution_count": null,
   "metadata": {},
   "outputs": [
    {
     "data": {
      "text/plain": [
       "(array([3628,   28,   40,    8,   16,   24,   20,   16,   24,  292]),\n",
       " array([1.0893617e-09, 1.0893617e-01, 2.1787234e-01, 3.2680851e-01,\n",
       "        4.3574467e-01, 5.4468083e-01, 6.5361702e-01, 7.6255316e-01,\n",
       "        8.7148935e-01, 9.8042548e-01, 1.0893617e+00], dtype=float32))"
      ]
     },
     "execution_count": 20,
     "metadata": {},
     "output_type": "execute_result"
    }
   ],
   "source": [
    "c_p, b_p = np.histogram(np.abs(test['probe']))"
   ]
  },
  {
   "cell_type": "markdown",
   "metadata": {},
   "source": [
    "Originally, the shape of the diffraction images is channel last, so we need to transpose it to the second dimension.\n",
    "\n",
    "Also, the probe has a dummy empty third dimension, so we squeeze to remove it"
   ]
  },
  {
   "cell_type": "code",
   "execution_count": null,
   "metadata": {},
   "outputs": [],
   "source": [
    "np.savez('ptycho_torch/datasets/lines_no_overlap_diff/lines_modified.npz',\n",
    "        diff3d = test['X'].squeeze())\n",
    "\n",
    "np.savez('ptycho_torch/datasets/probes_lines/probe1.npz',\n",
    "        probe = test['probe'].squeeze())"
   ]
  },
  {
   "cell_type": "markdown",
   "metadata": {},
   "source": [
    "# Constructing the dataset/dataloaders\n",
    "\n",
    "The datasets in question are located as follows:\n",
    "\n",
    "1. Diffraction stack: ptycho_torch/datasets/lines_no_overlap_diff\n",
    "2. Probe: ptycho_torch/datasets/probes_lines"
   ]
  },
  {
   "cell_type": "code",
   "execution_count": 3,
   "metadata": {},
   "outputs": [],
   "source": [
    "from ptycho_torch.dset_loader_pt_mmap import TensorDictDataLoader"
   ]
  },
  {
   "cell_type": "code",
   "execution_count": 4,
   "metadata": {},
   "outputs": [
    {
     "name": "stdout",
     "output_type": "stream",
     "text": [
      "['probe1.npz']\n",
      "Creating memory mapped tensor dictionary...\n",
      "Memory map length: 13778\n",
      "Memory map creation time: 0.008576154708862305\n",
      "Populating memory map for dataset 0\n",
      "Non-diffraction memory map write time: 0.004967212677001953\n",
      "Diffraction memory map write time: 4.55443811416626\n"
     ]
    }
   ],
   "source": [
    "test_dset = PtychoDataset('ptycho_torch/datasets/lines_no_overlap_diff',\n",
    "                          'ptycho_torch/datasets/probes_lines',\n",
    "                          remake_map = True)"
   ]
  },
  {
   "cell_type": "code",
   "execution_count": 5,
   "metadata": {},
   "outputs": [],
   "source": [
    "testloader = TensorDictDataLoader(test_dset, batch_size = 64)"
   ]
  },
  {
   "cell_type": "code",
   "execution_count": 6,
   "metadata": {},
   "outputs": [],
   "source": [
    "test_iter = next(iter(testloader))"
   ]
  },
  {
   "cell_type": "markdown",
   "metadata": {},
   "source": [
    "# Training\n",
    "\n",
    "Here, we will train the Pytorch Lightning version of the PtychoPINN model, which we import from train.py.\n",
    "\n",
    "The script we have here mirrors the main() script in train.py"
   ]
  },
  {
   "cell_type": "code",
   "execution_count": 14,
   "metadata": {},
   "outputs": [],
   "source": [
    "from ptycho_torch.train import PtychoPINN\n",
    "from ptycho_torch.train import Collate, print_auto_logged_info\n",
    "from ptycho_torch.config_params import ModelConfig, TrainingConfig, DataConfig\n",
    "from ptycho_torch.config_params import data_config_default, model_config_default, training_config_default\n",
    "from ptycho_torch.dset_loader_pt_mmap import TensorDictDataLoader, PtychoDataset"
   ]
  },
  {
   "cell_type": "code",
   "execution_count": 9,
   "metadata": {},
   "outputs": [
    {
     "data": {
      "text/plain": [
       "'/home/av_linux/PtychoPINN'"
      ]
     },
     "execution_count": 9,
     "metadata": {},
     "output_type": "execute_result"
    }
   ],
   "source": [
    "os.getcwd()"
   ]
  },
  {
   "cell_type": "code",
   "execution_count": 12,
   "metadata": {},
   "outputs": [
    {
     "data": {
      "text/plain": [
       "True"
      ]
     },
     "execution_count": 12,
     "metadata": {},
     "output_type": "execute_result"
    }
   ],
   "source": [
    "#Check if directory \"ptycho_torch\" exists\n",
    "os.path.exists(\"ptycho_torch/datasets/lines_no_overlap_diff\")"
   ]
  },
  {
   "cell_type": "code",
   "execution_count": 15,
   "metadata": {},
   "outputs": [
    {
     "name": "stdout",
     "output_type": "stream",
     "text": [
      "Loading configs...\n",
      "Creating dataset...\n",
      "['probe1.npz']\n",
      "Creating memory mapped tensor dictionary...\n",
      "Memory map length: 13778\n",
      "Memory map creation time: 0.0008711814880371094\n",
      "Populating memory map for dataset 0\n",
      "Non-diffraction memory map write time: 0.00017142295837402344\n"
     ]
    },
    {
     "name": "stderr",
     "output_type": "stream",
     "text": [
      "INFO:pytorch_lightning.utilities.rank_zero:GPU available: True (cuda), used: True\n",
      "INFO:pytorch_lightning.utilities.rank_zero:TPU available: False, using: 0 TPU cores\n",
      "INFO:pytorch_lightning.utilities.rank_zero:HPU available: False, using: 0 HPUs\n",
      "2024/11/07 13:27:47 INFO mlflow.tracking.fluent: Experiment with name 'PtychoPINN vanilla' does not exist. Creating a new experiment.\n",
      "2024/11/07 13:27:47 WARNING mlflow.utils.autologging_utils: You are using an unsupported version of pytorch. If you encounter errors during autologging, try upgrading / downgrading pytorch to a supported version, or try upgrading MLflow.\n"
     ]
    },
    {
     "name": "stdout",
     "output_type": "stream",
     "text": [
      "Diffraction memory map write time: 2.0429317951202393\n",
      "Creating dataloader...\n",
      "Creating model...\n"
     ]
    },
    {
     "name": "stderr",
     "output_type": "stream",
     "text": [
      "2024-11-07 13:27:48.417437: E external/local_xla/xla/stream_executor/cuda/cuda_dnn.cc:9261] Unable to register cuDNN factory: Attempting to register factory for plugin cuDNN when one has already been registered\n",
      "2024-11-07 13:27:48.417504: E external/local_xla/xla/stream_executor/cuda/cuda_fft.cc:607] Unable to register cuFFT factory: Attempting to register factory for plugin cuFFT when one has already been registered\n",
      "2024-11-07 13:27:48.455043: E external/local_xla/xla/stream_executor/cuda/cuda_blas.cc:1515] Unable to register cuBLAS factory: Attempting to register factory for plugin cuBLAS when one has already been registered\n",
      "2024-11-07 13:27:48.548747: I tensorflow/core/platform/cpu_feature_guard.cc:182] This TensorFlow binary is optimized to use available CPU instructions in performance-critical operations.\n",
      "To enable the following instructions: AVX2 FMA, in other operations, rebuild TensorFlow with the appropriate compiler flags.\n",
      "2024-11-07 13:27:49.658786: W tensorflow/compiler/tf2tensorrt/utils/py_utils.cc:38] TF-TRT Warning: Could not find TensorRT\n",
      "2024/11/07 13:27:50 WARNING mlflow.utils.autologging_utils: MLflow autologging encountered a warning: \"/root/miniconda3/envs/ptychopinn_ptychodus_pytorch/lib/python3.10/site-packages/mlflow/pytorch/_lightning_autolog.py:463: UserWarning: Autologging is known to be compatible with pytorch-lightning versions between 1.9.0 and 2.3.3 and may not succeed with packages outside this range.\"\n"
     ]
    },
    {
     "name": "stdout",
     "output_type": "stream",
     "text": [
      "Training model...\n"
     ]
    },
    {
     "name": "stderr",
     "output_type": "stream",
     "text": [
      "INFO:pytorch_lightning.utilities.rank_zero:You are using a CUDA device ('NVIDIA GeForce RTX 3080') that has Tensor Cores. To properly utilize them, you should set `torch.set_float32_matmul_precision('medium' | 'high')` which will trade-off precision for performance. For more details, read https://pytorch.org/docs/stable/generated/torch.set_float32_matmul_precision.html#torch.set_float32_matmul_precision\n",
      "LOCAL_RANK: 0 - CUDA_VISIBLE_DEVICES: [0]\n",
      "\n",
      "  | Name            | Type           | Params | Mode \n",
      "-----------------------------------------------------------\n",
      "0 | autoencoder     | Autoencoder    | 2.3 M  | train\n",
      "1 | combine_complex | CombineComplex | 0      | train\n",
      "2 | forward_model   | ForwardModel   | 0      | train\n",
      "3 | Loss            | MAELoss        | 0      | train\n",
      "-----------------------------------------------------------\n",
      "2.3 M     Trainable params\n",
      "0         Non-trainable params\n",
      "2.3 M     Total params\n",
      "9.313     Total estimated model params size (MB)\n",
      "64        Modules in train mode\n",
      "0         Modules in eval mode\n"
     ]
    },
    {
     "data": {
      "application/vnd.jupyter.widget-view+json": {
       "model_id": "6303e50ed4fe4d94b210e9cc79a16df5",
       "version_major": 2,
       "version_minor": 0
      },
      "text/plain": [
       "Training: |          | 0/? [00:00<?, ?it/s]"
      ]
     },
     "metadata": {},
     "output_type": "display_data"
    },
    {
     "name": "stderr",
     "output_type": "stream",
     "text": [
      "INFO:pytorch_lightning.utilities.rank_zero:`Trainer.fit` stopped: `max_epochs=20` reached.\n",
      "2024/11/07 13:30:07 WARNING mlflow.utils.autologging_utils: MLflow autologging encountered a warning: \"/root/miniconda3/envs/ptychopinn_ptychodus_pytorch/lib/python3.10/site-packages/_distutils_hack/__init__.py:26: UserWarning: Setuptools is replacing distutils.\"\n",
      "2024/11/07 13:30:07 WARNING mlflow.models.model: Input example should be provided to infer model signature if the model signature is not provided when logging the model.\n"
     ]
    },
    {
     "name": "stdout",
     "output_type": "stream",
     "text": [
      "run_id: 97e051af86884749ab939f884e7cee46\n",
      "artifacts: ['model/MLmodel', 'model/conda.yaml', 'model/data', 'model/python_env.yaml', 'model/requirements.txt']\n",
      "params: {'capturable': 'False', 'fused': 'None', 'maximize': 'False', 'differentiable': 'False', 'weight_decay': '0', 'foreach': 'None', 'lr': '0.002', 'eps': '1e-08', 'optimizer_name': 'Adam', 'epochs': '20', 'amsgrad': 'False', 'betas': '(0.9, 0.999)'}\n",
      "metrics: {'mae_train_loss_step': 570.7440185546875, 'mae_train_loss_epoch': 2156.2275390625, 'mae_train_loss': 2156.2275390625}\n",
      "tags: {'Mode': 'training'}\n"
     ]
    }
   ],
   "source": [
    "#Define directory paths\n",
    "#All experiment npz files are separate files in the ptycho_dir\n",
    "#All probe npz files are separate files in the probe_dir\n",
    "ptycho_dir = 'ptycho_torch/datasets/lines_no_overlap_diff'\n",
    "probe_dir = 'ptycho_torch/datasets/probes_lines'\n",
    "\n",
    "#Define configs\n",
    "print('Loading configs...')\n",
    "modelconfig = ModelConfig()\n",
    "trainingconfig = TrainingConfig()\n",
    "dataconfig = DataConfig()\n",
    "\n",
    "#Set configs\n",
    "modelconfig.set_settings(model_config_default)\n",
    "trainingconfig.set_settings(training_config_default)\n",
    "dataconfig.set_settings(data_config_default)\n",
    "\n",
    "#Modify specific settings here\n",
    "#We're changing the default image size to 64, removing normalization, and removing overlap condition\n",
    "dataconfig.add('N', 64)\n",
    "dataconfig.add('normalize', False)\n",
    "\n",
    "modelconfig.add('object.big', False)\n",
    "modelconfig.add('probe.big', False)\n",
    "\n",
    "\n",
    "#Creating dataset\n",
    "print('Creating dataset...')\n",
    "ptycho_dataset = PtychoDataset(ptycho_dir, probe_dir, remake_map=True)\n",
    "\n",
    "#Dataloader\n",
    "print('Creating dataloader...')\n",
    "train_loader = TensorDictDataLoader(ptycho_dataset, batch_size = 64,\n",
    "                                    collate_fn = Collate(device = TrainingConfig().get('device')))\n",
    "\n",
    "#Create model\n",
    "print('Creating model...')\n",
    "model = PtychoPINN()\n",
    "model.training = True\n",
    "\n",
    "#Create trainer\n",
    "trainer = L.Trainer(max_epochs = 20,\n",
    "                    default_root_dir = os.path.dirname(os.getcwd()),\n",
    "                    devices = 'auto',\n",
    "                    accelerator = 'gpu',\n",
    "                    gradient_clip_val = 10,\n",
    "                    accumulate_grad_batches=5)\n",
    "\n",
    "#Mlflow setup\n",
    "# mlflow.set_tracking_uri(\"\")\n",
    "mlflow.set_experiment(\"PtychoPINN vanilla\")\n",
    "\n",
    "mlflow.pytorch.autolog(checkpoint_monitor = \"mae_train_loss\")\n",
    "\n",
    "#Train the model\n",
    "with mlflow.start_run() as run:\n",
    "    print('Training model...')\n",
    "    trainer.fit(model, train_loader)\n",
    "\n",
    "print_auto_logged_info(mlflow.get_run(run_id = run.info.run_id))"
   ]
  },
  {
   "cell_type": "markdown",
   "metadata": {},
   "source": [
    "# Evaluating model afterwards\n",
    "\n",
    "Here we'll import the model based on run-id and see the quality of some reconstructions"
   ]
  },
  {
   "cell_type": "code",
   "execution_count": 7,
   "metadata": {},
   "outputs": [],
   "source": [
    "run_id = '0ed50ade69d0402abe19054c922cf3fb'\n",
    "loaded_model = mlflow.pytorch.load_model(f\"ptycho_torch/mlruns/677144611495216527/{run_id}/artifacts/model\")"
   ]
  },
  {
   "cell_type": "code",
   "execution_count": 8,
   "metadata": {},
   "outputs": [
    {
     "data": {
      "text/plain": [
       "PtychoPINN(\n",
       "  (autoencoder): Autoencoder(\n",
       "    (encoder): Encoder(\n",
       "      (blocks): ModuleList(\n",
       "        (0): ConvPoolBlock(\n",
       "          (conv1): Conv2d(1, 64, kernel_size=(3, 3), stride=(1, 1), padding=(1, 1))\n",
       "          (conv2): Conv2d(64, 64, kernel_size=(3, 3), stride=(1, 1), padding=(1, 1))\n",
       "          (pool): MaxPool2d(kernel_size=(2, 2), stride=(2, 2), padding=0, dilation=1, ceil_mode=False)\n",
       "        )\n",
       "        (1): ConvPoolBlock(\n",
       "          (conv1): Conv2d(64, 128, kernel_size=(3, 3), stride=(1, 1), padding=(1, 1))\n",
       "          (conv2): Conv2d(128, 128, kernel_size=(3, 3), stride=(1, 1), padding=(1, 1))\n",
       "          (pool): MaxPool2d(kernel_size=(2, 2), stride=(2, 2), padding=0, dilation=1, ceil_mode=False)\n",
       "        )\n",
       "        (2): ConvPoolBlock(\n",
       "          (conv1): Conv2d(128, 256, kernel_size=(3, 3), stride=(1, 1), padding=(1, 1))\n",
       "          (conv2): Conv2d(256, 256, kernel_size=(3, 3), stride=(1, 1), padding=(1, 1))\n",
       "          (pool): MaxPool2d(kernel_size=(2, 2), stride=(2, 2), padding=0, dilation=1, ceil_mode=False)\n",
       "        )\n",
       "      )\n",
       "    )\n",
       "    (decoder_amp): Decoder_amp(\n",
       "      (blocks): ModuleList(\n",
       "        (0): ConvUpBlock(\n",
       "          (conv1): Conv2d(256, 128, kernel_size=(3, 3), stride=(1, 1), padding=(1, 1))\n",
       "          (conv2): Conv2d(128, 128, kernel_size=(3, 3), stride=(1, 1), padding=(1, 1))\n",
       "          (up): Upsample(scale_factor=(2.0, 2.0), mode='nearest')\n",
       "        )\n",
       "        (1): ConvUpBlock(\n",
       "          (conv1): Conv2d(128, 64, kernel_size=(3, 3), stride=(1, 1), padding=(1, 1))\n",
       "          (conv2): Conv2d(64, 64, kernel_size=(3, 3), stride=(1, 1), padding=(1, 1))\n",
       "          (up): Upsample(scale_factor=(2.0, 2.0), mode='nearest')\n",
       "        )\n",
       "      )\n",
       "      (amp_activation): Tanh_custom_act()\n",
       "      (amp): Decoder_last(\n",
       "        (conv1): Conv2d(63, 1, kernel_size=(3, 3), stride=(1, 1), padding=(1, 1))\n",
       "        (conv_up_block): ConvUpBlock(\n",
       "          (conv1): Conv2d(1, 64, kernel_size=(3, 3), stride=(1, 1), padding=(1, 1))\n",
       "          (conv2): Conv2d(64, 64, kernel_size=(3, 3), stride=(1, 1), padding=(1, 1))\n",
       "          (up): Upsample(scale_factor=(2.0, 2.0), mode='nearest')\n",
       "        )\n",
       "        (conv2): Conv2d(64, 1, kernel_size=(3, 3), stride=(1, 1), padding=(1, 1))\n",
       "        (activation): Tanh_custom_act()\n",
       "        (padding): ConstantPad2d(padding=(16, 16, 16, 16), value=0)\n",
       "      )\n",
       "    )\n",
       "    (decoder_phase): Decoder_phase(\n",
       "      (blocks): ModuleList(\n",
       "        (0): ConvUpBlock(\n",
       "          (conv1): Conv2d(256, 128, kernel_size=(3, 3), stride=(1, 1), padding=(1, 1))\n",
       "          (conv2): Conv2d(128, 128, kernel_size=(3, 3), stride=(1, 1), padding=(1, 1))\n",
       "          (up): Upsample(scale_factor=(2.0, 2.0), mode='nearest')\n",
       "        )\n",
       "        (1): ConvUpBlock(\n",
       "          (conv1): Conv2d(128, 64, kernel_size=(3, 3), stride=(1, 1), padding=(1, 1))\n",
       "          (conv2): Conv2d(64, 64, kernel_size=(3, 3), stride=(1, 1), padding=(1, 1))\n",
       "          (up): Upsample(scale_factor=(2.0, 2.0), mode='nearest')\n",
       "        )\n",
       "      )\n",
       "      (phase_activation): Tanh_custom_act()\n",
       "      (phase): Decoder_last(\n",
       "        (conv1): Conv2d(63, 1, kernel_size=(3, 3), stride=(1, 1), padding=(1, 1))\n",
       "        (conv_up_block): ConvUpBlock(\n",
       "          (conv1): Conv2d(1, 64, kernel_size=(3, 3), stride=(1, 1), padding=(1, 1))\n",
       "          (conv2): Conv2d(64, 64, kernel_size=(3, 3), stride=(1, 1), padding=(1, 1))\n",
       "          (up): Upsample(scale_factor=(2.0, 2.0), mode='nearest')\n",
       "        )\n",
       "        (conv2): Conv2d(64, 1, kernel_size=(3, 3), stride=(1, 1), padding=(1, 1))\n",
       "        (activation): Tanh_custom_act()\n",
       "        (padding): ConstantPad2d(padding=(16, 16, 16, 16), value=0)\n",
       "      )\n",
       "    )\n",
       "  )\n",
       "  (combine_complex): CombineComplex()\n",
       "  (forward_model): ForwardModel(\n",
       "    (reassemble_patches): LambdaLayer()\n",
       "    (pad_patches): LambdaLayer()\n",
       "    (trim_reconstruction): LambdaLayer()\n",
       "    (extract_patches): LambdaLayer()\n",
       "    (probe_illumination): ProbeIllumination()\n",
       "    (pad_and_diffract): LambdaLayer()\n",
       "  )\n",
       "  (Loss): MAELoss(\n",
       "    (mae): L1Loss()\n",
       "  )\n",
       ")"
      ]
     },
     "execution_count": 8,
     "metadata": {},
     "output_type": "execute_result"
    }
   ],
   "source": [
    "diff = test_iter[0]['images'].to('cuda')\n",
    "positions = test_iter[0]['coords_relative'].to('cuda')\n",
    "probe = test_iter[1].to('cuda')\n",
    "scaling = test_iter[2].to('cuda')\n",
    "\n",
    "loaded_model.to('cuda')"
   ]
  },
  {
   "cell_type": "code",
   "execution_count": 32,
   "metadata": {},
   "outputs": [
    {
     "data": {
      "text/plain": [
       "<matplotlib.colorbar.Colorbar at 0x7f3717787490>"
      ]
     },
     "execution_count": 32,
     "metadata": {},
     "output_type": "execute_result"
    },
    {
     "data": {
      "image/png": "[encoded data removed]",
      "text/plain": [
       "<Figure size 640x480 with 2 Axes>"
      ]
     },
     "metadata": {},
     "output_type": "display_data"
    }
   ],
   "source": [
    "plt.imshow(test_iter[1][0][0].abs())\n",
    "plt.colorbar()"
   ]
  },
  {
   "cell_type": "code",
   "execution_count": 9,
   "metadata": {},
   "outputs": [],
   "source": [
    "#Use the test_iter from above\n",
    "# loaded_model.eval()\n",
    "# loaded_model.predict = False\n",
    "# loaded_model.training = True\n",
    "\n",
    "with torch.no_grad():\n",
    "    #Prediction of diffraction pattern from input diffraction pattern\n",
    "    test_pred = loaded_model(diff, positions, probe, scaling)\n",
    "    #Prediction of object function from input diffraction pattern\n",
    "    forward_pred = loaded_model.forward_predict(diff, positions, probe, scaling)"
   ]
  },
  {
   "cell_type": "code",
   "execution_count": 10,
   "metadata": {},
   "outputs": [],
   "source": [
    "test_pred_cpu = test_pred.to('cpu')\n",
    "test_pred_cpu = test_pred_cpu ** 2\n",
    "\n",
    "test_pred_cpu.device, test_pred_cpu.dtype\n",
    "\n",
    "forward_pred = forward_pred.to('cpu')"
   ]
  },
  {
   "cell_type": "code",
   "execution_count": 11,
   "metadata": {},
   "outputs": [],
   "source": [
    "lines_no = np.load('ptycho_torch/datasets/lines_no_overlap.npz')"
   ]
  },
  {
   "cell_type": "code",
   "execution_count": 12,
   "metadata": {},
   "outputs": [],
   "source": [
    "true_I = lines_no['Y_I']\n",
    "true_phi = lines_no['Y_phi']"
   ]
  },
  {
   "cell_type": "code",
   "execution_count": 18,
   "metadata": {},
   "outputs": [
    {
     "data": {
      "text/plain": [
       "torch.Size([1, 64, 64])"
      ]
     },
     "execution_count": 18,
     "metadata": {},
     "output_type": "execute_result"
    }
   ],
   "source": [
    "test_iter[1][0].shape"
   ]
  },
  {
   "cell_type": "code",
   "execution_count": 29,
   "metadata": {},
   "outputs": [
    {
     "data": {
      "text/plain": [
       "<matplotlib.colorbar.Colorbar at 0x7f371c1cbc70>"
      ]
     },
     "execution_count": 29,
     "metadata": {},
     "output_type": "execute_result"
    },
    {
     "data": {
      "image/png": "[encoded data removed]",
      "text/plain": [
       "<Figure size 1000x1000 with 8 Axes>"
      ]
     },
     "metadata": {},
     "output_type": "display_data"
    }
   ],
   "source": [
    "i = 0\n",
    "fig, axs = plt.subplots(1, 4, figsize=(10,10))\n",
    "#Predicted Diffraction\n",
    "im0 = axs[0].imshow(true_I[i].squeeze())\n",
    "axs[0].set_title('GT Object I')\n",
    "fig.colorbar(im0, ax = axs[0], shrink = 0.3)\n",
    "#Object function * probe function to remove dud edges\n",
    "im1 = axs[1].imshow(forward_pred[i,0].abs() * test_iter[1][0][0].abs())\n",
    "axs[1].set_title('Pred Object Amp')\n",
    "fig.colorbar(im1, ax = axs[1], shrink = 0.3)\n",
    "im1.set_clim(vmin=0, vmax = 1)\n",
    "#Ground Truth Diffraction\n",
    "im2 = axs[2].imshow(true_phi[i].squeeze())\n",
    "axs[2].set_title('GT Object Phi')\n",
    "fig.colorbar(im2, ax = axs[2], shrink = 0.3)\n",
    "#Probe\n",
    "im3 = axs[3].imshow(forward_pred[i,0].angle() * test_iter[1][0][0].abs())\n",
    "axs[3].set_title('Pred Object Phi')\n",
    "fig.colorbar(im3, ax = axs[3], shrink = 0.3)"
   ]
  },
  {
   "cell_type": "markdown",
   "metadata": {},
   "source": [
    "Going to double check whether or not the forward model is working as intended..."
   ]
  },
  {
   "cell_type": "code",
   "execution_count": 20,
   "metadata": {},
   "outputs": [
    {
     "data": {
      "text/plain": [
       "<matplotlib.colorbar.Colorbar at 0x7f371d182560>"
      ]
     },
     "execution_count": 20,
     "metadata": {},
     "output_type": "execute_result"
    },
    {
     "data": {
      "image/png": "[encoded data removed]",
      "text/plain": [
       "<Figure size 1000x1000 with 4 Axes>"
      ]
     },
     "metadata": {},
     "output_type": "display_data"
    }
   ],
   "source": [
    "i = 5\n",
    "fig, axs = plt.subplots(1, 2, figsize=(10,10))\n",
    "#Predicted Diffraction\n",
    "im0 = axs[0].imshow(test_pred_cpu[i,0].abs())\n",
    "axs[0].set_title('Predicted diffraction pattern')\n",
    "fig.colorbar(im0, ax = axs[0], shrink = 0.3)\n",
    "#Measured diffraction (input data)\n",
    "im1 = axs[1].imshow(diff[i,0].to('cpu').abs())\n",
    "axs[1].set_title('Measured diffraction (input data)')\n",
    "fig.colorbar(im1, ax = axs[1], shrink = 0.3)"
   ]
  },
  {
   "cell_type": "code",
   "execution_count": 21,
   "metadata": {},
   "outputs": [
    {
     "data": {
      "text/plain": [
       "<matplotlib.colorbar.Colorbar at 0x7f371d0839a0>"
      ]
     },
     "execution_count": 21,
     "metadata": {},
     "output_type": "execute_result"
    },
    {
     "data": {
      "image/png": "[encoded data removed]",
      "text/plain": [
       "<Figure size 640x480 with 2 Axes>"
      ]
     },
     "metadata": {},
     "output_type": "display_data"
    }
   ],
   "source": [
    "im = plt.imshow(probe[0].to('cpu').squeeze().abs())\n",
    "plt.colorbar(im, shrink = 0.5)"
   ]
  },
  {
   "cell_type": "code",
   "execution_count": 22,
   "metadata": {},
   "outputs": [
    {
     "data": {
      "text/plain": [
       "torch.Size([13778, 1, 64, 64])"
      ]
     },
     "execution_count": 22,
     "metadata": {},
     "output_type": "execute_result"
    }
   ],
   "source": [
    "true_I_torch = torch.from_numpy(true_I)\n",
    "true_I_torch = true_I_torch.permute(0,3,1,2)\n",
    "\n",
    "true_I_torch = true_I_torch.to('cuda')\n",
    "true_I_torch.shape"
   ]
  },
  {
   "cell_type": "code",
   "execution_count": 23,
   "metadata": {},
   "outputs": [],
   "source": [
    "#convert true_I to torch tensor\n",
    "\n",
    "fw_model = loaded_model.forward_model\n",
    "\n",
    "fw_diff = fw_model(true_I_torch[:64], positions, probe * 2/3, scaling)"
   ]
  },
  {
   "cell_type": "code",
   "execution_count": 24,
   "metadata": {},
   "outputs": [],
   "source": [
    "fw_diff_cpu = fw_diff.to('cpu')"
   ]
  },
  {
   "cell_type": "code",
   "execution_count": 26,
   "metadata": {},
   "outputs": [
    {
     "data": {
      "text/plain": [
       "<matplotlib.colorbar.Colorbar at 0x7f371d00b190>"
      ]
     },
     "execution_count": 26,
     "metadata": {},
     "output_type": "execute_result"
    },
    {
     "data": {
      "image/png": "[encoded data removed]",
      "text/plain": [
       "<Figure size 640x480 with 2 Axes>"
      ]
     },
     "metadata": {},
     "output_type": "display_data"
    }
   ],
   "source": [
    "i = 1\n",
    "im = plt.imshow(fw_diff_cpu[i,0].abs())\n",
    "plt.colorbar(im, shrink = 0.5)"
   ]
  },
  {
   "cell_type": "code",
   "execution_count": null,
   "metadata": {},
   "outputs": [],
   "source": []
  }
 ],
 "metadata": {
  "kernelspec": {
   "display_name": "ptychopinn_ptychodus_pytorch",
   "language": "python",
   "name": "python3"
  },
  "language_info": {
   "codemirror_mode": {
    "name": "ipython",
    "version": 3
   },
   "file_extension": ".py",
   "mimetype": "text/x-python",
   "name": "python",
   "nbconvert_exporter": "python",
   "pygments_lexer": "ipython3",
   "version": "3.10.14"
  }
 },
 "nbformat": 4,
 "nbformat_minor": 2
}
