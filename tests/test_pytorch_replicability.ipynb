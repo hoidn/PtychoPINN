{
 "cells": [
  {
   "cell_type": "markdown",
   "metadata": {},
   "source": [
    "# Introduction\n",
    "\n",
    "This notebook serves to replicate Oliver's results with his tensorflow model on a dataset with zero overlap conditions. We'll be testing the simplified version of the model where there are zero overlaps."
   ]
  },
  {
   "cell_type": "code",
   "execution_count": 1,
   "metadata": {},
   "outputs": [
    {
     "name": "stderr",
     "output_type": "stream",
     "text": [
      "/root/miniconda3/envs/ptychopinn_ptychodus_pytorch/lib/python3.10/site-packages/scipy/__init__.py:146: UserWarning: A NumPy version >=1.17.3 and <1.25.0 is required for this version of SciPy (detected version 1.26.4\n",
      "  warnings.warn(f\"A NumPy version >={np_minversion} and <{np_maxversion}\"\n"
     ]
    }
   ],
   "source": [
    "import os\n",
    "\n",
    "#Change working directory to /Users/albertvong/Documents/Argonne/PtychoPINN/\n",
    "os.chdir('/home/av_linux/PtychoPINN')\n",
    "import numpy as np\n",
    "import importlib\n",
    "\n",
    "import torch\n",
    "from torch import nn\n",
    "from torch.nn import functional as F\n",
    "from torch.utils.data import DataLoader, Subset\n",
    "from tensordict import TensorDict, TensorDictBase\n",
    "\n",
    "import lightning as L\n",
    "import mlflow.pytorch\n",
    "from mlflow import MlflowClient\n",
    "\n",
    "from ptycho_torch.dset_loader_pt_mmap import PtychoDataset\n",
    "from ptycho_torch.model import PtychoPINN\n",
    "import ptycho_torch.helper as hh\n",
    "\n",
    "import matplotlib.pyplot as plt\n",
    "\n"
   ]
  },
  {
   "cell_type": "markdown",
   "metadata": {},
   "source": [
    "We're going to try MAE loss first just to take the Poisson scaling out of the equation."
   ]
  },
  {
   "cell_type": "code",
   "execution_count": 2,
   "metadata": {},
   "outputs": [],
   "source": [
    "from ptycho_torch.config_params import TrainingConfig, DataConfig, ModelConfig\n",
    "\n",
    "data_config_default = {\n",
    "    'nphotons': 1e5,\n",
    "    'N': 64,\n",
    "    'C': 4,\n",
    "    'K': 6,\n",
    "    'n_subsample': 10,\n",
    "    'grid_size': (2,2),\n",
    "    'probe_dir_get': True,\n",
    "    'normalize': False\n",
    "}\n",
    "\n",
    "\n",
    "model_config_default = {\n",
    "    'intensity_scale_trainable': True,\n",
    "    'max_position_jitter': 10, #Random jitter for translation (helps make model more robust)\n",
    "    'n_filters_scale': 2, #Shrinking factor for channels\n",
    "    'intensity_scale': 10000.0, #General intensity scale guess, this can be trainable. Needs to be float\n",
    "    'object.big': False, #True if need patch reassembly\n",
    "    'probe.big': False, #True if need patch reassembly\n",
    "    'offset': 4,\n",
    "    'loss_function': 'MAE'\n",
    "}\n",
    "\n",
    "training_config_default = {\n",
    "    'nll': True, #Negative log likelihood for loss function\n",
    "    'device': 'cuda'\n",
    "}\n",
    "\n",
    "t_config, d_config, m_config = TrainingConfig(), DataConfig(), ModelConfig()\n",
    "\n",
    "t_config.set_settings(training_config_default)\n",
    "d_config.set_settings(data_config_default)\n",
    "m_config.set_settings(model_config_default)"
   ]
  },
  {
   "cell_type": "markdown",
   "metadata": {},
   "source": [
    "# Modifying Oliver's Dataset\n",
    "\n",
    "We're going to create an artifical dataset from \"lines_no_overlap.npz\". \n",
    "\n",
    "We technically only need X (diffraction stack) and probe (probe), but we'll also get dummy coordinates for the fields xcoords, ycoords, xcoords_start and ycoords_start which are typically required by the dataloader"
   ]
  },
  {
   "cell_type": "code",
   "execution_count": null,
   "metadata": {},
   "outputs": [],
   "source": [
    "test = np.load('ptycho_torch/datasets/lines_no_overlap.npz')\n",
    "test.files"
   ]
  },
  {
   "cell_type": "markdown",
   "metadata": {},
   "source": [
    "Originally, the shape of the diffraction images is channel last, so we need to transpose it to the second dimension.\n",
    "\n",
    "Also, the probe has a dummy empty third dimension, so we squeeze to remove it"
   ]
  },
  {
   "cell_type": "code",
   "execution_count": null,
   "metadata": {},
   "outputs": [],
   "source": [
    "np.savez('ptycho_torch/datasets/lines_no_overlap_diff/lines_modified.npz',\n",
    "        diff3d = test['X'].squeeze())\n",
    "\n",
    "np.savez('ptycho_torch/datasets/probes_lines/probe1.npz',\n",
    "        probe = test['probe'].squeeze())"
   ]
  },
  {
   "cell_type": "markdown",
   "metadata": {},
   "source": [
    "# Constructing the dataset/dataloaders\n",
    "\n",
    "The datasets in question are located as follows:\n",
    "\n",
    "1. Diffraction stack: ptycho_torch/datasets/lines_no_overlap_diff\n",
    "2. Probe: ptycho_torch/datasets/probes_lines"
   ]
  },
  {
   "cell_type": "code",
   "execution_count": 3,
   "metadata": {},
   "outputs": [],
   "source": [
    "from ptycho_torch.dset_loader_pt_mmap import TensorDictDataLoader"
   ]
  },
  {
   "cell_type": "code",
   "execution_count": 4,
   "metadata": {},
   "outputs": [
    {
     "name": "stdout",
     "output_type": "stream",
     "text": [
      "['probe1.npz']\n",
      "Creating memory mapped tensor dictionary...\n",
      "Memory map length: 13778\n",
      "Memory map creation time: 0.00603175163269043\n",
      "Populating memory map for dataset 0\n",
      "Non-diffraction memory map write time: 0.002779245376586914\n",
      "Diffraction memory map write time: 4.02532434463501\n"
     ]
    }
   ],
   "source": [
    "test_dset = PtychoDataset('ptycho_torch/datasets/lines_no_overlap_diff',\n",
    "                          'ptycho_torch/datasets/probes_lines',\n",
    "                          remake_map = True)"
   ]
  },
  {
   "cell_type": "code",
   "execution_count": 5,
   "metadata": {},
   "outputs": [],
   "source": [
    "testloader = TensorDictDataLoader(test_dset, batch_size = 64)"
   ]
  },
  {
   "cell_type": "code",
   "execution_count": 6,
   "metadata": {},
   "outputs": [],
   "source": [
    "test_iter = next(iter(testloader))"
   ]
  },
  {
   "cell_type": "markdown",
   "metadata": {},
   "source": [
    "# Training\n",
    "\n",
    "Here, we just call train.py in the main directory. I'll fix this up in the future so we can call train.py within the notebook."
   ]
  },
  {
   "cell_type": "markdown",
   "metadata": {},
   "source": [
    "# Evaluating model afterwards\n",
    "\n",
    "Here we'll import the model based on run-id and see the quality of some reconstructions"
   ]
  },
  {
   "cell_type": "code",
   "execution_count": 7,
   "metadata": {},
   "outputs": [],
   "source": [
    "run_id = '6ac38aa353974faaa5a6649a2d80a358'\n",
    "loaded_model = mlflow.pytorch.load_model(f\"ptycho_torch/mlruns/677144611495216527/{run_id}/artifacts/model\")"
   ]
  },
  {
   "cell_type": "code",
   "execution_count": 8,
   "metadata": {},
   "outputs": [
    {
     "data": {
      "text/plain": [
       "PtychoPINN(\n",
       "  (autoencoder): Autoencoder(\n",
       "    (encoder): Encoder(\n",
       "      (blocks): ModuleList(\n",
       "        (0): ConvPoolBlock(\n",
       "          (conv1): Conv2d(1, 64, kernel_size=(3, 3), stride=(1, 1), padding=(1, 1))\n",
       "          (conv2): Conv2d(64, 64, kernel_size=(3, 3), stride=(1, 1), padding=(1, 1))\n",
       "          (pool): MaxPool2d(kernel_size=(2, 2), stride=(2, 2), padding=0, dilation=1, ceil_mode=False)\n",
       "        )\n",
       "        (1): ConvPoolBlock(\n",
       "          (conv1): Conv2d(64, 128, kernel_size=(3, 3), stride=(1, 1), padding=(1, 1))\n",
       "          (conv2): Conv2d(128, 128, kernel_size=(3, 3), stride=(1, 1), padding=(1, 1))\n",
       "          (pool): MaxPool2d(kernel_size=(2, 2), stride=(2, 2), padding=0, dilation=1, ceil_mode=False)\n",
       "        )\n",
       "        (2): ConvPoolBlock(\n",
       "          (conv1): Conv2d(128, 256, kernel_size=(3, 3), stride=(1, 1), padding=(1, 1))\n",
       "          (conv2): Conv2d(256, 256, kernel_size=(3, 3), stride=(1, 1), padding=(1, 1))\n",
       "          (pool): MaxPool2d(kernel_size=(2, 2), stride=(2, 2), padding=0, dilation=1, ceil_mode=False)\n",
       "        )\n",
       "      )\n",
       "    )\n",
       "    (decoder_amp): Decoder_amp(\n",
       "      (blocks): ModuleList(\n",
       "        (0): ConvUpBlock(\n",
       "          (conv1): Conv2d(256, 128, kernel_size=(3, 3), stride=(1, 1), padding=(1, 1))\n",
       "          (conv2): Conv2d(128, 128, kernel_size=(3, 3), stride=(1, 1), padding=(1, 1))\n",
       "          (up): Upsample(scale_factor=(2.0, 2.0), mode='nearest')\n",
       "        )\n",
       "        (1): ConvUpBlock(\n",
       "          (conv1): Conv2d(128, 64, kernel_size=(3, 3), stride=(1, 1), padding=(1, 1))\n",
       "          (conv2): Conv2d(64, 64, kernel_size=(3, 3), stride=(1, 1), padding=(1, 1))\n",
       "          (up): Upsample(scale_factor=(2.0, 2.0), mode='nearest')\n",
       "        )\n",
       "      )\n",
       "      (amp_activation): Tanh_custom_act()\n",
       "      (amp): Decoder_last(\n",
       "        (conv1): Conv2d(63, 1, kernel_size=(3, 3), stride=(1, 1), padding=(1, 1))\n",
       "        (conv_up_block): ConvUpBlock(\n",
       "          (conv1): Conv2d(1, 64, kernel_size=(3, 3), stride=(1, 1), padding=(1, 1))\n",
       "          (conv2): Conv2d(64, 64, kernel_size=(3, 3), stride=(1, 1), padding=(1, 1))\n",
       "          (up): Upsample(scale_factor=(2.0, 2.0), mode='nearest')\n",
       "        )\n",
       "        (conv2): Conv2d(64, 1, kernel_size=(3, 3), stride=(1, 1), padding=(1, 1))\n",
       "        (activation): Tanh_custom_act()\n",
       "        (padding): ConstantPad2d(padding=(16, 16, 16, 16), value=0)\n",
       "      )\n",
       "    )\n",
       "    (decoder_phase): Decoder_phase(\n",
       "      (blocks): ModuleList(\n",
       "        (0): ConvUpBlock(\n",
       "          (conv1): Conv2d(256, 128, kernel_size=(3, 3), stride=(1, 1), padding=(1, 1))\n",
       "          (conv2): Conv2d(128, 128, kernel_size=(3, 3), stride=(1, 1), padding=(1, 1))\n",
       "          (up): Upsample(scale_factor=(2.0, 2.0), mode='nearest')\n",
       "        )\n",
       "        (1): ConvUpBlock(\n",
       "          (conv1): Conv2d(128, 64, kernel_size=(3, 3), stride=(1, 1), padding=(1, 1))\n",
       "          (conv2): Conv2d(64, 64, kernel_size=(3, 3), stride=(1, 1), padding=(1, 1))\n",
       "          (up): Upsample(scale_factor=(2.0, 2.0), mode='nearest')\n",
       "        )\n",
       "      )\n",
       "      (phase_activation): Tanh_custom_act()\n",
       "      (phase): Decoder_last(\n",
       "        (conv1): Conv2d(63, 1, kernel_size=(3, 3), stride=(1, 1), padding=(1, 1))\n",
       "        (conv_up_block): ConvUpBlock(\n",
       "          (conv1): Conv2d(1, 64, kernel_size=(3, 3), stride=(1, 1), padding=(1, 1))\n",
       "          (conv2): Conv2d(64, 64, kernel_size=(3, 3), stride=(1, 1), padding=(1, 1))\n",
       "          (up): Upsample(scale_factor=(2.0, 2.0), mode='nearest')\n",
       "        )\n",
       "        (conv2): Conv2d(64, 1, kernel_size=(3, 3), stride=(1, 1), padding=(1, 1))\n",
       "        (activation): Tanh_custom_act()\n",
       "        (padding): ConstantPad2d(padding=(16, 16, 16, 16), value=0)\n",
       "      )\n",
       "    )\n",
       "  )\n",
       "  (combine_complex): CombineComplex()\n",
       "  (forward_model): ForwardModel(\n",
       "    (reassemble_patches): LambdaLayer()\n",
       "    (pad_patches): LambdaLayer()\n",
       "    (trim_reconstruction): LambdaLayer()\n",
       "    (extract_patches): LambdaLayer()\n",
       "    (probe_illumination): ProbeIllumination()\n",
       "    (pad_and_diffract): LambdaLayer()\n",
       "    (inv_scale): LambdaLayer()\n",
       "  )\n",
       "  (Loss): MAELoss(\n",
       "    (mae): L1Loss()\n",
       "  )\n",
       ")"
      ]
     },
     "execution_count": 8,
     "metadata": {},
     "output_type": "execute_result"
    }
   ],
   "source": [
    "diff = test_iter[0]['images'].to('cuda')\n",
    "positions = test_iter[0]['coords_relative'].to('cuda')\n",
    "probe = test_iter[1].to('cuda')\n",
    "scaling = test_iter[2].to('cuda')\n",
    "\n",
    "loaded_model.to('cuda')"
   ]
  },
  {
   "cell_type": "code",
   "execution_count": 9,
   "metadata": {},
   "outputs": [],
   "source": [
    "#Use the test_iter from above\n",
    "loaded_model.eval()\n",
    "loaded_model.training = True\n",
    "\n",
    "with torch.no_grad():\n",
    "    test_pred = loaded_model(diff, positions, probe, scaling)"
   ]
  },
  {
   "cell_type": "code",
   "execution_count": 11,
   "metadata": {},
   "outputs": [
    {
     "data": {
      "text/plain": [
       "torch.Size([64, 1, 64, 64])"
      ]
     },
     "execution_count": 11,
     "metadata": {},
     "output_type": "execute_result"
    }
   ],
   "source": [
    "test_pred.shape"
   ]
  },
  {
   "cell_type": "code",
   "execution_count": 28,
   "metadata": {},
   "outputs": [
    {
     "data": {
      "text/plain": [
       "(device(type='cpu'), torch.complex64)"
      ]
     },
     "execution_count": 28,
     "metadata": {},
     "output_type": "execute_result"
    }
   ],
   "source": [
    "test_pred_cpu = test_pred.to('cpu')\n",
    "test_pred_cpu = test_pred_cpu ** 2\n",
    "\n",
    "test_pred_cpu.device, test_pred_cpu.dtype"
   ]
  },
  {
   "cell_type": "code",
   "execution_count": 29,
   "metadata": {},
   "outputs": [
    {
     "data": {
      "text/plain": [
       "torch.Size([64, 1, 64, 64])"
      ]
     },
     "execution_count": 29,
     "metadata": {},
     "output_type": "execute_result"
    }
   ],
   "source": [
    "test_pred_cpu.shape"
   ]
  },
  {
   "cell_type": "code",
   "execution_count": 30,
   "metadata": {},
   "outputs": [
    {
     "data": {
      "text/plain": [
       "<matplotlib.image.AxesImage at 0x7f46024cf040>"
      ]
     },
     "execution_count": 30,
     "metadata": {},
     "output_type": "execute_result"
    },
    {
     "data": {
      "image/png": "[encoded data removed]",
      "text/plain": [
       "<Figure size 1000x500 with 3 Axes>"
      ]
     },
     "metadata": {},
     "output_type": "display_data"
    }
   ],
   "source": [
    "i = 14\n",
    "fig, axs = plt.subplots(1, 3, figsize=(10,5))\n",
    "\n",
    "axs[0].imshow(test_pred_cpu[i,0].abs())\n",
    "axs[1].imshow(diff.to('cpu')[i,0])\n",
    "axs[2].imshow(probe.to('cpu')[0,0].abs())"
   ]
  },
  {
   "cell_type": "markdown",
   "metadata": {},
   "source": [
    "Going to double check whether or not the forward model is working as intended..."
   ]
  },
  {
   "cell_type": "code",
   "execution_count": 12,
   "metadata": {},
   "outputs": [],
   "source": [
    "with torch.no_grad():\n",
    "    test_pred_obj = loaded_model.forward_predict(diff, positions, probe, scaling)"
   ]
  },
  {
   "cell_type": "code",
   "execution_count": 13,
   "metadata": {},
   "outputs": [
    {
     "data": {
      "text/plain": [
       "(device(type='cpu'), torch.complex64)"
      ]
     },
     "execution_count": 13,
     "metadata": {},
     "output_type": "execute_result"
    }
   ],
   "source": [
    "test_pred_obj_cpu = test_pred_obj.to('cpu')\n",
    "\n",
    "test_pred_obj_cpu.device, test_pred_obj_cpu.dtype"
   ]
  },
  {
   "cell_type": "code",
   "execution_count": 18,
   "metadata": {},
   "outputs": [
    {
     "data": {
      "text/plain": [
       "<matplotlib.image.AxesImage at 0x7fecc4542dd0>"
      ]
     },
     "execution_count": 18,
     "metadata": {},
     "output_type": "execute_result"
    },
    {
     "data": {
      "image/png": "[encoded data removed]",
      "text/plain": [
       "<Figure size 1000x500 with 2 Axes>"
      ]
     },
     "metadata": {},
     "output_type": "display_data"
    }
   ],
   "source": [
    "i = 4\n",
    "fig, axs = plt.subplots(1, 2, figsize=(10,5))\n",
    "\n",
    "axs[0].imshow(test_pred_obj_cpu[i,0].angle())\n",
    "axs[1].imshow(diff.to('cpu')[i,0])"
   ]
  },
  {
   "cell_type": "code",
   "execution_count": null,
   "metadata": {},
   "outputs": [],
   "source": []
  }
 ],
 "metadata": {
  "kernelspec": {
   "display_name": "ptychopinn_ptychodus_pytorch",
   "language": "python",
   "name": "python3"
  },
  "language_info": {
   "codemirror_mode": {
    "name": "ipython",
    "version": 3
   },
   "file_extension": ".py",
   "mimetype": "text/x-python",
   "name": "python",
   "nbconvert_exporter": "python",
   "pygments_lexer": "ipython3",
   "version": "3.10.14"
  }
 },
 "nbformat": 4,
 "nbformat_minor": 2
}
