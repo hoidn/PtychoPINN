{
 "cells": [
  {
   "cell_type": "code",
   "execution_count": 1,
   "metadata": {},
   "outputs": [],
   "source": [
    "import os\n",
    "\n",
    "#Change working directory to /Users/albertvong/Documents/Argonne/PtychoPINN/\n",
    "os.chdir('/home/av_linux/PtychoPINN')"
   ]
  },
  {
   "cell_type": "code",
   "execution_count": 2,
   "metadata": {},
   "outputs": [
    {
     "name": "stderr",
     "output_type": "stream",
     "text": [
      "/root/miniconda3/envs/ptychopinn_ptychodus_pytorch/lib/python3.10/site-packages/scipy/__init__.py:146: UserWarning: A NumPy version >=1.17.3 and <1.25.0 is required for this version of SciPy (detected version 1.26.4\n",
      "  warnings.warn(f\"A NumPy version >={np_minversion} and <{np_maxversion}\"\n"
     ]
    }
   ],
   "source": [
    "import numpy as np\n",
    "import importlib\n",
    "\n",
    "import torch\n",
    "from torch.nn import functional as F\n",
    "from torch.utils.data import DataLoader, Subset\n",
    "\n",
    "import lightning as L\n",
    "import mlflow.pytorch\n",
    "from mlflow import MlflowClient\n",
    "\n",
    "from ptycho_torch.dset_loader_pt_mmap import PtychoDataset\n",
    "from ptycho_torch.model import PtychoPINN\n",
    "\n",
    "import matplotlib.pyplot as plt\n",
    "\n",
    "from ptycho_torch.config_params import TrainingConfig, DataConfig, ModelConfig"
   ]
  },
  {
   "cell_type": "code",
   "execution_count": 3,
   "metadata": {},
   "outputs": [],
   "source": [
    "data_config_default = {\n",
    "    'nphotons': 1e5,\n",
    "    'N': 128,\n",
    "    'C': 4,\n",
    "    'K': 6,\n",
    "    'n_subsample': 10,\n",
    "    'grid_size': (2,2),\n",
    "    'probe_dir_get': True,\n",
    "}\n",
    "\n",
    "\n",
    "model_config_default = {\n",
    "    'intensity_scale_trainable': True,\n",
    "    'max_position_jitter': 10, #Random jitter for translation (helps make model more robust)\n",
    "    'n_filters_scale': 2, #Shrinking factor for channels\n",
    "    'intensity_scale': 15000.0, #General intensity scale guess, this can be trainable. Needs to be float\n",
    "    'object.big': True, #True if need patch reassembly\n",
    "    'probe.big': True, #True if need patch reassembly\n",
    "    'offset': 4,\n",
    "    'loss_function': 'Poisson'\n",
    "}\n",
    "\n",
    "training_config_default = {\n",
    "    'nll': True, #Negative log likelihood for loss function\n",
    "    'device': 'cuda'\n",
    "}\n",
    "\n",
    "t_config, d_config, m_config = TrainingConfig(), DataConfig(), ModelConfig()\n",
    "\n",
    "t_config.set_settings(training_config_default)\n",
    "d_config.set_settings(data_config_default)\n",
    "m_config.set_settings(model_config_default)"
   ]
  },
  {
   "cell_type": "markdown",
   "metadata": {},
   "source": [
    "In this notebook we'll be testing the training of PtychoPINN in Pytorch."
   ]
  },
  {
   "cell_type": "markdown",
   "metadata": {},
   "source": [
    "First, we're going to generate a \"fake\" test dataset using data from /ptycho/datasets/Run1084_recon_postPC_"
   ]
  },
  {
   "cell_type": "markdown",
   "metadata": {},
   "source": [
    "# Testing out datagen methods"
   ]
  },
  {
   "cell_type": "code",
   "execution_count": 4,
   "metadata": {},
   "outputs": [
    {
     "data": {
      "text/plain": [
       "<module 'ptycho_torch.helper' from '/home/av_linux/PtychoPINN/ptycho_torch/helper.py'>"
      ]
     },
     "execution_count": 4,
     "metadata": {},
     "output_type": "execute_result"
    }
   ],
   "source": [
    "import ptycho_torch.helper as hh\n",
    "import ptycho_torch.datagen as dg\n",
    "import importlib\n",
    "\n",
    "importlib.reload(hh)"
   ]
  },
  {
   "cell_type": "code",
   "execution_count": 7,
   "metadata": {},
   "outputs": [],
   "source": [
    "output = dg.simulate_from_npz('ptycho_torch/datasets/als128.npy.npz', 2000)"
   ]
  },
  {
   "cell_type": "code",
   "execution_count": 8,
   "metadata": {},
   "outputs": [],
   "source": [
    "#Save output as npz file in similar location\n",
    "np.savez('ptycho_torch/datasets/als128_generated.npy.npz',\n",
    "         diff3d = output['diff3d'],\n",
    "         xcoords = output['xcoords'],\n",
    "         ycoords = output['ycoords'],\n",
    "         xcoords_start = output['xcoords_start'],\n",
    "         ycoords_start = output['ycoords_start'])\n"
   ]
  },
  {
   "cell_type": "markdown",
   "metadata": {},
   "source": [
    "# Testing out tensorloader and model throughput"
   ]
  },
  {
   "cell_type": "code",
   "execution_count": 4,
   "metadata": {},
   "outputs": [
    {
     "data": {
      "text/plain": [
       "<module 'ptycho_torch.dset_loader_pt_mmap' from '/home/av_linux/PtychoPINN/ptycho_torch/dset_loader_pt_mmap.py'>"
      ]
     },
     "execution_count": 4,
     "metadata": {},
     "output_type": "execute_result"
    }
   ],
   "source": [
    "import importlib\n",
    "import ptycho_torch\n",
    "importlib.reload(ptycho_torch.helper)\n",
    "importlib.reload(ptycho_torch.dset_loader_pt_mmap)"
   ]
  },
  {
   "cell_type": "code",
   "execution_count": 5,
   "metadata": {},
   "outputs": [],
   "source": [
    "from ptycho_torch.dset_loader_pt_mmap import TensorDictDataLoader\n",
    "import ptycho_torch.helper as hh\n"
   ]
  },
  {
   "cell_type": "code",
   "execution_count": 6,
   "metadata": {},
   "outputs": [],
   "source": [
    "#Setting probes\n",
    "\n",
    "#Need better separation of params and configs... confusing\n",
    "#Could separate into \n",
    "#1. Model \n",
    "#2. Training\n",
    "#3. Data\n",
    "\n",
    "\n",
    "dset_raw = np.load('ptycho_torch/datasets/als128.npy.npz')\n",
    "\n",
    "probe = dset_raw['probeGuess'][None]\n",
    "probe = torch.from_numpy(probe)\n",
    "\n",
    "# d_config.add('probes', probe)"
   ]
  },
  {
   "cell_type": "code",
   "execution_count": 7,
   "metadata": {},
   "outputs": [
    {
     "data": {
      "text/plain": [
       "tensor([[[0.+0.j, 0.+0.j, 0.+0.j,  ..., 0.+0.j, 0.+0.j, 0.+0.j],\n",
       "         [0.+0.j, 0.+0.j, 0.+0.j,  ..., 0.+0.j, 0.+0.j, 0.+0.j],\n",
       "         [0.+0.j, 0.+0.j, 0.+0.j,  ..., 0.+0.j, 0.+0.j, 0.+0.j],\n",
       "         ...,\n",
       "         [0.+0.j, 0.+0.j, 0.+0.j,  ..., 0.+0.j, 0.+0.j, 0.+0.j],\n",
       "         [0.+0.j, 0.+0.j, 0.+0.j,  ..., 0.+0.j, 0.+0.j, 0.+0.j],\n",
       "         [0.+0.j, 0.+0.j, 0.+0.j,  ..., 0.+0.j, 0.+0.j, 0.+0.j]]])"
      ]
     },
     "execution_count": 7,
     "metadata": {},
     "output_type": "execute_result"
    }
   ],
   "source": [
    "test = np.load('ptycho_torch/datasets/probes/probe1.npz')\n",
    "torch.from_numpy(test['probe'])"
   ]
  },
  {
   "cell_type": "code",
   "execution_count": 7,
   "metadata": {},
   "outputs": [
    {
     "name": "stdout",
     "output_type": "stream",
     "text": [
      "['probe1.npz']\n",
      "Creating memory mapped tensor dictionary...\n",
      "Memory map length: 20000\n",
      "Memory map creation time: 0.0021953582763671875\n",
      "Populating memory map for dataset 0\n",
      "Non-diffraction memory map write time: 0.0027794837951660156\n",
      "Diffraction memory map write time: 12.592186450958252\n"
     ]
    }
   ],
   "source": [
    "test_dset = PtychoDataset('ptycho_torch/datasets/dummy_data_small', 'ptycho_torch/datasets/probes',remake_map = True)"
   ]
  },
  {
   "cell_type": "code",
   "execution_count": 8,
   "metadata": {},
   "outputs": [
    {
     "data": {
      "text/plain": [
       "torch.Size([1, 128, 128])"
      ]
     },
     "execution_count": 8,
     "metadata": {},
     "output_type": "execute_result"
    }
   ],
   "source": [
    "test_dset.data_dict['probes'].shape"
   ]
  },
  {
   "cell_type": "code",
   "execution_count": 9,
   "metadata": {},
   "outputs": [],
   "source": [
    "#Loading dataloader with first batch\n",
    "\n",
    "testloader = TensorDictDataLoader(test_dset, batch_size = 64)\n",
    "#Grab first iter from testloader\n",
    "test_iter = next(iter(testloader))\n",
    "#Move test_iter to gpu\n",
    "\n",
    "#Setting different tensors for model input\n",
    "diff = test_iter[0]['images'].to('cuda')\n",
    "positions = test_iter[0]['coords_relative'].to('cuda')\n",
    "probe = test_iter[1].to('cuda')\n",
    "scaling = test_iter[2].to('cuda')"
   ]
  },
  {
   "cell_type": "code",
   "execution_count": 10,
   "metadata": {},
   "outputs": [],
   "source": [
    "model = PtychoPINN()\n",
    "model.to('cuda')\n",
    "model.training = True"
   ]
  },
  {
   "cell_type": "code",
   "execution_count": 11,
   "metadata": {},
   "outputs": [],
   "source": [
    "out = model(diff, positions, probe, scaling)"
   ]
  },
  {
   "cell_type": "code",
   "execution_count": 18,
   "metadata": {},
   "outputs": [
    {
     "data": {
      "text/plain": [
       "tensor([3.5952, 3.5952, 3.5952, 3.5952, 3.5952, 3.5952, 3.5952, 3.5952, 3.5952,\n",
       "        3.5952, 3.5952, 3.5952, 3.5952, 3.5952, 3.5952, 3.5952, 3.5952, 3.5952,\n",
       "        3.5952, 3.5952, 3.5952, 3.5952, 3.5952, 3.5952, 3.5952, 3.5952, 3.5952,\n",
       "        3.5952, 3.5952, 3.5952, 3.5952, 3.5952, 3.5952, 3.5952, 3.5952, 3.5952,\n",
       "        3.5952, 3.5952, 3.5952, 3.5952, 3.5952, 3.5952, 3.5952, 3.5952, 3.5952,\n",
       "        3.5952, 3.5952, 3.5952, 3.5952, 3.5952, 3.5952, 3.5952, 3.5952, 3.5952,\n",
       "        3.5952, 3.5952, 3.5952, 3.5952, 3.5952, 3.5952, 3.5952, 3.5952, 3.5952,\n",
       "        3.5952], device='cuda:0', dtype=torch.float64, grad_fn=<NegBackward0>)"
      ]
     },
     "execution_count": 18,
     "metadata": {},
     "output_type": "execute_result"
    }
   ],
   "source": [
    "out"
   ]
  },
  {
   "cell_type": "code",
   "execution_count": 19,
   "metadata": {},
   "outputs": [
    {
     "name": "stdout",
     "output_type": "stream",
     "text": [
      "torch.Size([64, 4, 128, 128]) torch.Size([64, 1, 1, 1])\n"
     ]
    },
    {
     "data": {
      "text/plain": [
       "tensor([[[[1.1875e-05, 1.5400e-05, 2.2037e-05,  ..., 2.3045e-05,\n",
       "           1.1115e-05, 2.5700e-05],\n",
       "          [2.2944e-05, 1.0267e-05, 3.6161e-05,  ..., 2.0793e-05,\n",
       "           2.7142e-05, 1.9291e-05],\n",
       "          [2.3617e-05, 1.5591e-05, 1.7429e-05,  ..., 1.1522e-05,\n",
       "           2.5235e-05, 1.8305e-05],\n",
       "          ...,\n",
       "          [2.5047e-05, 3.3321e-05, 2.2103e-05,  ..., 1.8326e-05,\n",
       "           3.8828e-06, 1.8048e-05],\n",
       "          [6.2500e-06, 1.6357e-05, 1.4472e-05,  ..., 2.6845e-05,\n",
       "           2.0004e-05, 1.4832e-05],\n",
       "          [1.0256e-05, 1.2655e-05, 1.6549e-05,  ..., 2.9771e-05,\n",
       "           2.0666e-05, 2.5537e-05]],\n",
       "\n",
       "         [[1.1875e-05, 1.5400e-05, 2.2037e-05,  ..., 2.3045e-05,\n",
       "           1.1115e-05, 2.5700e-05],\n",
       "          [2.2944e-05, 1.0267e-05, 3.6161e-05,  ..., 2.0793e-05,\n",
       "           2.7142e-05, 1.9291e-05],\n",
       "          [2.3617e-05, 1.5591e-05, 1.7429e-05,  ..., 1.1522e-05,\n",
       "           2.5235e-05, 1.8305e-05],\n",
       "          ...,\n",
       "          [2.5047e-05, 3.3321e-05, 2.2103e-05,  ..., 1.8326e-05,\n",
       "           3.8828e-06, 1.8048e-05],\n",
       "          [6.2500e-06, 1.6357e-05, 1.4472e-05,  ..., 2.6845e-05,\n",
       "           2.0004e-05, 1.4832e-05],\n",
       "          [1.0256e-05, 1.2655e-05, 1.6549e-05,  ..., 2.9771e-05,\n",
       "           2.0666e-05, 2.5537e-05]],\n",
       "\n",
       "         [[1.1875e-05, 1.5400e-05, 2.2037e-05,  ..., 2.3045e-05,\n",
       "           1.1115e-05, 2.5700e-05],\n",
       "          [2.2944e-05, 1.0267e-05, 3.6161e-05,  ..., 2.0793e-05,\n",
       "           2.7142e-05, 1.9291e-05],\n",
       "          [2.3617e-05, 1.5591e-05, 1.7429e-05,  ..., 1.1522e-05,\n",
       "           2.5235e-05, 1.8305e-05],\n",
       "          ...,\n",
       "          [2.5047e-05, 3.3321e-05, 2.2103e-05,  ..., 1.8326e-05,\n",
       "           3.8828e-06, 1.8048e-05],\n",
       "          [6.2500e-06, 1.6357e-05, 1.4472e-05,  ..., 2.6845e-05,\n",
       "           2.0004e-05, 1.4832e-05],\n",
       "          [1.0256e-05, 1.2655e-05, 1.6549e-05,  ..., 2.9771e-05,\n",
       "           2.0666e-05, 2.5537e-05]],\n",
       "\n",
       "         [[1.1875e-05, 1.5400e-05, 2.2037e-05,  ..., 2.3045e-05,\n",
       "           1.1115e-05, 2.5700e-05],\n",
       "          [2.2944e-05, 1.0267e-05, 3.6161e-05,  ..., 2.0793e-05,\n",
       "           2.7142e-05, 1.9291e-05],\n",
       "          [2.3617e-05, 1.5591e-05, 1.7429e-05,  ..., 1.1522e-05,\n",
       "           2.5235e-05, 1.8305e-05],\n",
       "          ...,\n",
       "          [2.5047e-05, 3.3321e-05, 2.2103e-05,  ..., 1.8326e-05,\n",
       "           3.8828e-06, 1.8048e-05],\n",
       "          [6.2500e-06, 1.6357e-05, 1.4472e-05,  ..., 2.6845e-05,\n",
       "           2.0004e-05, 1.4832e-05],\n",
       "          [1.0256e-05, 1.2655e-05, 1.6549e-05,  ..., 2.9771e-05,\n",
       "           2.0666e-05, 2.5537e-05]]],\n",
       "\n",
       "\n",
       "        [[[1.1875e-05, 1.5400e-05, 2.2037e-05,  ..., 2.3045e-05,\n",
       "           1.1115e-05, 2.5700e-05],\n",
       "          [2.2944e-05, 1.0267e-05, 3.6161e-05,  ..., 2.0793e-05,\n",
       "           2.7142e-05, 1.9291e-05],\n",
       "          [2.3617e-05, 1.5591e-05, 1.7429e-05,  ..., 1.1522e-05,\n",
       "           2.5235e-05, 1.8305e-05],\n",
       "          ...,\n",
       "          [2.5047e-05, 3.3321e-05, 2.2103e-05,  ..., 1.8326e-05,\n",
       "           3.8828e-06, 1.8048e-05],\n",
       "          [6.2500e-06, 1.6357e-05, 1.4472e-05,  ..., 2.6845e-05,\n",
       "           2.0004e-05, 1.4832e-05],\n",
       "          [1.0256e-05, 1.2655e-05, 1.6549e-05,  ..., 2.9771e-05,\n",
       "           2.0666e-05, 2.5537e-05]],\n",
       "\n",
       "         [[1.1875e-05, 1.5400e-05, 2.2037e-05,  ..., 2.3045e-05,\n",
       "           1.1115e-05, 2.5700e-05],\n",
       "          [2.2944e-05, 1.0267e-05, 3.6161e-05,  ..., 2.0793e-05,\n",
       "           2.7142e-05, 1.9291e-05],\n",
       "          [2.3617e-05, 1.5591e-05, 1.7429e-05,  ..., 1.1522e-05,\n",
       "           2.5235e-05, 1.8305e-05],\n",
       "          ...,\n",
       "          [2.5047e-05, 3.3321e-05, 2.2103e-05,  ..., 1.8326e-05,\n",
       "           3.8828e-06, 1.8048e-05],\n",
       "          [6.2500e-06, 1.6357e-05, 1.4472e-05,  ..., 2.6845e-05,\n",
       "           2.0004e-05, 1.4832e-05],\n",
       "          [1.0256e-05, 1.2655e-05, 1.6549e-05,  ..., 2.9771e-05,\n",
       "           2.0666e-05, 2.5537e-05]],\n",
       "\n",
       "         [[1.1875e-05, 1.5400e-05, 2.2037e-05,  ..., 2.3045e-05,\n",
       "           1.1115e-05, 2.5700e-05],\n",
       "          [2.2944e-05, 1.0267e-05, 3.6161e-05,  ..., 2.0793e-05,\n",
       "           2.7142e-05, 1.9291e-05],\n",
       "          [2.3617e-05, 1.5591e-05, 1.7429e-05,  ..., 1.1522e-05,\n",
       "           2.5235e-05, 1.8305e-05],\n",
       "          ...,\n",
       "          [2.5047e-05, 3.3321e-05, 2.2103e-05,  ..., 1.8326e-05,\n",
       "           3.8828e-06, 1.8048e-05],\n",
       "          [6.2500e-06, 1.6357e-05, 1.4472e-05,  ..., 2.6845e-05,\n",
       "           2.0004e-05, 1.4832e-05],\n",
       "          [1.0256e-05, 1.2655e-05, 1.6549e-05,  ..., 2.9771e-05,\n",
       "           2.0666e-05, 2.5537e-05]],\n",
       "\n",
       "         [[1.1875e-05, 1.5400e-05, 2.2037e-05,  ..., 2.3045e-05,\n",
       "           1.1115e-05, 2.5700e-05],\n",
       "          [2.2944e-05, 1.0267e-05, 3.6161e-05,  ..., 2.0793e-05,\n",
       "           2.7142e-05, 1.9291e-05],\n",
       "          [2.3617e-05, 1.5591e-05, 1.7429e-05,  ..., 1.1522e-05,\n",
       "           2.5235e-05, 1.8305e-05],\n",
       "          ...,\n",
       "          [2.5047e-05, 3.3321e-05, 2.2103e-05,  ..., 1.8326e-05,\n",
       "           3.8828e-06, 1.8048e-05],\n",
       "          [6.2500e-06, 1.6357e-05, 1.4472e-05,  ..., 2.6845e-05,\n",
       "           2.0004e-05, 1.4832e-05],\n",
       "          [1.0256e-05, 1.2655e-05, 1.6549e-05,  ..., 2.9771e-05,\n",
       "           2.0666e-05, 2.5537e-05]]],\n",
       "\n",
       "\n",
       "        [[[1.1875e-05, 1.5400e-05, 2.2037e-05,  ..., 2.3045e-05,\n",
       "           1.1115e-05, 2.5700e-05],\n",
       "          [2.2944e-05, 1.0267e-05, 3.6161e-05,  ..., 2.0793e-05,\n",
       "           2.7142e-05, 1.9291e-05],\n",
       "          [2.3617e-05, 1.5591e-05, 1.7429e-05,  ..., 1.1522e-05,\n",
       "           2.5235e-05, 1.8305e-05],\n",
       "          ...,\n",
       "          [2.5047e-05, 3.3321e-05, 2.2103e-05,  ..., 1.8326e-05,\n",
       "           3.8828e-06, 1.8048e-05],\n",
       "          [6.2500e-06, 1.6357e-05, 1.4472e-05,  ..., 2.6845e-05,\n",
       "           2.0004e-05, 1.4832e-05],\n",
       "          [1.0256e-05, 1.2655e-05, 1.6549e-05,  ..., 2.9771e-05,\n",
       "           2.0666e-05, 2.5537e-05]],\n",
       "\n",
       "         [[1.1875e-05, 1.5400e-05, 2.2037e-05,  ..., 2.3045e-05,\n",
       "           1.1115e-05, 2.5700e-05],\n",
       "          [2.2944e-05, 1.0267e-05, 3.6161e-05,  ..., 2.0793e-05,\n",
       "           2.7142e-05, 1.9291e-05],\n",
       "          [2.3617e-05, 1.5591e-05, 1.7429e-05,  ..., 1.1522e-05,\n",
       "           2.5235e-05, 1.8305e-05],\n",
       "          ...,\n",
       "          [2.5047e-05, 3.3321e-05, 2.2103e-05,  ..., 1.8326e-05,\n",
       "           3.8828e-06, 1.8048e-05],\n",
       "          [6.2500e-06, 1.6357e-05, 1.4472e-05,  ..., 2.6845e-05,\n",
       "           2.0004e-05, 1.4832e-05],\n",
       "          [1.0256e-05, 1.2655e-05, 1.6549e-05,  ..., 2.9771e-05,\n",
       "           2.0666e-05, 2.5537e-05]],\n",
       "\n",
       "         [[1.1875e-05, 1.5400e-05, 2.2037e-05,  ..., 2.3045e-05,\n",
       "           1.1115e-05, 2.5700e-05],\n",
       "          [2.2944e-05, 1.0267e-05, 3.6161e-05,  ..., 2.0793e-05,\n",
       "           2.7142e-05, 1.9291e-05],\n",
       "          [2.3617e-05, 1.5591e-05, 1.7429e-05,  ..., 1.1522e-05,\n",
       "           2.5235e-05, 1.8305e-05],\n",
       "          ...,\n",
       "          [2.5047e-05, 3.3321e-05, 2.2103e-05,  ..., 1.8326e-05,\n",
       "           3.8828e-06, 1.8048e-05],\n",
       "          [6.2500e-06, 1.6357e-05, 1.4472e-05,  ..., 2.6845e-05,\n",
       "           2.0004e-05, 1.4832e-05],\n",
       "          [1.0256e-05, 1.2655e-05, 1.6549e-05,  ..., 2.9771e-05,\n",
       "           2.0666e-05, 2.5537e-05]],\n",
       "\n",
       "         [[1.1875e-05, 1.5400e-05, 2.2037e-05,  ..., 2.3045e-05,\n",
       "           1.1115e-05, 2.5700e-05],\n",
       "          [2.2944e-05, 1.0267e-05, 3.6161e-05,  ..., 2.0793e-05,\n",
       "           2.7142e-05, 1.9291e-05],\n",
       "          [2.3617e-05, 1.5591e-05, 1.7429e-05,  ..., 1.1522e-05,\n",
       "           2.5235e-05, 1.8305e-05],\n",
       "          ...,\n",
       "          [2.5047e-05, 3.3321e-05, 2.2103e-05,  ..., 1.8326e-05,\n",
       "           3.8828e-06, 1.8048e-05],\n",
       "          [6.2500e-06, 1.6357e-05, 1.4472e-05,  ..., 2.6845e-05,\n",
       "           2.0004e-05, 1.4832e-05],\n",
       "          [1.0256e-05, 1.2655e-05, 1.6549e-05,  ..., 2.9771e-05,\n",
       "           2.0666e-05, 2.5537e-05]]],\n",
       "\n",
       "\n",
       "        ...,\n",
       "\n",
       "\n",
       "        [[[1.1875e-05, 1.5400e-05, 2.2037e-05,  ..., 2.3045e-05,\n",
       "           1.1115e-05, 2.5700e-05],\n",
       "          [2.2944e-05, 1.0267e-05, 3.6161e-05,  ..., 2.0793e-05,\n",
       "           2.7142e-05, 1.9291e-05],\n",
       "          [2.3617e-05, 1.5591e-05, 1.7429e-05,  ..., 1.1522e-05,\n",
       "           2.5235e-05, 1.8305e-05],\n",
       "          ...,\n",
       "          [2.5047e-05, 3.3321e-05, 2.2103e-05,  ..., 1.8326e-05,\n",
       "           3.8828e-06, 1.8048e-05],\n",
       "          [6.2500e-06, 1.6357e-05, 1.4472e-05,  ..., 2.6845e-05,\n",
       "           2.0004e-05, 1.4832e-05],\n",
       "          [1.0256e-05, 1.2655e-05, 1.6549e-05,  ..., 2.9771e-05,\n",
       "           2.0666e-05, 2.5537e-05]],\n",
       "\n",
       "         [[1.1875e-05, 1.5400e-05, 2.2037e-05,  ..., 2.3045e-05,\n",
       "           1.1115e-05, 2.5700e-05],\n",
       "          [2.2944e-05, 1.0267e-05, 3.6161e-05,  ..., 2.0793e-05,\n",
       "           2.7142e-05, 1.9291e-05],\n",
       "          [2.3617e-05, 1.5591e-05, 1.7429e-05,  ..., 1.1522e-05,\n",
       "           2.5235e-05, 1.8305e-05],\n",
       "          ...,\n",
       "          [2.5047e-05, 3.3321e-05, 2.2103e-05,  ..., 1.8326e-05,\n",
       "           3.8828e-06, 1.8048e-05],\n",
       "          [6.2500e-06, 1.6357e-05, 1.4472e-05,  ..., 2.6845e-05,\n",
       "           2.0004e-05, 1.4832e-05],\n",
       "          [1.0256e-05, 1.2655e-05, 1.6549e-05,  ..., 2.9771e-05,\n",
       "           2.0666e-05, 2.5537e-05]],\n",
       "\n",
       "         [[1.1875e-05, 1.5400e-05, 2.2037e-05,  ..., 2.3045e-05,\n",
       "           1.1115e-05, 2.5700e-05],\n",
       "          [2.2944e-05, 1.0267e-05, 3.6161e-05,  ..., 2.0793e-05,\n",
       "           2.7142e-05, 1.9291e-05],\n",
       "          [2.3617e-05, 1.5591e-05, 1.7429e-05,  ..., 1.1522e-05,\n",
       "           2.5235e-05, 1.8305e-05],\n",
       "          ...,\n",
       "          [2.5047e-05, 3.3321e-05, 2.2103e-05,  ..., 1.8326e-05,\n",
       "           3.8828e-06, 1.8048e-05],\n",
       "          [6.2500e-06, 1.6357e-05, 1.4472e-05,  ..., 2.6845e-05,\n",
       "           2.0004e-05, 1.4832e-05],\n",
       "          [1.0256e-05, 1.2655e-05, 1.6549e-05,  ..., 2.9771e-05,\n",
       "           2.0666e-05, 2.5537e-05]],\n",
       "\n",
       "         [[1.1875e-05, 1.5400e-05, 2.2037e-05,  ..., 2.3045e-05,\n",
       "           1.1115e-05, 2.5700e-05],\n",
       "          [2.2944e-05, 1.0267e-05, 3.6161e-05,  ..., 2.0793e-05,\n",
       "           2.7142e-05, 1.9291e-05],\n",
       "          [2.3617e-05, 1.5591e-05, 1.7429e-05,  ..., 1.1522e-05,\n",
       "           2.5235e-05, 1.8305e-05],\n",
       "          ...,\n",
       "          [2.5047e-05, 3.3321e-05, 2.2103e-05,  ..., 1.8326e-05,\n",
       "           3.8828e-06, 1.8048e-05],\n",
       "          [6.2500e-06, 1.6357e-05, 1.4472e-05,  ..., 2.6845e-05,\n",
       "           2.0004e-05, 1.4832e-05],\n",
       "          [1.0256e-05, 1.2655e-05, 1.6549e-05,  ..., 2.9771e-05,\n",
       "           2.0666e-05, 2.5537e-05]]],\n",
       "\n",
       "\n",
       "        [[[1.1875e-05, 1.5400e-05, 2.2037e-05,  ..., 2.3045e-05,\n",
       "           1.1115e-05, 2.5700e-05],\n",
       "          [2.2944e-05, 1.0267e-05, 3.6161e-05,  ..., 2.0793e-05,\n",
       "           2.7142e-05, 1.9291e-05],\n",
       "          [2.3617e-05, 1.5591e-05, 1.7429e-05,  ..., 1.1522e-05,\n",
       "           2.5235e-05, 1.8305e-05],\n",
       "          ...,\n",
       "          [2.5047e-05, 3.3321e-05, 2.2103e-05,  ..., 1.8326e-05,\n",
       "           3.8828e-06, 1.8048e-05],\n",
       "          [6.2500e-06, 1.6357e-05, 1.4472e-05,  ..., 2.6845e-05,\n",
       "           2.0004e-05, 1.4832e-05],\n",
       "          [1.0256e-05, 1.2655e-05, 1.6549e-05,  ..., 2.9771e-05,\n",
       "           2.0666e-05, 2.5537e-05]],\n",
       "\n",
       "         [[1.1875e-05, 1.5400e-05, 2.2037e-05,  ..., 2.3045e-05,\n",
       "           1.1115e-05, 2.5700e-05],\n",
       "          [2.2944e-05, 1.0267e-05, 3.6161e-05,  ..., 2.0793e-05,\n",
       "           2.7142e-05, 1.9291e-05],\n",
       "          [2.3617e-05, 1.5591e-05, 1.7429e-05,  ..., 1.1522e-05,\n",
       "           2.5235e-05, 1.8305e-05],\n",
       "          ...,\n",
       "          [2.5047e-05, 3.3321e-05, 2.2103e-05,  ..., 1.8326e-05,\n",
       "           3.8828e-06, 1.8048e-05],\n",
       "          [6.2500e-06, 1.6357e-05, 1.4472e-05,  ..., 2.6845e-05,\n",
       "           2.0004e-05, 1.4832e-05],\n",
       "          [1.0256e-05, 1.2655e-05, 1.6549e-05,  ..., 2.9771e-05,\n",
       "           2.0666e-05, 2.5537e-05]],\n",
       "\n",
       "         [[1.1875e-05, 1.5400e-05, 2.2037e-05,  ..., 2.3045e-05,\n",
       "           1.1115e-05, 2.5700e-05],\n",
       "          [2.2944e-05, 1.0267e-05, 3.6161e-05,  ..., 2.0793e-05,\n",
       "           2.7142e-05, 1.9291e-05],\n",
       "          [2.3617e-05, 1.5591e-05, 1.7429e-05,  ..., 1.1522e-05,\n",
       "           2.5235e-05, 1.8305e-05],\n",
       "          ...,\n",
       "          [2.5047e-05, 3.3321e-05, 2.2103e-05,  ..., 1.8326e-05,\n",
       "           3.8828e-06, 1.8048e-05],\n",
       "          [6.2500e-06, 1.6357e-05, 1.4472e-05,  ..., 2.6845e-05,\n",
       "           2.0004e-05, 1.4832e-05],\n",
       "          [1.0256e-05, 1.2655e-05, 1.6549e-05,  ..., 2.9771e-05,\n",
       "           2.0666e-05, 2.5537e-05]],\n",
       "\n",
       "         [[1.1875e-05, 1.5400e-05, 2.2037e-05,  ..., 2.3045e-05,\n",
       "           1.1115e-05, 2.5700e-05],\n",
       "          [2.2944e-05, 1.0267e-05, 3.6161e-05,  ..., 2.0793e-05,\n",
       "           2.7142e-05, 1.9291e-05],\n",
       "          [2.3617e-05, 1.5591e-05, 1.7429e-05,  ..., 1.1522e-05,\n",
       "           2.5235e-05, 1.8305e-05],\n",
       "          ...,\n",
       "          [2.5047e-05, 3.3321e-05, 2.2103e-05,  ..., 1.8326e-05,\n",
       "           3.8828e-06, 1.8048e-05],\n",
       "          [6.2500e-06, 1.6357e-05, 1.4472e-05,  ..., 2.6845e-05,\n",
       "           2.0004e-05, 1.4832e-05],\n",
       "          [1.0256e-05, 1.2655e-05, 1.6549e-05,  ..., 2.9771e-05,\n",
       "           2.0666e-05, 2.5537e-05]]],\n",
       "\n",
       "\n",
       "        [[[1.1875e-05, 1.5400e-05, 2.2037e-05,  ..., 2.3045e-05,\n",
       "           1.1115e-05, 2.5700e-05],\n",
       "          [2.2944e-05, 1.0267e-05, 3.6161e-05,  ..., 2.0793e-05,\n",
       "           2.7142e-05, 1.9291e-05],\n",
       "          [2.3617e-05, 1.5591e-05, 1.7429e-05,  ..., 1.1522e-05,\n",
       "           2.5235e-05, 1.8305e-05],\n",
       "          ...,\n",
       "          [2.5047e-05, 3.3321e-05, 2.2103e-05,  ..., 1.8326e-05,\n",
       "           3.8828e-06, 1.8048e-05],\n",
       "          [6.2500e-06, 1.6357e-05, 1.4472e-05,  ..., 2.6845e-05,\n",
       "           2.0004e-05, 1.4832e-05],\n",
       "          [1.0256e-05, 1.2655e-05, 1.6549e-05,  ..., 2.9771e-05,\n",
       "           2.0666e-05, 2.5537e-05]],\n",
       "\n",
       "         [[1.1875e-05, 1.5400e-05, 2.2037e-05,  ..., 2.3045e-05,\n",
       "           1.1115e-05, 2.5700e-05],\n",
       "          [2.2944e-05, 1.0267e-05, 3.6161e-05,  ..., 2.0793e-05,\n",
       "           2.7142e-05, 1.9291e-05],\n",
       "          [2.3617e-05, 1.5591e-05, 1.7429e-05,  ..., 1.1522e-05,\n",
       "           2.5235e-05, 1.8305e-05],\n",
       "          ...,\n",
       "          [2.5047e-05, 3.3321e-05, 2.2103e-05,  ..., 1.8326e-05,\n",
       "           3.8828e-06, 1.8048e-05],\n",
       "          [6.2500e-06, 1.6357e-05, 1.4472e-05,  ..., 2.6845e-05,\n",
       "           2.0004e-05, 1.4832e-05],\n",
       "          [1.0256e-05, 1.2655e-05, 1.6549e-05,  ..., 2.9771e-05,\n",
       "           2.0666e-05, 2.5537e-05]],\n",
       "\n",
       "         [[1.1875e-05, 1.5400e-05, 2.2037e-05,  ..., 2.3045e-05,\n",
       "           1.1115e-05, 2.5700e-05],\n",
       "          [2.2944e-05, 1.0267e-05, 3.6161e-05,  ..., 2.0793e-05,\n",
       "           2.7142e-05, 1.9291e-05],\n",
       "          [2.3617e-05, 1.5591e-05, 1.7429e-05,  ..., 1.1522e-05,\n",
       "           2.5235e-05, 1.8305e-05],\n",
       "          ...,\n",
       "          [2.5047e-05, 3.3321e-05, 2.2103e-05,  ..., 1.8326e-05,\n",
       "           3.8828e-06, 1.8048e-05],\n",
       "          [6.2500e-06, 1.6357e-05, 1.4472e-05,  ..., 2.6845e-05,\n",
       "           2.0004e-05, 1.4832e-05],\n",
       "          [1.0256e-05, 1.2655e-05, 1.6549e-05,  ..., 2.9771e-05,\n",
       "           2.0666e-05, 2.5537e-05]],\n",
       "\n",
       "         [[1.1875e-05, 1.5400e-05, 2.2037e-05,  ..., 2.3045e-05,\n",
       "           1.1115e-05, 2.5700e-05],\n",
       "          [2.2944e-05, 1.0267e-05, 3.6161e-05,  ..., 2.0793e-05,\n",
       "           2.7142e-05, 1.9291e-05],\n",
       "          [2.3617e-05, 1.5591e-05, 1.7429e-05,  ..., 1.1522e-05,\n",
       "           2.5235e-05, 1.8305e-05],\n",
       "          ...,\n",
       "          [2.5047e-05, 3.3321e-05, 2.2103e-05,  ..., 1.8326e-05,\n",
       "           3.8828e-06, 1.8048e-05],\n",
       "          [6.2500e-06, 1.6357e-05, 1.4472e-05,  ..., 2.6845e-05,\n",
       "           2.0004e-05, 1.4832e-05],\n",
       "          [1.0256e-05, 1.2655e-05, 1.6549e-05,  ..., 2.9771e-05,\n",
       "           2.0666e-05, 2.5537e-05]]]], device='cuda:0', dtype=torch.float64,\n",
       "       grad_fn=<MulBackward0>)"
      ]
     },
     "execution_count": 19,
     "metadata": {},
     "output_type": "execute_result"
    }
   ],
   "source": [
    "model.training = False\n",
    "out_notrain = model(diff.to(torch.float32), positions.to(torch.float32), probe, scaling)\n",
    "\n",
    "out_notrain"
   ]
  },
  {
   "cell_type": "markdown",
   "metadata": {},
   "source": [
    "Stepping through model (to make sure individual components work)"
   ]
  },
  {
   "cell_type": "code",
   "execution_count": 18,
   "metadata": {},
   "outputs": [],
   "source": [
    "from ptycho_torch.model import Autoencoder, CombineComplex, ForwardModel, PoissonLoss, MAELoss"
   ]
  },
  {
   "cell_type": "code",
   "execution_count": 17,
   "metadata": {},
   "outputs": [
    {
     "data": {
      "text/plain": [
       "<matplotlib.image.AxesImage at 0x7f60b7498340>"
      ]
     },
     "execution_count": 17,
     "metadata": {},
     "output_type": "execute_result"
    },
    {
     "data": {
      "image/png": "[encoded data removed]",
      "text/plain": [
       "<Figure size 640x480 with 1 Axes>"
      ]
     },
     "metadata": {},
     "output_type": "display_data"
    }
   ],
   "source": [
    "#Checking diffraction images\n",
    "diff_1 = diff[0,3]\n",
    "\n",
    "plt.imshow(diff_1.cpu())"
   ]
  },
  {
   "cell_type": "code",
   "execution_count": 65,
   "metadata": {},
   "outputs": [],
   "source": [
    "n_filters_scale = 2\n",
    "autoenc = Autoencoder(n_filters_scale)\n",
    "autoenc.to('cuda')\n",
    "autoenc_amp, autoenc_phase = autoenc(diff)"
   ]
  },
  {
   "cell_type": "code",
   "execution_count": 29,
   "metadata": {},
   "outputs": [
    {
     "data": {
      "text/plain": [
       "torch.Size([64, 4, 128, 128])"
      ]
     },
     "execution_count": 29,
     "metadata": {},
     "output_type": "execute_result"
    }
   ],
   "source": [
    "autoenc_phase.shape"
   ]
  },
  {
   "cell_type": "code",
   "execution_count": 69,
   "metadata": {},
   "outputs": [
    {
     "data": {
      "text/plain": [
       "<matplotlib.image.AxesImage at 0x7f60b54191e0>"
      ]
     },
     "execution_count": 69,
     "metadata": {},
     "output_type": "execute_result"
    },
    {
     "data": {
      "image/png": "[encoded data removed]",
      "text/plain": [
       "<Figure size 640x480 with 1 Axes>"
      ]
     },
     "metadata": {},
     "output_type": "display_data"
    }
   ],
   "source": [
    "plt.imshow(autoenc_phase[3,0].detach().cpu())"
   ]
  },
  {
   "cell_type": "code",
   "execution_count": 70,
   "metadata": {},
   "outputs": [
    {
     "data": {
      "text/plain": [
       "torch.Size([64, 4, 128, 128])"
      ]
     },
     "execution_count": 70,
     "metadata": {},
     "output_type": "execute_result"
    }
   ],
   "source": [
    "combinecomplex = CombineComplex()\n",
    "autoenc_combined = combinecomplex(autoenc_amp, autoenc_phase)\n",
    "\n",
    "autoenc_combined.shape"
   ]
  },
  {
   "cell_type": "code",
   "execution_count": 74,
   "metadata": {},
   "outputs": [
    {
     "data": {
      "text/plain": [
       "<matplotlib.image.AxesImage at 0x7f60b55bc520>"
      ]
     },
     "execution_count": 74,
     "metadata": {},
     "output_type": "execute_result"
    },
    {
     "data": {
      "image/png": "[encoded data removed]",
      "text/plain": [
       "<Figure size 640x480 with 1 Axes>"
      ]
     },
     "metadata": {},
     "output_type": "display_data"
    }
   ],
   "source": [
    "plt.imshow(autoenc_combined[0,3].detach().cpu().angle())"
   ]
  },
  {
   "cell_type": "markdown",
   "metadata": {},
   "source": [
    "Reassemble patches"
   ]
  },
  {
   "cell_type": "code",
   "execution_count": 76,
   "metadata": {},
   "outputs": [],
   "source": [
    "import ptycho_torch.helper as hh\n",
    "from ptycho_torch.model import LambdaLayer"
   ]
  },
  {
   "cell_type": "code",
   "execution_count": 77,
   "metadata": {},
   "outputs": [],
   "source": [
    "reassemble = LambdaLayer(hh.reassemble_patches_position_real)"
   ]
  },
  {
   "cell_type": "code",
   "execution_count": 80,
   "metadata": {},
   "outputs": [
    {
     "data": {
      "text/plain": [
       "tensor([[ -6.8255,   8.7043],\n",
       "        [  4.0697,   1.2832],\n",
       "        [  9.5552,   3.2947],\n",
       "        [ -6.7993, -13.2822]], device='cuda:0')"
      ]
     },
     "execution_count": 80,
     "metadata": {},
     "output_type": "execute_result"
    }
   ],
   "source": [
    "positions[0].squeeze()"
   ]
  },
  {
   "cell_type": "code",
   "execution_count": 81,
   "metadata": {},
   "outputs": [],
   "source": [
    "reassembled_out = reassemble(autoenc_combined, positions)"
   ]
  },
  {
   "cell_type": "code",
   "execution_count": 83,
   "metadata": {},
   "outputs": [
    {
     "data": {
      "text/plain": [
       "torch.Size([64, 142, 142])"
      ]
     },
     "execution_count": 83,
     "metadata": {},
     "output_type": "execute_result"
    }
   ],
   "source": [
    "reassembled_out.shape"
   ]
  },
  {
   "cell_type": "code",
   "execution_count": 87,
   "metadata": {},
   "outputs": [
    {
     "data": {
      "text/plain": [
       "<matplotlib.image.AxesImage at 0x7f60b4282e90>"
      ]
     },
     "execution_count": 87,
     "metadata": {},
     "output_type": "execute_result"
    },
    {
     "data": {
      "image/png": "[encoded data removed]",
      "text/plain": [
       "<Figure size 640x480 with 1 Axes>"
      ]
     },
     "metadata": {},
     "output_type": "display_data"
    }
   ],
   "source": [
    "plt.imshow(reassembled_out[0].detach().cpu().angle())"
   ]
  },
  {
   "cell_type": "code",
   "execution_count": 88,
   "metadata": {},
   "outputs": [
    {
     "data": {
      "text/plain": [
       "tensor(0.8774+1.2504j)"
      ]
     },
     "execution_count": 88,
     "metadata": {},
     "output_type": "execute_result"
    }
   ],
   "source": [
    "test_complex_tensor = torch.complex(torch.randn(10, 10), torch.randn(10, 10))\n",
    "\n",
    "test_complex_tensor[0,0]"
   ]
  },
  {
   "cell_type": "code",
   "execution_count": 89,
   "metadata": {},
   "outputs": [
    {
     "data": {
      "text/plain": [
       "(tensor(0.8774+1.2504j), tensor(0.2925+0.4168j))"
      ]
     },
     "execution_count": 89,
     "metadata": {},
     "output_type": "execute_result"
    }
   ],
   "source": [
    "test_complex_tensor[0,0], test_complex_tensor[0,0]/3"
   ]
  },
  {
   "cell_type": "code",
   "execution_count": null,
   "metadata": {},
   "outputs": [],
   "source": []
  }
 ],
 "metadata": {
  "kernelspec": {
   "display_name": "ptychopinn_ptychodus_pytorch",
   "language": "python",
   "name": "python3"
  },
  "language_info": {
   "codemirror_mode": {
    "name": "ipython",
    "version": 3
   },
   "file_extension": ".py",
   "mimetype": "text/x-python",
   "name": "python",
   "nbconvert_exporter": "python",
   "pygments_lexer": "ipython3",
   "version": "3.10.14"
  }
 },
 "nbformat": 4,
 "nbformat_minor": 2
}
