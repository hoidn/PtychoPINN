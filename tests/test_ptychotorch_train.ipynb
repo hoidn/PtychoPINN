{
 "cells": [
  {
   "cell_type": "code",
   "execution_count": 1,
   "metadata": {},
   "outputs": [],
   "source": [
    "import os\n",
    "\n",
    "#Change working directory to /Users/albertvong/Documents/Argonne/PtychoPINN/\n",
    "os.chdir('/home/av_linux/PtychoPINN')"
   ]
  },
  {
   "cell_type": "code",
   "execution_count": 2,
   "metadata": {},
   "outputs": [
    {
     "name": "stderr",
     "output_type": "stream",
     "text": [
      "/root/miniconda3/envs/ptychopinn_ptychodus_pytorch/lib/python3.10/site-packages/scipy/__init__.py:146: UserWarning: A NumPy version >=1.17.3 and <1.25.0 is required for this version of SciPy (detected version 1.26.4\n",
      "  warnings.warn(f\"A NumPy version >={np_minversion} and <{np_maxversion}\"\n"
     ]
    }
   ],
   "source": [
    "import numpy as np\n",
    "import importlib\n",
    "\n",
    "import torch\n",
    "from torch.nn import functional as F\n",
    "from torch.utils.data import DataLoader, Subset\n",
    "\n",
    "import lightning as L\n",
    "import mlflow.pytorch\n",
    "from mlflow import MlflowClient\n",
    "\n",
    "from ptycho_torch.dset_loader_pt_mmap import PtychoDataset\n",
    "from ptycho_torch.model import PtychoPINN\n",
    "\n",
    "import matplotlib.pyplot as plt\n",
    "\n",
    "from ptycho_torch.config_params import TrainingConfig, DataConfig, ModelConfig"
   ]
  },
  {
   "cell_type": "code",
   "execution_count": 3,
   "metadata": {},
   "outputs": [],
   "source": [
    "data_config_default = {\n",
    "    'nphotons': 1e5,\n",
    "    'N': 128,\n",
    "    'C': 4,\n",
    "    'K': 6,\n",
    "    'n_subsample': 10,\n",
    "    'grid_size': (2,2),\n",
    "    'probe_dir_get': True,\n",
    "}\n",
    "\n",
    "\n",
    "model_config_default = {\n",
    "    'intensity_scale_trainable': True,\n",
    "    'max_position_jitter': 10, #Random jitter for translation (helps make model more robust)\n",
    "    'n_filters_scale': 2, #Shrinking factor for channels\n",
    "    'intensity_scale': 15000.0, #General intensity scale guess, this can be trainable. Needs to be float\n",
    "    'object.big': True, #True if need patch reassembly\n",
    "    'probe.big': True, #True if need patch reassembly\n",
    "    'offset': 4,\n",
    "    'loss_function': 'Poisson'\n",
    "}\n",
    "\n",
    "training_config_default = {\n",
    "    'nll': True, #Negative log likelihood for loss function\n",
    "    'device': 'cuda'\n",
    "}\n",
    "\n",
    "t_config, d_config, m_config = TrainingConfig(), DataConfig(), ModelConfig()\n",
    "\n",
    "t_config.set_settings(training_config_default)\n",
    "d_config.set_settings(data_config_default)\n",
    "m_config.set_settings(model_config_default)"
   ]
  },
  {
   "cell_type": "markdown",
   "metadata": {},
   "source": [
    "In this notebook we'll be testing the training of PtychoPINN in Pytorch."
   ]
  },
  {
   "cell_type": "markdown",
   "metadata": {},
   "source": [
    "First, we're going to generate a \"fake\" test dataset using data from /ptycho/datasets/Run1084_recon_postPC_"
   ]
  },
  {
   "cell_type": "markdown",
   "metadata": {},
   "source": [
    "# Testing out datagen methods"
   ]
  },
  {
   "cell_type": "code",
   "execution_count": 4,
   "metadata": {},
   "outputs": [
    {
     "data": {
      "text/plain": [
       "<module 'ptycho_torch.helper' from '/home/av_linux/PtychoPINN/ptycho_torch/helper.py'>"
      ]
     },
     "execution_count": 4,
     "metadata": {},
     "output_type": "execute_result"
    }
   ],
   "source": [
    "import ptycho_torch.helper as hh\n",
    "import ptycho_torch.datagen as dg\n",
    "import importlib\n",
    "\n",
    "importlib.reload(hh)"
   ]
  },
  {
   "cell_type": "code",
   "execution_count": 7,
   "metadata": {},
   "outputs": [],
   "source": [
    "output = dg.simulate_from_npz('ptycho_torch/datasets/als128.npy.npz', 2000)"
   ]
  },
  {
   "cell_type": "code",
   "execution_count": 8,
   "metadata": {},
   "outputs": [],
   "source": [
    "#Save output as npz file in similar location\n",
    "np.savez('ptycho_torch/datasets/als128_generated.npy.npz',\n",
    "         diff3d = output['diff3d'],\n",
    "         xcoords = output['xcoords'],\n",
    "         ycoords = output['ycoords'],\n",
    "         xcoords_start = output['xcoords_start'],\n",
    "         ycoords_start = output['ycoords_start'])\n"
   ]
  },
  {
   "cell_type": "markdown",
   "metadata": {},
   "source": [
    "# Testing out tensorloader and model throughput"
   ]
  },
  {
   "cell_type": "code",
   "execution_count": 4,
   "metadata": {},
   "outputs": [
    {
     "data": {
      "text/plain": [
       "<module 'ptycho_torch.dset_loader_pt_mmap' from '/home/av_linux/PtychoPINN/ptycho_torch/dset_loader_pt_mmap.py'>"
      ]
     },
     "execution_count": 4,
     "metadata": {},
     "output_type": "execute_result"
    }
   ],
   "source": [
    "import importlib\n",
    "import ptycho_torch\n",
    "importlib.reload(ptycho_torch.helper)\n",
    "importlib.reload(ptycho_torch.dset_loader_pt_mmap)"
   ]
  },
  {
   "cell_type": "code",
   "execution_count": 5,
   "metadata": {},
   "outputs": [],
   "source": [
    "from ptycho_torch.dset_loader_pt_mmap import TensorDictDataLoader\n",
    "import ptycho_torch.helper as hh\n"
   ]
  },
  {
   "cell_type": "code",
   "execution_count": 6,
   "metadata": {},
   "outputs": [],
   "source": [
    "#Setting probes\n",
    "\n",
    "#Need better separation of params and configs... confusing\n",
    "#Could separate into \n",
    "#1. Model \n",
    "#2. Training\n",
    "#3. Data\n",
    "\n",
    "\n",
    "dset_raw = np.load('ptycho_torch/datasets/als128.npy.npz')\n",
    "\n",
    "probe = dset_raw['probeGuess'][None]\n",
    "probe = torch.from_numpy(probe)\n",
    "\n",
    "# d_config.add('probes', probe)"
   ]
  },
  {
   "cell_type": "code",
   "execution_count": 13,
   "metadata": {},
   "outputs": [
    {
     "data": {
      "text/plain": [
       "tensor([[[0.+0.j, 0.+0.j, 0.+0.j,  ..., 0.+0.j, 0.+0.j, 0.+0.j],\n",
       "         [0.+0.j, 0.+0.j, 0.+0.j,  ..., 0.+0.j, 0.+0.j, 0.+0.j],\n",
       "         [0.+0.j, 0.+0.j, 0.+0.j,  ..., 0.+0.j, 0.+0.j, 0.+0.j],\n",
       "         ...,\n",
       "         [0.+0.j, 0.+0.j, 0.+0.j,  ..., 0.+0.j, 0.+0.j, 0.+0.j],\n",
       "         [0.+0.j, 0.+0.j, 0.+0.j,  ..., 0.+0.j, 0.+0.j, 0.+0.j],\n",
       "         [0.+0.j, 0.+0.j, 0.+0.j,  ..., 0.+0.j, 0.+0.j, 0.+0.j]]])"
      ]
     },
     "execution_count": 13,
     "metadata": {},
     "output_type": "execute_result"
    }
   ],
   "source": [
    "test = np.load('ptycho_torch/datasets/probes/probe1.npz')\n",
    "torch.from_numpy(test['probe'])"
   ]
  },
  {
   "cell_type": "code",
   "execution_count": 7,
   "metadata": {},
   "outputs": [
    {
     "name": "stdout",
     "output_type": "stream",
     "text": [
      "Creating memory mapped tensor dictionary...\n",
      "Memory map length: 20000\n",
      "Memory map creation time: 0.0035142898559570312\n",
      "Populating memory map for dataset 0\n",
      "Non-diffraction memory map write time: 0.0010762214660644531\n",
      "Diffraction memory map write time: 6.631332159042358\n"
     ]
    }
   ],
   "source": [
    "test_dset = PtychoDataset('ptycho_torch/datasets/dummy_data_small', 'ptycho_torch/datasets/probes',remake_map = True)"
   ]
  },
  {
   "cell_type": "code",
   "execution_count": 15,
   "metadata": {},
   "outputs": [
    {
     "ename": "AttributeError",
     "evalue": "'NoneType' object has no attribute 'shape'",
     "output_type": "error",
     "traceback": [
      "\u001b[0;31m---------------------------------------------------------------------------\u001b[0m",
      "\u001b[0;31mAttributeError\u001b[0m                            Traceback (most recent call last)",
      "Cell \u001b[0;32mIn[15], line 1\u001b[0m\n\u001b[0;32m----> 1\u001b[0m \u001b[43mtest_dset\u001b[49m\u001b[38;5;241;43m.\u001b[39;49m\u001b[43mdata_dict\u001b[49m\u001b[43m[\u001b[49m\u001b[38;5;124;43m'\u001b[39;49m\u001b[38;5;124;43mprobes\u001b[39;49m\u001b[38;5;124;43m'\u001b[39;49m\u001b[43m]\u001b[49m\u001b[38;5;241;43m.\u001b[39;49m\u001b[43mshape\u001b[49m\n",
      "\u001b[0;31mAttributeError\u001b[0m: 'NoneType' object has no attribute 'shape'"
     ]
    }
   ],
   "source": [
    "test_dset.data_dict['probes']"
   ]
  },
  {
   "cell_type": "code",
   "execution_count": 8,
   "metadata": {},
   "outputs": [
    {
     "ename": "TypeError",
     "evalue": "'NoneType' object is not subscriptable",
     "output_type": "error",
     "traceback": [
      "\u001b[0;31m---------------------------------------------------------------------------\u001b[0m",
      "\u001b[0;31mTypeError\u001b[0m                                 Traceback (most recent call last)",
      "Cell \u001b[0;32mIn[8], line 5\u001b[0m\n\u001b[1;32m      3\u001b[0m testloader \u001b[38;5;241m=\u001b[39m TensorDictDataLoader(test_dset, batch_size \u001b[38;5;241m=\u001b[39m \u001b[38;5;241m64\u001b[39m)\n\u001b[1;32m      4\u001b[0m \u001b[38;5;66;03m#Grab first iter from testloader\u001b[39;00m\n\u001b[0;32m----> 5\u001b[0m test_iter \u001b[38;5;241m=\u001b[39m \u001b[38;5;28;43mnext\u001b[39;49m\u001b[43m(\u001b[49m\u001b[38;5;28;43miter\u001b[39;49m\u001b[43m(\u001b[49m\u001b[43mtestloader\u001b[49m\u001b[43m)\u001b[49m\u001b[43m)\u001b[49m\n\u001b[1;32m      6\u001b[0m \u001b[38;5;66;03m#Move test_iter to gpu\u001b[39;00m\n\u001b[1;32m      7\u001b[0m \n\u001b[1;32m      8\u001b[0m \u001b[38;5;66;03m#Setting different tensors for model input\u001b[39;00m\n\u001b[1;32m      9\u001b[0m diff \u001b[38;5;241m=\u001b[39m test_iter[\u001b[38;5;241m0\u001b[39m][\u001b[38;5;124m'\u001b[39m\u001b[38;5;124mimages\u001b[39m\u001b[38;5;124m'\u001b[39m]\u001b[38;5;241m.\u001b[39mto(\u001b[38;5;124m'\u001b[39m\u001b[38;5;124mcuda\u001b[39m\u001b[38;5;124m'\u001b[39m)\n",
      "File \u001b[0;32m/home/av_linux/PtychoPINN/ptycho_torch/dset_loader_pt_mmap.py:398\u001b[0m, in \u001b[0;36mTensorDictDataLoader.__iter__\u001b[0;34m(self)\u001b[0m\n\u001b[1;32m    395\u001b[0m dataset \u001b[38;5;241m=\u001b[39m \u001b[38;5;28mself\u001b[39m\u001b[38;5;241m.\u001b[39mdataset\n\u001b[1;32m    397\u001b[0m \u001b[38;5;28;01mfor\u001b[39;00m batch_indices \u001b[38;5;129;01min\u001b[39;00m batch_sampler:\n\u001b[0;32m--> 398\u001b[0m     \u001b[38;5;28;01myield\u001b[39;00m \u001b[43mdataset\u001b[49m\u001b[43m[\u001b[49m\u001b[43mbatch_indices\u001b[49m\u001b[43m]\u001b[49m\n",
      "File \u001b[0;32m/home/av_linux/PtychoPINN/ptycho_torch/dset_loader_pt_mmap.py:375\u001b[0m, in \u001b[0;36mPtychoDataset.__getitem__\u001b[0;34m(self, idx)\u001b[0m\n\u001b[1;32m    372\u001b[0m channels \u001b[38;5;241m=\u001b[39m DataConfig()\u001b[38;5;241m.\u001b[39mget(\u001b[38;5;124m'\u001b[39m\u001b[38;5;124mC\u001b[39m\u001b[38;5;124m'\u001b[39m)\n\u001b[1;32m    374\u001b[0m \u001b[38;5;66;03m#Expand probe to match number of channels for data.\u001b[39;00m\n\u001b[0;32m--> 375\u001b[0m probes_indexed \u001b[38;5;241m=\u001b[39m \u001b[38;5;28;43mself\u001b[39;49m\u001b[38;5;241;43m.\u001b[39;49m\u001b[43mdata_dict\u001b[49m\u001b[43m[\u001b[49m\u001b[38;5;124;43m'\u001b[39;49m\u001b[38;5;124;43mprobes\u001b[39;49m\u001b[38;5;124;43m'\u001b[39;49m\u001b[43m]\u001b[49m\u001b[43m[\u001b[49m\u001b[43mexp_idx\u001b[49m\u001b[43m]\u001b[49m\u001b[38;5;241m.\u001b[39munsqueeze(\u001b[38;5;241m1\u001b[39m)\u001b[38;5;241m.\u001b[39mexpand(\u001b[38;5;241m-\u001b[39m\u001b[38;5;241m1\u001b[39m,channels,\u001b[38;5;241m-\u001b[39m\u001b[38;5;241m1\u001b[39m,\u001b[38;5;241m-\u001b[39m\u001b[38;5;241m1\u001b[39m)\n\u001b[1;32m    377\u001b[0m \u001b[38;5;66;03m#Scaling constant\u001b[39;00m\n\u001b[1;32m    378\u001b[0m scaling_const \u001b[38;5;241m=\u001b[39m \u001b[38;5;28mself\u001b[39m\u001b[38;5;241m.\u001b[39mdata_dict[\u001b[38;5;124m'\u001b[39m\u001b[38;5;124mscaling_constant\u001b[39m\u001b[38;5;124m'\u001b[39m][exp_idx]\n",
      "\u001b[0;31mTypeError\u001b[0m: 'NoneType' object is not subscriptable"
     ]
    }
   ],
   "source": [
    "#Loading dataloader with first batch\n",
    "\n",
    "testloader = TensorDictDataLoader(test_dset, batch_size = 64)\n",
    "#Grab first iter from testloader\n",
    "test_iter = next(iter(testloader))\n",
    "#Move test_iter to gpu\n",
    "\n",
    "#Setting different tensors for model input\n",
    "diff = test_iter[0]['images'].to('cuda')\n",
    "positions = test_iter[0]['coords_relative'].to('cuda')\n",
    "probe = test_iter[1].to('cuda')\n",
    "scaling = test_iter[2].to('cuda')"
   ]
  },
  {
   "cell_type": "code",
   "execution_count": 14,
   "metadata": {},
   "outputs": [
    {
     "data": {
      "text/plain": [
       "PtychoPINN(\n",
       "  (autoencoder): Autoencoder(\n",
       "    (encoder): Encoder(\n",
       "      (blocks): ModuleList(\n",
       "        (0): ConvPoolBlock(\n",
       "          (conv1): Conv2d(4, 32, kernel_size=(3, 3), stride=(1, 1), padding=(1, 1))\n",
       "          (conv2): Conv2d(32, 32, kernel_size=(3, 3), stride=(1, 1), padding=(1, 1))\n",
       "          (pool): MaxPool2d(kernel_size=(2, 2), stride=(2, 2), padding=0, dilation=1, ceil_mode=False)\n",
       "        )\n",
       "        (1): ConvPoolBlock(\n",
       "          (conv1): Conv2d(32, 64, kernel_size=(3, 3), stride=(1, 1), padding=(1, 1))\n",
       "          (conv2): Conv2d(64, 64, kernel_size=(3, 3), stride=(1, 1), padding=(1, 1))\n",
       "          (pool): MaxPool2d(kernel_size=(2, 2), stride=(2, 2), padding=0, dilation=1, ceil_mode=False)\n",
       "        )\n",
       "        (2): ConvPoolBlock(\n",
       "          (conv1): Conv2d(64, 128, kernel_size=(3, 3), stride=(1, 1), padding=(1, 1))\n",
       "          (conv2): Conv2d(128, 128, kernel_size=(3, 3), stride=(1, 1), padding=(1, 1))\n",
       "          (pool): MaxPool2d(kernel_size=(2, 2), stride=(2, 2), padding=0, dilation=1, ceil_mode=False)\n",
       "        )\n",
       "        (3): ConvPoolBlock(\n",
       "          (conv1): Conv2d(128, 256, kernel_size=(3, 3), stride=(1, 1), padding=(1, 1))\n",
       "          (conv2): Conv2d(256, 256, kernel_size=(3, 3), stride=(1, 1), padding=(1, 1))\n",
       "          (pool): MaxPool2d(kernel_size=(2, 2), stride=(2, 2), padding=0, dilation=1, ceil_mode=False)\n",
       "        )\n",
       "      )\n",
       "    )\n",
       "    (decoder_amp): Decoder_amp(\n",
       "      (blocks): ModuleList(\n",
       "        (0): ConvUpBlock(\n",
       "          (conv1): Conv2d(256, 256, kernel_size=(3, 3), stride=(1, 1), padding=(1, 1))\n",
       "          (conv2): Conv2d(256, 256, kernel_size=(3, 3), stride=(1, 1), padding=(1, 1))\n",
       "          (up): Upsample(scale_factor=(2.0, 2.0), mode='nearest')\n",
       "        )\n",
       "        (1): ConvUpBlock(\n",
       "          (conv1): Conv2d(256, 128, kernel_size=(3, 3), stride=(1, 1), padding=(1, 1))\n",
       "          (conv2): Conv2d(128, 128, kernel_size=(3, 3), stride=(1, 1), padding=(1, 1))\n",
       "          (up): Upsample(scale_factor=(2.0, 2.0), mode='nearest')\n",
       "        )\n",
       "        (2): ConvUpBlock(\n",
       "          (conv1): Conv2d(128, 64, kernel_size=(3, 3), stride=(1, 1), padding=(1, 1))\n",
       "          (conv2): Conv2d(64, 64, kernel_size=(3, 3), stride=(1, 1), padding=(1, 1))\n",
       "          (up): Upsample(scale_factor=(2.0, 2.0), mode='nearest')\n",
       "        )\n",
       "      )\n",
       "      (amp_activation): Tanh_custom_act()\n",
       "      (amp): Decoder_last(\n",
       "        (conv1): Conv2d(60, 1, kernel_size=(3, 3), stride=(1, 1), padding=(1, 1))\n",
       "        (conv_up_block): ConvUpBlock(\n",
       "          (conv1): Conv2d(4, 64, kernel_size=(3, 3), stride=(1, 1), padding=(1, 1))\n",
       "          (conv2): Conv2d(64, 64, kernel_size=(3, 3), stride=(1, 1), padding=(1, 1))\n",
       "          (up): Upsample(scale_factor=(2.0, 2.0), mode='nearest')\n",
       "        )\n",
       "        (conv2): Conv2d(64, 1, kernel_size=(3, 3), stride=(1, 1), padding=(1, 1))\n",
       "        (activation): Tanh_custom_act()\n",
       "        (padding): ConstantPad2d(padding=(32, 32, 32, 32), value=0)\n",
       "      )\n",
       "    )\n",
       "    (decoder_phase): Decoder_phase(\n",
       "      (blocks): ModuleList(\n",
       "        (0): ConvUpBlock(\n",
       "          (conv1): Conv2d(256, 256, kernel_size=(3, 3), stride=(1, 1), padding=(1, 1))\n",
       "          (conv2): Conv2d(256, 256, kernel_size=(3, 3), stride=(1, 1), padding=(1, 1))\n",
       "          (up): Upsample(scale_factor=(2.0, 2.0), mode='nearest')\n",
       "        )\n",
       "        (1): ConvUpBlock(\n",
       "          (conv1): Conv2d(256, 128, kernel_size=(3, 3), stride=(1, 1), padding=(1, 1))\n",
       "          (conv2): Conv2d(128, 128, kernel_size=(3, 3), stride=(1, 1), padding=(1, 1))\n",
       "          (up): Upsample(scale_factor=(2.0, 2.0), mode='nearest')\n",
       "        )\n",
       "        (2): ConvUpBlock(\n",
       "          (conv1): Conv2d(128, 64, kernel_size=(3, 3), stride=(1, 1), padding=(1, 1))\n",
       "          (conv2): Conv2d(64, 64, kernel_size=(3, 3), stride=(1, 1), padding=(1, 1))\n",
       "          (up): Upsample(scale_factor=(2.0, 2.0), mode='nearest')\n",
       "        )\n",
       "      )\n",
       "      (phase_activation): Tanh_custom_act()\n",
       "      (phase): Decoder_last(\n",
       "        (conv1): Conv2d(60, 4, kernel_size=(3, 3), stride=(1, 1), padding=(1, 1))\n",
       "        (conv_up_block): ConvUpBlock(\n",
       "          (conv1): Conv2d(4, 64, kernel_size=(3, 3), stride=(1, 1), padding=(1, 1))\n",
       "          (conv2): Conv2d(64, 64, kernel_size=(3, 3), stride=(1, 1), padding=(1, 1))\n",
       "          (up): Upsample(scale_factor=(2.0, 2.0), mode='nearest')\n",
       "        )\n",
       "        (conv2): Conv2d(64, 4, kernel_size=(3, 3), stride=(1, 1), padding=(1, 1))\n",
       "        (activation): Tanh_custom_act()\n",
       "        (padding): ConstantPad2d(padding=(32, 32, 32, 32), value=0)\n",
       "      )\n",
       "    )\n",
       "  )\n",
       "  (combine_complex): CombineComplex()\n",
       "  (forward_model): ForwardModel(\n",
       "    (reassemble_patches): LambdaLayer()\n",
       "    (pad_patches): LambdaLayer()\n",
       "    (trim_reconstruction): LambdaLayer()\n",
       "    (extract_patches): LambdaLayer()\n",
       "    (probe_illumination): ProbeIllumination()\n",
       "    (pad_and_diffract): LambdaLayer()\n",
       "    (inv_scale): LambdaLayer()\n",
       "  )\n",
       "  (Loss): PoissonLoss()\n",
       ")"
      ]
     },
     "execution_count": 14,
     "metadata": {},
     "output_type": "execute_result"
    }
   ],
   "source": [
    "model = PtychoPINN()\n",
    "model.to('cuda')"
   ]
  },
  {
   "cell_type": "code",
   "execution_count": 15,
   "metadata": {},
   "outputs": [],
   "source": [
    "model.training = True"
   ]
  },
  {
   "cell_type": "code",
   "execution_count": 11,
   "metadata": {},
   "outputs": [
    {
     "data": {
      "text/plain": [
       "device(type='cuda', index=0)"
      ]
     },
     "execution_count": 11,
     "metadata": {},
     "output_type": "execute_result"
    }
   ],
   "source": [
    "model.forward_model.probe_illumination.probe_mask.device"
   ]
  },
  {
   "cell_type": "code",
   "execution_count": 16,
   "metadata": {},
   "outputs": [
    {
     "name": "stdout",
     "output_type": "stream",
     "text": [
      "torch.Size([64, 4, 128, 128]) torch.Size([64, 1, 1, 1])\n"
     ]
    }
   ],
   "source": [
    "out = model(diff.to(torch.float32), positions.to(torch.float32), probe, scaling)"
   ]
  },
  {
   "cell_type": "code",
   "execution_count": 18,
   "metadata": {},
   "outputs": [
    {
     "data": {
      "text/plain": [
       "tensor([3.5952, 3.5952, 3.5952, 3.5952, 3.5952, 3.5952, 3.5952, 3.5952, 3.5952,\n",
       "        3.5952, 3.5952, 3.5952, 3.5952, 3.5952, 3.5952, 3.5952, 3.5952, 3.5952,\n",
       "        3.5952, 3.5952, 3.5952, 3.5952, 3.5952, 3.5952, 3.5952, 3.5952, 3.5952,\n",
       "        3.5952, 3.5952, 3.5952, 3.5952, 3.5952, 3.5952, 3.5952, 3.5952, 3.5952,\n",
       "        3.5952, 3.5952, 3.5952, 3.5952, 3.5952, 3.5952, 3.5952, 3.5952, 3.5952,\n",
       "        3.5952, 3.5952, 3.5952, 3.5952, 3.5952, 3.5952, 3.5952, 3.5952, 3.5952,\n",
       "        3.5952, 3.5952, 3.5952, 3.5952, 3.5952, 3.5952, 3.5952, 3.5952, 3.5952,\n",
       "        3.5952], device='cuda:0', dtype=torch.float64, grad_fn=<NegBackward0>)"
      ]
     },
     "execution_count": 18,
     "metadata": {},
     "output_type": "execute_result"
    }
   ],
   "source": [
    "out"
   ]
  },
  {
   "cell_type": "code",
   "execution_count": 19,
   "metadata": {},
   "outputs": [
    {
     "name": "stdout",
     "output_type": "stream",
     "text": [
      "torch.Size([64, 4, 128, 128]) torch.Size([64, 1, 1, 1])\n"
     ]
    },
    {
     "data": {
      "text/plain": [
       "tensor([[[[1.1875e-05, 1.5400e-05, 2.2037e-05,  ..., 2.3045e-05,\n",
       "           1.1115e-05, 2.5700e-05],\n",
       "          [2.2944e-05, 1.0267e-05, 3.6161e-05,  ..., 2.0793e-05,\n",
       "           2.7142e-05, 1.9291e-05],\n",
       "          [2.3617e-05, 1.5591e-05, 1.7429e-05,  ..., 1.1522e-05,\n",
       "           2.5235e-05, 1.8305e-05],\n",
       "          ...,\n",
       "          [2.5047e-05, 3.3321e-05, 2.2103e-05,  ..., 1.8326e-05,\n",
       "           3.8828e-06, 1.8048e-05],\n",
       "          [6.2500e-06, 1.6357e-05, 1.4472e-05,  ..., 2.6845e-05,\n",
       "           2.0004e-05, 1.4832e-05],\n",
       "          [1.0256e-05, 1.2655e-05, 1.6549e-05,  ..., 2.9771e-05,\n",
       "           2.0666e-05, 2.5537e-05]],\n",
       "\n",
       "         [[1.1875e-05, 1.5400e-05, 2.2037e-05,  ..., 2.3045e-05,\n",
       "           1.1115e-05, 2.5700e-05],\n",
       "          [2.2944e-05, 1.0267e-05, 3.6161e-05,  ..., 2.0793e-05,\n",
       "           2.7142e-05, 1.9291e-05],\n",
       "          [2.3617e-05, 1.5591e-05, 1.7429e-05,  ..., 1.1522e-05,\n",
       "           2.5235e-05, 1.8305e-05],\n",
       "          ...,\n",
       "          [2.5047e-05, 3.3321e-05, 2.2103e-05,  ..., 1.8326e-05,\n",
       "           3.8828e-06, 1.8048e-05],\n",
       "          [6.2500e-06, 1.6357e-05, 1.4472e-05,  ..., 2.6845e-05,\n",
       "           2.0004e-05, 1.4832e-05],\n",
       "          [1.0256e-05, 1.2655e-05, 1.6549e-05,  ..., 2.9771e-05,\n",
       "           2.0666e-05, 2.5537e-05]],\n",
       "\n",
       "         [[1.1875e-05, 1.5400e-05, 2.2037e-05,  ..., 2.3045e-05,\n",
       "           1.1115e-05, 2.5700e-05],\n",
       "          [2.2944e-05, 1.0267e-05, 3.6161e-05,  ..., 2.0793e-05,\n",
       "           2.7142e-05, 1.9291e-05],\n",
       "          [2.3617e-05, 1.5591e-05, 1.7429e-05,  ..., 1.1522e-05,\n",
       "           2.5235e-05, 1.8305e-05],\n",
       "          ...,\n",
       "          [2.5047e-05, 3.3321e-05, 2.2103e-05,  ..., 1.8326e-05,\n",
       "           3.8828e-06, 1.8048e-05],\n",
       "          [6.2500e-06, 1.6357e-05, 1.4472e-05,  ..., 2.6845e-05,\n",
       "           2.0004e-05, 1.4832e-05],\n",
       "          [1.0256e-05, 1.2655e-05, 1.6549e-05,  ..., 2.9771e-05,\n",
       "           2.0666e-05, 2.5537e-05]],\n",
       "\n",
       "         [[1.1875e-05, 1.5400e-05, 2.2037e-05,  ..., 2.3045e-05,\n",
       "           1.1115e-05, 2.5700e-05],\n",
       "          [2.2944e-05, 1.0267e-05, 3.6161e-05,  ..., 2.0793e-05,\n",
       "           2.7142e-05, 1.9291e-05],\n",
       "          [2.3617e-05, 1.5591e-05, 1.7429e-05,  ..., 1.1522e-05,\n",
       "           2.5235e-05, 1.8305e-05],\n",
       "          ...,\n",
       "          [2.5047e-05, 3.3321e-05, 2.2103e-05,  ..., 1.8326e-05,\n",
       "           3.8828e-06, 1.8048e-05],\n",
       "          [6.2500e-06, 1.6357e-05, 1.4472e-05,  ..., 2.6845e-05,\n",
       "           2.0004e-05, 1.4832e-05],\n",
       "          [1.0256e-05, 1.2655e-05, 1.6549e-05,  ..., 2.9771e-05,\n",
       "           2.0666e-05, 2.5537e-05]]],\n",
       "\n",
       "\n",
       "        [[[1.1875e-05, 1.5400e-05, 2.2037e-05,  ..., 2.3045e-05,\n",
       "           1.1115e-05, 2.5700e-05],\n",
       "          [2.2944e-05, 1.0267e-05, 3.6161e-05,  ..., 2.0793e-05,\n",
       "           2.7142e-05, 1.9291e-05],\n",
       "          [2.3617e-05, 1.5591e-05, 1.7429e-05,  ..., 1.1522e-05,\n",
       "           2.5235e-05, 1.8305e-05],\n",
       "          ...,\n",
       "          [2.5047e-05, 3.3321e-05, 2.2103e-05,  ..., 1.8326e-05,\n",
       "           3.8828e-06, 1.8048e-05],\n",
       "          [6.2500e-06, 1.6357e-05, 1.4472e-05,  ..., 2.6845e-05,\n",
       "           2.0004e-05, 1.4832e-05],\n",
       "          [1.0256e-05, 1.2655e-05, 1.6549e-05,  ..., 2.9771e-05,\n",
       "           2.0666e-05, 2.5537e-05]],\n",
       "\n",
       "         [[1.1875e-05, 1.5400e-05, 2.2037e-05,  ..., 2.3045e-05,\n",
       "           1.1115e-05, 2.5700e-05],\n",
       "          [2.2944e-05, 1.0267e-05, 3.6161e-05,  ..., 2.0793e-05,\n",
       "           2.7142e-05, 1.9291e-05],\n",
       "          [2.3617e-05, 1.5591e-05, 1.7429e-05,  ..., 1.1522e-05,\n",
       "           2.5235e-05, 1.8305e-05],\n",
       "          ...,\n",
       "          [2.5047e-05, 3.3321e-05, 2.2103e-05,  ..., 1.8326e-05,\n",
       "           3.8828e-06, 1.8048e-05],\n",
       "          [6.2500e-06, 1.6357e-05, 1.4472e-05,  ..., 2.6845e-05,\n",
       "           2.0004e-05, 1.4832e-05],\n",
       "          [1.0256e-05, 1.2655e-05, 1.6549e-05,  ..., 2.9771e-05,\n",
       "           2.0666e-05, 2.5537e-05]],\n",
       "\n",
       "         [[1.1875e-05, 1.5400e-05, 2.2037e-05,  ..., 2.3045e-05,\n",
       "           1.1115e-05, 2.5700e-05],\n",
       "          [2.2944e-05, 1.0267e-05, 3.6161e-05,  ..., 2.0793e-05,\n",
       "           2.7142e-05, 1.9291e-05],\n",
       "          [2.3617e-05, 1.5591e-05, 1.7429e-05,  ..., 1.1522e-05,\n",
       "           2.5235e-05, 1.8305e-05],\n",
       "          ...,\n",
       "          [2.5047e-05, 3.3321e-05, 2.2103e-05,  ..., 1.8326e-05,\n",
       "           3.8828e-06, 1.8048e-05],\n",
       "          [6.2500e-06, 1.6357e-05, 1.4472e-05,  ..., 2.6845e-05,\n",
       "           2.0004e-05, 1.4832e-05],\n",
       "          [1.0256e-05, 1.2655e-05, 1.6549e-05,  ..., 2.9771e-05,\n",
       "           2.0666e-05, 2.5537e-05]],\n",
       "\n",
       "         [[1.1875e-05, 1.5400e-05, 2.2037e-05,  ..., 2.3045e-05,\n",
       "           1.1115e-05, 2.5700e-05],\n",
       "          [2.2944e-05, 1.0267e-05, 3.6161e-05,  ..., 2.0793e-05,\n",
       "           2.7142e-05, 1.9291e-05],\n",
       "          [2.3617e-05, 1.5591e-05, 1.7429e-05,  ..., 1.1522e-05,\n",
       "           2.5235e-05, 1.8305e-05],\n",
       "          ...,\n",
       "          [2.5047e-05, 3.3321e-05, 2.2103e-05,  ..., 1.8326e-05,\n",
       "           3.8828e-06, 1.8048e-05],\n",
       "          [6.2500e-06, 1.6357e-05, 1.4472e-05,  ..., 2.6845e-05,\n",
       "           2.0004e-05, 1.4832e-05],\n",
       "          [1.0256e-05, 1.2655e-05, 1.6549e-05,  ..., 2.9771e-05,\n",
       "           2.0666e-05, 2.5537e-05]]],\n",
       "\n",
       "\n",
       "        [[[1.1875e-05, 1.5400e-05, 2.2037e-05,  ..., 2.3045e-05,\n",
       "           1.1115e-05, 2.5700e-05],\n",
       "          [2.2944e-05, 1.0267e-05, 3.6161e-05,  ..., 2.0793e-05,\n",
       "           2.7142e-05, 1.9291e-05],\n",
       "          [2.3617e-05, 1.5591e-05, 1.7429e-05,  ..., 1.1522e-05,\n",
       "           2.5235e-05, 1.8305e-05],\n",
       "          ...,\n",
       "          [2.5047e-05, 3.3321e-05, 2.2103e-05,  ..., 1.8326e-05,\n",
       "           3.8828e-06, 1.8048e-05],\n",
       "          [6.2500e-06, 1.6357e-05, 1.4472e-05,  ..., 2.6845e-05,\n",
       "           2.0004e-05, 1.4832e-05],\n",
       "          [1.0256e-05, 1.2655e-05, 1.6549e-05,  ..., 2.9771e-05,\n",
       "           2.0666e-05, 2.5537e-05]],\n",
       "\n",
       "         [[1.1875e-05, 1.5400e-05, 2.2037e-05,  ..., 2.3045e-05,\n",
       "           1.1115e-05, 2.5700e-05],\n",
       "          [2.2944e-05, 1.0267e-05, 3.6161e-05,  ..., 2.0793e-05,\n",
       "           2.7142e-05, 1.9291e-05],\n",
       "          [2.3617e-05, 1.5591e-05, 1.7429e-05,  ..., 1.1522e-05,\n",
       "           2.5235e-05, 1.8305e-05],\n",
       "          ...,\n",
       "          [2.5047e-05, 3.3321e-05, 2.2103e-05,  ..., 1.8326e-05,\n",
       "           3.8828e-06, 1.8048e-05],\n",
       "          [6.2500e-06, 1.6357e-05, 1.4472e-05,  ..., 2.6845e-05,\n",
       "           2.0004e-05, 1.4832e-05],\n",
       "          [1.0256e-05, 1.2655e-05, 1.6549e-05,  ..., 2.9771e-05,\n",
       "           2.0666e-05, 2.5537e-05]],\n",
       "\n",
       "         [[1.1875e-05, 1.5400e-05, 2.2037e-05,  ..., 2.3045e-05,\n",
       "           1.1115e-05, 2.5700e-05],\n",
       "          [2.2944e-05, 1.0267e-05, 3.6161e-05,  ..., 2.0793e-05,\n",
       "           2.7142e-05, 1.9291e-05],\n",
       "          [2.3617e-05, 1.5591e-05, 1.7429e-05,  ..., 1.1522e-05,\n",
       "           2.5235e-05, 1.8305e-05],\n",
       "          ...,\n",
       "          [2.5047e-05, 3.3321e-05, 2.2103e-05,  ..., 1.8326e-05,\n",
       "           3.8828e-06, 1.8048e-05],\n",
       "          [6.2500e-06, 1.6357e-05, 1.4472e-05,  ..., 2.6845e-05,\n",
       "           2.0004e-05, 1.4832e-05],\n",
       "          [1.0256e-05, 1.2655e-05, 1.6549e-05,  ..., 2.9771e-05,\n",
       "           2.0666e-05, 2.5537e-05]],\n",
       "\n",
       "         [[1.1875e-05, 1.5400e-05, 2.2037e-05,  ..., 2.3045e-05,\n",
       "           1.1115e-05, 2.5700e-05],\n",
       "          [2.2944e-05, 1.0267e-05, 3.6161e-05,  ..., 2.0793e-05,\n",
       "           2.7142e-05, 1.9291e-05],\n",
       "          [2.3617e-05, 1.5591e-05, 1.7429e-05,  ..., 1.1522e-05,\n",
       "           2.5235e-05, 1.8305e-05],\n",
       "          ...,\n",
       "          [2.5047e-05, 3.3321e-05, 2.2103e-05,  ..., 1.8326e-05,\n",
       "           3.8828e-06, 1.8048e-05],\n",
       "          [6.2500e-06, 1.6357e-05, 1.4472e-05,  ..., 2.6845e-05,\n",
       "           2.0004e-05, 1.4832e-05],\n",
       "          [1.0256e-05, 1.2655e-05, 1.6549e-05,  ..., 2.9771e-05,\n",
       "           2.0666e-05, 2.5537e-05]]],\n",
       "\n",
       "\n",
       "        ...,\n",
       "\n",
       "\n",
       "        [[[1.1875e-05, 1.5400e-05, 2.2037e-05,  ..., 2.3045e-05,\n",
       "           1.1115e-05, 2.5700e-05],\n",
       "          [2.2944e-05, 1.0267e-05, 3.6161e-05,  ..., 2.0793e-05,\n",
       "           2.7142e-05, 1.9291e-05],\n",
       "          [2.3617e-05, 1.5591e-05, 1.7429e-05,  ..., 1.1522e-05,\n",
       "           2.5235e-05, 1.8305e-05],\n",
       "          ...,\n",
       "          [2.5047e-05, 3.3321e-05, 2.2103e-05,  ..., 1.8326e-05,\n",
       "           3.8828e-06, 1.8048e-05],\n",
       "          [6.2500e-06, 1.6357e-05, 1.4472e-05,  ..., 2.6845e-05,\n",
       "           2.0004e-05, 1.4832e-05],\n",
       "          [1.0256e-05, 1.2655e-05, 1.6549e-05,  ..., 2.9771e-05,\n",
       "           2.0666e-05, 2.5537e-05]],\n",
       "\n",
       "         [[1.1875e-05, 1.5400e-05, 2.2037e-05,  ..., 2.3045e-05,\n",
       "           1.1115e-05, 2.5700e-05],\n",
       "          [2.2944e-05, 1.0267e-05, 3.6161e-05,  ..., 2.0793e-05,\n",
       "           2.7142e-05, 1.9291e-05],\n",
       "          [2.3617e-05, 1.5591e-05, 1.7429e-05,  ..., 1.1522e-05,\n",
       "           2.5235e-05, 1.8305e-05],\n",
       "          ...,\n",
       "          [2.5047e-05, 3.3321e-05, 2.2103e-05,  ..., 1.8326e-05,\n",
       "           3.8828e-06, 1.8048e-05],\n",
       "          [6.2500e-06, 1.6357e-05, 1.4472e-05,  ..., 2.6845e-05,\n",
       "           2.0004e-05, 1.4832e-05],\n",
       "          [1.0256e-05, 1.2655e-05, 1.6549e-05,  ..., 2.9771e-05,\n",
       "           2.0666e-05, 2.5537e-05]],\n",
       "\n",
       "         [[1.1875e-05, 1.5400e-05, 2.2037e-05,  ..., 2.3045e-05,\n",
       "           1.1115e-05, 2.5700e-05],\n",
       "          [2.2944e-05, 1.0267e-05, 3.6161e-05,  ..., 2.0793e-05,\n",
       "           2.7142e-05, 1.9291e-05],\n",
       "          [2.3617e-05, 1.5591e-05, 1.7429e-05,  ..., 1.1522e-05,\n",
       "           2.5235e-05, 1.8305e-05],\n",
       "          ...,\n",
       "          [2.5047e-05, 3.3321e-05, 2.2103e-05,  ..., 1.8326e-05,\n",
       "           3.8828e-06, 1.8048e-05],\n",
       "          [6.2500e-06, 1.6357e-05, 1.4472e-05,  ..., 2.6845e-05,\n",
       "           2.0004e-05, 1.4832e-05],\n",
       "          [1.0256e-05, 1.2655e-05, 1.6549e-05,  ..., 2.9771e-05,\n",
       "           2.0666e-05, 2.5537e-05]],\n",
       "\n",
       "         [[1.1875e-05, 1.5400e-05, 2.2037e-05,  ..., 2.3045e-05,\n",
       "           1.1115e-05, 2.5700e-05],\n",
       "          [2.2944e-05, 1.0267e-05, 3.6161e-05,  ..., 2.0793e-05,\n",
       "           2.7142e-05, 1.9291e-05],\n",
       "          [2.3617e-05, 1.5591e-05, 1.7429e-05,  ..., 1.1522e-05,\n",
       "           2.5235e-05, 1.8305e-05],\n",
       "          ...,\n",
       "          [2.5047e-05, 3.3321e-05, 2.2103e-05,  ..., 1.8326e-05,\n",
       "           3.8828e-06, 1.8048e-05],\n",
       "          [6.2500e-06, 1.6357e-05, 1.4472e-05,  ..., 2.6845e-05,\n",
       "           2.0004e-05, 1.4832e-05],\n",
       "          [1.0256e-05, 1.2655e-05, 1.6549e-05,  ..., 2.9771e-05,\n",
       "           2.0666e-05, 2.5537e-05]]],\n",
       "\n",
       "\n",
       "        [[[1.1875e-05, 1.5400e-05, 2.2037e-05,  ..., 2.3045e-05,\n",
       "           1.1115e-05, 2.5700e-05],\n",
       "          [2.2944e-05, 1.0267e-05, 3.6161e-05,  ..., 2.0793e-05,\n",
       "           2.7142e-05, 1.9291e-05],\n",
       "          [2.3617e-05, 1.5591e-05, 1.7429e-05,  ..., 1.1522e-05,\n",
       "           2.5235e-05, 1.8305e-05],\n",
       "          ...,\n",
       "          [2.5047e-05, 3.3321e-05, 2.2103e-05,  ..., 1.8326e-05,\n",
       "           3.8828e-06, 1.8048e-05],\n",
       "          [6.2500e-06, 1.6357e-05, 1.4472e-05,  ..., 2.6845e-05,\n",
       "           2.0004e-05, 1.4832e-05],\n",
       "          [1.0256e-05, 1.2655e-05, 1.6549e-05,  ..., 2.9771e-05,\n",
       "           2.0666e-05, 2.5537e-05]],\n",
       "\n",
       "         [[1.1875e-05, 1.5400e-05, 2.2037e-05,  ..., 2.3045e-05,\n",
       "           1.1115e-05, 2.5700e-05],\n",
       "          [2.2944e-05, 1.0267e-05, 3.6161e-05,  ..., 2.0793e-05,\n",
       "           2.7142e-05, 1.9291e-05],\n",
       "          [2.3617e-05, 1.5591e-05, 1.7429e-05,  ..., 1.1522e-05,\n",
       "           2.5235e-05, 1.8305e-05],\n",
       "          ...,\n",
       "          [2.5047e-05, 3.3321e-05, 2.2103e-05,  ..., 1.8326e-05,\n",
       "           3.8828e-06, 1.8048e-05],\n",
       "          [6.2500e-06, 1.6357e-05, 1.4472e-05,  ..., 2.6845e-05,\n",
       "           2.0004e-05, 1.4832e-05],\n",
       "          [1.0256e-05, 1.2655e-05, 1.6549e-05,  ..., 2.9771e-05,\n",
       "           2.0666e-05, 2.5537e-05]],\n",
       "\n",
       "         [[1.1875e-05, 1.5400e-05, 2.2037e-05,  ..., 2.3045e-05,\n",
       "           1.1115e-05, 2.5700e-05],\n",
       "          [2.2944e-05, 1.0267e-05, 3.6161e-05,  ..., 2.0793e-05,\n",
       "           2.7142e-05, 1.9291e-05],\n",
       "          [2.3617e-05, 1.5591e-05, 1.7429e-05,  ..., 1.1522e-05,\n",
       "           2.5235e-05, 1.8305e-05],\n",
       "          ...,\n",
       "          [2.5047e-05, 3.3321e-05, 2.2103e-05,  ..., 1.8326e-05,\n",
       "           3.8828e-06, 1.8048e-05],\n",
       "          [6.2500e-06, 1.6357e-05, 1.4472e-05,  ..., 2.6845e-05,\n",
       "           2.0004e-05, 1.4832e-05],\n",
       "          [1.0256e-05, 1.2655e-05, 1.6549e-05,  ..., 2.9771e-05,\n",
       "           2.0666e-05, 2.5537e-05]],\n",
       "\n",
       "         [[1.1875e-05, 1.5400e-05, 2.2037e-05,  ..., 2.3045e-05,\n",
       "           1.1115e-05, 2.5700e-05],\n",
       "          [2.2944e-05, 1.0267e-05, 3.6161e-05,  ..., 2.0793e-05,\n",
       "           2.7142e-05, 1.9291e-05],\n",
       "          [2.3617e-05, 1.5591e-05, 1.7429e-05,  ..., 1.1522e-05,\n",
       "           2.5235e-05, 1.8305e-05],\n",
       "          ...,\n",
       "          [2.5047e-05, 3.3321e-05, 2.2103e-05,  ..., 1.8326e-05,\n",
       "           3.8828e-06, 1.8048e-05],\n",
       "          [6.2500e-06, 1.6357e-05, 1.4472e-05,  ..., 2.6845e-05,\n",
       "           2.0004e-05, 1.4832e-05],\n",
       "          [1.0256e-05, 1.2655e-05, 1.6549e-05,  ..., 2.9771e-05,\n",
       "           2.0666e-05, 2.5537e-05]]],\n",
       "\n",
       "\n",
       "        [[[1.1875e-05, 1.5400e-05, 2.2037e-05,  ..., 2.3045e-05,\n",
       "           1.1115e-05, 2.5700e-05],\n",
       "          [2.2944e-05, 1.0267e-05, 3.6161e-05,  ..., 2.0793e-05,\n",
       "           2.7142e-05, 1.9291e-05],\n",
       "          [2.3617e-05, 1.5591e-05, 1.7429e-05,  ..., 1.1522e-05,\n",
       "           2.5235e-05, 1.8305e-05],\n",
       "          ...,\n",
       "          [2.5047e-05, 3.3321e-05, 2.2103e-05,  ..., 1.8326e-05,\n",
       "           3.8828e-06, 1.8048e-05],\n",
       "          [6.2500e-06, 1.6357e-05, 1.4472e-05,  ..., 2.6845e-05,\n",
       "           2.0004e-05, 1.4832e-05],\n",
       "          [1.0256e-05, 1.2655e-05, 1.6549e-05,  ..., 2.9771e-05,\n",
       "           2.0666e-05, 2.5537e-05]],\n",
       "\n",
       "         [[1.1875e-05, 1.5400e-05, 2.2037e-05,  ..., 2.3045e-05,\n",
       "           1.1115e-05, 2.5700e-05],\n",
       "          [2.2944e-05, 1.0267e-05, 3.6161e-05,  ..., 2.0793e-05,\n",
       "           2.7142e-05, 1.9291e-05],\n",
       "          [2.3617e-05, 1.5591e-05, 1.7429e-05,  ..., 1.1522e-05,\n",
       "           2.5235e-05, 1.8305e-05],\n",
       "          ...,\n",
       "          [2.5047e-05, 3.3321e-05, 2.2103e-05,  ..., 1.8326e-05,\n",
       "           3.8828e-06, 1.8048e-05],\n",
       "          [6.2500e-06, 1.6357e-05, 1.4472e-05,  ..., 2.6845e-05,\n",
       "           2.0004e-05, 1.4832e-05],\n",
       "          [1.0256e-05, 1.2655e-05, 1.6549e-05,  ..., 2.9771e-05,\n",
       "           2.0666e-05, 2.5537e-05]],\n",
       "\n",
       "         [[1.1875e-05, 1.5400e-05, 2.2037e-05,  ..., 2.3045e-05,\n",
       "           1.1115e-05, 2.5700e-05],\n",
       "          [2.2944e-05, 1.0267e-05, 3.6161e-05,  ..., 2.0793e-05,\n",
       "           2.7142e-05, 1.9291e-05],\n",
       "          [2.3617e-05, 1.5591e-05, 1.7429e-05,  ..., 1.1522e-05,\n",
       "           2.5235e-05, 1.8305e-05],\n",
       "          ...,\n",
       "          [2.5047e-05, 3.3321e-05, 2.2103e-05,  ..., 1.8326e-05,\n",
       "           3.8828e-06, 1.8048e-05],\n",
       "          [6.2500e-06, 1.6357e-05, 1.4472e-05,  ..., 2.6845e-05,\n",
       "           2.0004e-05, 1.4832e-05],\n",
       "          [1.0256e-05, 1.2655e-05, 1.6549e-05,  ..., 2.9771e-05,\n",
       "           2.0666e-05, 2.5537e-05]],\n",
       "\n",
       "         [[1.1875e-05, 1.5400e-05, 2.2037e-05,  ..., 2.3045e-05,\n",
       "           1.1115e-05, 2.5700e-05],\n",
       "          [2.2944e-05, 1.0267e-05, 3.6161e-05,  ..., 2.0793e-05,\n",
       "           2.7142e-05, 1.9291e-05],\n",
       "          [2.3617e-05, 1.5591e-05, 1.7429e-05,  ..., 1.1522e-05,\n",
       "           2.5235e-05, 1.8305e-05],\n",
       "          ...,\n",
       "          [2.5047e-05, 3.3321e-05, 2.2103e-05,  ..., 1.8326e-05,\n",
       "           3.8828e-06, 1.8048e-05],\n",
       "          [6.2500e-06, 1.6357e-05, 1.4472e-05,  ..., 2.6845e-05,\n",
       "           2.0004e-05, 1.4832e-05],\n",
       "          [1.0256e-05, 1.2655e-05, 1.6549e-05,  ..., 2.9771e-05,\n",
       "           2.0666e-05, 2.5537e-05]]]], device='cuda:0', dtype=torch.float64,\n",
       "       grad_fn=<MulBackward0>)"
      ]
     },
     "execution_count": 19,
     "metadata": {},
     "output_type": "execute_result"
    }
   ],
   "source": [
    "model.training = False\n",
    "out_notrain = model(diff.to(torch.float32), positions.to(torch.float32), probe, scaling)\n",
    "\n",
    "out_notrain"
   ]
  },
  {
   "cell_type": "markdown",
   "metadata": {},
   "source": [
    "Basic training loop (to make sure something is happening)"
   ]
  },
  {
   "cell_type": "code",
   "execution_count": 26,
   "metadata": {},
   "outputs": [
    {
     "data": {
      "text/plain": [
       "{'nll': True}"
      ]
     },
     "execution_count": 26,
     "metadata": {},
     "output_type": "execute_result"
    }
   ],
   "source": [
    "from ptycho_torch.config_params import training_config_default\n",
    "\n",
    "training_config_default"
   ]
  },
  {
   "cell_type": "code",
   "execution_count": null,
   "metadata": {},
   "outputs": [],
   "source": []
  }
 ],
 "metadata": {
  "kernelspec": {
   "display_name": "ptychopinn_ptychodus_pytorch",
   "language": "python",
   "name": "python3"
  },
  "language_info": {
   "codemirror_mode": {
    "name": "ipython",
    "version": 3
   },
   "file_extension": ".py",
   "mimetype": "text/x-python",
   "name": "python",
   "nbconvert_exporter": "python",
   "pygments_lexer": "ipython3",
   "version": "3.10.14"
  }
 },
 "nbformat": 4,
 "nbformat_minor": 2
}
