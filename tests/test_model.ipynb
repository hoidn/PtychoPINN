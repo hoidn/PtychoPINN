{
 "cells": [
  {
   "cell_type": "code",
   "execution_count": 8,
   "metadata": {},
   "outputs": [
    {
     "name": "stdout",
     "output_type": "stream",
     "text": [
      "['/home/beams/AVONG/miniconda3/envs/ptychopinn_pytorch/lib/python312.zip', '/home/beams/AVONG/miniconda3/envs/ptychopinn_pytorch/lib/python3.12', '/home/beams/AVONG/miniconda3/envs/ptychopinn_pytorch/lib/python3.12/lib-dynload', '', '/home/beams/AVONG/miniconda3/envs/ptychopinn_pytorch/lib/python3.12/site-packages', 'local/PtychoPINN', '..']\n"
     ]
    }
   ],
   "source": [
    "import torch\n",
    "import sys\n",
    "from torch import nn\n",
    "\n",
    "#Sys get current directory\n",
    "print(sys.path)\n",
    "sys.path.append('local/PtychoPINN')\n",
    "sys.path.append('..')\n",
    "\n",
    "from ptycho_torch import model"
   ]
  },
  {
   "cell_type": "code",
   "execution_count": 5,
   "metadata": {},
   "outputs": [],
   "source": [
    "#Testing out convpoolblock\n",
    "#Create a test tensor in pytorch of size (10,4,64,64)\n",
    "test_tensor = torch.randn(10,4,64,64)\n",
    "\n",
    "convblock = model.ConvPoolBlock(4)\n",
    "\n"
   ]
  },
  {
   "cell_type": "code",
   "execution_count": 6,
   "metadata": {},
   "outputs": [],
   "source": [
    "#Run tensor through convpoolblock\n",
    "output = convblock(test_tensor)\n"
   ]
  },
  {
   "cell_type": "code",
   "execution_count": 15,
   "metadata": {},
   "outputs": [],
   "source": [
    "pool = nn.MaxPool2d(kernel_size=(2, 2),\n",
    "                    padding = 0)"
   ]
  },
  {
   "cell_type": "code",
   "execution_count": 16,
   "metadata": {},
   "outputs": [
    {
     "data": {
      "text/plain": [
       "torch.Size([10, 4, 32, 32])"
      ]
     },
     "execution_count": 16,
     "metadata": {},
     "output_type": "execute_result"
    }
   ],
   "source": [
    "pool(test_tensor).shape"
   ]
  },
  {
   "cell_type": "code",
   "execution_count": 17,
   "metadata": {},
   "outputs": [],
   "source": [
    "import math"
   ]
  },
  {
   "cell_type": "code",
   "execution_count": 18,
   "metadata": {},
   "outputs": [
    {
     "data": {
      "text/plain": [
       "2.0"
      ]
     },
     "execution_count": 18,
     "metadata": {},
     "output_type": "execute_result"
    }
   ],
   "source": [
    "math.log(128/32,2)"
   ]
  },
  {
   "cell_type": "code",
   "execution_count": null,
   "metadata": {},
   "outputs": [],
   "source": []
  }
 ],
 "metadata": {
  "kernelspec": {
   "display_name": "ptychopinn_pytorch",
   "language": "python",
   "name": "python3"
  },
  "language_info": {
   "codemirror_mode": {
    "name": "ipython",
    "version": 3
   },
   "file_extension": ".py",
   "mimetype": "text/x-python",
   "name": "python",
   "nbconvert_exporter": "python",
   "pygments_lexer": "ipython3",
   "version": "3.12.2"
  }
 },
 "nbformat": 4,
 "nbformat_minor": 2
}
