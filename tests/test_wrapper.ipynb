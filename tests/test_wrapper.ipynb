{
 "cells": [
  {
   "cell_type": "code",
   "execution_count": 1,
   "metadata": {},
   "outputs": [
    {
     "name": "stderr",
     "output_type": "stream",
     "text": [
      "2024-05-31 12:21:09.053769: E external/local_xla/xla/stream_executor/cuda/cuda_dnn.cc:9261] Unable to register cuDNN factory: Attempting to register factory for plugin cuDNN when one has already been registered\n",
      "2024-05-31 12:21:09.053826: E external/local_xla/xla/stream_executor/cuda/cuda_fft.cc:607] Unable to register cuFFT factory: Attempting to register factory for plugin cuFFT when one has already been registered\n",
      "2024-05-31 12:21:09.054697: E external/local_xla/xla/stream_executor/cuda/cuda_blas.cc:1515] Unable to register cuBLAS factory: Attempting to register factory for plugin cuBLAS when one has already been registered\n",
      "2024-05-31 12:21:09.060203: I tensorflow/core/platform/cpu_feature_guard.cc:182] This TensorFlow binary is optimized to use available CPU instructions in performance-critical operations.\n",
      "To enable the following instructions: AVX2 FMA, in other operations, rebuild TensorFlow with the appropriate compiler flags.\n",
      "2024-05-31 12:21:10.032772: W tensorflow/compiler/tf2tensorrt/utils/py_utils.cc:38] TF-TRT Warning: Could not find TensorRT\n",
      "/root/miniconda3/envs/ptychopinn_ptychodus_pytorch/lib/python3.10/site-packages/scipy/__init__.py:146: UserWarning: A NumPy version >=1.17.3 and <1.25.0 is required for this version of SciPy (detected version 1.26.4\n",
      "  warnings.warn(f\"A NumPy version >={np_minversion} and <{np_maxversion}\"\n"
     ]
    }
   ],
   "source": [
    "import os\n",
    "import torch\n",
    "import tensorflow as tf\n",
    "import numpy as np\n",
    "from test_albert import output_consistency\n"
   ]
  },
  {
   "cell_type": "code",
   "execution_count": 4,
   "metadata": {},
   "outputs": [
    {
     "name": "stdout",
     "output_type": "stream",
     "text": [
      "Output for function 'test_relu' with id 'test_relu_c32c8148c889d91b73e5a6b0a2f9ce05_' is consistent\n"
     ]
    }
   ],
   "source": [
    "#Define random 4D numpy array\n",
    "np_array = np.random.rand(2,3,4,4)\n",
    "\n",
    "\n",
    "#Tensorflow tensor\n",
    "tf_tensor = tf.convert_to_tensor(np_array)\n",
    "#Move second dimension to end of tf_tensor\n",
    "tf_tensor = tf.transpose(tf_tensor, perm=[0,2,3,1])\n",
    "#Pytorch tensor from np_array\n",
    "pt_tensor = torch.from_numpy(np_array)\n",
    "\n",
    "#Define simple test functions and run them in sequence\n",
    "#Tensorflow\n",
    "@output_consistency\n",
    "def test_relu(tensor):\n",
    "    #Check if tensor is instance of tensorflow\n",
    "    if isinstance(tensor, tf.Tensor):\n",
    "        return tf.nn.relu(tensor)\n",
    "    elif isinstance(tensor, torch.Tensor):\n",
    "        #return torch.nn.functional.log_softmax(tensor)\n",
    "        return torch.nn.functional.relu(tensor)\n",
    "    else:\n",
    "        return None\n",
    "\n",
    "output = test_relu(tf_tensor)\n",
    "output = test_relu(pt_tensor)\n",
    "\n",
    "\n"
   ]
  },
  {
   "cell_type": "code",
   "execution_count": 8,
   "metadata": {},
   "outputs": [
    {
     "name": "stderr",
     "output_type": "stream",
     "text": [
      "/tmp/ipykernel_32702/2906114419.py:1: UserWarning: Implicit dimension choice for log_softmax has been deprecated. Change the call to include dim=X as an argument.\n",
      "  torch.nn.functional.log_softmax(pt_tensor)\n"
     ]
    },
    {
     "data": {
      "text/plain": [
       "tensor([-4.3266, -1.3266, -0.3266])"
      ]
     },
     "execution_count": 8,
     "metadata": {},
     "output_type": "execute_result"
    }
   ],
   "source": [
    "torch.nn.functional.log_softmax(pt_tensor)"
   ]
  },
  {
   "cell_type": "code",
   "execution_count": null,
   "metadata": {},
   "outputs": [],
   "source": []
  },
  {
   "cell_type": "code",
   "execution_count": null,
   "metadata": {},
   "outputs": [],
   "source": [
    "#Quickly testing pytorch affine to see if works on complex numbers\n",
    "#Define complex tensor\n",
    "complex_tensor = torch.randn(3,3,4,4, dtype=torch.complex64)\n",
    "#Define affine layer\n",
    "affine = torch.nn.Linear(4,4)"
   ]
  },
  {
   "cell_type": "code",
   "execution_count": null,
   "metadata": {},
   "outputs": [],
   "source": []
  }
 ],
 "metadata": {
  "kernelspec": {
   "display_name": "ptychopinn_ptychodus",
   "language": "python",
   "name": "python3"
  },
  "language_info": {
   "codemirror_mode": {
    "name": "ipython",
    "version": 3
   },
   "file_extension": ".py",
   "mimetype": "text/x-python",
   "name": "python",
   "nbconvert_exporter": "python",
   "pygments_lexer": "ipython3",
   "version": "3.10.14"
  }
 },
 "nbformat": 4,
 "nbformat_minor": 2
}
