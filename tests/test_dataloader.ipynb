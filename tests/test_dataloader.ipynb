{
 "cells": [
  {
   "cell_type": "code",
   "execution_count": null,
   "metadata": {},
   "outputs": [],
   "source": [
    "import torch\n",
    "import numpy as np\n",
    "from pathlib import Path\n",
    "#Create memory mapped class using PtychoDataset\n",
    "from ptycho_torch.dset_loader_pt_mmap import PtychoDataset"
   ]
  },
  {
   "cell_type": "markdown",
   "metadata": {},
   "source": [
    "# Testing out PtychoDataset"
   ]
  },
  {
   "cell_type": "code",
   "execution_count": null,
   "metadata": {},
   "outputs": [],
   "source": [
    "#Creating dummy npz datasets for testing out PtychoDataset in data/dummy_data\n",
    "n_dummies = 10\n",
    "for i in range(n_dummies):\n",
    "    #Set # of images from 5000 to 25000 (integers only)\n",
    "    num_images = np.random.randint(100,300)\n",
    "    #Create randomized image stack of dim (num_images, 128, 128)\n",
    "    dummy_images = np.random.rand(num_images,128,128)\n",
    "    #Create randomized coordinates (x,y) between 0 and 60 (arbitrary)\n",
    "    xcoords = np.random.rand(num_images) * 59 + 1\n",
    "    ycoords = np.random.rand(num_images) * 59 + 1\n",
    "\n",
    "    #Create fake xcoords_start and y_coords start. They should have slightly smaller values than\n",
    "    #coords_x and coords_y, but not go below 0\n",
    "    xcoords_start = xcoords - np.random.rand(num_images)\n",
    "    xcoords_start[xcoords_start < 0] = 0\n",
    "\n",
    "    ycoords_start = ycoords - np.random.rand(num_images)\n",
    "    ycoords_start[ycoords_start < 0] = 0\n",
    "\n",
    "    #Create random probe function\n",
    "    probe = np.random.rand(128,128)\n",
    "    \n",
    "    #Save following arrays into npz file named based on dummy number in '../data/dummy_data'\n",
    "    np.savez('../data/dummy_data_small/dummy_data_{}'.format(i), \n",
    "             diff3d = dummy_images,\n",
    "             xcoords = xcoords,\n",
    "             ycoords = ycoords,\n",
    "             xcoords_start = xcoords_start,\n",
    "             ycoords_start = ycoords_start,\n",
    "             probe = probe)\n"
   ]
  },
  {
   "cell_type": "code",
   "execution_count": null,
   "metadata": {},
   "outputs": [
    {
     "name": "stdout",
     "output_type": "stream",
     "text": [
      "Creating memory mapped tensor dictionary...\n",
      "Memory map length: 21540\n",
      "Memory map creation time: 10.209872245788574\n",
      "Populating memory map for dataset 0\n",
      "Non-diffraction memory map write time: 0.00074005126953125\n",
      "global_from: 0, global_to: 1024\n",
      "j: 0, local_to: 1024\n",
      "global_from: 1024, global_to: 2048\n",
      "j: 1024, local_to: 2048\n",
      "global_from: 2048, global_to: 2330\n",
      "j: 2048, local_to: 2330\n",
      "Diffraction memory map write time: 2.4173295497894287\n",
      "Populating memory map for dataset 1\n",
      "Non-diffraction memory map write time: 0.0003204345703125\n",
      "global_from: 2330, global_to: 3354\n",
      "j: 0, local_to: 1024\n",
      "global_from: 3354, global_to: 4378\n",
      "j: 1024, local_to: 2048\n",
      "global_from: 4378, global_to: 5180\n",
      "j: 2048, local_to: 2850\n",
      "Diffraction memory map write time: 2.396333694458008\n",
      "Populating memory map for dataset 2\n",
      "Non-diffraction memory map write time: 0.011011838912963867\n",
      "global_from: 5180, global_to: 6204\n",
      "j: 0, local_to: 1024\n",
      "global_from: 6204, global_to: 7228\n",
      "j: 1024, local_to: 2048\n",
      "global_from: 7228, global_to: 7650\n",
      "j: 2048, local_to: 2470\n",
      "Diffraction memory map write time: 2.027695894241333\n",
      "Populating memory map for dataset 3\n",
      "Non-diffraction memory map write time: 0.0002613067626953125\n",
      "global_from: 7650, global_to: 8674\n",
      "j: 0, local_to: 1024\n",
      "global_from: 8674, global_to: 8730\n",
      "j: 1024, local_to: 1080\n",
      "Diffraction memory map write time: 0.9721388816833496\n",
      "Populating memory map for dataset 4\n",
      "Non-diffraction memory map write time: 0.0008776187896728516\n",
      "global_from: 8730, global_to: 9754\n",
      "j: 0, local_to: 1024\n",
      "global_from: 9754, global_to: 10778\n",
      "j: 1024, local_to: 2048\n",
      "global_from: 10778, global_to: 11190\n",
      "j: 2048, local_to: 2460\n",
      "Diffraction memory map write time: 1.7881951332092285\n",
      "Populating memory map for dataset 5\n",
      "Non-diffraction memory map write time: 0.00075531005859375\n",
      "global_from: 11190, global_to: 12214\n",
      "j: 0, local_to: 1024\n",
      "global_from: 12214, global_to: 13238\n",
      "j: 1024, local_to: 2048\n",
      "global_from: 13238, global_to: 13390\n",
      "j: 2048, local_to: 2200\n",
      "Diffraction memory map write time: 1.9222586154937744\n",
      "Populating memory map for dataset 6\n",
      "Non-diffraction memory map write time: 0.00027251243591308594\n",
      "global_from: 13390, global_to: 14414\n",
      "j: 0, local_to: 1024\n",
      "global_from: 14414, global_to: 14790\n",
      "j: 1024, local_to: 1400\n",
      "Diffraction memory map write time: 0.9031531810760498\n",
      "Populating memory map for dataset 7\n",
      "Non-diffraction memory map write time: 0.0011141300201416016\n",
      "global_from: 14790, global_to: 15814\n",
      "j: 0, local_to: 1024\n",
      "global_from: 15814, global_to: 16340\n",
      "j: 1024, local_to: 1550\n",
      "Diffraction memory map write time: 1.31485915184021\n",
      "Populating memory map for dataset 8\n",
      "Non-diffraction memory map write time: 0.0011892318725585938\n",
      "global_from: 16340, global_to: 17364\n",
      "j: 0, local_to: 1024\n",
      "global_from: 17364, global_to: 18388\n",
      "j: 1024, local_to: 2048\n",
      "global_from: 18388, global_to: 18990\n",
      "j: 2048, local_to: 2650\n",
      "Diffraction memory map write time: 1.9938223361968994\n",
      "Populating memory map for dataset 9\n",
      "Non-diffraction memory map write time: 0.004246950149536133\n",
      "global_from: 18990, global_to: 20014\n",
      "j: 0, local_to: 1024\n",
      "global_from: 20014, global_to: 21038\n",
      "j: 1024, local_to: 2048\n",
      "global_from: 21038, global_to: 21540\n",
      "j: 2048, local_to: 2550\n",
      "Diffraction memory map write time: 1.8778226375579834\n"
     ]
    }
   ],
   "source": [
    "dset_params = {'grid_size': (2,2),\n",
    "               'probe_map': [0,1,0,2,1,2,1,0,2,2],\n",
    "               'probes': np.random.rand(3,128,128),\n",
    "               'K': 6,\n",
    "               'n_subsample': 10,\n",
    "               'C': None}\n",
    "\n",
    "#Create ptychodataset object\n",
    "test_dset = PtychoDataset('../data/dummy_data_small', '', dset_params)"
   ]
  },
  {
   "cell_type": "code",
   "execution_count": null,
   "metadata": {},
   "outputs": [],
   "source": [
    "import time"
   ]
  },
  {
   "cell_type": "code",
   "execution_count": null,
   "metadata": {},
   "outputs": [
    {
     "name": "stdout",
     "output_type": "stream",
     "text": [
      "0.08963155746459961\n"
     ]
    }
   ],
   "source": [
    "#Create array of 64 random numbers from 0 to 21540\n",
    "test_indices = np.random.randint(0,21540,size=64)\n",
    "\n",
    "#Time dataloading\n",
    "start = time.time()\n",
    "a = test_dset.mmap_ptycho[test_indices]\n",
    "end = time.time()\n",
    "print(end-start)"
   ]
  },
  {
   "cell_type": "code",
   "execution_count": null,
   "metadata": {},
   "outputs": [],
   "source": []
  }
 ],
 "metadata": {
  "kernelspec": {
   "display_name": "ptychopinn_ptychodus_pytorch",
   "language": "python",
   "name": "python3"
  },
  "language_info": {
   "name": "python",
   "version": "3.10.14"
  }
 },
 "nbformat": 4,
 "nbformat_minor": 2
}
