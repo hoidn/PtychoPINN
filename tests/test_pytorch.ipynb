{
 "cells": [
  {
   "cell_type": "code",
   "execution_count": 1,
   "metadata": {},
   "outputs": [
    {
     "name": "stderr",
     "output_type": "stream",
     "text": [
      "/root/miniconda3/envs/ptychopinn_ptychodus_pytorch/lib/python3.10/site-packages/scipy/__init__.py:146: UserWarning: A NumPy version >=1.17.3 and <1.25.0 is required for this version of SciPy (detected version 1.26.4\n",
      "  warnings.warn(f\"A NumPy version >={np_minversion} and <{np_maxversion}\"\n"
     ]
    }
   ],
   "source": [
    "import torch\n",
    "import numpy as np\n",
    "from pathlib import Path\n",
    "#Create memory mapped class using PtychoDataset\n",
    "from ptycho_torch.dset_loader_pt_mmap import PtychoDataset"
   ]
  },
  {
   "cell_type": "markdown",
   "metadata": {},
   "source": [
    "The purpose of this notebook is to test different pytorch functions/functionalities to account for when implementing Pytchopinn helper functions"
   ]
  },
  {
   "cell_type": "markdown",
   "metadata": {},
   "source": [
    "# Translations"
   ]
  },
  {
   "cell_type": "markdown",
   "metadata": {},
   "source": [
    "Following documentation from: [stackoverflow](https://stackoverflow.com/questions/72769563/shifting-an-image-with-bilinear-interpolation-in-pytorch)"
   ]
  },
  {
   "cell_type": "code",
   "execution_count": 12,
   "metadata": {},
   "outputs": [
    {
     "data": {
      "text/plain": [
       "True"
      ]
     },
     "execution_count": 12,
     "metadata": {},
     "output_type": "execute_result"
    }
   ],
   "source": [
    "test_im = torch.rand(5,2,10,10) #(N, C, H, W)\n",
    "n, c, h, w = test_im.shape\n",
    "\n",
    "#Create x, y stacked meshgrid\n",
    "x, y = torch.arange(h)/(h-1), torch.arange(w)/(w-1)\n",
    "\n",
    "#Grid\n",
    "grid = torch.stack(torch.meshgrid(x, y, indexing = 'ij')) * 2 - 1\n",
    "#Adding additional dimensions so grid sampling\n",
    "grid = grid[None].repeat(5,1,1,1)\n",
    "\n",
    "\n"
   ]
  },
  {
   "cell_type": "code",
   "execution_count": 6,
   "metadata": {},
   "outputs": [
    {
     "data": {
      "text/plain": [
       "(array([0.47128105, 0.84978654, 0.44762854, 0.98600908, 0.69289631,\n",
       "        0.30358325, 0.95456834, 0.39048805, 0.22445553, 0.05974865]),\n",
       " array([[0.47128105, 0.95456834, 0.69289631, 0.47128105],\n",
       "        [0.30358325, 0.30358325, 0.30358325, 0.39048805],\n",
       "        [0.84978654, 0.47128105, 0.69289631, 0.39048805],\n",
       "        [0.98600908, 0.30358325, 0.47128105, 0.69289631],\n",
       "        [0.69289631, 0.69289631, 0.47128105, 0.84978654],\n",
       "        [0.39048805, 0.22445553, 0.39048805, 0.98600908],\n",
       "        [0.39048805, 0.39048805, 0.30358325, 0.30358325],\n",
       "        [0.30358325, 0.44762854, 0.44762854, 0.22445553],\n",
       "        [0.22445553, 0.22445553, 0.22445553, 0.98600908],\n",
       "        [0.84978654, 0.39048805, 0.30358325, 0.69289631]]))"
      ]
     },
     "execution_count": 6,
     "metadata": {},
     "output_type": "execute_result"
    }
   ],
   "source": [
    "#Testing numpy indexing\n",
    "#Create 3 dimensional random numpy array\n",
    "test_np = np.random.rand(10)\n",
    "test_indices = np.random.randint(0,9,size=(10,4))\n",
    "test_np, test_np[test_indices]"
   ]
  },
  {
   "cell_type": "code",
   "execution_count": 13,
   "metadata": {},
   "outputs": [],
   "source": [
    "from ptycho_torch.patch_generator import get_neighbor_indices, sample_rows"
   ]
  },
  {
   "cell_type": "code",
   "execution_count": 9,
   "metadata": {},
   "outputs": [],
   "source": [
    "test_x = np.random.rand(100)\n",
    "test_y = np.random.rand(100)"
   ]
  },
  {
   "cell_type": "code",
   "execution_count": 10,
   "metadata": {},
   "outputs": [],
   "source": [
    "nn_indices = get_neighbor_indices(test_x, test_y, 6)"
   ]
  },
  {
   "cell_type": "code",
   "execution_count": 17,
   "metadata": {},
   "outputs": [
    {
     "data": {
      "text/plain": [
       "(1000, 4)"
      ]
     },
     "execution_count": 17,
     "metadata": {},
     "output_type": "execute_result"
    }
   ],
   "source": [
    "sampled_rows = sample_rows(nn_indices, 4, 10).reshape(-1,4)\n",
    "sampled_rows.shape"
   ]
  },
  {
   "cell_type": "code",
   "execution_count": 33,
   "metadata": {},
   "outputs": [
    {
     "data": {
      "text/plain": [
       "(1000, 4)"
      ]
     },
     "execution_count": 33,
     "metadata": {},
     "output_type": "execute_result"
    }
   ],
   "source": [
    "test_x[sampled_rows].shape"
   ]
  },
  {
   "cell_type": "code",
   "execution_count": 34,
   "metadata": {},
   "outputs": [
    {
     "data": {
      "text/plain": [
       "(1000, 4, 1, 2)"
      ]
     },
     "execution_count": 34,
     "metadata": {},
     "output_type": "execute_result"
    }
   ],
   "source": [
    "coords_nn = np.stack([test_x[sampled_rows],\n",
    "                            test_y[sampled_rows]],axis=2)[:, :, None, :]\n",
    "\n",
    "coords_nn.shape"
   ]
  },
  {
   "cell_type": "markdown",
   "metadata": {},
   "source": []
  },
  {
   "cell_type": "code",
   "execution_count": 22,
   "metadata": {},
   "outputs": [],
   "source": [
    "dummy_images = np.random.rand(100,10,10)\n",
    "sample_dummy_images = dummy_images[nn_indices]"
   ]
  },
  {
   "cell_type": "code",
   "execution_count": 24,
   "metadata": {},
   "outputs": [
    {
     "data": {
      "text/plain": [
       "((100, 10, 10), (100, 7), (100, 7, 10, 10))"
      ]
     },
     "execution_count": 24,
     "metadata": {},
     "output_type": "execute_result"
    }
   ],
   "source": [
    "dummy_images.shape, nn_indices.shape, sample_dummy_images.shape"
   ]
  },
  {
   "cell_type": "code",
   "execution_count": 37,
   "metadata": {},
   "outputs": [
    {
     "data": {
      "text/plain": [
       "(array([[[0.48472418, 0.83961076]],\n",
       " \n",
       "        [[0.43905179, 0.62763275]],\n",
       " \n",
       "        [[0.49147743, 0.834936  ]],\n",
       " \n",
       "        [[0.35655118, 0.901465  ]]]),\n",
       " array([[0.44295114, 0.80091113]]))"
      ]
     },
     "execution_count": 37,
     "metadata": {},
     "output_type": "execute_result"
    }
   ],
   "source": [
    "coords_nn_avg = np.mean(coords_nn, axis=1)\n",
    "coords_nn[0,...],coords_nn_avg[0,...]"
   ]
  },
  {
   "cell_type": "code",
   "execution_count": 4,
   "metadata": {},
   "outputs": [],
   "source": [
    "import os"
   ]
  },
  {
   "cell_type": "code",
   "execution_count": 5,
   "metadata": {},
   "outputs": [
    {
     "data": {
      "text/plain": [
       "'/home/av_linux/PtychoPINN/tests'"
      ]
     },
     "execution_count": 5,
     "metadata": {},
     "output_type": "execute_result"
    }
   ],
   "source": [
    "os.getcwd()"
   ]
  },
  {
   "cell_type": "code",
   "execution_count": 48,
   "metadata": {},
   "outputs": [],
   "source": [
    "#Numpy load file /notebooks/train_data.npz\n",
    "\n",
    "#Load file\n",
    "train_data = np.load('../notebooks/train_data.npz')\n",
    "test_data = np.load('../notebooks/test_data.npz')"
   ]
  },
  {
   "cell_type": "code",
   "execution_count": 5,
   "metadata": {},
   "outputs": [
    {
     "data": {
      "text/plain": [
       "['xcoords',\n",
       " 'ycoords',\n",
       " 'xcoords_start',\n",
       " 'ycoords_start',\n",
       " 'diff3d',\n",
       " 'probeGuess',\n",
       " 'objectGuess',\n",
       " 'scan_index']"
      ]
     },
     "execution_count": 5,
     "metadata": {},
     "output_type": "execute_result"
    }
   ],
   "source": [
    "train_data.files"
   ]
  },
  {
   "cell_type": "code",
   "execution_count": 56,
   "metadata": {},
   "outputs": [
    {
     "data": {
      "text/plain": [
       "37.61779245164779"
      ]
     },
     "execution_count": 56,
     "metadata": {},
     "output_type": "execute_result"
    }
   ],
   "source": [
    "train_data['xcoords_start'][0]"
   ]
  },
  {
   "cell_type": "code",
   "execution_count": 9,
   "metadata": {},
   "outputs": [],
   "source": [
    "#Testing nn_indice indexing\n",
    "from ptycho_torch.patch_generator import get_neighbor_indices, sample_rows, group_coords\n"
   ]
  },
  {
   "cell_type": "code",
   "execution_count": 10,
   "metadata": {},
   "outputs": [],
   "source": [
    "#Create fake 20 x 2 array of random numbers between 0 and 1\n",
    "N = 1000\n",
    "test_coords = np.random.rand(N,2)\n",
    "#Create fake images in 20 x 40 x 40 array\n",
    "test_images = np.random.rand(N,40,40)\n",
    "\n",
    "#Create fake nn_indices\n",
    "nn_indices = get_neighbor_indices(test_coords[:,0], test_coords[:,1], 6)"
   ]
  },
  {
   "cell_type": "code",
   "execution_count": 11,
   "metadata": {},
   "outputs": [
    {
     "data": {
      "text/plain": [
       "(10000, 4)"
      ]
     },
     "execution_count": 11,
     "metadata": {},
     "output_type": "execute_result"
    }
   ],
   "source": [
    "#Sample rows \n",
    "sampled_rows = sample_rows(nn_indices, 4, 10).reshape(-1,4)\n",
    "\n",
    "sampled_rows.shape"
   ]
  },
  {
   "cell_type": "code",
   "execution_count": 4,
   "metadata": {},
   "outputs": [],
   "source": [
    "x_coords = test_coords[:,0]\n",
    "y_coords = test_coords[:,1]\n",
    "\n",
    "nn_indices, coords_nn = group_coords(nn_indices, x_coords, y_coords, 4)"
   ]
  },
  {
   "cell_type": "code",
   "execution_count": 43,
   "metadata": {},
   "outputs": [
    {
     "data": {
      "text/plain": [
       "(5, 4, 1, 2)"
      ]
     },
     "execution_count": 43,
     "metadata": {},
     "output_type": "execute_result"
    }
   ],
   "source": [
    "coords_nn.shape"
   ]
  },
  {
   "cell_type": "code",
   "execution_count": 29,
   "metadata": {},
   "outputs": [],
   "source": [
    "#Testing out memory mapping to random tensor\n",
    "from tensordict import MemoryMappedTensor, TensorDict"
   ]
  },
  {
   "cell_type": "code",
   "execution_count": 33,
   "metadata": {},
   "outputs": [],
   "source": [
    "#Small tensordict\n",
    "test_tensor = TensorDict({'image': MemoryMappedTensor.empty(\n",
    "                            (20,4,40,40), dtype=torch.float64),\n",
    "                          'coords': MemoryMappedTensor.empty(\n",
    "                            (20,4,1,2), dtype=torch.float64)},\n",
    "                            batch_size = 20)\n",
    "\n",
    "test_tensor.memmap_(prefix=\"../data/test_memmap\")\n",
    "\n",
    "#Populate it\n",
    "for i in range(20):\n",
    "    test_tensor['image'][i] = torch.from_numpy(test_images[nn_indices][i])\n",
    "    test_tensor['coords'][i] = torch.from_numpy(coords_nn[i])\n"
   ]
  },
  {
   "cell_type": "code",
   "execution_count": 61,
   "metadata": {},
   "outputs": [
    {
     "data": {
      "text/plain": [
       "dtype('float64')"
      ]
     },
     "execution_count": 61,
     "metadata": {},
     "output_type": "execute_result"
    }
   ],
   "source": [
    "train_data['diff3d'][0].dtype"
   ]
  },
  {
   "cell_type": "markdown",
   "metadata": {},
   "source": [
    "# Creating dummy data to test out ptychodataset"
   ]
  },
  {
   "cell_type": "code",
   "execution_count": 12,
   "metadata": {},
   "outputs": [],
   "source": [
    "#Creating dummy npz datasets for testing out PtychoDataset in data/dummy_data\n",
    "n_dummies = 10\n",
    "for i in range(n_dummies):\n",
    "    #Set # of images from 5000 to 25000 (integers only)\n",
    "    num_images = np.random.randint(100,300)\n",
    "    #Create randomized image stack of dim (num_images, 128, 128)\n",
    "    dummy_images = np.random.rand(num_images,128,128)\n",
    "    #Create randomized coordinates (x,y) between 0 and 60 (arbitrary)\n",
    "    xcoords = np.random.rand(num_images) * 59 + 1\n",
    "    ycoords = np.random.rand(num_images) * 59 + 1\n",
    "\n",
    "    #Create fake xcoords_start and y_coords start. They should have slightly smaller values than\n",
    "    #coords_x and coords_y, but not go below 0\n",
    "    xcoords_start = xcoords - np.random.rand(num_images)\n",
    "    xcoords_start[xcoords_start < 0] = 0\n",
    "\n",
    "    ycoords_start = ycoords - np.random.rand(num_images)\n",
    "    ycoords_start[ycoords_start < 0] = 0\n",
    "\n",
    "    #Create random probe function\n",
    "    probe = np.random.rand(128,128)\n",
    "    \n",
    "    #Save following arrays into npz file named based on dummy number in '../data/dummy_data'\n",
    "    np.savez('../data/dummy_data_small/dummy_data_{}'.format(i), \n",
    "             diff3d = dummy_images,\n",
    "             xcoords = xcoords,\n",
    "             ycoords = ycoords,\n",
    "             xcoords_start = xcoords_start,\n",
    "             ycoords_start = ycoords_start,\n",
    "             probe = probe)\n"
   ]
  },
  {
   "cell_type": "markdown",
   "metadata": {},
   "source": [
    "# Testing out PtychoDataset"
   ]
  },
  {
   "cell_type": "code",
   "execution_count": 2,
   "metadata": {},
   "outputs": [
    {
     "name": "stdout",
     "output_type": "stream",
     "text": [
      "Creating memory mapped tensor dictionary...\n",
      "Memory map length: 21540\n",
      "Memory map creation time: 10.209872245788574\n",
      "Populating memory map for dataset 0\n",
      "Non-diffraction memory map write time: 0.00074005126953125\n",
      "global_from: 0, global_to: 1024\n",
      "j: 0, local_to: 1024\n",
      "global_from: 1024, global_to: 2048\n",
      "j: 1024, local_to: 2048\n",
      "global_from: 2048, global_to: 2330\n",
      "j: 2048, local_to: 2330\n",
      "Diffraction memory map write time: 2.4173295497894287\n",
      "Populating memory map for dataset 1\n",
      "Non-diffraction memory map write time: 0.0003204345703125\n",
      "global_from: 2330, global_to: 3354\n",
      "j: 0, local_to: 1024\n",
      "global_from: 3354, global_to: 4378\n",
      "j: 1024, local_to: 2048\n",
      "global_from: 4378, global_to: 5180\n",
      "j: 2048, local_to: 2850\n",
      "Diffraction memory map write time: 2.396333694458008\n",
      "Populating memory map for dataset 2\n",
      "Non-diffraction memory map write time: 0.011011838912963867\n",
      "global_from: 5180, global_to: 6204\n",
      "j: 0, local_to: 1024\n",
      "global_from: 6204, global_to: 7228\n",
      "j: 1024, local_to: 2048\n",
      "global_from: 7228, global_to: 7650\n",
      "j: 2048, local_to: 2470\n",
      "Diffraction memory map write time: 2.027695894241333\n",
      "Populating memory map for dataset 3\n",
      "Non-diffraction memory map write time: 0.0002613067626953125\n",
      "global_from: 7650, global_to: 8674\n",
      "j: 0, local_to: 1024\n",
      "global_from: 8674, global_to: 8730\n",
      "j: 1024, local_to: 1080\n",
      "Diffraction memory map write time: 0.9721388816833496\n",
      "Populating memory map for dataset 4\n",
      "Non-diffraction memory map write time: 0.0008776187896728516\n",
      "global_from: 8730, global_to: 9754\n",
      "j: 0, local_to: 1024\n",
      "global_from: 9754, global_to: 10778\n",
      "j: 1024, local_to: 2048\n",
      "global_from: 10778, global_to: 11190\n",
      "j: 2048, local_to: 2460\n",
      "Diffraction memory map write time: 1.7881951332092285\n",
      "Populating memory map for dataset 5\n",
      "Non-diffraction memory map write time: 0.00075531005859375\n",
      "global_from: 11190, global_to: 12214\n",
      "j: 0, local_to: 1024\n",
      "global_from: 12214, global_to: 13238\n",
      "j: 1024, local_to: 2048\n",
      "global_from: 13238, global_to: 13390\n",
      "j: 2048, local_to: 2200\n",
      "Diffraction memory map write time: 1.9222586154937744\n",
      "Populating memory map for dataset 6\n",
      "Non-diffraction memory map write time: 0.00027251243591308594\n",
      "global_from: 13390, global_to: 14414\n",
      "j: 0, local_to: 1024\n",
      "global_from: 14414, global_to: 14790\n",
      "j: 1024, local_to: 1400\n",
      "Diffraction memory map write time: 0.9031531810760498\n",
      "Populating memory map for dataset 7\n",
      "Non-diffraction memory map write time: 0.0011141300201416016\n",
      "global_from: 14790, global_to: 15814\n",
      "j: 0, local_to: 1024\n",
      "global_from: 15814, global_to: 16340\n",
      "j: 1024, local_to: 1550\n",
      "Diffraction memory map write time: 1.31485915184021\n",
      "Populating memory map for dataset 8\n",
      "Non-diffraction memory map write time: 0.0011892318725585938\n",
      "global_from: 16340, global_to: 17364\n",
      "j: 0, local_to: 1024\n",
      "global_from: 17364, global_to: 18388\n",
      "j: 1024, local_to: 2048\n",
      "global_from: 18388, global_to: 18990\n",
      "j: 2048, local_to: 2650\n",
      "Diffraction memory map write time: 1.9938223361968994\n",
      "Populating memory map for dataset 9\n",
      "Non-diffraction memory map write time: 0.004246950149536133\n",
      "global_from: 18990, global_to: 20014\n",
      "j: 0, local_to: 1024\n",
      "global_from: 20014, global_to: 21038\n",
      "j: 1024, local_to: 2048\n",
      "global_from: 21038, global_to: 21540\n",
      "j: 2048, local_to: 2550\n",
      "Diffraction memory map write time: 1.8778226375579834\n"
     ]
    }
   ],
   "source": [
    "dset_params = {'grid_size': (2,2),\n",
    "               'probe_map': [0,1,0,2,1,2,1,0,2,2],\n",
    "               'probes': np.random.rand(3,128,128),\n",
    "               'K': 6,\n",
    "               'n_subsample': 10,\n",
    "               'C': None}\n",
    "\n",
    "#Create ptychodataset object\n",
    "test_dset = PtychoDataset('../data/dummy_data_small', '', dset_params)"
   ]
  },
  {
   "cell_type": "code",
   "execution_count": 10,
   "metadata": {},
   "outputs": [],
   "source": [
    "import time"
   ]
  },
  {
   "cell_type": "code",
   "execution_count": 11,
   "metadata": {},
   "outputs": [
    {
     "name": "stdout",
     "output_type": "stream",
     "text": [
      "0.08963155746459961\n"
     ]
    }
   ],
   "source": [
    "#Create array of 64 random numbers from 0 to 21540\n",
    "test_indices = np.random.randint(0,21540,size=64)\n",
    "\n",
    "#Time dataloading\n",
    "start = time.time()\n",
    "a = test_dset.mmap_ptycho[test_indices]\n",
    "end = time.time()\n",
    "print(end-start)"
   ]
  }
 ],
 "metadata": {
  "kernelspec": {
   "display_name": "ptychopinn_ptychodus_pytorch",
   "language": "python",
   "name": "python3"
  },
  "language_info": {
   "codemirror_mode": {
    "name": "ipython",
    "version": 3
   },
   "file_extension": ".py",
   "mimetype": "text/x-python",
   "name": "python",
   "nbconvert_exporter": "python",
   "pygments_lexer": "ipython3",
   "version": "3.10.14"
  }
 },
 "nbformat": 4,
 "nbformat_minor": 2
}
