{
 "cells": [
  {
   "cell_type": "code",
   "execution_count": 1,
   "metadata": {},
   "outputs": [],
   "source": [
    "import os\n",
    "\n",
    "#Change working directory to /Users/albertvong/Documents/Argonne/PtychoPINN/\n",
    "os.chdir('/home/av_linux/PtychoPINN')"
   ]
  },
  {
   "cell_type": "code",
   "execution_count": 3,
   "metadata": {},
   "outputs": [
    {
     "name": "stderr",
     "output_type": "stream",
     "text": [
      "2024-10-14 11:06:09.985365: E external/local_xla/xla/stream_executor/cuda/cuda_dnn.cc:9261] Unable to register cuDNN factory: Attempting to register factory for plugin cuDNN when one has already been registered\n",
      "2024-10-14 11:06:09.985426: E external/local_xla/xla/stream_executor/cuda/cuda_fft.cc:607] Unable to register cuFFT factory: Attempting to register factory for plugin cuFFT when one has already been registered\n",
      "2024-10-14 11:06:10.031170: E external/local_xla/xla/stream_executor/cuda/cuda_blas.cc:1515] Unable to register cuBLAS factory: Attempting to register factory for plugin cuBLAS when one has already been registered\n",
      "2024-10-14 11:06:10.125071: I tensorflow/core/platform/cpu_feature_guard.cc:182] This TensorFlow binary is optimized to use available CPU instructions in performance-critical operations.\n",
      "To enable the following instructions: AVX2 FMA, in other operations, rebuild TensorFlow with the appropriate compiler flags.\n",
      "2024-10-14 11:06:11.380498: W tensorflow/compiler/tf2tensorrt/utils/py_utils.cc:38] TF-TRT Warning: Could not find TensorRT\n",
      "/root/miniconda3/envs/ptychopinn_ptychodus_pytorch/lib/python3.10/site-packages/scipy/__init__.py:146: UserWarning: A NumPy version >=1.17.3 and <1.25.0 is required for this version of SciPy (detected version 1.26.4\n",
      "  warnings.warn(f\"A NumPy version >={np_minversion} and <{np_maxversion}\"\n",
      "2024-10-14 11:06:12.987311: I external/local_xla/xla/stream_executor/cuda/cuda_executor.cc:887] could not open file to read NUMA node: /sys/bus/pci/devices/0000:26:00.0/numa_node\n",
      "Your kernel may have been built without NUMA support.\n",
      "2024-10-14 11:06:12.998892: W tensorflow/core/common_runtime/gpu/gpu_device.cc:2256] Cannot dlopen some GPU libraries. Please make sure the missing libraries mentioned above are installed properly if you would like to use GPU. Follow the guide at https://www.tensorflow.org/install/gpu for how to download and setup the required libraries for your platform.\n",
      "Skipping registering GPU devices...\n"
     ]
    },
    {
     "name": "stdout",
     "output_type": "stream",
     "text": [
      "No GPU found, using CPU instead.\n",
      "1 items had no tests:\n",
      "    __main__\n",
      "0 tests in 1 items.\n",
      "0 passed and 0 failed.\n",
      "Test passed.\n"
     ]
    },
    {
     "name": "stderr",
     "output_type": "stream",
     "text": [
      "/root/miniconda3/envs/ptychopinn_ptychodus_pytorch/lib/python3.10/site-packages/tensorflow_addons/utils/tfa_eol_msg.py:23: UserWarning: \n",
      "\n",
      "TensorFlow Addons (TFA) has ended development and introduction of new features.\n",
      "TFA has entered a minimal maintenance and release mode until a planned end of life in May 2024.\n",
      "Please modify downstream libraries to take dependencies from other repositories in our TensorFlow community (e.g. Keras, Keras-CV, and Keras-NLP). \n",
      "\n",
      "For more information see: https://github.com/tensorflow/addons/issues/2807 \n",
      "\n",
      "  warnings.warn(\n"
     ]
    }
   ],
   "source": [
    "import numpy as np\n",
    "import importlib\n",
    "\n",
    "import torch\n",
    "from torch.nn import functional as F\n",
    "from torch.utils.data import DataLoader, Subset\n",
    "\n",
    "import ptycho.tf_helper as tf_hh\n",
    "import ptycho_torch.helper as pt_hh\n"
   ]
  },
  {
   "cell_type": "markdown",
   "metadata": {},
   "source": [
    "# We'll be using a random set of tensors to check if the functionalities of the forward model for both tensorflow and pytorch are consistent."
   ]
  },
  {
   "cell_type": "markdown",
   "metadata": {},
   "source": [
    "## All tensorflow functions without assertions"
   ]
  },
  {
   "cell_type": "code",
   "execution_count": 4,
   "metadata": {},
   "outputs": [],
   "source": [
    "import tensorflow as tf"
   ]
  },
  {
   "cell_type": "code",
   "execution_count": 5,
   "metadata": {},
   "outputs": [],
   "source": [
    "gridsize = 2"
   ]
  },
  {
   "cell_type": "code",
   "execution_count": 6,
   "metadata": {},
   "outputs": [],
   "source": [
    "def extract_patches_position(imgs: tf.Tensor, offsets_xy: tf.Tensor, jitter: float = 0.) -> tf.Tensor:\n",
    "    \"\"\"\n",
    "    Expects offsets_xy in channel format.\n",
    "\n",
    "    imgs must be in flat format with a single image per solution region, i.e.\n",
    "    (batch size, M, M, 1) where M = N + some padding size.\n",
    "\n",
    "    Returns shifted images in channel format, cropped symmetrically\n",
    "\n",
    "    no negative sign\n",
    "    \"\"\"\n",
    "    if  imgs.get_shape()[0] is not None:\n",
    "        assert int(imgs.get_shape()[0]) == int(offsets_xy.get_shape()[0])\n",
    "    assert int(imgs.get_shape()[3]) == 1\n",
    "    assert int(offsets_xy.get_shape()[2]) == 2\n",
    "    assert int(imgs.get_shape()[3]) == 1\n",
    "    gridsize = gridsize\n",
    "    assert int(offsets_xy.get_shape()[3]) == gridsize**2\n",
    "    offsets_flat = tf_hh.flatten_offsets(offsets_xy)\n",
    "    stacked = tf.repeat(imgs, gridsize**2, axis = 3)\n",
    "    flat_padded = tf_hh._channel_to_flat(stacked)\n",
    "    channels_translated = tf_hh.trim_reconstruction(\n",
    "        tf_hh.Translation()([flat_padded, offsets_flat, jitter]))\n",
    "    return channels_translated"
   ]
  },
  {
   "cell_type": "markdown",
   "metadata": {},
   "source": [
    "## All pytorch setup"
   ]
  },
  {
   "cell_type": "code",
   "execution_count": 10,
   "metadata": {},
   "outputs": [],
   "source": [
    "from ptycho_torch.config_params import TrainingConfig, DataConfig, ModelConfig"
   ]
  },
  {
   "cell_type": "code",
   "execution_count": 11,
   "metadata": {},
   "outputs": [],
   "source": [
    "data_config_default = {\n",
    "    'nphotons': 1e5,\n",
    "    'N': 128,\n",
    "    'C': 4,\n",
    "    'K': 6,\n",
    "    'n_subsample': 10,\n",
    "    'grid_size': (2,2),\n",
    "    'probe_dir_get': True,\n",
    "}\n",
    "\n",
    "\n",
    "model_config_default = {\n",
    "    'intensity_scale_trainable': True,\n",
    "    'max_position_jitter': 10, #Random jitter for translation (helps make model more robust)\n",
    "    'n_filters_scale': 2, #Shrinking factor for channels\n",
    "    'intensity_scale': 15000.0, #General intensity scale guess, this can be trainable. Needs to be float\n",
    "    'object.big': True, #True if need patch reassembly\n",
    "    'probe.big': True, #True if need patch reassembly\n",
    "    'offset': 4,\n",
    "    'loss_function': 'Poisson'\n",
    "}\n",
    "\n",
    "training_config_default = {\n",
    "    'nll': True, #Negative log likelihood for loss function\n",
    "    'device': 'cuda'\n",
    "}\n",
    "\n",
    "t_config, d_config, m_config = TrainingConfig(), DataConfig(), ModelConfig()\n",
    "\n",
    "t_config.set_settings(training_config_default)\n",
    "d_config.set_settings(data_config_default)\n",
    "m_config.set_settings(model_config_default)"
   ]
  },
  {
   "cell_type": "markdown",
   "metadata": {},
   "source": [
    "# Setting fixed matrices to pass through forward pass"
   ]
  },
  {
   "cell_type": "markdown",
   "metadata": {},
   "source": [
    "Assume that we have just passed through the autoencoder, which produces a random stack of solution regions with amplitude and phase."
   ]
  },
  {
   "cell_type": "code",
   "execution_count": 8,
   "metadata": {},
   "outputs": [],
   "source": [
    "#Fix rng seed\n",
    "np.random.seed(42)\n",
    "\n",
    "#Random valued image tensors\n",
    "x_amp = np.random.randn(4, 4, 128, 128)\n",
    "x_phi = np.random.randn(4, 4, 128, 128)\n",
    "\n",
    "#Random valued positions\n",
    "pos = np.random.uniform(low=-20, high = 20,\n",
    "                        size = (4, 4, 1, 2))\n"
   ]
  },
  {
   "cell_type": "code",
   "execution_count": null,
   "metadata": {},
   "outputs": [],
   "source": [
    "#First test with pytorch\n",
    "\n",
    "#Convert x_amp from numpy to pytorch array\n",
    "\n",
    "x_amp_pt = torch.from_numpy(x_amp)\n",
    "x_phi_pt = torch.from_numpy(x_phi)\n",
    "\n",
    "x_combined_pytorch = pt_hh.combine_complex()\n",
    "reassembled_patch_pytorch = pt_hh.reassemble_patches_position_real()\n",
    "\n"
   ]
  }
 ],
 "metadata": {
  "kernelspec": {
   "display_name": "ptychopinn_ptychodus_pytorch",
   "language": "python",
   "name": "python3"
  },
  "language_info": {
   "codemirror_mode": {
    "name": "ipython",
    "version": 3
   },
   "file_extension": ".py",
   "mimetype": "text/x-python",
   "name": "python",
   "nbconvert_exporter": "python",
   "pygments_lexer": "ipython3",
   "version": "3.10.14"
  }
 },
 "nbformat": 4,
 "nbformat_minor": 2
}
