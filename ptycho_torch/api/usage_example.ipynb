{
 "cells": [
  {
   "cell_type": "code",
   "execution_count": 1,
   "id": "f2611779",
   "metadata": {},
   "outputs": [],
   "source": [
    "import sys\n",
    "sys.path.append(os.path.abspath('/local/PtychoPINN'))"
   ]
  },
  {
   "cell_type": "code",
   "execution_count": 2,
   "id": "820fad33",
   "metadata": {},
   "outputs": [],
   "source": [
    "from ptycho_torch.api.base_api import ConfigManager, PtychoDataLoader, PtychoModel, Trainer, InferenceEngine"
   ]
  },
  {
   "cell_type": "markdown",
   "id": "0cb96b09",
   "metadata": {},
   "source": [
    "# Part 1. Config Manager"
   ]
  },
  {
   "cell_type": "markdown",
   "id": "0241bd5c",
   "metadata": {},
   "source": [
    "Let's set up a config manager using both a json and then loading directly from an mlflow run."
   ]
  },
  {
   "cell_type": "markdown",
   "id": "647f9e7f",
   "metadata": {},
   "source": [
    "## Method 1: JSON"
   ]
  },
  {
   "cell_type": "code",
   "execution_count": 3,
   "id": "8b22578d",
   "metadata": {},
   "outputs": [
    {
     "name": "stdout",
     "output_type": "stream",
     "text": [
      "Successfully loaded configuration from: ../configs/publication_configs/4_q_multi_gpu_velociprobe.json\n",
      "Configuration validation completed.\n"
     ]
    }
   ],
   "source": [
    "#Let's set up a config manager using two methods\n",
    "json_path = '../configs/publication_configs/4_q_multi_gpu_velociprobe.json'\n",
    "config_manager_json, _ = ConfigManager._from_json(json_path)\n"
   ]
  },
  {
   "cell_type": "markdown",
   "id": "72e78253",
   "metadata": {},
   "source": [
    "## Method 2: MLFlow run"
   ]
  },
  {
   "cell_type": "code",
   "execution_count": 4,
   "id": "c19e5917",
   "metadata": {},
   "outputs": [
    {
     "name": "stdout",
     "output_type": "stream",
     "text": [
      "Successfully loaded configuration from run f637381fd7fe49158bb0ed2e7a28ca45 from tracking uri /local/CDI-PINN/mlruns\n"
     ]
    }
   ],
   "source": [
    "mlflow_tracking_uri = \"/local/CDI-PINN/mlruns\"\n",
    "run_id = \"f637381fd7fe49158bb0ed2e7a28ca45\"\n",
    "\n",
    "config_manager_mlflow = ConfigManager._from_mlflow(run_id,\n",
    "                                                   mlflow_tracking_uri)"
   ]
  },
  {
   "cell_type": "markdown",
   "id": "06d91b62",
   "metadata": {},
   "source": [
    "## Using the update function with a dictionary"
   ]
  },
  {
   "cell_type": "code",
   "execution_count": 10,
   "id": "c132f7b5",
   "metadata": {},
   "outputs": [
    {
     "name": "stdout",
     "output_type": "stream",
     "text": [
      "DataConfig(nphotons=100000.0, N=64, C=4, K=6, K_quadrant=60, n_subsample=1, grid_size=[2, 2], neighbor_function='4_quadrant', min_neighbor_distance=0.5, max_neighbor_distance=8, scan_pattern='Rectangular', normalize='Batch', probe_scale=1.0, probe_normalize=True, data_scaling='Parseval', phase_subtraction=True, x_bounds=[0.05, 0.95], y_bounds=[0.05, 0.95])\n"
     ]
    }
   ],
   "source": [
    "print(config_manager_mlflow.data_config)"
   ]
  },
  {
   "cell_type": "markdown",
   "id": "f321f098",
   "metadata": {},
   "source": [
    "Here, we'll modify the nphotons number just as a demonstration of how to use the update function"
   ]
  },
  {
   "cell_type": "code",
   "execution_count": 12,
   "id": "243ddc84",
   "metadata": {},
   "outputs": [
    {
     "name": "stdout",
     "output_type": "stream",
     "text": [
      "DataConfig(nphotons=50000.0, N=64, C=4, K=6, K_quadrant=60, n_subsample=1, grid_size=[2, 2], neighbor_function='4_quadrant', min_neighbor_distance=0.5, max_neighbor_distance=8, scan_pattern='Rectangular', normalize='Batch', probe_scale=1.0, probe_normalize=True, data_scaling='Parseval', phase_subtraction=True, x_bounds=[0.05, 0.95], y_bounds=[0.05, 0.95])\n"
     ]
    }
   ],
   "source": [
    "data_config_update = {'nphotons': 5e4}\n",
    "\n",
    "config_manager_mlflow.update(data_config = data_config_update)\n",
    "print(config_manager_mlflow.data_config)\n",
    "\n",
    "#We can see we've successfully updated the data config."
   ]
  },
  {
   "cell_type": "markdown",
   "id": "96e066b4",
   "metadata": {},
   "source": [
    "# Part 2. Dataloader"
   ]
  },
  {
   "cell_type": "code",
   "execution_count": 58,
   "id": "047bcf4f",
   "metadata": {},
   "outputs": [],
   "source": [
    "import importlib\n",
    "import ptycho_torch.api.base_api\n",
    "import ptycho_torch.dataloader\n",
    "\n",
    "importlib.reload(ptycho_torch.api.base_api)\n",
    "importlib.reload(ptycho_torch.dataloader)\n",
    "\n",
    "from ptycho_torch.api.base_api import ConfigManager, PtychoDataLoader, PtychoModel, Trainer, InferenceEngine\n",
    "import ptycho_torch.dataloader"
   ]
  },
  {
   "cell_type": "code",
   "execution_count": 59,
   "id": "9e94d753",
   "metadata": {},
   "outputs": [],
   "source": [
    "from ptycho_torch.api.base_api import DataloaderFormats"
   ]
  },
  {
   "cell_type": "markdown",
   "id": "7d861d6f",
   "metadata": {},
   "source": [
    "The dataloader has two main current formats: ```Lightning``` and  ```Tensordict```. \n",
    "\n",
    "```Lightning``` is more useful for training since the dataloader will be generated during training and is compaitable with distributed data parallel (DDP) for multi-gpu training with the tensordict dataloader.\n",
    "\n",
    "```Tensordict``` spawns the base Dataset and Dataloader instances which can be used to inspect the data or use for inference.\n",
    "\n",
    "First, let's provide an arbitrary path to some training data we want to use. We make zero distinction between synthetic and real data, only parsing whatever .npz files exist within the directory. Note that the dataset creation automatically handles multiple experiments. To see how additional details/how the dataset class handles distinguishing amongst different npz files/experiments, see ```ptycho_torch.dataloader.py``` for details"
   ]
  },
  {
   "cell_type": "code",
   "execution_count": 60,
   "id": "8d897f6d",
   "metadata": {},
   "outputs": [
    {
     "data": {
      "text/plain": [
       "True"
      ]
     },
     "execution_count": 60,
     "metadata": {},
     "output_type": "execute_result"
    }
   ],
   "source": [
    "ptycho_data_dir = \"/local/CDI-PINN/data/pinn_velo_ncm\"\n",
    "os.path.exists(ptycho_data_dir)"
   ]
  },
  {
   "cell_type": "markdown",
   "id": "d07ae899",
   "metadata": {},
   "source": [
    "## Lightning Dataloader"
   ]
  },
  {
   "cell_type": "code",
   "execution_count": 61,
   "id": "a88d6a50",
   "metadata": {},
   "outputs": [
    {
     "name": "stdout",
     "output_type": "stream",
     "text": [
      "Set up lightning datamodule\n"
     ]
    }
   ],
   "source": [
    "lightning_dataloader = PtychoDataLoader(data_dir = ptycho_data_dir,\n",
    "                                        config_manager = config_manager_mlflow,\n",
    "                                        data_format = DataloaderFormats('lightning_module'))"
   ]
  },
  {
   "cell_type": "markdown",
   "id": "eea1316f",
   "metadata": {},
   "source": [
    "## Tensordict Dataloader"
   ]
  },
  {
   "cell_type": "markdown",
   "id": "40b97476",
   "metadata": {},
   "source": [
    "Note that instantiating the ```PtychoDataLoader``` with the tensordict format will create both a dataset object and dataloader object, which can both be accessed as attributes after class instantiation. We'll reference the dataset object so we can take a look inside to check it works."
   ]
  },
  {
   "cell_type": "code",
   "execution_count": null,
   "id": "964a376c",
   "metadata": {},
   "outputs": [
    {
     "name": "stdout",
     "output_type": "stream",
     "text": [
      "Calculating dataset length with coordinate bounds...\n",
      "For file /local/CDI-PINN/data/pinn_velo_ncm/nxs_data_ncm_1_64_train.npz, maximum x_range is (33.11264419555664, 240.88735961914062), yrange is (33.431095123291016, 232.56890869140625)\n",
      "Creating memory mapped tensor dictionary...\n",
      "Memory map length: 1902\n",
      "Memory map creation time: 0.0018334388732910156\n",
      "Populating memory map for dataset 0\n",
      "Start - end = 1902\n",
      "Building KDTree for 2466 points...\n",
      "Processing 1902 potential central points...\n",
      "Finished quadrant neighbor processing. Found 1902 valid C=4 groups.\n",
      "Non-diffraction memory map write time: 0.23435759544372559\n",
      "Getting normalization coefficients...\n",
      "Batch rms factor is tensor([[[[0.0012]]]])\n",
      "Diffraction memory map write time: 0.07936739921569824\n",
      "[PtychoDataset Rank 0] Initialization successful. Dataset length: 1902.\n",
      "Setup ptycho dataset\n",
      "Setup ptycho dataloader\n"
     ]
    },
    {
     "data": {
      "text/plain": [
       "<ptycho_torch.dataloader.PtychoDataset at 0x7fda371a6f80>"
      ]
     },
     "execution_count": 41,
     "metadata": {},
     "output_type": "execute_result"
    }
   ],
   "source": [
    "tensordict_dataloader = PtychoDataLoader(data_dir = ptycho_data_dir,\n",
    "                                        config_manager = config_manager_mlflow,\n",
    "                                        data_format = DataloaderFormats('tensordict'))\n",
    "\n"
   ]
  },
  {
   "cell_type": "code",
   "execution_count": 42,
   "id": "aec2bdba",
   "metadata": {},
   "outputs": [
    {
     "data": {
      "text/plain": [
       "(TensorDict(\n",
       "     fields={\n",
       "         coords_center: MemoryMappedTensor(shape=torch.Size([3, 1, 1, 2]), device=cpu, dtype=torch.float32, is_shared=True),\n",
       "         coords_global: MemoryMappedTensor(shape=torch.Size([3, 4, 1, 2]), device=cpu, dtype=torch.float32, is_shared=True),\n",
       "         coords_relative: MemoryMappedTensor(shape=torch.Size([3, 4, 1, 2]), device=cpu, dtype=torch.float32, is_shared=True),\n",
       "         coords_start_center: MemoryMappedTensor(shape=torch.Size([3, 1, 1, 2]), device=cpu, dtype=torch.float32, is_shared=True),\n",
       "         coords_start_relative: MemoryMappedTensor(shape=torch.Size([3, 4, 1, 2]), device=cpu, dtype=torch.float32, is_shared=True),\n",
       "         experiment_id: MemoryMappedTensor(shape=torch.Size([3]), device=cpu, dtype=torch.int32, is_shared=True),\n",
       "         images: MemoryMappedTensor(shape=torch.Size([3, 4, 64, 64]), device=cpu, dtype=torch.float32, is_shared=True),\n",
       "         label_amp: MemoryMappedTensor(shape=torch.Size([3, 4, 64, 64]), device=cpu, dtype=torch.float32, is_shared=True),\n",
       "         label_phase: MemoryMappedTensor(shape=torch.Size([3, 4, 64, 64]), device=cpu, dtype=torch.float32, is_shared=True),\n",
       "         nn_indices: MemoryMappedTensor(shape=torch.Size([3, 4]), device=cpu, dtype=torch.int64, is_shared=True),\n",
       "         physics_scaling_constant: MemoryMappedTensor(shape=torch.Size([3, 1, 1, 1]), device=cpu, dtype=torch.float32, is_shared=True),\n",
       "         rms_scaling_constant: MemoryMappedTensor(shape=torch.Size([3, 1, 1, 1]), device=cpu, dtype=torch.float32, is_shared=True)},\n",
       "     batch_size=torch.Size([3]),\n",
       "     device=cpu,\n",
       "     is_shared=False),\n",
       " tensor([[[[[-4.3091e-05-2.8940e-04j,  5.7006e-04+2.7263e-04j,\n",
       "              3.2320e-04-1.8437e-04j,  ...,\n",
       "              2.3659e-04-3.3919e-04j,  8.1525e-05-2.4157e-04j,\n",
       "              2.5281e-06+3.5443e-04j],\n",
       "            [-4.4747e-04+6.9711e-04j, -9.7556e-06-5.3134e-04j,\n",
       "             -1.7086e-04-7.3939e-04j,  ...,\n",
       "              2.7910e-04-5.3172e-04j, -8.0198e-05-1.0590e-04j,\n",
       "              4.8479e-05+4.6763e-04j],\n",
       "            [-1.8301e-05+5.3925e-04j, -4.6486e-04-7.5748e-04j,\n",
       "              2.9672e-05-4.8504e-05j,  ...,\n",
       "             -1.5833e-05-6.5333e-04j,  5.1248e-04-3.3274e-04j,\n",
       "             -4.3013e-04+4.2610e-04j],\n",
       "            ...,\n",
       "            [ 6.2349e-04+5.2546e-04j, -1.0856e-05+3.1835e-04j,\n",
       "             -2.4857e-04+4.2672e-04j,  ...,\n",
       "              1.8288e-04+9.3246e-05j,  1.3734e-04-6.4181e-04j,\n",
       "              6.0417e-04+3.5088e-04j],\n",
       "            [ 3.0428e-04+1.8803e-04j,  5.4588e-04+3.0648e-04j,\n",
       "             -9.7366e-05+1.1341e-03j,  ...,\n",
       "              2.8101e-04-5.3869e-04j,  4.6907e-04+5.7500e-05j,\n",
       "             -6.5518e-05+4.6713e-04j],\n",
       "            [ 2.9125e-04-3.8640e-04j,  2.7384e-04+7.5530e-05j,\n",
       "              1.2168e-04+4.1001e-04j,  ...,\n",
       "              1.0011e-03+2.9648e-05j, -2.8274e-04+7.5532e-04j,\n",
       "             -1.9552e-04-2.4319e-04j]]],\n",
       " \n",
       " \n",
       "          [[[-4.3091e-05-2.8940e-04j,  5.7006e-04+2.7263e-04j,\n",
       "              3.2320e-04-1.8437e-04j,  ...,\n",
       "              2.3659e-04-3.3919e-04j,  8.1525e-05-2.4157e-04j,\n",
       "              2.5281e-06+3.5443e-04j],\n",
       "            [-4.4747e-04+6.9711e-04j, -9.7556e-06-5.3134e-04j,\n",
       "             -1.7086e-04-7.3939e-04j,  ...,\n",
       "              2.7910e-04-5.3172e-04j, -8.0198e-05-1.0590e-04j,\n",
       "              4.8479e-05+4.6763e-04j],\n",
       "            [-1.8301e-05+5.3925e-04j, -4.6486e-04-7.5748e-04j,\n",
       "              2.9672e-05-4.8504e-05j,  ...,\n",
       "             -1.5833e-05-6.5333e-04j,  5.1248e-04-3.3274e-04j,\n",
       "             -4.3013e-04+4.2610e-04j],\n",
       "            ...,\n",
       "            [ 6.2349e-04+5.2546e-04j, -1.0856e-05+3.1835e-04j,\n",
       "             -2.4857e-04+4.2672e-04j,  ...,\n",
       "              1.8288e-04+9.3246e-05j,  1.3734e-04-6.4181e-04j,\n",
       "              6.0417e-04+3.5088e-04j],\n",
       "            [ 3.0428e-04+1.8803e-04j,  5.4588e-04+3.0648e-04j,\n",
       "             -9.7366e-05+1.1341e-03j,  ...,\n",
       "              2.8101e-04-5.3869e-04j,  4.6907e-04+5.7500e-05j,\n",
       "             -6.5518e-05+4.6713e-04j],\n",
       "            [ 2.9125e-04-3.8640e-04j,  2.7384e-04+7.5530e-05j,\n",
       "              1.2168e-04+4.1001e-04j,  ...,\n",
       "              1.0011e-03+2.9648e-05j, -2.8274e-04+7.5532e-04j,\n",
       "             -1.9552e-04-2.4319e-04j]]],\n",
       " \n",
       " \n",
       "          [[[-4.3091e-05-2.8940e-04j,  5.7006e-04+2.7263e-04j,\n",
       "              3.2320e-04-1.8437e-04j,  ...,\n",
       "              2.3659e-04-3.3919e-04j,  8.1525e-05-2.4157e-04j,\n",
       "              2.5281e-06+3.5443e-04j],\n",
       "            [-4.4747e-04+6.9711e-04j, -9.7556e-06-5.3134e-04j,\n",
       "             -1.7086e-04-7.3939e-04j,  ...,\n",
       "              2.7910e-04-5.3172e-04j, -8.0198e-05-1.0590e-04j,\n",
       "              4.8479e-05+4.6763e-04j],\n",
       "            [-1.8301e-05+5.3925e-04j, -4.6486e-04-7.5748e-04j,\n",
       "              2.9672e-05-4.8504e-05j,  ...,\n",
       "             -1.5833e-05-6.5333e-04j,  5.1248e-04-3.3274e-04j,\n",
       "             -4.3013e-04+4.2610e-04j],\n",
       "            ...,\n",
       "            [ 6.2349e-04+5.2546e-04j, -1.0856e-05+3.1835e-04j,\n",
       "             -2.4857e-04+4.2672e-04j,  ...,\n",
       "              1.8288e-04+9.3246e-05j,  1.3734e-04-6.4181e-04j,\n",
       "              6.0417e-04+3.5088e-04j],\n",
       "            [ 3.0428e-04+1.8803e-04j,  5.4588e-04+3.0648e-04j,\n",
       "             -9.7366e-05+1.1341e-03j,  ...,\n",
       "              2.8101e-04-5.3869e-04j,  4.6907e-04+5.7500e-05j,\n",
       "             -6.5518e-05+4.6713e-04j],\n",
       "            [ 2.9125e-04-3.8640e-04j,  2.7384e-04+7.5530e-05j,\n",
       "              1.2168e-04+4.1001e-04j,  ...,\n",
       "              1.0011e-03+2.9648e-05j, -2.8274e-04+7.5532e-04j,\n",
       "             -1.9552e-04-2.4319e-04j]]],\n",
       " \n",
       " \n",
       "          [[[-4.3091e-05-2.8940e-04j,  5.7006e-04+2.7263e-04j,\n",
       "              3.2320e-04-1.8437e-04j,  ...,\n",
       "              2.3659e-04-3.3919e-04j,  8.1525e-05-2.4157e-04j,\n",
       "              2.5281e-06+3.5443e-04j],\n",
       "            [-4.4747e-04+6.9711e-04j, -9.7556e-06-5.3134e-04j,\n",
       "             -1.7086e-04-7.3939e-04j,  ...,\n",
       "              2.7910e-04-5.3172e-04j, -8.0198e-05-1.0590e-04j,\n",
       "              4.8479e-05+4.6763e-04j],\n",
       "            [-1.8301e-05+5.3925e-04j, -4.6486e-04-7.5748e-04j,\n",
       "              2.9672e-05-4.8504e-05j,  ...,\n",
       "             -1.5833e-05-6.5333e-04j,  5.1248e-04-3.3274e-04j,\n",
       "             -4.3013e-04+4.2610e-04j],\n",
       "            ...,\n",
       "            [ 6.2349e-04+5.2546e-04j, -1.0856e-05+3.1835e-04j,\n",
       "             -2.4857e-04+4.2672e-04j,  ...,\n",
       "              1.8288e-04+9.3246e-05j,  1.3734e-04-6.4181e-04j,\n",
       "              6.0417e-04+3.5088e-04j],\n",
       "            [ 3.0428e-04+1.8803e-04j,  5.4588e-04+3.0648e-04j,\n",
       "             -9.7366e-05+1.1341e-03j,  ...,\n",
       "              2.8101e-04-5.3869e-04j,  4.6907e-04+5.7500e-05j,\n",
       "             -6.5518e-05+4.6713e-04j],\n",
       "            [ 2.9125e-04-3.8640e-04j,  2.7384e-04+7.5530e-05j,\n",
       "              1.2168e-04+4.1001e-04j,  ...,\n",
       "              1.0011e-03+2.9648e-05j, -2.8274e-04+7.5532e-04j,\n",
       "             -1.9552e-04-2.4319e-04j]]]],\n",
       " \n",
       " \n",
       " \n",
       "         [[[[-4.3091e-05-2.8940e-04j,  5.7006e-04+2.7263e-04j,\n",
       "              3.2320e-04-1.8437e-04j,  ...,\n",
       "              2.3659e-04-3.3919e-04j,  8.1525e-05-2.4157e-04j,\n",
       "              2.5281e-06+3.5443e-04j],\n",
       "            [-4.4747e-04+6.9711e-04j, -9.7556e-06-5.3134e-04j,\n",
       "             -1.7086e-04-7.3939e-04j,  ...,\n",
       "              2.7910e-04-5.3172e-04j, -8.0198e-05-1.0590e-04j,\n",
       "              4.8479e-05+4.6763e-04j],\n",
       "            [-1.8301e-05+5.3925e-04j, -4.6486e-04-7.5748e-04j,\n",
       "              2.9672e-05-4.8504e-05j,  ...,\n",
       "             -1.5833e-05-6.5333e-04j,  5.1248e-04-3.3274e-04j,\n",
       "             -4.3013e-04+4.2610e-04j],\n",
       "            ...,\n",
       "            [ 6.2349e-04+5.2546e-04j, -1.0856e-05+3.1835e-04j,\n",
       "             -2.4857e-04+4.2672e-04j,  ...,\n",
       "              1.8288e-04+9.3246e-05j,  1.3734e-04-6.4181e-04j,\n",
       "              6.0417e-04+3.5088e-04j],\n",
       "            [ 3.0428e-04+1.8803e-04j,  5.4588e-04+3.0648e-04j,\n",
       "             -9.7366e-05+1.1341e-03j,  ...,\n",
       "              2.8101e-04-5.3869e-04j,  4.6907e-04+5.7500e-05j,\n",
       "             -6.5518e-05+4.6713e-04j],\n",
       "            [ 2.9125e-04-3.8640e-04j,  2.7384e-04+7.5530e-05j,\n",
       "              1.2168e-04+4.1001e-04j,  ...,\n",
       "              1.0011e-03+2.9648e-05j, -2.8274e-04+7.5532e-04j,\n",
       "             -1.9552e-04-2.4319e-04j]]],\n",
       " \n",
       " \n",
       "          [[[-4.3091e-05-2.8940e-04j,  5.7006e-04+2.7263e-04j,\n",
       "              3.2320e-04-1.8437e-04j,  ...,\n",
       "              2.3659e-04-3.3919e-04j,  8.1525e-05-2.4157e-04j,\n",
       "              2.5281e-06+3.5443e-04j],\n",
       "            [-4.4747e-04+6.9711e-04j, -9.7556e-06-5.3134e-04j,\n",
       "             -1.7086e-04-7.3939e-04j,  ...,\n",
       "              2.7910e-04-5.3172e-04j, -8.0198e-05-1.0590e-04j,\n",
       "              4.8479e-05+4.6763e-04j],\n",
       "            [-1.8301e-05+5.3925e-04j, -4.6486e-04-7.5748e-04j,\n",
       "              2.9672e-05-4.8504e-05j,  ...,\n",
       "             -1.5833e-05-6.5333e-04j,  5.1248e-04-3.3274e-04j,\n",
       "             -4.3013e-04+4.2610e-04j],\n",
       "            ...,\n",
       "            [ 6.2349e-04+5.2546e-04j, -1.0856e-05+3.1835e-04j,\n",
       "             -2.4857e-04+4.2672e-04j,  ...,\n",
       "              1.8288e-04+9.3246e-05j,  1.3734e-04-6.4181e-04j,\n",
       "              6.0417e-04+3.5088e-04j],\n",
       "            [ 3.0428e-04+1.8803e-04j,  5.4588e-04+3.0648e-04j,\n",
       "             -9.7366e-05+1.1341e-03j,  ...,\n",
       "              2.8101e-04-5.3869e-04j,  4.6907e-04+5.7500e-05j,\n",
       "             -6.5518e-05+4.6713e-04j],\n",
       "            [ 2.9125e-04-3.8640e-04j,  2.7384e-04+7.5530e-05j,\n",
       "              1.2168e-04+4.1001e-04j,  ...,\n",
       "              1.0011e-03+2.9648e-05j, -2.8274e-04+7.5532e-04j,\n",
       "             -1.9552e-04-2.4319e-04j]]],\n",
       " \n",
       " \n",
       "          [[[-4.3091e-05-2.8940e-04j,  5.7006e-04+2.7263e-04j,\n",
       "              3.2320e-04-1.8437e-04j,  ...,\n",
       "              2.3659e-04-3.3919e-04j,  8.1525e-05-2.4157e-04j,\n",
       "              2.5281e-06+3.5443e-04j],\n",
       "            [-4.4747e-04+6.9711e-04j, -9.7556e-06-5.3134e-04j,\n",
       "             -1.7086e-04-7.3939e-04j,  ...,\n",
       "              2.7910e-04-5.3172e-04j, -8.0198e-05-1.0590e-04j,\n",
       "              4.8479e-05+4.6763e-04j],\n",
       "            [-1.8301e-05+5.3925e-04j, -4.6486e-04-7.5748e-04j,\n",
       "              2.9672e-05-4.8504e-05j,  ...,\n",
       "             -1.5833e-05-6.5333e-04j,  5.1248e-04-3.3274e-04j,\n",
       "             -4.3013e-04+4.2610e-04j],\n",
       "            ...,\n",
       "            [ 6.2349e-04+5.2546e-04j, -1.0856e-05+3.1835e-04j,\n",
       "             -2.4857e-04+4.2672e-04j,  ...,\n",
       "              1.8288e-04+9.3246e-05j,  1.3734e-04-6.4181e-04j,\n",
       "              6.0417e-04+3.5088e-04j],\n",
       "            [ 3.0428e-04+1.8803e-04j,  5.4588e-04+3.0648e-04j,\n",
       "             -9.7366e-05+1.1341e-03j,  ...,\n",
       "              2.8101e-04-5.3869e-04j,  4.6907e-04+5.7500e-05j,\n",
       "             -6.5518e-05+4.6713e-04j],\n",
       "            [ 2.9125e-04-3.8640e-04j,  2.7384e-04+7.5530e-05j,\n",
       "              1.2168e-04+4.1001e-04j,  ...,\n",
       "              1.0011e-03+2.9648e-05j, -2.8274e-04+7.5532e-04j,\n",
       "             -1.9552e-04-2.4319e-04j]]],\n",
       " \n",
       " \n",
       "          [[[-4.3091e-05-2.8940e-04j,  5.7006e-04+2.7263e-04j,\n",
       "              3.2320e-04-1.8437e-04j,  ...,\n",
       "              2.3659e-04-3.3919e-04j,  8.1525e-05-2.4157e-04j,\n",
       "              2.5281e-06+3.5443e-04j],\n",
       "            [-4.4747e-04+6.9711e-04j, -9.7556e-06-5.3134e-04j,\n",
       "             -1.7086e-04-7.3939e-04j,  ...,\n",
       "              2.7910e-04-5.3172e-04j, -8.0198e-05-1.0590e-04j,\n",
       "              4.8479e-05+4.6763e-04j],\n",
       "            [-1.8301e-05+5.3925e-04j, -4.6486e-04-7.5748e-04j,\n",
       "              2.9672e-05-4.8504e-05j,  ...,\n",
       "             -1.5833e-05-6.5333e-04j,  5.1248e-04-3.3274e-04j,\n",
       "             -4.3013e-04+4.2610e-04j],\n",
       "            ...,\n",
       "            [ 6.2349e-04+5.2546e-04j, -1.0856e-05+3.1835e-04j,\n",
       "             -2.4857e-04+4.2672e-04j,  ...,\n",
       "              1.8288e-04+9.3246e-05j,  1.3734e-04-6.4181e-04j,\n",
       "              6.0417e-04+3.5088e-04j],\n",
       "            [ 3.0428e-04+1.8803e-04j,  5.4588e-04+3.0648e-04j,\n",
       "             -9.7366e-05+1.1341e-03j,  ...,\n",
       "              2.8101e-04-5.3869e-04j,  4.6907e-04+5.7500e-05j,\n",
       "             -6.5518e-05+4.6713e-04j],\n",
       "            [ 2.9125e-04-3.8640e-04j,  2.7384e-04+7.5530e-05j,\n",
       "              1.2168e-04+4.1001e-04j,  ...,\n",
       "              1.0011e-03+2.9648e-05j, -2.8274e-04+7.5532e-04j,\n",
       "             -1.9552e-04-2.4319e-04j]]]],\n",
       " \n",
       " \n",
       " \n",
       "         [[[[-4.3091e-05-2.8940e-04j,  5.7006e-04+2.7263e-04j,\n",
       "              3.2320e-04-1.8437e-04j,  ...,\n",
       "              2.3659e-04-3.3919e-04j,  8.1525e-05-2.4157e-04j,\n",
       "              2.5281e-06+3.5443e-04j],\n",
       "            [-4.4747e-04+6.9711e-04j, -9.7556e-06-5.3134e-04j,\n",
       "             -1.7086e-04-7.3939e-04j,  ...,\n",
       "              2.7910e-04-5.3172e-04j, -8.0198e-05-1.0590e-04j,\n",
       "              4.8479e-05+4.6763e-04j],\n",
       "            [-1.8301e-05+5.3925e-04j, -4.6486e-04-7.5748e-04j,\n",
       "              2.9672e-05-4.8504e-05j,  ...,\n",
       "             -1.5833e-05-6.5333e-04j,  5.1248e-04-3.3274e-04j,\n",
       "             -4.3013e-04+4.2610e-04j],\n",
       "            ...,\n",
       "            [ 6.2349e-04+5.2546e-04j, -1.0856e-05+3.1835e-04j,\n",
       "             -2.4857e-04+4.2672e-04j,  ...,\n",
       "              1.8288e-04+9.3246e-05j,  1.3734e-04-6.4181e-04j,\n",
       "              6.0417e-04+3.5088e-04j],\n",
       "            [ 3.0428e-04+1.8803e-04j,  5.4588e-04+3.0648e-04j,\n",
       "             -9.7366e-05+1.1341e-03j,  ...,\n",
       "              2.8101e-04-5.3869e-04j,  4.6907e-04+5.7500e-05j,\n",
       "             -6.5518e-05+4.6713e-04j],\n",
       "            [ 2.9125e-04-3.8640e-04j,  2.7384e-04+7.5530e-05j,\n",
       "              1.2168e-04+4.1001e-04j,  ...,\n",
       "              1.0011e-03+2.9648e-05j, -2.8274e-04+7.5532e-04j,\n",
       "             -1.9552e-04-2.4319e-04j]]],\n",
       " \n",
       " \n",
       "          [[[-4.3091e-05-2.8940e-04j,  5.7006e-04+2.7263e-04j,\n",
       "              3.2320e-04-1.8437e-04j,  ...,\n",
       "              2.3659e-04-3.3919e-04j,  8.1525e-05-2.4157e-04j,\n",
       "              2.5281e-06+3.5443e-04j],\n",
       "            [-4.4747e-04+6.9711e-04j, -9.7556e-06-5.3134e-04j,\n",
       "             -1.7086e-04-7.3939e-04j,  ...,\n",
       "              2.7910e-04-5.3172e-04j, -8.0198e-05-1.0590e-04j,\n",
       "              4.8479e-05+4.6763e-04j],\n",
       "            [-1.8301e-05+5.3925e-04j, -4.6486e-04-7.5748e-04j,\n",
       "              2.9672e-05-4.8504e-05j,  ...,\n",
       "             -1.5833e-05-6.5333e-04j,  5.1248e-04-3.3274e-04j,\n",
       "             -4.3013e-04+4.2610e-04j],\n",
       "            ...,\n",
       "            [ 6.2349e-04+5.2546e-04j, -1.0856e-05+3.1835e-04j,\n",
       "             -2.4857e-04+4.2672e-04j,  ...,\n",
       "              1.8288e-04+9.3246e-05j,  1.3734e-04-6.4181e-04j,\n",
       "              6.0417e-04+3.5088e-04j],\n",
       "            [ 3.0428e-04+1.8803e-04j,  5.4588e-04+3.0648e-04j,\n",
       "             -9.7366e-05+1.1341e-03j,  ...,\n",
       "              2.8101e-04-5.3869e-04j,  4.6907e-04+5.7500e-05j,\n",
       "             -6.5518e-05+4.6713e-04j],\n",
       "            [ 2.9125e-04-3.8640e-04j,  2.7384e-04+7.5530e-05j,\n",
       "              1.2168e-04+4.1001e-04j,  ...,\n",
       "              1.0011e-03+2.9648e-05j, -2.8274e-04+7.5532e-04j,\n",
       "             -1.9552e-04-2.4319e-04j]]],\n",
       " \n",
       " \n",
       "          [[[-4.3091e-05-2.8940e-04j,  5.7006e-04+2.7263e-04j,\n",
       "              3.2320e-04-1.8437e-04j,  ...,\n",
       "              2.3659e-04-3.3919e-04j,  8.1525e-05-2.4157e-04j,\n",
       "              2.5281e-06+3.5443e-04j],\n",
       "            [-4.4747e-04+6.9711e-04j, -9.7556e-06-5.3134e-04j,\n",
       "             -1.7086e-04-7.3939e-04j,  ...,\n",
       "              2.7910e-04-5.3172e-04j, -8.0198e-05-1.0590e-04j,\n",
       "              4.8479e-05+4.6763e-04j],\n",
       "            [-1.8301e-05+5.3925e-04j, -4.6486e-04-7.5748e-04j,\n",
       "              2.9672e-05-4.8504e-05j,  ...,\n",
       "             -1.5833e-05-6.5333e-04j,  5.1248e-04-3.3274e-04j,\n",
       "             -4.3013e-04+4.2610e-04j],\n",
       "            ...,\n",
       "            [ 6.2349e-04+5.2546e-04j, -1.0856e-05+3.1835e-04j,\n",
       "             -2.4857e-04+4.2672e-04j,  ...,\n",
       "              1.8288e-04+9.3246e-05j,  1.3734e-04-6.4181e-04j,\n",
       "              6.0417e-04+3.5088e-04j],\n",
       "            [ 3.0428e-04+1.8803e-04j,  5.4588e-04+3.0648e-04j,\n",
       "             -9.7366e-05+1.1341e-03j,  ...,\n",
       "              2.8101e-04-5.3869e-04j,  4.6907e-04+5.7500e-05j,\n",
       "             -6.5518e-05+4.6713e-04j],\n",
       "            [ 2.9125e-04-3.8640e-04j,  2.7384e-04+7.5530e-05j,\n",
       "              1.2168e-04+4.1001e-04j,  ...,\n",
       "              1.0011e-03+2.9648e-05j, -2.8274e-04+7.5532e-04j,\n",
       "             -1.9552e-04-2.4319e-04j]]],\n",
       " \n",
       " \n",
       "          [[[-4.3091e-05-2.8940e-04j,  5.7006e-04+2.7263e-04j,\n",
       "              3.2320e-04-1.8437e-04j,  ...,\n",
       "              2.3659e-04-3.3919e-04j,  8.1525e-05-2.4157e-04j,\n",
       "              2.5281e-06+3.5443e-04j],\n",
       "            [-4.4747e-04+6.9711e-04j, -9.7556e-06-5.3134e-04j,\n",
       "             -1.7086e-04-7.3939e-04j,  ...,\n",
       "              2.7910e-04-5.3172e-04j, -8.0198e-05-1.0590e-04j,\n",
       "              4.8479e-05+4.6763e-04j],\n",
       "            [-1.8301e-05+5.3925e-04j, -4.6486e-04-7.5748e-04j,\n",
       "              2.9672e-05-4.8504e-05j,  ...,\n",
       "             -1.5833e-05-6.5333e-04j,  5.1248e-04-3.3274e-04j,\n",
       "             -4.3013e-04+4.2610e-04j],\n",
       "            ...,\n",
       "            [ 6.2349e-04+5.2546e-04j, -1.0856e-05+3.1835e-04j,\n",
       "             -2.4857e-04+4.2672e-04j,  ...,\n",
       "              1.8288e-04+9.3246e-05j,  1.3734e-04-6.4181e-04j,\n",
       "              6.0417e-04+3.5088e-04j],\n",
       "            [ 3.0428e-04+1.8803e-04j,  5.4588e-04+3.0648e-04j,\n",
       "             -9.7366e-05+1.1341e-03j,  ...,\n",
       "              2.8101e-04-5.3869e-04j,  4.6907e-04+5.7500e-05j,\n",
       "             -6.5518e-05+4.6713e-04j],\n",
       "            [ 2.9125e-04-3.8640e-04j,  2.7384e-04+7.5530e-05j,\n",
       "              1.2168e-04+4.1001e-04j,  ...,\n",
       "              1.0011e-03+2.9648e-05j, -2.8274e-04+7.5532e-04j,\n",
       "             -1.9552e-04-2.4319e-04j]]]]]),\n",
       " tensor([[[[0.0012]]],\n",
       " \n",
       " \n",
       "         [[[0.0012]]],\n",
       " \n",
       " \n",
       "         [[[0.0012]]]]))"
      ]
     },
     "execution_count": 42,
     "metadata": {},
     "output_type": "execute_result"
    }
   ],
   "source": [
    "tensordict_dataloader.dataset[1:4]"
   ]
  },
  {
   "cell_type": "markdown",
   "id": "5f9fabc6",
   "metadata": {},
   "source": [
    "# Part 3. Model"
   ]
  },
  {
   "cell_type": "code",
   "execution_count": 36,
   "id": "a786a93e",
   "metadata": {},
   "outputs": [],
   "source": [
    "import importlib\n",
    "from ptycho_torch.api.base_api import Orchestration\n",
    "from ptycho_torch.model import PtychoPINN_Lightning"
   ]
  },
  {
   "cell_type": "code",
   "execution_count": 52,
   "id": "14537e89",
   "metadata": {},
   "outputs": [],
   "source": [
    "import ptycho_torch.api.base_api\n",
    "importlib.reload(ptycho_torch.api.base_api)\n",
    "from ptycho_torch.api.base_api import PtychoModel, ConfigManager"
   ]
  },
  {
   "cell_type": "markdown",
   "id": "e1797a0f",
   "metadata": {},
   "source": [
    "We can either instantiate a baseline model based off a config manager, or we can \"load\" from mlflow"
   ]
  },
  {
   "cell_type": "markdown",
   "id": "68f53af7",
   "metadata": {},
   "source": [
    "## Instantiating untrained model"
   ]
  },
  {
   "cell_type": "code",
   "execution_count": 25,
   "id": "ea095461",
   "metadata": {},
   "outputs": [
    {
     "name": "stdout",
     "output_type": "stream",
     "text": [
      "Decoder Block 1: No attention module added.\n",
      "Decoder Block 2: No attention module added.\n",
      "Decoder Block 1: No attention module added.\n",
      "Decoder Block 2: No attention module added.\n"
     ]
    }
   ],
   "source": [
    "new_ptycho_model = PtychoModel._new_model(model = PtychoPINN_Lightning,\n",
    "                                          config_manager = config_manager_mlflow)"
   ]
  },
  {
   "cell_type": "markdown",
   "id": "61b0d2b3",
   "metadata": {},
   "source": [
    "## Loading model from trained mlflow run"
   ]
  },
  {
   "cell_type": "code",
   "execution_count": 53,
   "id": "69ff56bc",
   "metadata": {},
   "outputs": [],
   "source": [
    "loaded_ptycho_model = PtychoModel._load(strategy = 'mlflow',\n",
    "                                        run_id = run_id,\n",
    "                                        mlflow_tracking_uri = mlflow_tracking_uri)"
   ]
  },
  {
   "cell_type": "code",
   "execution_count": 54,
   "id": "059befb0",
   "metadata": {},
   "outputs": [
    {
     "name": "stdout",
     "output_type": "stream",
     "text": [
      "Model uri: /local/CDI-PINN/mlruns\n",
      "Model id: f637381fd7fe49158bb0ed2e7a28ca45\n",
      "PtychoPINN_Lightning(\n",
      "  (model): PtychoPINN(\n",
      "    (autoencoder): Autoencoder(\n",
      "      (encoder): Encoder(\n",
      "        (blocks): ModuleList(\n",
      "          (0): ConvPoolBlock(\n",
      "            (conv1): Conv2d(4, 64, kernel_size=(3, 3), stride=(1, 1), padding=(1, 1))\n",
      "            (conv2): Conv2d(64, 64, kernel_size=(3, 3), stride=(1, 1), padding=(1, 1))\n",
      "            (pool): MaxPool2d(kernel_size=(2, 2), stride=(2, 2), padding=0, dilation=1, ceil_mode=False)\n",
      "            (attention): CBAM(\n",
      "              (ChannelGate): ChannelGate(\n",
      "                (mlp): Sequential(\n",
      "                  (0): Flatten(start_dim=1, end_dim=-1)\n",
      "                  (1): Linear(in_features=64, out_features=4, bias=True)\n",
      "                  (2): ReLU()\n",
      "                  (3): Linear(in_features=4, out_features=64, bias=True)\n",
      "                )\n",
      "              )\n",
      "              (SpatialGate): SpatialGate(\n",
      "                (compress): Conv2d(2, 1, kernel_size=(7, 7), stride=(1, 1), padding=(3, 3), bias=False)\n",
      "              )\n",
      "            )\n",
      "          )\n",
      "          (1): ConvPoolBlock(\n",
      "            (conv1): Conv2d(64, 128, kernel_size=(3, 3), stride=(1, 1), padding=(1, 1))\n",
      "            (conv2): Conv2d(128, 128, kernel_size=(3, 3), stride=(1, 1), padding=(1, 1))\n",
      "            (pool): MaxPool2d(kernel_size=(2, 2), stride=(2, 2), padding=0, dilation=1, ceil_mode=False)\n",
      "            (attention): CBAM(\n",
      "              (ChannelGate): ChannelGate(\n",
      "                (mlp): Sequential(\n",
      "                  (0): Flatten(start_dim=1, end_dim=-1)\n",
      "                  (1): Linear(in_features=128, out_features=8, bias=True)\n",
      "                  (2): ReLU()\n",
      "                  (3): Linear(in_features=8, out_features=128, bias=True)\n",
      "                )\n",
      "              )\n",
      "              (SpatialGate): SpatialGate(\n",
      "                (compress): Conv2d(2, 1, kernel_size=(7, 7), stride=(1, 1), padding=(3, 3), bias=False)\n",
      "              )\n",
      "            )\n",
      "          )\n",
      "          (2): ConvPoolBlock(\n",
      "            (conv1): Conv2d(128, 256, kernel_size=(3, 3), stride=(1, 1), padding=(1, 1))\n",
      "            (conv2): Conv2d(256, 256, kernel_size=(3, 3), stride=(1, 1), padding=(1, 1))\n",
      "            (pool): MaxPool2d(kernel_size=(2, 2), stride=(2, 2), padding=0, dilation=1, ceil_mode=False)\n",
      "            (attention): CBAM(\n",
      "              (ChannelGate): ChannelGate(\n",
      "                (mlp): Sequential(\n",
      "                  (0): Flatten(start_dim=1, end_dim=-1)\n",
      "                  (1): Linear(in_features=256, out_features=16, bias=True)\n",
      "                  (2): ReLU()\n",
      "                  (3): Linear(in_features=16, out_features=256, bias=True)\n",
      "                )\n",
      "              )\n",
      "              (SpatialGate): SpatialGate(\n",
      "                (compress): Conv2d(2, 1, kernel_size=(7, 7), stride=(1, 1), padding=(3, 3), bias=False)\n",
      "              )\n",
      "            )\n",
      "          )\n",
      "        )\n",
      "      )\n",
      "      (bottleneck_cbam): Identity()\n",
      "      (decoder_amp): Decoder_amp(\n",
      "        (blocks): ModuleList(\n",
      "          (0): ConvUpBlock(\n",
      "            (conv1): Conv2d(256, 128, kernel_size=(3, 3), stride=(1, 1), padding=(1, 1))\n",
      "            (conv2): Conv2d(128, 128, kernel_size=(3, 3), stride=(1, 1), padding=(1, 1))\n",
      "            (up): Upsample(scale_factor=(2.0, 2.0), mode='nearest')\n",
      "          )\n",
      "          (1): ConvUpBlock(\n",
      "            (conv1): Conv2d(128, 64, kernel_size=(3, 3), stride=(1, 1), padding=(1, 1))\n",
      "            (conv2): Conv2d(64, 64, kernel_size=(3, 3), stride=(1, 1), padding=(1, 1))\n",
      "            (up): Upsample(scale_factor=(2.0, 2.0), mode='nearest')\n",
      "          )\n",
      "        )\n",
      "        (attention_blocks): ModuleList(\n",
      "          (0-1): 2 x Identity()\n",
      "        )\n",
      "        (amp_activation): Amplitude_activation()\n",
      "        (amp): Decoder_last_Amp(\n",
      "          (conv1): Conv2d(56, 4, kernel_size=(3, 3), stride=(1, 1), padding=(1, 1))\n",
      "          (conv_up_block): ConvUpBlock(\n",
      "            (conv1): Conv2d(8, 64, kernel_size=(3, 3), stride=(1, 1), padding=(1, 1))\n",
      "            (conv2): Conv2d(64, 64, kernel_size=(3, 3), stride=(1, 1), padding=(1, 1))\n",
      "            (up): Upsample(scale_factor=(2.0, 2.0), mode='nearest')\n",
      "          )\n",
      "          (conv2): Conv2d(64, 4, kernel_size=(3, 3), stride=(1, 1), padding=(1, 1))\n",
      "          (activation): Amplitude_activation()\n",
      "          (padding): ConstantPad2d(padding=(16, 16, 16, 16), value=0)\n",
      "        )\n",
      "      )\n",
      "      (decoder_phase): Decoder_phase(\n",
      "        (blocks): ModuleList(\n",
      "          (0): ConvUpBlock(\n",
      "            (conv1): Conv2d(256, 128, kernel_size=(3, 3), stride=(1, 1), padding=(1, 1))\n",
      "            (conv2): Conv2d(128, 128, kernel_size=(3, 3), stride=(1, 1), padding=(1, 1))\n",
      "            (up): Upsample(scale_factor=(2.0, 2.0), mode='nearest')\n",
      "          )\n",
      "          (1): ConvUpBlock(\n",
      "            (conv1): Conv2d(128, 64, kernel_size=(3, 3), stride=(1, 1), padding=(1, 1))\n",
      "            (conv2): Conv2d(64, 64, kernel_size=(3, 3), stride=(1, 1), padding=(1, 1))\n",
      "            (up): Upsample(scale_factor=(2.0, 2.0), mode='nearest')\n",
      "          )\n",
      "        )\n",
      "        (attention_blocks): ModuleList(\n",
      "          (0-1): 2 x Identity()\n",
      "        )\n",
      "        (phase_activation): Tanh_custom_act()\n",
      "        (phase): Decoder_last_Phase(\n",
      "          (conv1): Conv2d(56, 4, kernel_size=(3, 3), stride=(1, 1), padding=(1, 1))\n",
      "          (conv_up_block): ConvUpBlock(\n",
      "            (conv1): Conv2d(8, 64, kernel_size=(3, 3), stride=(1, 1), padding=(1, 1))\n",
      "            (conv2): Conv2d(64, 64, kernel_size=(3, 3), stride=(1, 1), padding=(1, 1))\n",
      "            (up): Upsample(scale_factor=(2.0, 2.0), mode='nearest')\n",
      "          )\n",
      "          (conv2): Conv2d(64, 4, kernel_size=(3, 3), stride=(1, 1), padding=(1, 1))\n",
      "          (activation): Tanh_custom_act()\n",
      "          (padding): ConstantPad2d(padding=(16, 16, 16, 16), value=0)\n",
      "        )\n",
      "      )\n",
      "    )\n",
      "    (combine_complex): CombineComplex()\n",
      "    (forward_model): ForwardModel(\n",
      "      (reassemble_patches): LambdaLayer()\n",
      "      (pad_patches): LambdaLayer()\n",
      "      (trim_reconstruction): LambdaLayer()\n",
      "      (extract_patches): LambdaLayer()\n",
      "      (probe_illumination): ProbeIllumination()\n",
      "      (pad_and_diffract): LambdaLayer()\n",
      "    )\n",
      "  )\n",
      "  (Loss): PoissonLoss(\n",
      "    (poisson): PoissonIntensityLayer()\n",
      "  )\n",
      ")\n"
     ]
    }
   ],
   "source": [
    "print(f\"Model uri: {loaded_ptycho_model.mlflow_tracking_uri}\")\n",
    "print(f\"Model id: {loaded_ptycho_model.run_id}\")\n",
    "print(loaded_ptycho_model.model)"
   ]
  },
  {
   "cell_type": "markdown",
   "id": "2d99a2c9",
   "metadata": {},
   "source": [
    "Now we test out the saving method using an arbitrary save location."
   ]
  },
  {
   "cell_type": "code",
   "execution_count": 55,
   "id": "38b97f92",
   "metadata": {},
   "outputs": [
    {
     "name": "stderr",
     "output_type": "stream",
     "text": [
      "Downloading artifacts: 100%|██████████| 9/9 [00:00<00:00, 533.81it/s]  "
     ]
    },
    {
     "name": "stdout",
     "output_type": "stream",
     "text": [
      "✓ New tracking URI: file:///local/PtychoPINN/mlruns\n",
      "file:///local/PtychoPINN/mlruns\n"
     ]
    },
    {
     "name": "stderr",
     "output_type": "stream",
     "text": [
      "\n"
     ]
    }
   ],
   "source": [
    "new_model_uri = loaded_ptycho_model.save(\"/local/PtychoPINN\",\n",
    "                         strategy = 'mlflow')\n",
    "\n",
    "print(new_model_uri)"
   ]
  },
  {
   "cell_type": "markdown",
   "id": "300eafb1",
   "metadata": {},
   "source": [
    "Now we can check if our newly saved model works"
   ]
  },
  {
   "cell_type": "code",
   "execution_count": 57,
   "id": "cbb04e45",
   "metadata": {},
   "outputs": [
    {
     "name": "stdout",
     "output_type": "stream",
     "text": [
      "Model uri: /local/PtychoPINN/mlruns\n",
      "Model id: f637381fd7fe49158bb0ed2e7a28ca45\n",
      "PtychoPINN_Lightning(\n",
      "  (model): PtychoPINN(\n",
      "    (autoencoder): Autoencoder(\n",
      "      (encoder): Encoder(\n",
      "        (blocks): ModuleList(\n",
      "          (0): ConvPoolBlock(\n",
      "            (conv1): Conv2d(4, 64, kernel_size=(3, 3), stride=(1, 1), padding=(1, 1))\n",
      "            (conv2): Conv2d(64, 64, kernel_size=(3, 3), stride=(1, 1), padding=(1, 1))\n",
      "            (pool): MaxPool2d(kernel_size=(2, 2), stride=(2, 2), padding=0, dilation=1, ceil_mode=False)\n",
      "            (attention): CBAM(\n",
      "              (ChannelGate): ChannelGate(\n",
      "                (mlp): Sequential(\n",
      "                  (0): Flatten(start_dim=1, end_dim=-1)\n",
      "                  (1): Linear(in_features=64, out_features=4, bias=True)\n",
      "                  (2): ReLU()\n",
      "                  (3): Linear(in_features=4, out_features=64, bias=True)\n",
      "                )\n",
      "              )\n",
      "              (SpatialGate): SpatialGate(\n",
      "                (compress): Conv2d(2, 1, kernel_size=(7, 7), stride=(1, 1), padding=(3, 3), bias=False)\n",
      "              )\n",
      "            )\n",
      "          )\n",
      "          (1): ConvPoolBlock(\n",
      "            (conv1): Conv2d(64, 128, kernel_size=(3, 3), stride=(1, 1), padding=(1, 1))\n",
      "            (conv2): Conv2d(128, 128, kernel_size=(3, 3), stride=(1, 1), padding=(1, 1))\n",
      "            (pool): MaxPool2d(kernel_size=(2, 2), stride=(2, 2), padding=0, dilation=1, ceil_mode=False)\n",
      "            (attention): CBAM(\n",
      "              (ChannelGate): ChannelGate(\n",
      "                (mlp): Sequential(\n",
      "                  (0): Flatten(start_dim=1, end_dim=-1)\n",
      "                  (1): Linear(in_features=128, out_features=8, bias=True)\n",
      "                  (2): ReLU()\n",
      "                  (3): Linear(in_features=8, out_features=128, bias=True)\n",
      "                )\n",
      "              )\n",
      "              (SpatialGate): SpatialGate(\n",
      "                (compress): Conv2d(2, 1, kernel_size=(7, 7), stride=(1, 1), padding=(3, 3), bias=False)\n",
      "              )\n",
      "            )\n",
      "          )\n",
      "          (2): ConvPoolBlock(\n",
      "            (conv1): Conv2d(128, 256, kernel_size=(3, 3), stride=(1, 1), padding=(1, 1))\n",
      "            (conv2): Conv2d(256, 256, kernel_size=(3, 3), stride=(1, 1), padding=(1, 1))\n",
      "            (pool): MaxPool2d(kernel_size=(2, 2), stride=(2, 2), padding=0, dilation=1, ceil_mode=False)\n",
      "            (attention): CBAM(\n",
      "              (ChannelGate): ChannelGate(\n",
      "                (mlp): Sequential(\n",
      "                  (0): Flatten(start_dim=1, end_dim=-1)\n",
      "                  (1): Linear(in_features=256, out_features=16, bias=True)\n",
      "                  (2): ReLU()\n",
      "                  (3): Linear(in_features=16, out_features=256, bias=True)\n",
      "                )\n",
      "              )\n",
      "              (SpatialGate): SpatialGate(\n",
      "                (compress): Conv2d(2, 1, kernel_size=(7, 7), stride=(1, 1), padding=(3, 3), bias=False)\n",
      "              )\n",
      "            )\n",
      "          )\n",
      "        )\n",
      "      )\n",
      "      (bottleneck_cbam): Identity()\n",
      "      (decoder_amp): Decoder_amp(\n",
      "        (blocks): ModuleList(\n",
      "          (0): ConvUpBlock(\n",
      "            (conv1): Conv2d(256, 128, kernel_size=(3, 3), stride=(1, 1), padding=(1, 1))\n",
      "            (conv2): Conv2d(128, 128, kernel_size=(3, 3), stride=(1, 1), padding=(1, 1))\n",
      "            (up): Upsample(scale_factor=(2.0, 2.0), mode='nearest')\n",
      "          )\n",
      "          (1): ConvUpBlock(\n",
      "            (conv1): Conv2d(128, 64, kernel_size=(3, 3), stride=(1, 1), padding=(1, 1))\n",
      "            (conv2): Conv2d(64, 64, kernel_size=(3, 3), stride=(1, 1), padding=(1, 1))\n",
      "            (up): Upsample(scale_factor=(2.0, 2.0), mode='nearest')\n",
      "          )\n",
      "        )\n",
      "        (attention_blocks): ModuleList(\n",
      "          (0-1): 2 x Identity()\n",
      "        )\n",
      "        (amp_activation): Amplitude_activation()\n",
      "        (amp): Decoder_last_Amp(\n",
      "          (conv1): Conv2d(56, 4, kernel_size=(3, 3), stride=(1, 1), padding=(1, 1))\n",
      "          (conv_up_block): ConvUpBlock(\n",
      "            (conv1): Conv2d(8, 64, kernel_size=(3, 3), stride=(1, 1), padding=(1, 1))\n",
      "            (conv2): Conv2d(64, 64, kernel_size=(3, 3), stride=(1, 1), padding=(1, 1))\n",
      "            (up): Upsample(scale_factor=(2.0, 2.0), mode='nearest')\n",
      "          )\n",
      "          (conv2): Conv2d(64, 4, kernel_size=(3, 3), stride=(1, 1), padding=(1, 1))\n",
      "          (activation): Amplitude_activation()\n",
      "          (padding): ConstantPad2d(padding=(16, 16, 16, 16), value=0)\n",
      "        )\n",
      "      )\n",
      "      (decoder_phase): Decoder_phase(\n",
      "        (blocks): ModuleList(\n",
      "          (0): ConvUpBlock(\n",
      "            (conv1): Conv2d(256, 128, kernel_size=(3, 3), stride=(1, 1), padding=(1, 1))\n",
      "            (conv2): Conv2d(128, 128, kernel_size=(3, 3), stride=(1, 1), padding=(1, 1))\n",
      "            (up): Upsample(scale_factor=(2.0, 2.0), mode='nearest')\n",
      "          )\n",
      "          (1): ConvUpBlock(\n",
      "            (conv1): Conv2d(128, 64, kernel_size=(3, 3), stride=(1, 1), padding=(1, 1))\n",
      "            (conv2): Conv2d(64, 64, kernel_size=(3, 3), stride=(1, 1), padding=(1, 1))\n",
      "            (up): Upsample(scale_factor=(2.0, 2.0), mode='nearest')\n",
      "          )\n",
      "        )\n",
      "        (attention_blocks): ModuleList(\n",
      "          (0-1): 2 x Identity()\n",
      "        )\n",
      "        (phase_activation): Tanh_custom_act()\n",
      "        (phase): Decoder_last_Phase(\n",
      "          (conv1): Conv2d(56, 4, kernel_size=(3, 3), stride=(1, 1), padding=(1, 1))\n",
      "          (conv_up_block): ConvUpBlock(\n",
      "            (conv1): Conv2d(8, 64, kernel_size=(3, 3), stride=(1, 1), padding=(1, 1))\n",
      "            (conv2): Conv2d(64, 64, kernel_size=(3, 3), stride=(1, 1), padding=(1, 1))\n",
      "            (up): Upsample(scale_factor=(2.0, 2.0), mode='nearest')\n",
      "          )\n",
      "          (conv2): Conv2d(64, 4, kernel_size=(3, 3), stride=(1, 1), padding=(1, 1))\n",
      "          (activation): Tanh_custom_act()\n",
      "          (padding): ConstantPad2d(padding=(16, 16, 16, 16), value=0)\n",
      "        )\n",
      "      )\n",
      "    )\n",
      "    (combine_complex): CombineComplex()\n",
      "    (forward_model): ForwardModel(\n",
      "      (reassemble_patches): LambdaLayer()\n",
      "      (pad_patches): LambdaLayer()\n",
      "      (trim_reconstruction): LambdaLayer()\n",
      "      (extract_patches): LambdaLayer()\n",
      "      (probe_illumination): ProbeIllumination()\n",
      "      (pad_and_diffract): LambdaLayer()\n",
      "    )\n",
      "  )\n",
      "  (Loss): PoissonLoss(\n",
      "    (poisson): PoissonIntensityLayer()\n",
      "  )\n",
      ")\n"
     ]
    }
   ],
   "source": [
    "new_loaded_model = PtychoModel._load(strategy = 'mlflow',\n",
    "                                     run_id = run_id,\n",
    "                                     mlflow_tracking_uri = new_model_uri.replace('file://',''))\n",
    "\n",
    "print(f\"Model uri: {new_loaded_model.mlflow_tracking_uri}\")\n",
    "print(f\"Model id: {new_loaded_model.run_id}\")\n",
    "print(new_loaded_model.model)"
   ]
  },
  {
   "cell_type": "markdown",
   "id": "3955b0b0",
   "metadata": {},
   "source": [
    "# Part 4. Trainer"
   ]
  },
  {
   "cell_type": "markdown",
   "id": "c6797050",
   "metadata": {},
   "source": [
    "We'll be using the lightning dataloader and new model in order to show that training works."
   ]
  },
  {
   "cell_type": "code",
   "execution_count": 81,
   "id": "2af12628",
   "metadata": {},
   "outputs": [],
   "source": [
    "import ptycho_torch.api.base_api, ptycho_torch.api.trainer_api\n",
    "importlib.reload(ptycho_torch.api.base_api)\n",
    "importlib.reload(ptycho_torch.api.trainer_api)\n",
    "from ptycho_torch.api.base_api import Trainer\n",
    "from ptycho_torch.api.trainer_api import setup_lightning_trainer"
   ]
  },
  {
   "cell_type": "markdown",
   "id": "174b5d13",
   "metadata": {},
   "source": [
    "Let's update the config so that our training epochs are 1 (to make things faster)"
   ]
  },
  {
   "cell_type": "code",
   "execution_count": 82,
   "id": "4854f192",
   "metadata": {},
   "outputs": [
    {
     "data": {
      "text/plain": [
       "TrainingConfig(training_directories=[], nll=True, device='cuda', strategy='ddp', n_devices=2, learning_rate=0.001, epochs=1, batch_size=16, epochs_fine_tune=0, fine_tune_gamma=0.5, scheduler='Default', num_workers=2, accum_steps=1, gradient_clip_val=None, stage_1_epochs=0, stage_2_epochs=0, stage_3_epochs=0, physics_weight_schedule='cosine', stage_3_lr_factor=0.1, experiment_name='PtychoPINN synthetic', notes='', model_name='PtychoPINNv2')"
      ]
     },
     "execution_count": 82,
     "metadata": {},
     "output_type": "execute_result"
    }
   ],
   "source": [
    "training_update = {'epochs': 1,\n",
    "                   'epochs_fine_tune': 0}\n",
    "config_manager_mlflow.update(training_config = training_update)\n",
    "config_manager_mlflow.training_config"
   ]
  },
  {
   "cell_type": "markdown",
   "id": "40c98873",
   "metadata": {},
   "source": [
    "DDP for training needs to be run via a script instead of via notebook because the DDP strategy doesn't work for a notebook (since it spawns multiple processes)"
   ]
  },
  {
   "cell_type": "code",
   "execution_count": 83,
   "id": "1e85b5d0",
   "metadata": {},
   "outputs": [
    {
     "ename": "MisconfigurationException",
     "evalue": "`Trainer(strategy=<lightning.pytorch.strategies.ddp.DDPStrategy object at 0x7f652a6d4af0>)` is not compatible with an interactive environment. Run your code as a script, or choose a notebook-compatible strategy: `Trainer(strategy='ddp_notebook')`. In case you are spawning processes yourself, make sure to include the Trainer creation inside the worker function.",
     "output_type": "error",
     "traceback": [
      "\u001b[0;31m---------------------------------------------------------------------------\u001b[0m",
      "\u001b[0;31mMisconfigurationException\u001b[0m                 Traceback (most recent call last)",
      "Cell \u001b[0;32mIn[83], line 1\u001b[0m\n\u001b[0;32m----> 1\u001b[0m lightning_trainer \u001b[38;5;241m=\u001b[39m \u001b[43mTrainer\u001b[49m\u001b[38;5;241;43m.\u001b[39;49m\u001b[43m_from_lightning\u001b[49m\u001b[43m(\u001b[49m\u001b[43mmodel\u001b[49m\u001b[43m \u001b[49m\u001b[38;5;241;43m=\u001b[39;49m\u001b[43m \u001b[49m\u001b[43mnew_ptycho_model\u001b[49m\u001b[43m,\u001b[49m\n\u001b[1;32m      2\u001b[0m \u001b[43m                                            \u001b[49m\u001b[43mdataloader\u001b[49m\u001b[43m \u001b[49m\u001b[38;5;241;43m=\u001b[39;49m\u001b[43m \u001b[49m\u001b[43mlightning_dataloader\u001b[49m\u001b[43m,\u001b[49m\n\u001b[1;32m      3\u001b[0m \u001b[43m                                            \u001b[49m\u001b[43mconfig_manager\u001b[49m\u001b[43m \u001b[49m\u001b[38;5;241;43m=\u001b[39;49m\u001b[43m \u001b[49m\u001b[43mconfig_manager_mlflow\u001b[49m\u001b[43m)\u001b[49m\n",
      "File \u001b[0;32m/local/PtychoPINN/ptycho_torch/api/base_api.py:665\u001b[0m, in \u001b[0;36mTrainer._from_lightning\u001b[0;34m(cls, model, dataloader, config_manager, training_config)\u001b[0m\n\u001b[1;32m    657\u001b[0m     parsed_config \u001b[38;5;241m=\u001b[39m ConfigManager\u001b[38;5;241m.\u001b[39m_parse_config(training_config, TrainingConfig)\n\u001b[1;32m    659\u001b[0m instance \u001b[38;5;241m=\u001b[39m \u001b[38;5;28mcls\u001b[39m(model \u001b[38;5;241m=\u001b[39m model,\n\u001b[1;32m    660\u001b[0m                dataloader \u001b[38;5;241m=\u001b[39m dataloader,\n\u001b[1;32m    661\u001b[0m                config_manager \u001b[38;5;241m=\u001b[39m config_manager,\n\u001b[1;32m    662\u001b[0m                training_config \u001b[38;5;241m=\u001b[39m parsed_config,\n\u001b[1;32m    663\u001b[0m                strategy \u001b[38;5;241m=\u001b[39m TrainStrategy\u001b[38;5;241m.\u001b[39mLIGHTNING)\n\u001b[0;32m--> 665\u001b[0m \u001b[43minstance\u001b[49m\u001b[38;5;241;43m.\u001b[39;49m\u001b[43m_setup_lightning_trainer\u001b[49m\u001b[43m(\u001b[49m\u001b[43m)\u001b[49m\n\u001b[1;32m    667\u001b[0m \u001b[38;5;28;01mreturn\u001b[39;00m instance\n",
      "File \u001b[0;32m/local/PtychoPINN/ptycho_torch/api/base_api.py:683\u001b[0m, in \u001b[0;36mTrainer._setup_lightning_trainer\u001b[0;34m(self)\u001b[0m\n\u001b[1;32m    678\u001b[0m \u001b[38;5;250m\u001b[39m\u001b[38;5;124;03m\"\"\"\u001b[39;00m\n\u001b[1;32m    679\u001b[0m \u001b[38;5;124;03mLightning-specific setup that was copied from my own training code in train.py\u001b[39;00m\n\u001b[1;32m    680\u001b[0m \u001b[38;5;124;03m\"\"\"\u001b[39;00m\n\u001b[1;32m    681\u001b[0m \u001b[38;5;28;01mfrom\u001b[39;00m \u001b[38;5;21;01mptycho_torch\u001b[39;00m\u001b[38;5;21;01m.\u001b[39;00m\u001b[38;5;21;01mapi\u001b[39;00m\u001b[38;5;21;01m.\u001b[39;00m\u001b[38;5;21;01mtrainer_api\u001b[39;00m \u001b[38;5;28;01mimport\u001b[39;00m setup_lightning_trainer\n\u001b[0;32m--> 683\u001b[0m \u001b[38;5;28mself\u001b[39m\u001b[38;5;241m.\u001b[39m_trainer \u001b[38;5;241m=\u001b[39m \u001b[43msetup_lightning_trainer\u001b[49m\u001b[43m(\u001b[49m\u001b[38;5;28;43mself\u001b[39;49m\u001b[38;5;241;43m.\u001b[39;49m\u001b[43mptycho_model\u001b[49m\u001b[43m,\u001b[49m\n\u001b[1;32m    684\u001b[0m \u001b[43m                                        \u001b[49m\u001b[38;5;28;43mself\u001b[39;49m\u001b[38;5;241;43m.\u001b[39;49m\u001b[43mtraining_config\u001b[49m\u001b[43m)\u001b[49m\n",
      "File \u001b[0;32m/local/PtychoPINN/ptycho_torch/api/trainer_api.py:39\u001b[0m, in \u001b[0;36msetup_lightning_trainer\u001b[0;34m(ptycho_model, training_config)\u001b[0m\n\u001b[1;32m     36\u001b[0m     total_epochs \u001b[38;5;241m=\u001b[39m training_config\u001b[38;5;241m.\u001b[39mepochs\n\u001b[1;32m     38\u001b[0m \u001b[38;5;66;03m#Instantiate lightning trainer\u001b[39;00m\n\u001b[0;32m---> 39\u001b[0m trainer \u001b[38;5;241m=\u001b[39m \u001b[43mL\u001b[49m\u001b[38;5;241;43m.\u001b[39;49m\u001b[43mTrainer\u001b[49m\u001b[43m(\u001b[49m\n\u001b[1;32m     40\u001b[0m \u001b[43m    \u001b[49m\u001b[43mmax_epochs\u001b[49m\u001b[43m \u001b[49m\u001b[38;5;241;43m=\u001b[39;49m\u001b[43m \u001b[49m\u001b[43mtotal_epochs\u001b[49m\u001b[43m,\u001b[49m\n\u001b[1;32m     41\u001b[0m \u001b[43m    \u001b[49m\u001b[43mdevices\u001b[49m\u001b[43m \u001b[49m\u001b[38;5;241;43m=\u001b[39;49m\u001b[43m \u001b[49m\u001b[43mtraining_config\u001b[49m\u001b[38;5;241;43m.\u001b[39;49m\u001b[43mn_devices\u001b[49m\u001b[43m,\u001b[49m\n\u001b[1;32m     42\u001b[0m \u001b[43m    \u001b[49m\u001b[43maccelerator\u001b[49m\u001b[43m \u001b[49m\u001b[38;5;241;43m=\u001b[39;49m\u001b[43m \u001b[49m\u001b[38;5;124;43m'\u001b[39;49m\u001b[38;5;124;43mgpu\u001b[39;49m\u001b[38;5;124;43m'\u001b[39;49m\u001b[43m,\u001b[49m\n\u001b[1;32m     43\u001b[0m \u001b[43m    \u001b[49m\u001b[43mcallbacks\u001b[49m\u001b[43m \u001b[49m\u001b[38;5;241;43m=\u001b[39;49m\u001b[43m \u001b[49m\u001b[43m[\u001b[49m\u001b[43mcheckpoint_callback\u001b[49m\u001b[43m,\u001b[49m\u001b[43m \u001b[49m\u001b[43mearly_stop_callback\u001b[49m\u001b[43m]\u001b[49m\u001b[43m,\u001b[49m\n\u001b[1;32m     44\u001b[0m \u001b[43m    \u001b[49m\u001b[43mstrategy\u001b[49m\u001b[43m \u001b[49m\u001b[38;5;241;43m=\u001b[39;49m\u001b[43m \u001b[49m\u001b[43mget_training_strategy\u001b[49m\u001b[43m(\u001b[49m\u001b[43mtraining_config\u001b[49m\u001b[38;5;241;43m.\u001b[39;49m\u001b[43mn_devices\u001b[49m\u001b[43m)\u001b[49m\u001b[43m,\u001b[49m\n\u001b[1;32m     45\u001b[0m \u001b[43m    \u001b[49m\u001b[43mcheck_val_every_n_epoch\u001b[49m\u001b[38;5;241;43m=\u001b[39;49m\u001b[38;5;241;43m1\u001b[39;49m\u001b[43m,\u001b[49m\n\u001b[1;32m     46\u001b[0m \u001b[43m    \u001b[49m\u001b[43menable_checkpointing\u001b[49m\u001b[38;5;241;43m=\u001b[39;49m\u001b[38;5;28;43;01mTrue\u001b[39;49;00m\u001b[43m,\u001b[49m\n\u001b[1;32m     47\u001b[0m \u001b[43m    \u001b[49m\u001b[43menable_progress_bar\u001b[49m\u001b[38;5;241;43m=\u001b[39;49m\u001b[38;5;28;43;01mTrue\u001b[39;49;00m\n\u001b[1;32m     48\u001b[0m \u001b[43m\u001b[49m\u001b[43m)\u001b[49m\n\u001b[1;32m     50\u001b[0m \u001b[38;5;28;01mreturn\u001b[39;00m trainer\n",
      "File \u001b[0;32m/local/miniconda3/envs/PtychoPINN_torch/lib/python3.10/site-packages/lightning/pytorch/utilities/argparse.py:70\u001b[0m, in \u001b[0;36m_defaults_from_env_vars.<locals>.insert_env_defaults\u001b[0;34m(self, *args, **kwargs)\u001b[0m\n\u001b[1;32m     67\u001b[0m kwargs \u001b[38;5;241m=\u001b[39m \u001b[38;5;28mdict\u001b[39m(\u001b[38;5;28mlist\u001b[39m(env_variables\u001b[38;5;241m.\u001b[39mitems()) \u001b[38;5;241m+\u001b[39m \u001b[38;5;28mlist\u001b[39m(kwargs\u001b[38;5;241m.\u001b[39mitems()))\n\u001b[1;32m     69\u001b[0m \u001b[38;5;66;03m# all args were already moved to kwargs\u001b[39;00m\n\u001b[0;32m---> 70\u001b[0m \u001b[38;5;28;01mreturn\u001b[39;00m \u001b[43mfn\u001b[49m\u001b[43m(\u001b[49m\u001b[38;5;28;43mself\u001b[39;49m\u001b[43m,\u001b[49m\u001b[43m \u001b[49m\u001b[38;5;241;43m*\u001b[39;49m\u001b[38;5;241;43m*\u001b[39;49m\u001b[43mkwargs\u001b[49m\u001b[43m)\u001b[49m\n",
      "File \u001b[0;32m/local/miniconda3/envs/PtychoPINN_torch/lib/python3.10/site-packages/lightning/pytorch/trainer/trainer.py:404\u001b[0m, in \u001b[0;36mTrainer.__init__\u001b[0;34m(self, accelerator, strategy, devices, num_nodes, precision, logger, callbacks, fast_dev_run, max_epochs, min_epochs, max_steps, min_steps, max_time, limit_train_batches, limit_val_batches, limit_test_batches, limit_predict_batches, overfit_batches, val_check_interval, check_val_every_n_epoch, num_sanity_val_steps, log_every_n_steps, enable_checkpointing, enable_progress_bar, enable_model_summary, accumulate_grad_batches, gradient_clip_val, gradient_clip_algorithm, deterministic, benchmark, inference_mode, use_distributed_sampler, profiler, detect_anomaly, barebones, plugins, sync_batchnorm, reload_dataloaders_every_n_epochs, default_root_dir, model_registry)\u001b[0m\n\u001b[1;32m    401\u001b[0m \u001b[38;5;66;03m# init connectors\u001b[39;00m\n\u001b[1;32m    402\u001b[0m \u001b[38;5;28mself\u001b[39m\u001b[38;5;241m.\u001b[39m_data_connector \u001b[38;5;241m=\u001b[39m _DataConnector(\u001b[38;5;28mself\u001b[39m)\n\u001b[0;32m--> 404\u001b[0m \u001b[38;5;28mself\u001b[39m\u001b[38;5;241m.\u001b[39m_accelerator_connector \u001b[38;5;241m=\u001b[39m \u001b[43m_AcceleratorConnector\u001b[49m\u001b[43m(\u001b[49m\n\u001b[1;32m    405\u001b[0m \u001b[43m    \u001b[49m\u001b[43mdevices\u001b[49m\u001b[38;5;241;43m=\u001b[39;49m\u001b[43mdevices\u001b[49m\u001b[43m,\u001b[49m\n\u001b[1;32m    406\u001b[0m \u001b[43m    \u001b[49m\u001b[43maccelerator\u001b[49m\u001b[38;5;241;43m=\u001b[39;49m\u001b[43maccelerator\u001b[49m\u001b[43m,\u001b[49m\n\u001b[1;32m    407\u001b[0m \u001b[43m    \u001b[49m\u001b[43mstrategy\u001b[49m\u001b[38;5;241;43m=\u001b[39;49m\u001b[43mstrategy\u001b[49m\u001b[43m,\u001b[49m\n\u001b[1;32m    408\u001b[0m \u001b[43m    \u001b[49m\u001b[43mnum_nodes\u001b[49m\u001b[38;5;241;43m=\u001b[39;49m\u001b[43mnum_nodes\u001b[49m\u001b[43m,\u001b[49m\n\u001b[1;32m    409\u001b[0m \u001b[43m    \u001b[49m\u001b[43msync_batchnorm\u001b[49m\u001b[38;5;241;43m=\u001b[39;49m\u001b[43msync_batchnorm\u001b[49m\u001b[43m,\u001b[49m\n\u001b[1;32m    410\u001b[0m \u001b[43m    \u001b[49m\u001b[43mbenchmark\u001b[49m\u001b[38;5;241;43m=\u001b[39;49m\u001b[43mbenchmark\u001b[49m\u001b[43m,\u001b[49m\n\u001b[1;32m    411\u001b[0m \u001b[43m    \u001b[49m\u001b[43muse_distributed_sampler\u001b[49m\u001b[38;5;241;43m=\u001b[39;49m\u001b[43muse_distributed_sampler\u001b[49m\u001b[43m,\u001b[49m\n\u001b[1;32m    412\u001b[0m \u001b[43m    \u001b[49m\u001b[43mdeterministic\u001b[49m\u001b[38;5;241;43m=\u001b[39;49m\u001b[43mdeterministic\u001b[49m\u001b[43m,\u001b[49m\n\u001b[1;32m    413\u001b[0m \u001b[43m    \u001b[49m\u001b[43mprecision\u001b[49m\u001b[38;5;241;43m=\u001b[39;49m\u001b[43mprecision\u001b[49m\u001b[43m,\u001b[49m\n\u001b[1;32m    414\u001b[0m \u001b[43m    \u001b[49m\u001b[43mplugins\u001b[49m\u001b[38;5;241;43m=\u001b[39;49m\u001b[43mplugins\u001b[49m\u001b[43m,\u001b[49m\n\u001b[1;32m    415\u001b[0m \u001b[43m\u001b[49m\u001b[43m)\u001b[49m\n\u001b[1;32m    416\u001b[0m \u001b[38;5;28mself\u001b[39m\u001b[38;5;241m.\u001b[39m_logger_connector \u001b[38;5;241m=\u001b[39m _LoggerConnector(\u001b[38;5;28mself\u001b[39m)\n\u001b[1;32m    417\u001b[0m \u001b[38;5;28mself\u001b[39m\u001b[38;5;241m.\u001b[39m_callback_connector \u001b[38;5;241m=\u001b[39m _CallbackConnector(\u001b[38;5;28mself\u001b[39m)\n",
      "File \u001b[0;32m/local/miniconda3/envs/PtychoPINN_torch/lib/python3.10/site-packages/lightning/pytorch/trainer/connectors/accelerator_connector.py:163\u001b[0m, in \u001b[0;36m_AcceleratorConnector.__init__\u001b[0;34m(self, devices, num_nodes, accelerator, strategy, plugins, precision, sync_batchnorm, benchmark, use_distributed_sampler, deterministic)\u001b[0m\n\u001b[1;32m    160\u001b[0m \u001b[38;5;28mself\u001b[39m\u001b[38;5;241m.\u001b[39mprecision_plugin \u001b[38;5;241m=\u001b[39m \u001b[38;5;28mself\u001b[39m\u001b[38;5;241m.\u001b[39m_check_and_init_precision()\n\u001b[1;32m    162\u001b[0m \u001b[38;5;66;03m# 6. Instantiate Strategy - Part 2\u001b[39;00m\n\u001b[0;32m--> 163\u001b[0m \u001b[38;5;28;43mself\u001b[39;49m\u001b[38;5;241;43m.\u001b[39;49m\u001b[43m_lazy_init_strategy\u001b[49m\u001b[43m(\u001b[49m\u001b[43m)\u001b[49m\n",
      "File \u001b[0;32m/local/miniconda3/envs/PtychoPINN_torch/lib/python3.10/site-packages/lightning/pytorch/trainer/connectors/accelerator_connector.py:581\u001b[0m, in \u001b[0;36m_AcceleratorConnector._lazy_init_strategy\u001b[0;34m(self)\u001b[0m\n\u001b[1;32m    578\u001b[0m \u001b[38;5;28mself\u001b[39m\u001b[38;5;241m.\u001b[39mstrategy\u001b[38;5;241m.\u001b[39m_configure_launcher()\n\u001b[1;32m    580\u001b[0m \u001b[38;5;28;01mif\u001b[39;00m _IS_INTERACTIVE \u001b[38;5;129;01mand\u001b[39;00m \u001b[38;5;28mself\u001b[39m\u001b[38;5;241m.\u001b[39mstrategy\u001b[38;5;241m.\u001b[39mlauncher \u001b[38;5;129;01mand\u001b[39;00m \u001b[38;5;129;01mnot\u001b[39;00m \u001b[38;5;28mself\u001b[39m\u001b[38;5;241m.\u001b[39mstrategy\u001b[38;5;241m.\u001b[39mlauncher\u001b[38;5;241m.\u001b[39mis_interactive_compatible:\n\u001b[0;32m--> 581\u001b[0m     \u001b[38;5;28;01mraise\u001b[39;00m MisconfigurationException(\n\u001b[1;32m    582\u001b[0m         \u001b[38;5;124mf\u001b[39m\u001b[38;5;124m\"\u001b[39m\u001b[38;5;124m`Trainer(strategy=\u001b[39m\u001b[38;5;132;01m{\u001b[39;00m\u001b[38;5;28mself\u001b[39m\u001b[38;5;241m.\u001b[39m_strategy_flag\u001b[38;5;132;01m!r}\u001b[39;00m\u001b[38;5;124m)` is not compatible with an interactive\u001b[39m\u001b[38;5;124m\"\u001b[39m\n\u001b[1;32m    583\u001b[0m         \u001b[38;5;124m\"\u001b[39m\u001b[38;5;124m environment. Run your code as a script, or choose a notebook-compatible strategy:\u001b[39m\u001b[38;5;124m\"\u001b[39m\n\u001b[1;32m    584\u001b[0m         \u001b[38;5;124mf\u001b[39m\u001b[38;5;124m\"\u001b[39m\u001b[38;5;124m `Trainer(strategy=\u001b[39m\u001b[38;5;124m'\u001b[39m\u001b[38;5;124mddp_notebook\u001b[39m\u001b[38;5;124m'\u001b[39m\u001b[38;5;124m)`.\u001b[39m\u001b[38;5;124m\"\u001b[39m\n\u001b[1;32m    585\u001b[0m         \u001b[38;5;124m\"\u001b[39m\u001b[38;5;124m In case you are spawning processes yourself, make sure to include the Trainer\u001b[39m\u001b[38;5;124m\"\u001b[39m\n\u001b[1;32m    586\u001b[0m         \u001b[38;5;124m\"\u001b[39m\u001b[38;5;124m creation inside the worker function.\u001b[39m\u001b[38;5;124m\"\u001b[39m\n\u001b[1;32m    587\u001b[0m     )\n\u001b[1;32m    589\u001b[0m \u001b[38;5;66;03m# TODO: should be moved to _check_strategy_and_fallback().\u001b[39;00m\n\u001b[1;32m    590\u001b[0m \u001b[38;5;66;03m# Current test check precision first, so keep this check here to meet error order\u001b[39;00m\n\u001b[1;32m    591\u001b[0m \u001b[38;5;28;01mif\u001b[39;00m \u001b[38;5;28misinstance\u001b[39m(\u001b[38;5;28mself\u001b[39m\u001b[38;5;241m.\u001b[39maccelerator, XLAAccelerator) \u001b[38;5;129;01mand\u001b[39;00m \u001b[38;5;129;01mnot\u001b[39;00m \u001b[38;5;28misinstance\u001b[39m(\n\u001b[1;32m    592\u001b[0m     \u001b[38;5;28mself\u001b[39m\u001b[38;5;241m.\u001b[39mstrategy, (SingleDeviceXLAStrategy, XLAStrategy)\n\u001b[1;32m    593\u001b[0m ):\n",
      "\u001b[0;31mMisconfigurationException\u001b[0m: `Trainer(strategy=<lightning.pytorch.strategies.ddp.DDPStrategy object at 0x7f652a6d4af0>)` is not compatible with an interactive environment. Run your code as a script, or choose a notebook-compatible strategy: `Trainer(strategy='ddp_notebook')`. In case you are spawning processes yourself, make sure to include the Trainer creation inside the worker function."
     ]
    }
   ],
   "source": [
    "lightning_trainer = Trainer._from_lightning(model = new_ptycho_model,\n",
    "                                            dataloader = lightning_dataloader,\n",
    "                                            config_manager = config_manager_mlflow)"
   ]
  },
  {
   "cell_type": "code",
   "execution_count": 73,
   "id": "dcb92d88",
   "metadata": {},
   "outputs": [
    {
     "data": {
      "text/plain": [
       "TrainingConfig(training_directories=[], nll=True, device='cuda', strategy='ddp', n_devices=1, learning_rate=0.001, epochs=50, batch_size=16, epochs_fine_tune=0, fine_tune_gamma=0.1, scheduler='Default', num_workers=4, accum_steps=1, gradient_clip_val=None, stage_1_epochs=0, stage_2_epochs=0, stage_3_epochs=0, physics_weight_schedule='cosine', stage_3_lr_factor=0.1, experiment_name='Synthetic_Runs', notes='', model_name='PtychoPINNv2')"
      ]
     },
     "execution_count": 73,
     "metadata": {},
     "output_type": "execute_result"
    }
   ],
   "source": [
    "lightning_trainer.training_config"
   ]
  },
  {
   "cell_type": "markdown",
   "id": "2cb08095",
   "metadata": {},
   "source": [
    "# Part 5. Inference"
   ]
  },
  {
   "cell_type": "markdown",
   "id": "12fcff09",
   "metadata": {},
   "source": [
    "# Datagen"
   ]
  },
  {
   "cell_type": "markdown",
   "id": "e76975a7",
   "metadata": {},
   "source": []
  }
 ],
 "metadata": {
  "kernelspec": {
   "display_name": "PtychoPINN_torch",
   "language": "python",
   "name": "python3"
  },
  "language_info": {
   "codemirror_mode": {
    "name": "ipython",
    "version": 3
   },
   "file_extension": ".py",
   "mimetype": "text/x-python",
   "name": "python",
   "nbconvert_exporter": "python",
   "pygments_lexer": "ipython3",
   "version": "3.10.13"
  }
 },
 "nbformat": 4,
 "nbformat_minor": 5
}
