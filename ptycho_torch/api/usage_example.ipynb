{
 "cells": [
  {
   "cell_type": "code",
   "execution_count": 1,
   "id": "f2611779",
   "metadata": {},
   "outputs": [],
   "source": [
    "import sys\n",
    "sys.path.append(os.path.abspath('/local/PtychoPINN'))"
   ]
  },
  {
   "cell_type": "code",
   "execution_count": 2,
   "id": "820fad33",
   "metadata": {},
   "outputs": [],
   "source": [
    "from ptycho_torch.api.base_api import ConfigManager, PtychoDataLoader, PtychoModel, Trainer, InferenceEngine"
   ]
  },
  {
   "cell_type": "markdown",
   "id": "0cb96b09",
   "metadata": {},
   "source": [
    "# Part 1. Config Manager"
   ]
  },
  {
   "cell_type": "markdown",
   "id": "0241bd5c",
   "metadata": {},
   "source": [
    "Let's set up a config manager using both a json and then loading directly from an mlflow run."
   ]
  },
  {
   "cell_type": "markdown",
   "id": "647f9e7f",
   "metadata": {},
   "source": [
    "## Method 1: JSON"
   ]
  },
  {
   "cell_type": "code",
   "execution_count": 3,
   "id": "8b22578d",
   "metadata": {},
   "outputs": [
    {
     "name": "stdout",
     "output_type": "stream",
     "text": [
      "Successfully loaded configuration from: ../configs/publication_configs/4_q_multi_gpu_velociprobe.json\n",
      "Configuration validation completed.\n"
     ]
    }
   ],
   "source": [
    "#Let's set up a config manager using two methods\n",
    "json_path = '../configs/publication_configs/4_q_multi_gpu_velociprobe.json'\n",
    "config_manager_json, _ = ConfigManager._from_json(json_path)\n"
   ]
  },
  {
   "cell_type": "markdown",
   "id": "72e78253",
   "metadata": {},
   "source": [
    "## Method 2: MLFlow run"
   ]
  },
  {
   "cell_type": "code",
   "execution_count": 4,
   "id": "c19e5917",
   "metadata": {},
   "outputs": [
    {
     "name": "stdout",
     "output_type": "stream",
     "text": [
      "Successfully loaded configuration from run f637381fd7fe49158bb0ed2e7a28ca45 from tracking uri /local/CDI-PINN/mlruns\n"
     ]
    }
   ],
   "source": [
    "mlflow_tracking_uri = \"/local/CDI-PINN/mlruns\"\n",
    "run_id = \"f637381fd7fe49158bb0ed2e7a28ca45\"\n",
    "\n",
    "config_manager_mlflow = ConfigManager._from_mlflow(run_id,\n",
    "                                                   mlflow_tracking_uri)"
   ]
  },
  {
   "cell_type": "markdown",
   "id": "06d91b62",
   "metadata": {},
   "source": [
    "## Using the update function with a dictionary"
   ]
  },
  {
   "cell_type": "code",
   "execution_count": 10,
   "id": "c132f7b5",
   "metadata": {},
   "outputs": [
    {
     "name": "stdout",
     "output_type": "stream",
     "text": [
      "DataConfig(nphotons=100000.0, N=64, C=4, K=6, K_quadrant=60, n_subsample=1, grid_size=[2, 2], neighbor_function='4_quadrant', min_neighbor_distance=0.5, max_neighbor_distance=8, scan_pattern='Rectangular', normalize='Batch', probe_scale=1.0, probe_normalize=True, data_scaling='Parseval', phase_subtraction=True, x_bounds=[0.05, 0.95], y_bounds=[0.05, 0.95])\n"
     ]
    }
   ],
   "source": [
    "print(config_manager_mlflow.data_config)"
   ]
  },
  {
   "cell_type": "markdown",
   "id": "f321f098",
   "metadata": {},
   "source": [
    "Here, we'll modify the nphotons number just as a demonstration of how to use the update function"
   ]
  },
  {
   "cell_type": "code",
   "execution_count": 12,
   "id": "243ddc84",
   "metadata": {},
   "outputs": [
    {
     "name": "stdout",
     "output_type": "stream",
     "text": [
      "DataConfig(nphotons=50000.0, N=64, C=4, K=6, K_quadrant=60, n_subsample=1, grid_size=[2, 2], neighbor_function='4_quadrant', min_neighbor_distance=0.5, max_neighbor_distance=8, scan_pattern='Rectangular', normalize='Batch', probe_scale=1.0, probe_normalize=True, data_scaling='Parseval', phase_subtraction=True, x_bounds=[0.05, 0.95], y_bounds=[0.05, 0.95])\n"
     ]
    }
   ],
   "source": [
    "data_config_update = {'nphotons': 5e4}\n",
    "\n",
    "config_manager_mlflow.update(data_config = data_config_update)\n",
    "print(config_manager_mlflow.data_config)\n",
    "\n",
    "#We can see we've successfully updated the data config."
   ]
  },
  {
   "cell_type": "markdown",
   "id": "96e066b4",
   "metadata": {},
   "source": [
    "# Part 2. Dataloader"
   ]
  },
  {
   "cell_type": "code",
   "execution_count": 58,
   "id": "047bcf4f",
   "metadata": {},
   "outputs": [],
   "source": [
    "import importlib\n",
    "import ptycho_torch.api.base_api\n",
    "import ptycho_torch.dataloader\n",
    "\n",
    "importlib.reload(ptycho_torch.api.base_api)\n",
    "importlib.reload(ptycho_torch.dataloader)\n",
    "\n",
    "from ptycho_torch.api.base_api import ConfigManager, PtychoDataLoader, PtychoModel, Trainer, InferenceEngine\n",
    "import ptycho_torch.dataloader"
   ]
  },
  {
   "cell_type": "code",
   "execution_count": 59,
   "id": "9e94d753",
   "metadata": {},
   "outputs": [],
   "source": [
    "from ptycho_torch.api.base_api import DataloaderFormats"
   ]
  },
  {
   "cell_type": "markdown",
   "id": "7d861d6f",
   "metadata": {},
   "source": [
    "The dataloader has two main current formats: ```Lightning``` and  ```Tensordict```. \n",
    "\n",
    "```Lightning``` is more useful for training since the dataloader will be generated during training and is compaitable with distributed data parallel (DDP) for multi-gpu training with the tensordict dataloader.\n",
    "\n",
    "```Tensordict``` spawns the base Dataset and Dataloader instances which can be used to inspect the data or use for inference.\n",
    "\n",
    "First, let's provide an arbitrary path to some training data we want to use. We make zero distinction between synthetic and real data, only parsing whatever .npz files exist within the directory. Note that the dataset creation automatically handles multiple experiments. To see how additional details/how the dataset class handles distinguishing amongst different npz files/experiments, see ```ptycho_torch.dataloader.py``` for details"
   ]
  },
  {
   "cell_type": "code",
   "execution_count": 60,
   "id": "8d897f6d",
   "metadata": {},
   "outputs": [
    {
     "data": {
      "text/plain": [
       "True"
      ]
     },
     "execution_count": 60,
     "metadata": {},
     "output_type": "execute_result"
    }
   ],
   "source": [
    "ptycho_data_dir = \"/local/CDI-PINN/data/pinn_velo_ncm\"\n",
    "os.path.exists(ptycho_data_dir)"
   ]
  },
  {
   "cell_type": "markdown",
   "id": "d07ae899",
   "metadata": {},
   "source": [
    "## Lightning Dataloader"
   ]
  },
  {
   "cell_type": "code",
   "execution_count": 61,
   "id": "a88d6a50",
   "metadata": {},
   "outputs": [
    {
     "name": "stdout",
     "output_type": "stream",
     "text": [
      "Set up lightning datamodule\n"
     ]
    }
   ],
   "source": [
    "lightning_dataloader = PtychoDataLoader(data_dir = ptycho_data_dir,\n",
    "                                        config_manager = config_manager_mlflow,\n",
    "                                        data_format = DataloaderFormats('lightning_module'))"
   ]
  },
  {
   "cell_type": "markdown",
   "id": "eea1316f",
   "metadata": {},
   "source": [
    "## Tensordict Dataloader"
   ]
  },
  {
   "cell_type": "markdown",
   "id": "40b97476",
   "metadata": {},
   "source": [
    "Note that instantiating the ```PtychoDataLoader``` with the tensordict format will create both a dataset object and dataloader object, which can both be accessed as attributes after class instantiation. We'll reference the dataset object so we can take a look inside to check it works."
   ]
  },
  {
   "cell_type": "code",
   "execution_count": null,
   "id": "964a376c",
   "metadata": {},
   "outputs": [
    {
     "name": "stdout",
     "output_type": "stream",
     "text": [
      "Calculating dataset length with coordinate bounds...\n",
      "For file /local/CDI-PINN/data/pinn_velo_ncm/nxs_data_ncm_1_64_train.npz, maximum x_range is (33.11264419555664, 240.88735961914062), yrange is (33.431095123291016, 232.56890869140625)\n",
      "Creating memory mapped tensor dictionary...\n",
      "Memory map length: 1902\n",
      "Memory map creation time: 0.0018334388732910156\n",
      "Populating memory map for dataset 0\n",
      "Start - end = 1902\n",
      "Building KDTree for 2466 points...\n",
      "Processing 1902 potential central points...\n",
      "Finished quadrant neighbor processing. Found 1902 valid C=4 groups.\n",
      "Non-diffraction memory map write time: 0.23435759544372559\n",
      "Getting normalization coefficients...\n",
      "Batch rms factor is tensor([[[[0.0012]]]])\n",
      "Diffraction memory map write time: 0.07936739921569824\n",
      "[PtychoDataset Rank 0] Initialization successful. Dataset length: 1902.\n",
      "Setup ptycho dataset\n",
      "Setup ptycho dataloader\n"
     ]
    },
    {
     "data": {
      "text/plain": [
       "<ptycho_torch.dataloader.PtychoDataset at 0x7fda371a6f80>"
      ]
     },
     "execution_count": 41,
     "metadata": {},
     "output_type": "execute_result"
    }
   ],
   "source": [
    "tensordict_dataloader = PtychoDataLoader(data_dir = ptycho_data_dir,\n",
    "                                        config_manager = config_manager_mlflow,\n",
    "                                        data_format = DataloaderFormats('tensordict'))\n",
    "\n"
   ]
  },
  {
   "cell_type": "code",
   "execution_count": 42,
   "id": "aec2bdba",
   "metadata": {},
   "outputs": [
    {
     "data": {
      "text/plain": [
       "(TensorDict(\n",
       "     fields={\n",
       "         coords_center: MemoryMappedTensor(shape=torch.Size([3, 1, 1, 2]), device=cpu, dtype=torch.float32, is_shared=True),\n",
       "         coords_global: MemoryMappedTensor(shape=torch.Size([3, 4, 1, 2]), device=cpu, dtype=torch.float32, is_shared=True),\n",
       "         coords_relative: MemoryMappedTensor(shape=torch.Size([3, 4, 1, 2]), device=cpu, dtype=torch.float32, is_shared=True),\n",
       "         coords_start_center: MemoryMappedTensor(shape=torch.Size([3, 1, 1, 2]), device=cpu, dtype=torch.float32, is_shared=True),\n",
       "         coords_start_relative: MemoryMappedTensor(shape=torch.Size([3, 4, 1, 2]), device=cpu, dtype=torch.float32, is_shared=True),\n",
       "         experiment_id: MemoryMappedTensor(shape=torch.Size([3]), device=cpu, dtype=torch.int32, is_shared=True),\n",
       "         images: MemoryMappedTensor(shape=torch.Size([3, 4, 64, 64]), device=cpu, dtype=torch.float32, is_shared=True),\n",
       "         label_amp: MemoryMappedTensor(shape=torch.Size([3, 4, 64, 64]), device=cpu, dtype=torch.float32, is_shared=True),\n",
       "         label_phase: MemoryMappedTensor(shape=torch.Size([3, 4, 64, 64]), device=cpu, dtype=torch.float32, is_shared=True),\n",
       "         nn_indices: MemoryMappedTensor(shape=torch.Size([3, 4]), device=cpu, dtype=torch.int64, is_shared=True),\n",
       "         physics_scaling_constant: MemoryMappedTensor(shape=torch.Size([3, 1, 1, 1]), device=cpu, dtype=torch.float32, is_shared=True),\n",
       "         rms_scaling_constant: MemoryMappedTensor(shape=torch.Size([3, 1, 1, 1]), device=cpu, dtype=torch.float32, is_shared=True)},\n",
       "     batch_size=torch.Size([3]),\n",
       "     device=cpu,\n",
       "     is_shared=False),\n",
       " tensor([[[[[-4.3091e-05-2.8940e-04j,  5.7006e-04+2.7263e-04j,\n",
       "              3.2320e-04-1.8437e-04j,  ...,\n",
       "              2.3659e-04-3.3919e-04j,  8.1525e-05-2.4157e-04j,\n",
       "              2.5281e-06+3.5443e-04j],\n",
       "            [-4.4747e-04+6.9711e-04j, -9.7556e-06-5.3134e-04j,\n",
       "             -1.7086e-04-7.3939e-04j,  ...,\n",
       "              2.7910e-04-5.3172e-04j, -8.0198e-05-1.0590e-04j,\n",
       "              4.8479e-05+4.6763e-04j],\n",
       "            [-1.8301e-05+5.3925e-04j, -4.6486e-04-7.5748e-04j,\n",
       "              2.9672e-05-4.8504e-05j,  ...,\n",
       "             -1.5833e-05-6.5333e-04j,  5.1248e-04-3.3274e-04j,\n",
       "             -4.3013e-04+4.2610e-04j],\n",
       "            ...,\n",
       "            [ 6.2349e-04+5.2546e-04j, -1.0856e-05+3.1835e-04j,\n",
       "             -2.4857e-04+4.2672e-04j,  ...,\n",
       "              1.8288e-04+9.3246e-05j,  1.3734e-04-6.4181e-04j,\n",
       "              6.0417e-04+3.5088e-04j],\n",
       "            [ 3.0428e-04+1.8803e-04j,  5.4588e-04+3.0648e-04j,\n",
       "             -9.7366e-05+1.1341e-03j,  ...,\n",
       "              2.8101e-04-5.3869e-04j,  4.6907e-04+5.7500e-05j,\n",
       "             -6.5518e-05+4.6713e-04j],\n",
       "            [ 2.9125e-04-3.8640e-04j,  2.7384e-04+7.5530e-05j,\n",
       "              1.2168e-04+4.1001e-04j,  ...,\n",
       "              1.0011e-03+2.9648e-05j, -2.8274e-04+7.5532e-04j,\n",
       "             -1.9552e-04-2.4319e-04j]]],\n",
       " \n",
       " \n",
       "          [[[-4.3091e-05-2.8940e-04j,  5.7006e-04+2.7263e-04j,\n",
       "              3.2320e-04-1.8437e-04j,  ...,\n",
       "              2.3659e-04-3.3919e-04j,  8.1525e-05-2.4157e-04j,\n",
       "              2.5281e-06+3.5443e-04j],\n",
       "            [-4.4747e-04+6.9711e-04j, -9.7556e-06-5.3134e-04j,\n",
       "             -1.7086e-04-7.3939e-04j,  ...,\n",
       "              2.7910e-04-5.3172e-04j, -8.0198e-05-1.0590e-04j,\n",
       "              4.8479e-05+4.6763e-04j],\n",
       "            [-1.8301e-05+5.3925e-04j, -4.6486e-04-7.5748e-04j,\n",
       "              2.9672e-05-4.8504e-05j,  ...,\n",
       "             -1.5833e-05-6.5333e-04j,  5.1248e-04-3.3274e-04j,\n",
       "             -4.3013e-04+4.2610e-04j],\n",
       "            ...,\n",
       "            [ 6.2349e-04+5.2546e-04j, -1.0856e-05+3.1835e-04j,\n",
       "             -2.4857e-04+4.2672e-04j,  ...,\n",
       "              1.8288e-04+9.3246e-05j,  1.3734e-04-6.4181e-04j,\n",
       "              6.0417e-04+3.5088e-04j],\n",
       "            [ 3.0428e-04+1.8803e-04j,  5.4588e-04+3.0648e-04j,\n",
       "             -9.7366e-05+1.1341e-03j,  ...,\n",
       "              2.8101e-04-5.3869e-04j,  4.6907e-04+5.7500e-05j,\n",
       "             -6.5518e-05+4.6713e-04j],\n",
       "            [ 2.9125e-04-3.8640e-04j,  2.7384e-04+7.5530e-05j,\n",
       "              1.2168e-04+4.1001e-04j,  ...,\n",
       "              1.0011e-03+2.9648e-05j, -2.8274e-04+7.5532e-04j,\n",
       "             -1.9552e-04-2.4319e-04j]]],\n",
       " \n",
       " \n",
       "          [[[-4.3091e-05-2.8940e-04j,  5.7006e-04+2.7263e-04j,\n",
       "              3.2320e-04-1.8437e-04j,  ...,\n",
       "              2.3659e-04-3.3919e-04j,  8.1525e-05-2.4157e-04j,\n",
       "              2.5281e-06+3.5443e-04j],\n",
       "            [-4.4747e-04+6.9711e-04j, -9.7556e-06-5.3134e-04j,\n",
       "             -1.7086e-04-7.3939e-04j,  ...,\n",
       "              2.7910e-04-5.3172e-04j, -8.0198e-05-1.0590e-04j,\n",
       "              4.8479e-05+4.6763e-04j],\n",
       "            [-1.8301e-05+5.3925e-04j, -4.6486e-04-7.5748e-04j,\n",
       "              2.9672e-05-4.8504e-05j,  ...,\n",
       "             -1.5833e-05-6.5333e-04j,  5.1248e-04-3.3274e-04j,\n",
       "             -4.3013e-04+4.2610e-04j],\n",
       "            ...,\n",
       "            [ 6.2349e-04+5.2546e-04j, -1.0856e-05+3.1835e-04j,\n",
       "             -2.4857e-04+4.2672e-04j,  ...,\n",
       "              1.8288e-04+9.3246e-05j,  1.3734e-04-6.4181e-04j,\n",
       "              6.0417e-04+3.5088e-04j],\n",
       "            [ 3.0428e-04+1.8803e-04j,  5.4588e-04+3.0648e-04j,\n",
       "             -9.7366e-05+1.1341e-03j,  ...,\n",
       "              2.8101e-04-5.3869e-04j,  4.6907e-04+5.7500e-05j,\n",
       "             -6.5518e-05+4.6713e-04j],\n",
       "            [ 2.9125e-04-3.8640e-04j,  2.7384e-04+7.5530e-05j,\n",
       "              1.2168e-04+4.1001e-04j,  ...,\n",
       "              1.0011e-03+2.9648e-05j, -2.8274e-04+7.5532e-04j,\n",
       "             -1.9552e-04-2.4319e-04j]]],\n",
       " \n",
       " \n",
       "          [[[-4.3091e-05-2.8940e-04j,  5.7006e-04+2.7263e-04j,\n",
       "              3.2320e-04-1.8437e-04j,  ...,\n",
       "              2.3659e-04-3.3919e-04j,  8.1525e-05-2.4157e-04j,\n",
       "              2.5281e-06+3.5443e-04j],\n",
       "            [-4.4747e-04+6.9711e-04j, -9.7556e-06-5.3134e-04j,\n",
       "             -1.7086e-04-7.3939e-04j,  ...,\n",
       "              2.7910e-04-5.3172e-04j, -8.0198e-05-1.0590e-04j,\n",
       "              4.8479e-05+4.6763e-04j],\n",
       "            [-1.8301e-05+5.3925e-04j, -4.6486e-04-7.5748e-04j,\n",
       "              2.9672e-05-4.8504e-05j,  ...,\n",
       "             -1.5833e-05-6.5333e-04j,  5.1248e-04-3.3274e-04j,\n",
       "             -4.3013e-04+4.2610e-04j],\n",
       "            ...,\n",
       "            [ 6.2349e-04+5.2546e-04j, -1.0856e-05+3.1835e-04j,\n",
       "             -2.4857e-04+4.2672e-04j,  ...,\n",
       "              1.8288e-04+9.3246e-05j,  1.3734e-04-6.4181e-04j,\n",
       "              6.0417e-04+3.5088e-04j],\n",
       "            [ 3.0428e-04+1.8803e-04j,  5.4588e-04+3.0648e-04j,\n",
       "             -9.7366e-05+1.1341e-03j,  ...,\n",
       "              2.8101e-04-5.3869e-04j,  4.6907e-04+5.7500e-05j,\n",
       "             -6.5518e-05+4.6713e-04j],\n",
       "            [ 2.9125e-04-3.8640e-04j,  2.7384e-04+7.5530e-05j,\n",
       "              1.2168e-04+4.1001e-04j,  ...,\n",
       "              1.0011e-03+2.9648e-05j, -2.8274e-04+7.5532e-04j,\n",
       "             -1.9552e-04-2.4319e-04j]]]],\n",
       " \n",
       " \n",
       " \n",
       "         [[[[-4.3091e-05-2.8940e-04j,  5.7006e-04+2.7263e-04j,\n",
       "              3.2320e-04-1.8437e-04j,  ...,\n",
       "              2.3659e-04-3.3919e-04j,  8.1525e-05-2.4157e-04j,\n",
       "              2.5281e-06+3.5443e-04j],\n",
       "            [-4.4747e-04+6.9711e-04j, -9.7556e-06-5.3134e-04j,\n",
       "             -1.7086e-04-7.3939e-04j,  ...,\n",
       "              2.7910e-04-5.3172e-04j, -8.0198e-05-1.0590e-04j,\n",
       "              4.8479e-05+4.6763e-04j],\n",
       "            [-1.8301e-05+5.3925e-04j, -4.6486e-04-7.5748e-04j,\n",
       "              2.9672e-05-4.8504e-05j,  ...,\n",
       "             -1.5833e-05-6.5333e-04j,  5.1248e-04-3.3274e-04j,\n",
       "             -4.3013e-04+4.2610e-04j],\n",
       "            ...,\n",
       "            [ 6.2349e-04+5.2546e-04j, -1.0856e-05+3.1835e-04j,\n",
       "             -2.4857e-04+4.2672e-04j,  ...,\n",
       "              1.8288e-04+9.3246e-05j,  1.3734e-04-6.4181e-04j,\n",
       "              6.0417e-04+3.5088e-04j],\n",
       "            [ 3.0428e-04+1.8803e-04j,  5.4588e-04+3.0648e-04j,\n",
       "             -9.7366e-05+1.1341e-03j,  ...,\n",
       "              2.8101e-04-5.3869e-04j,  4.6907e-04+5.7500e-05j,\n",
       "             -6.5518e-05+4.6713e-04j],\n",
       "            [ 2.9125e-04-3.8640e-04j,  2.7384e-04+7.5530e-05j,\n",
       "              1.2168e-04+4.1001e-04j,  ...,\n",
       "              1.0011e-03+2.9648e-05j, -2.8274e-04+7.5532e-04j,\n",
       "             -1.9552e-04-2.4319e-04j]]],\n",
       " \n",
       " \n",
       "          [[[-4.3091e-05-2.8940e-04j,  5.7006e-04+2.7263e-04j,\n",
       "              3.2320e-04-1.8437e-04j,  ...,\n",
       "              2.3659e-04-3.3919e-04j,  8.1525e-05-2.4157e-04j,\n",
       "              2.5281e-06+3.5443e-04j],\n",
       "            [-4.4747e-04+6.9711e-04j, -9.7556e-06-5.3134e-04j,\n",
       "             -1.7086e-04-7.3939e-04j,  ...,\n",
       "              2.7910e-04-5.3172e-04j, -8.0198e-05-1.0590e-04j,\n",
       "              4.8479e-05+4.6763e-04j],\n",
       "            [-1.8301e-05+5.3925e-04j, -4.6486e-04-7.5748e-04j,\n",
       "              2.9672e-05-4.8504e-05j,  ...,\n",
       "             -1.5833e-05-6.5333e-04j,  5.1248e-04-3.3274e-04j,\n",
       "             -4.3013e-04+4.2610e-04j],\n",
       "            ...,\n",
       "            [ 6.2349e-04+5.2546e-04j, -1.0856e-05+3.1835e-04j,\n",
       "             -2.4857e-04+4.2672e-04j,  ...,\n",
       "              1.8288e-04+9.3246e-05j,  1.3734e-04-6.4181e-04j,\n",
       "              6.0417e-04+3.5088e-04j],\n",
       "            [ 3.0428e-04+1.8803e-04j,  5.4588e-04+3.0648e-04j,\n",
       "             -9.7366e-05+1.1341e-03j,  ...,\n",
       "              2.8101e-04-5.3869e-04j,  4.6907e-04+5.7500e-05j,\n",
       "             -6.5518e-05+4.6713e-04j],\n",
       "            [ 2.9125e-04-3.8640e-04j,  2.7384e-04+7.5530e-05j,\n",
       "              1.2168e-04+4.1001e-04j,  ...,\n",
       "              1.0011e-03+2.9648e-05j, -2.8274e-04+7.5532e-04j,\n",
       "             -1.9552e-04-2.4319e-04j]]],\n",
       " \n",
       " \n",
       "          [[[-4.3091e-05-2.8940e-04j,  5.7006e-04+2.7263e-04j,\n",
       "              3.2320e-04-1.8437e-04j,  ...,\n",
       "              2.3659e-04-3.3919e-04j,  8.1525e-05-2.4157e-04j,\n",
       "              2.5281e-06+3.5443e-04j],\n",
       "            [-4.4747e-04+6.9711e-04j, -9.7556e-06-5.3134e-04j,\n",
       "             -1.7086e-04-7.3939e-04j,  ...,\n",
       "              2.7910e-04-5.3172e-04j, -8.0198e-05-1.0590e-04j,\n",
       "              4.8479e-05+4.6763e-04j],\n",
       "            [-1.8301e-05+5.3925e-04j, -4.6486e-04-7.5748e-04j,\n",
       "              2.9672e-05-4.8504e-05j,  ...,\n",
       "             -1.5833e-05-6.5333e-04j,  5.1248e-04-3.3274e-04j,\n",
       "             -4.3013e-04+4.2610e-04j],\n",
       "            ...,\n",
       "            [ 6.2349e-04+5.2546e-04j, -1.0856e-05+3.1835e-04j,\n",
       "             -2.4857e-04+4.2672e-04j,  ...,\n",
       "              1.8288e-04+9.3246e-05j,  1.3734e-04-6.4181e-04j,\n",
       "              6.0417e-04+3.5088e-04j],\n",
       "            [ 3.0428e-04+1.8803e-04j,  5.4588e-04+3.0648e-04j,\n",
       "             -9.7366e-05+1.1341e-03j,  ...,\n",
       "              2.8101e-04-5.3869e-04j,  4.6907e-04+5.7500e-05j,\n",
       "             -6.5518e-05+4.6713e-04j],\n",
       "            [ 2.9125e-04-3.8640e-04j,  2.7384e-04+7.5530e-05j,\n",
       "              1.2168e-04+4.1001e-04j,  ...,\n",
       "              1.0011e-03+2.9648e-05j, -2.8274e-04+7.5532e-04j,\n",
       "             -1.9552e-04-2.4319e-04j]]],\n",
       " \n",
       " \n",
       "          [[[-4.3091e-05-2.8940e-04j,  5.7006e-04+2.7263e-04j,\n",
       "              3.2320e-04-1.8437e-04j,  ...,\n",
       "              2.3659e-04-3.3919e-04j,  8.1525e-05-2.4157e-04j,\n",
       "              2.5281e-06+3.5443e-04j],\n",
       "            [-4.4747e-04+6.9711e-04j, -9.7556e-06-5.3134e-04j,\n",
       "             -1.7086e-04-7.3939e-04j,  ...,\n",
       "              2.7910e-04-5.3172e-04j, -8.0198e-05-1.0590e-04j,\n",
       "              4.8479e-05+4.6763e-04j],\n",
       "            [-1.8301e-05+5.3925e-04j, -4.6486e-04-7.5748e-04j,\n",
       "              2.9672e-05-4.8504e-05j,  ...,\n",
       "             -1.5833e-05-6.5333e-04j,  5.1248e-04-3.3274e-04j,\n",
       "             -4.3013e-04+4.2610e-04j],\n",
       "            ...,\n",
       "            [ 6.2349e-04+5.2546e-04j, -1.0856e-05+3.1835e-04j,\n",
       "             -2.4857e-04+4.2672e-04j,  ...,\n",
       "              1.8288e-04+9.3246e-05j,  1.3734e-04-6.4181e-04j,\n",
       "              6.0417e-04+3.5088e-04j],\n",
       "            [ 3.0428e-04+1.8803e-04j,  5.4588e-04+3.0648e-04j,\n",
       "             -9.7366e-05+1.1341e-03j,  ...,\n",
       "              2.8101e-04-5.3869e-04j,  4.6907e-04+5.7500e-05j,\n",
       "             -6.5518e-05+4.6713e-04j],\n",
       "            [ 2.9125e-04-3.8640e-04j,  2.7384e-04+7.5530e-05j,\n",
       "              1.2168e-04+4.1001e-04j,  ...,\n",
       "              1.0011e-03+2.9648e-05j, -2.8274e-04+7.5532e-04j,\n",
       "             -1.9552e-04-2.4319e-04j]]]],\n",
       " \n",
       " \n",
       " \n",
       "         [[[[-4.3091e-05-2.8940e-04j,  5.7006e-04+2.7263e-04j,\n",
       "              3.2320e-04-1.8437e-04j,  ...,\n",
       "              2.3659e-04-3.3919e-04j,  8.1525e-05-2.4157e-04j,\n",
       "              2.5281e-06+3.5443e-04j],\n",
       "            [-4.4747e-04+6.9711e-04j, -9.7556e-06-5.3134e-04j,\n",
       "             -1.7086e-04-7.3939e-04j,  ...,\n",
       "              2.7910e-04-5.3172e-04j, -8.0198e-05-1.0590e-04j,\n",
       "              4.8479e-05+4.6763e-04j],\n",
       "            [-1.8301e-05+5.3925e-04j, -4.6486e-04-7.5748e-04j,\n",
       "              2.9672e-05-4.8504e-05j,  ...,\n",
       "             -1.5833e-05-6.5333e-04j,  5.1248e-04-3.3274e-04j,\n",
       "             -4.3013e-04+4.2610e-04j],\n",
       "            ...,\n",
       "            [ 6.2349e-04+5.2546e-04j, -1.0856e-05+3.1835e-04j,\n",
       "             -2.4857e-04+4.2672e-04j,  ...,\n",
       "              1.8288e-04+9.3246e-05j,  1.3734e-04-6.4181e-04j,\n",
       "              6.0417e-04+3.5088e-04j],\n",
       "            [ 3.0428e-04+1.8803e-04j,  5.4588e-04+3.0648e-04j,\n",
       "             -9.7366e-05+1.1341e-03j,  ...,\n",
       "              2.8101e-04-5.3869e-04j,  4.6907e-04+5.7500e-05j,\n",
       "             -6.5518e-05+4.6713e-04j],\n",
       "            [ 2.9125e-04-3.8640e-04j,  2.7384e-04+7.5530e-05j,\n",
       "              1.2168e-04+4.1001e-04j,  ...,\n",
       "              1.0011e-03+2.9648e-05j, -2.8274e-04+7.5532e-04j,\n",
       "             -1.9552e-04-2.4319e-04j]]],\n",
       " \n",
       " \n",
       "          [[[-4.3091e-05-2.8940e-04j,  5.7006e-04+2.7263e-04j,\n",
       "              3.2320e-04-1.8437e-04j,  ...,\n",
       "              2.3659e-04-3.3919e-04j,  8.1525e-05-2.4157e-04j,\n",
       "              2.5281e-06+3.5443e-04j],\n",
       "            [-4.4747e-04+6.9711e-04j, -9.7556e-06-5.3134e-04j,\n",
       "             -1.7086e-04-7.3939e-04j,  ...,\n",
       "              2.7910e-04-5.3172e-04j, -8.0198e-05-1.0590e-04j,\n",
       "              4.8479e-05+4.6763e-04j],\n",
       "            [-1.8301e-05+5.3925e-04j, -4.6486e-04-7.5748e-04j,\n",
       "              2.9672e-05-4.8504e-05j,  ...,\n",
       "             -1.5833e-05-6.5333e-04j,  5.1248e-04-3.3274e-04j,\n",
       "             -4.3013e-04+4.2610e-04j],\n",
       "            ...,\n",
       "            [ 6.2349e-04+5.2546e-04j, -1.0856e-05+3.1835e-04j,\n",
       "             -2.4857e-04+4.2672e-04j,  ...,\n",
       "              1.8288e-04+9.3246e-05j,  1.3734e-04-6.4181e-04j,\n",
       "              6.0417e-04+3.5088e-04j],\n",
       "            [ 3.0428e-04+1.8803e-04j,  5.4588e-04+3.0648e-04j,\n",
       "             -9.7366e-05+1.1341e-03j,  ...,\n",
       "              2.8101e-04-5.3869e-04j,  4.6907e-04+5.7500e-05j,\n",
       "             -6.5518e-05+4.6713e-04j],\n",
       "            [ 2.9125e-04-3.8640e-04j,  2.7384e-04+7.5530e-05j,\n",
       "              1.2168e-04+4.1001e-04j,  ...,\n",
       "              1.0011e-03+2.9648e-05j, -2.8274e-04+7.5532e-04j,\n",
       "             -1.9552e-04-2.4319e-04j]]],\n",
       " \n",
       " \n",
       "          [[[-4.3091e-05-2.8940e-04j,  5.7006e-04+2.7263e-04j,\n",
       "              3.2320e-04-1.8437e-04j,  ...,\n",
       "              2.3659e-04-3.3919e-04j,  8.1525e-05-2.4157e-04j,\n",
       "              2.5281e-06+3.5443e-04j],\n",
       "            [-4.4747e-04+6.9711e-04j, -9.7556e-06-5.3134e-04j,\n",
       "             -1.7086e-04-7.3939e-04j,  ...,\n",
       "              2.7910e-04-5.3172e-04j, -8.0198e-05-1.0590e-04j,\n",
       "              4.8479e-05+4.6763e-04j],\n",
       "            [-1.8301e-05+5.3925e-04j, -4.6486e-04-7.5748e-04j,\n",
       "              2.9672e-05-4.8504e-05j,  ...,\n",
       "             -1.5833e-05-6.5333e-04j,  5.1248e-04-3.3274e-04j,\n",
       "             -4.3013e-04+4.2610e-04j],\n",
       "            ...,\n",
       "            [ 6.2349e-04+5.2546e-04j, -1.0856e-05+3.1835e-04j,\n",
       "             -2.4857e-04+4.2672e-04j,  ...,\n",
       "              1.8288e-04+9.3246e-05j,  1.3734e-04-6.4181e-04j,\n",
       "              6.0417e-04+3.5088e-04j],\n",
       "            [ 3.0428e-04+1.8803e-04j,  5.4588e-04+3.0648e-04j,\n",
       "             -9.7366e-05+1.1341e-03j,  ...,\n",
       "              2.8101e-04-5.3869e-04j,  4.6907e-04+5.7500e-05j,\n",
       "             -6.5518e-05+4.6713e-04j],\n",
       "            [ 2.9125e-04-3.8640e-04j,  2.7384e-04+7.5530e-05j,\n",
       "              1.2168e-04+4.1001e-04j,  ...,\n",
       "              1.0011e-03+2.9648e-05j, -2.8274e-04+7.5532e-04j,\n",
       "             -1.9552e-04-2.4319e-04j]]],\n",
       " \n",
       " \n",
       "          [[[-4.3091e-05-2.8940e-04j,  5.7006e-04+2.7263e-04j,\n",
       "              3.2320e-04-1.8437e-04j,  ...,\n",
       "              2.3659e-04-3.3919e-04j,  8.1525e-05-2.4157e-04j,\n",
       "              2.5281e-06+3.5443e-04j],\n",
       "            [-4.4747e-04+6.9711e-04j, -9.7556e-06-5.3134e-04j,\n",
       "             -1.7086e-04-7.3939e-04j,  ...,\n",
       "              2.7910e-04-5.3172e-04j, -8.0198e-05-1.0590e-04j,\n",
       "              4.8479e-05+4.6763e-04j],\n",
       "            [-1.8301e-05+5.3925e-04j, -4.6486e-04-7.5748e-04j,\n",
       "              2.9672e-05-4.8504e-05j,  ...,\n",
       "             -1.5833e-05-6.5333e-04j,  5.1248e-04-3.3274e-04j,\n",
       "             -4.3013e-04+4.2610e-04j],\n",
       "            ...,\n",
       "            [ 6.2349e-04+5.2546e-04j, -1.0856e-05+3.1835e-04j,\n",
       "             -2.4857e-04+4.2672e-04j,  ...,\n",
       "              1.8288e-04+9.3246e-05j,  1.3734e-04-6.4181e-04j,\n",
       "              6.0417e-04+3.5088e-04j],\n",
       "            [ 3.0428e-04+1.8803e-04j,  5.4588e-04+3.0648e-04j,\n",
       "             -9.7366e-05+1.1341e-03j,  ...,\n",
       "              2.8101e-04-5.3869e-04j,  4.6907e-04+5.7500e-05j,\n",
       "             -6.5518e-05+4.6713e-04j],\n",
       "            [ 2.9125e-04-3.8640e-04j,  2.7384e-04+7.5530e-05j,\n",
       "              1.2168e-04+4.1001e-04j,  ...,\n",
       "              1.0011e-03+2.9648e-05j, -2.8274e-04+7.5532e-04j,\n",
       "             -1.9552e-04-2.4319e-04j]]]]]),\n",
       " tensor([[[[0.0012]]],\n",
       " \n",
       " \n",
       "         [[[0.0012]]],\n",
       " \n",
       " \n",
       "         [[[0.0012]]]]))"
      ]
     },
     "execution_count": 42,
     "metadata": {},
     "output_type": "execute_result"
    }
   ],
   "source": [
    "tensordict_dataloader.dataset[1:4]"
   ]
  },
  {
   "cell_type": "markdown",
   "id": "5f9fabc6",
   "metadata": {},
   "source": [
    "# Part 3. Model"
   ]
  },
  {
   "cell_type": "code",
   "execution_count": 36,
   "id": "a786a93e",
   "metadata": {},
   "outputs": [],
   "source": [
    "import importlib\n",
    "from ptycho_torch.api.base_api import Orchestration\n",
    "from ptycho_torch.model import PtychoPINN_Lightning"
   ]
  },
  {
   "cell_type": "code",
   "execution_count": 52,
   "id": "14537e89",
   "metadata": {},
   "outputs": [],
   "source": [
    "import ptycho_torch.api.base_api\n",
    "importlib.reload(ptycho_torch.api.base_api)\n",
    "from ptycho_torch.api.base_api import PtychoModel, ConfigManager"
   ]
  },
  {
   "cell_type": "markdown",
   "id": "e1797a0f",
   "metadata": {},
   "source": [
    "We can either instantiate a baseline model based off a config manager, or we can \"load\" from mlflow"
   ]
  },
  {
   "cell_type": "markdown",
   "id": "68f53af7",
   "metadata": {},
   "source": [
    "## Instantiating untrained model"
   ]
  },
  {
   "cell_type": "code",
   "execution_count": 25,
   "id": "ea095461",
   "metadata": {},
   "outputs": [
    {
     "name": "stdout",
     "output_type": "stream",
     "text": [
      "Decoder Block 1: No attention module added.\n",
      "Decoder Block 2: No attention module added.\n",
      "Decoder Block 1: No attention module added.\n",
      "Decoder Block 2: No attention module added.\n"
     ]
    }
   ],
   "source": [
    "new_ptycho_model = PtychoModel._new_model(model = PtychoPINN_Lightning,\n",
    "                                          config_manager = config_manager_mlflow)"
   ]
  },
  {
   "cell_type": "markdown",
   "id": "61b0d2b3",
   "metadata": {},
   "source": [
    "## Loading model from trained mlflow run"
   ]
  },
  {
   "cell_type": "code",
   "execution_count": 53,
   "id": "69ff56bc",
   "metadata": {},
   "outputs": [],
   "source": [
    "loaded_ptycho_model = PtychoModel._load(strategy = 'mlflow',\n",
    "                                        run_id = run_id,\n",
    "                                        mlflow_tracking_uri = mlflow_tracking_uri)"
   ]
  },
  {
   "cell_type": "code",
   "execution_count": 54,
   "id": "059befb0",
   "metadata": {},
   "outputs": [
    {
     "name": "stdout",
     "output_type": "stream",
     "text": [
      "Model uri: /local/CDI-PINN/mlruns\n",
      "Model id: f637381fd7fe49158bb0ed2e7a28ca45\n",
      "PtychoPINN_Lightning(\n",
      "  (model): PtychoPINN(\n",
      "    (autoencoder): Autoencoder(\n",
      "      (encoder): Encoder(\n",
      "        (blocks): ModuleList(\n",
      "          (0): ConvPoolBlock(\n",
      "            (conv1): Conv2d(4, 64, kernel_size=(3, 3), stride=(1, 1), padding=(1, 1))\n",
      "            (conv2): Conv2d(64, 64, kernel_size=(3, 3), stride=(1, 1), padding=(1, 1))\n",
      "            (pool): MaxPool2d(kernel_size=(2, 2), stride=(2, 2), padding=0, dilation=1, ceil_mode=False)\n",
      "            (attention): CBAM(\n",
      "              (ChannelGate): ChannelGate(\n",
      "                (mlp): Sequential(\n",
      "                  (0): Flatten(start_dim=1, end_dim=-1)\n",
      "                  (1): Linear(in_features=64, out_features=4, bias=True)\n",
      "                  (2): ReLU()\n",
      "                  (3): Linear(in_features=4, out_features=64, bias=True)\n",
      "                )\n",
      "              )\n",
      "              (SpatialGate): SpatialGate(\n",
      "                (compress): Conv2d(2, 1, kernel_size=(7, 7), stride=(1, 1), padding=(3, 3), bias=False)\n",
      "              )\n",
      "            )\n",
      "          )\n",
      "          (1): ConvPoolBlock(\n",
      "            (conv1): Conv2d(64, 128, kernel_size=(3, 3), stride=(1, 1), padding=(1, 1))\n",
      "            (conv2): Conv2d(128, 128, kernel_size=(3, 3), stride=(1, 1), padding=(1, 1))\n",
      "            (pool): MaxPool2d(kernel_size=(2, 2), stride=(2, 2), padding=0, dilation=1, ceil_mode=False)\n",
      "            (attention): CBAM(\n",
      "              (ChannelGate): ChannelGate(\n",
      "                (mlp): Sequential(\n",
      "                  (0): Flatten(start_dim=1, end_dim=-1)\n",
      "                  (1): Linear(in_features=128, out_features=8, bias=True)\n",
      "                  (2): ReLU()\n",
      "                  (3): Linear(in_features=8, out_features=128, bias=True)\n",
      "                )\n",
      "              )\n",
      "              (SpatialGate): SpatialGate(\n",
      "                (compress): Conv2d(2, 1, kernel_size=(7, 7), stride=(1, 1), padding=(3, 3), bias=False)\n",
      "              )\n",
      "            )\n",
      "          )\n",
      "          (2): ConvPoolBlock(\n",
      "            (conv1): Conv2d(128, 256, kernel_size=(3, 3), stride=(1, 1), padding=(1, 1))\n",
      "            (conv2): Conv2d(256, 256, kernel_size=(3, 3), stride=(1, 1), padding=(1, 1))\n",
      "            (pool): MaxPool2d(kernel_size=(2, 2), stride=(2, 2), padding=0, dilation=1, ceil_mode=False)\n",
      "            (attention): CBAM(\n",
      "              (ChannelGate): ChannelGate(\n",
      "                (mlp): Sequential(\n",
      "                  (0): Flatten(start_dim=1, end_dim=-1)\n",
      "                  (1): Linear(in_features=256, out_features=16, bias=True)\n",
      "                  (2): ReLU()\n",
      "                  (3): Linear(in_features=16, out_features=256, bias=True)\n",
      "                )\n",
      "              )\n",
      "              (SpatialGate): SpatialGate(\n",
      "                (compress): Conv2d(2, 1, kernel_size=(7, 7), stride=(1, 1), padding=(3, 3), bias=False)\n",
      "              )\n",
      "            )\n",
      "          )\n",
      "        )\n",
      "      )\n",
      "      (bottleneck_cbam): Identity()\n",
      "      (decoder_amp): Decoder_amp(\n",
      "        (blocks): ModuleList(\n",
      "          (0): ConvUpBlock(\n",
      "            (conv1): Conv2d(256, 128, kernel_size=(3, 3), stride=(1, 1), padding=(1, 1))\n",
      "            (conv2): Conv2d(128, 128, kernel_size=(3, 3), stride=(1, 1), padding=(1, 1))\n",
      "            (up): Upsample(scale_factor=(2.0, 2.0), mode='nearest')\n",
      "          )\n",
      "          (1): ConvUpBlock(\n",
      "            (conv1): Conv2d(128, 64, kernel_size=(3, 3), stride=(1, 1), padding=(1, 1))\n",
      "            (conv2): Conv2d(64, 64, kernel_size=(3, 3), stride=(1, 1), padding=(1, 1))\n",
      "            (up): Upsample(scale_factor=(2.0, 2.0), mode='nearest')\n",
      "          )\n",
      "        )\n",
      "        (attention_blocks): ModuleList(\n",
      "          (0-1): 2 x Identity()\n",
      "        )\n",
      "        (amp_activation): Amplitude_activation()\n",
      "        (amp): Decoder_last_Amp(\n",
      "          (conv1): Conv2d(56, 4, kernel_size=(3, 3), stride=(1, 1), padding=(1, 1))\n",
      "          (conv_up_block): ConvUpBlock(\n",
      "            (conv1): Conv2d(8, 64, kernel_size=(3, 3), stride=(1, 1), padding=(1, 1))\n",
      "            (conv2): Conv2d(64, 64, kernel_size=(3, 3), stride=(1, 1), padding=(1, 1))\n",
      "            (up): Upsample(scale_factor=(2.0, 2.0), mode='nearest')\n",
      "          )\n",
      "          (conv2): Conv2d(64, 4, kernel_size=(3, 3), stride=(1, 1), padding=(1, 1))\n",
      "          (activation): Amplitude_activation()\n",
      "          (padding): ConstantPad2d(padding=(16, 16, 16, 16), value=0)\n",
      "        )\n",
      "      )\n",
      "      (decoder_phase): Decoder_phase(\n",
      "        (blocks): ModuleList(\n",
      "          (0): ConvUpBlock(\n",
      "            (conv1): Conv2d(256, 128, kernel_size=(3, 3), stride=(1, 1), padding=(1, 1))\n",
      "            (conv2): Conv2d(128, 128, kernel_size=(3, 3), stride=(1, 1), padding=(1, 1))\n",
      "            (up): Upsample(scale_factor=(2.0, 2.0), mode='nearest')\n",
      "          )\n",
      "          (1): ConvUpBlock(\n",
      "            (conv1): Conv2d(128, 64, kernel_size=(3, 3), stride=(1, 1), padding=(1, 1))\n",
      "            (conv2): Conv2d(64, 64, kernel_size=(3, 3), stride=(1, 1), padding=(1, 1))\n",
      "            (up): Upsample(scale_factor=(2.0, 2.0), mode='nearest')\n",
      "          )\n",
      "        )\n",
      "        (attention_blocks): ModuleList(\n",
      "          (0-1): 2 x Identity()\n",
      "        )\n",
      "        (phase_activation): Tanh_custom_act()\n",
      "        (phase): Decoder_last_Phase(\n",
      "          (conv1): Conv2d(56, 4, kernel_size=(3, 3), stride=(1, 1), padding=(1, 1))\n",
      "          (conv_up_block): ConvUpBlock(\n",
      "            (conv1): Conv2d(8, 64, kernel_size=(3, 3), stride=(1, 1), padding=(1, 1))\n",
      "            (conv2): Conv2d(64, 64, kernel_size=(3, 3), stride=(1, 1), padding=(1, 1))\n",
      "            (up): Upsample(scale_factor=(2.0, 2.0), mode='nearest')\n",
      "          )\n",
      "          (conv2): Conv2d(64, 4, kernel_size=(3, 3), stride=(1, 1), padding=(1, 1))\n",
      "          (activation): Tanh_custom_act()\n",
      "          (padding): ConstantPad2d(padding=(16, 16, 16, 16), value=0)\n",
      "        )\n",
      "      )\n",
      "    )\n",
      "    (combine_complex): CombineComplex()\n",
      "    (forward_model): ForwardModel(\n",
      "      (reassemble_patches): LambdaLayer()\n",
      "      (pad_patches): LambdaLayer()\n",
      "      (trim_reconstruction): LambdaLayer()\n",
      "      (extract_patches): LambdaLayer()\n",
      "      (probe_illumination): ProbeIllumination()\n",
      "      (pad_and_diffract): LambdaLayer()\n",
      "    )\n",
      "  )\n",
      "  (Loss): PoissonLoss(\n",
      "    (poisson): PoissonIntensityLayer()\n",
      "  )\n",
      ")\n"
     ]
    }
   ],
   "source": [
    "print(f\"Model uri: {loaded_ptycho_model.mlflow_tracking_uri}\")\n",
    "print(f\"Model id: {loaded_ptycho_model.run_id}\")\n",
    "print(loaded_ptycho_model.model)"
   ]
  },
  {
   "cell_type": "markdown",
   "id": "2d99a2c9",
   "metadata": {},
   "source": [
    "Now we test out the saving method using an arbitrary save location."
   ]
  },
  {
   "cell_type": "code",
   "execution_count": 55,
   "id": "38b97f92",
   "metadata": {},
   "outputs": [
    {
     "name": "stderr",
     "output_type": "stream",
     "text": [
      "Downloading artifacts: 100%|██████████| 9/9 [00:00<00:00, 533.81it/s]  "
     ]
    },
    {
     "name": "stdout",
     "output_type": "stream",
     "text": [
      "✓ New tracking URI: file:///local/PtychoPINN/mlruns\n",
      "file:///local/PtychoPINN/mlruns\n"
     ]
    },
    {
     "name": "stderr",
     "output_type": "stream",
     "text": [
      "\n"
     ]
    }
   ],
   "source": [
    "new_model_uri = loaded_ptycho_model.save(\"/local/PtychoPINN\",\n",
    "                         strategy = 'mlflow')\n",
    "\n",
    "print(new_model_uri)"
   ]
  },
  {
   "cell_type": "markdown",
   "id": "300eafb1",
   "metadata": {},
   "source": [
    "Now we can check if our newly saved model works"
   ]
  },
  {
   "cell_type": "code",
   "execution_count": 57,
   "id": "cbb04e45",
   "metadata": {},
   "outputs": [
    {
     "name": "stdout",
     "output_type": "stream",
     "text": [
      "Model uri: /local/PtychoPINN/mlruns\n",
      "Model id: f637381fd7fe49158bb0ed2e7a28ca45\n",
      "PtychoPINN_Lightning(\n",
      "  (model): PtychoPINN(\n",
      "    (autoencoder): Autoencoder(\n",
      "      (encoder): Encoder(\n",
      "        (blocks): ModuleList(\n",
      "          (0): ConvPoolBlock(\n",
      "            (conv1): Conv2d(4, 64, kernel_size=(3, 3), stride=(1, 1), padding=(1, 1))\n",
      "            (conv2): Conv2d(64, 64, kernel_size=(3, 3), stride=(1, 1), padding=(1, 1))\n",
      "            (pool): MaxPool2d(kernel_size=(2, 2), stride=(2, 2), padding=0, dilation=1, ceil_mode=False)\n",
      "            (attention): CBAM(\n",
      "              (ChannelGate): ChannelGate(\n",
      "                (mlp): Sequential(\n",
      "                  (0): Flatten(start_dim=1, end_dim=-1)\n",
      "                  (1): Linear(in_features=64, out_features=4, bias=True)\n",
      "                  (2): ReLU()\n",
      "                  (3): Linear(in_features=4, out_features=64, bias=True)\n",
      "                )\n",
      "              )\n",
      "              (SpatialGate): SpatialGate(\n",
      "                (compress): Conv2d(2, 1, kernel_size=(7, 7), stride=(1, 1), padding=(3, 3), bias=False)\n",
      "              )\n",
      "            )\n",
      "          )\n",
      "          (1): ConvPoolBlock(\n",
      "            (conv1): Conv2d(64, 128, kernel_size=(3, 3), stride=(1, 1), padding=(1, 1))\n",
      "            (conv2): Conv2d(128, 128, kernel_size=(3, 3), stride=(1, 1), padding=(1, 1))\n",
      "            (pool): MaxPool2d(kernel_size=(2, 2), stride=(2, 2), padding=0, dilation=1, ceil_mode=False)\n",
      "            (attention): CBAM(\n",
      "              (ChannelGate): ChannelGate(\n",
      "                (mlp): Sequential(\n",
      "                  (0): Flatten(start_dim=1, end_dim=-1)\n",
      "                  (1): Linear(in_features=128, out_features=8, bias=True)\n",
      "                  (2): ReLU()\n",
      "                  (3): Linear(in_features=8, out_features=128, bias=True)\n",
      "                )\n",
      "              )\n",
      "              (SpatialGate): SpatialGate(\n",
      "                (compress): Conv2d(2, 1, kernel_size=(7, 7), stride=(1, 1), padding=(3, 3), bias=False)\n",
      "              )\n",
      "            )\n",
      "          )\n",
      "          (2): ConvPoolBlock(\n",
      "            (conv1): Conv2d(128, 256, kernel_size=(3, 3), stride=(1, 1), padding=(1, 1))\n",
      "            (conv2): Conv2d(256, 256, kernel_size=(3, 3), stride=(1, 1), padding=(1, 1))\n",
      "            (pool): MaxPool2d(kernel_size=(2, 2), stride=(2, 2), padding=0, dilation=1, ceil_mode=False)\n",
      "            (attention): CBAM(\n",
      "              (ChannelGate): ChannelGate(\n",
      "                (mlp): Sequential(\n",
      "                  (0): Flatten(start_dim=1, end_dim=-1)\n",
      "                  (1): Linear(in_features=256, out_features=16, bias=True)\n",
      "                  (2): ReLU()\n",
      "                  (3): Linear(in_features=16, out_features=256, bias=True)\n",
      "                )\n",
      "              )\n",
      "              (SpatialGate): SpatialGate(\n",
      "                (compress): Conv2d(2, 1, kernel_size=(7, 7), stride=(1, 1), padding=(3, 3), bias=False)\n",
      "              )\n",
      "            )\n",
      "          )\n",
      "        )\n",
      "      )\n",
      "      (bottleneck_cbam): Identity()\n",
      "      (decoder_amp): Decoder_amp(\n",
      "        (blocks): ModuleList(\n",
      "          (0): ConvUpBlock(\n",
      "            (conv1): Conv2d(256, 128, kernel_size=(3, 3), stride=(1, 1), padding=(1, 1))\n",
      "            (conv2): Conv2d(128, 128, kernel_size=(3, 3), stride=(1, 1), padding=(1, 1))\n",
      "            (up): Upsample(scale_factor=(2.0, 2.0), mode='nearest')\n",
      "          )\n",
      "          (1): ConvUpBlock(\n",
      "            (conv1): Conv2d(128, 64, kernel_size=(3, 3), stride=(1, 1), padding=(1, 1))\n",
      "            (conv2): Conv2d(64, 64, kernel_size=(3, 3), stride=(1, 1), padding=(1, 1))\n",
      "            (up): Upsample(scale_factor=(2.0, 2.0), mode='nearest')\n",
      "          )\n",
      "        )\n",
      "        (attention_blocks): ModuleList(\n",
      "          (0-1): 2 x Identity()\n",
      "        )\n",
      "        (amp_activation): Amplitude_activation()\n",
      "        (amp): Decoder_last_Amp(\n",
      "          (conv1): Conv2d(56, 4, kernel_size=(3, 3), stride=(1, 1), padding=(1, 1))\n",
      "          (conv_up_block): ConvUpBlock(\n",
      "            (conv1): Conv2d(8, 64, kernel_size=(3, 3), stride=(1, 1), padding=(1, 1))\n",
      "            (conv2): Conv2d(64, 64, kernel_size=(3, 3), stride=(1, 1), padding=(1, 1))\n",
      "            (up): Upsample(scale_factor=(2.0, 2.0), mode='nearest')\n",
      "          )\n",
      "          (conv2): Conv2d(64, 4, kernel_size=(3, 3), stride=(1, 1), padding=(1, 1))\n",
      "          (activation): Amplitude_activation()\n",
      "          (padding): ConstantPad2d(padding=(16, 16, 16, 16), value=0)\n",
      "        )\n",
      "      )\n",
      "      (decoder_phase): Decoder_phase(\n",
      "        (blocks): ModuleList(\n",
      "          (0): ConvUpBlock(\n",
      "            (conv1): Conv2d(256, 128, kernel_size=(3, 3), stride=(1, 1), padding=(1, 1))\n",
      "            (conv2): Conv2d(128, 128, kernel_size=(3, 3), stride=(1, 1), padding=(1, 1))\n",
      "            (up): Upsample(scale_factor=(2.0, 2.0), mode='nearest')\n",
      "          )\n",
      "          (1): ConvUpBlock(\n",
      "            (conv1): Conv2d(128, 64, kernel_size=(3, 3), stride=(1, 1), padding=(1, 1))\n",
      "            (conv2): Conv2d(64, 64, kernel_size=(3, 3), stride=(1, 1), padding=(1, 1))\n",
      "            (up): Upsample(scale_factor=(2.0, 2.0), mode='nearest')\n",
      "          )\n",
      "        )\n",
      "        (attention_blocks): ModuleList(\n",
      "          (0-1): 2 x Identity()\n",
      "        )\n",
      "        (phase_activation): Tanh_custom_act()\n",
      "        (phase): Decoder_last_Phase(\n",
      "          (conv1): Conv2d(56, 4, kernel_size=(3, 3), stride=(1, 1), padding=(1, 1))\n",
      "          (conv_up_block): ConvUpBlock(\n",
      "            (conv1): Conv2d(8, 64, kernel_size=(3, 3), stride=(1, 1), padding=(1, 1))\n",
      "            (conv2): Conv2d(64, 64, kernel_size=(3, 3), stride=(1, 1), padding=(1, 1))\n",
      "            (up): Upsample(scale_factor=(2.0, 2.0), mode='nearest')\n",
      "          )\n",
      "          (conv2): Conv2d(64, 4, kernel_size=(3, 3), stride=(1, 1), padding=(1, 1))\n",
      "          (activation): Tanh_custom_act()\n",
      "          (padding): ConstantPad2d(padding=(16, 16, 16, 16), value=0)\n",
      "        )\n",
      "      )\n",
      "    )\n",
      "    (combine_complex): CombineComplex()\n",
      "    (forward_model): ForwardModel(\n",
      "      (reassemble_patches): LambdaLayer()\n",
      "      (pad_patches): LambdaLayer()\n",
      "      (trim_reconstruction): LambdaLayer()\n",
      "      (extract_patches): LambdaLayer()\n",
      "      (probe_illumination): ProbeIllumination()\n",
      "      (pad_and_diffract): LambdaLayer()\n",
      "    )\n",
      "  )\n",
      "  (Loss): PoissonLoss(\n",
      "    (poisson): PoissonIntensityLayer()\n",
      "  )\n",
      ")\n"
     ]
    }
   ],
   "source": [
    "new_loaded_model = PtychoModel._load(strategy = 'mlflow',\n",
    "                                     run_id = run_id,\n",
    "                                     mlflow_tracking_uri = new_model_uri.replace('file://',''))\n",
    "\n",
    "print(f\"Model uri: {new_loaded_model.mlflow_tracking_uri}\")\n",
    "print(f\"Model id: {new_loaded_model.run_id}\")\n",
    "print(new_loaded_model.model)"
   ]
  },
  {
   "cell_type": "markdown",
   "id": "3955b0b0",
   "metadata": {},
   "source": [
    "# Part 4. Trainer"
   ]
  },
  {
   "cell_type": "markdown",
   "id": "c6797050",
   "metadata": {},
   "source": [
    "Training doesn't work within the notebook due to DDP spawning multiple instances/not being compatible with dynamic environments such as notebook, so look at ```example_train.py``` in the same api subdirectory for an example"
   ]
  },
  {
   "cell_type": "markdown",
   "id": "2cb08095",
   "metadata": {},
   "source": [
    "# Part 5. Inference"
   ]
  },
  {
   "cell_type": "markdown",
   "id": "ec5b9940",
   "metadata": {},
   "source": [
    "We'll repeat the same steps as above in one set of lines so you can see exactly how inference can be called from a cold start. We almost always want to load a model since mlflow automatically saves models during training, and loading has minimal latency in the long run.\n",
    "\n",
    "Note that the ```memory_map_dir``` argument in the dataloader controls where the memory map is being created/referenced. This can change depending on needs. It currently accepts relative directory paths."
   ]
  },
  {
   "cell_type": "code",
   "execution_count": 19,
   "id": "d67abf42",
   "metadata": {},
   "outputs": [],
   "source": [
    "import importlib\n",
    "import ptycho_torch.api.base_api\n",
    "importlib.reload(ptycho_torch.api.base_api)\n",
    "from ptycho_torch.api.base_api import InferenceEngine, ConfigManager\n",
    "import matplotlib.pyplot as plt\n",
    "import numpy as np"
   ]
  },
  {
   "cell_type": "code",
   "execution_count": 15,
   "id": "4825abaa",
   "metadata": {},
   "outputs": [
    {
     "name": "stdout",
     "output_type": "stream",
     "text": [
      "Successfully loaded configuration from run 06822d7239504a93ae0f7a6c4577cdc8 from tracking uri /local/CDI-PINN/mlruns\n",
      "Calculating dataset length with coordinate bounds...\n",
      "For file /local/CDI-PINN/data/pinn_velo_ncm/nxs_data_ncm_1_64_train.npz, maximum x_range is (33.11264419555664, 240.88735961914062), yrange is (33.431095123291016, 232.56890869140625)\n",
      "Creating memory mapped tensor dictionary...\n",
      "Memory map length: 1902\n",
      "Memory map creation time: 0.0008263587951660156\n",
      "Populating memory map for dataset 0\n",
      "Start - end = 1902\n",
      "Building KDTree for 2466 points...\n",
      "Processing 1902 potential central points...\n",
      "Finished quadrant neighbor processing. Found 1902 valid C=4 groups.\n",
      "Non-diffraction memory map write time: 0.12977290153503418\n",
      "Getting normalization coefficients...\n",
      "Batch rms factor is tensor([[[[0.0012]]]])\n",
      "Diffraction memory map write time: 0.06346464157104492\n",
      "[PtychoDataset Rank 0] Initialization successful. Dataset length: 1902.\n",
      "Setup ptycho dataset\n",
      "Setup ptycho dataloader\n"
     ]
    }
   ],
   "source": [
    "#1. Config Manager\n",
    "\n",
    "mlflow_tracking_uri = \"/local/CDI-PINN/mlruns\"\n",
    "run_id = \"06822d7239504a93ae0f7a6c4577cdc8\" #Trained model\n",
    "\n",
    "config_manager_mlflow = ConfigManager._from_mlflow(run_id,\n",
    "                                                   mlflow_tracking_uri)\n",
    "\n",
    "\n",
    "#2. Dataloader\n",
    "ptycho_data_dir = \"/local/CDI-PINN/data/pinn_velo_ncm\"\n",
    "tensordict_dataloader = PtychoDataLoader(data_dir = ptycho_data_dir,\n",
    "                                        config_manager = config_manager_mlflow,\n",
    "                                        data_format = 'tensordict',\n",
    "                                        memory_map_dir = 'data/memmap')\n",
    "\n",
    "#3. Model\n",
    "trained_ptycho_model = PtychoModel._load(config_manager = config_manager_mlflow,\n",
    "                                         strategy = 'mlflow',\n",
    "                                         run_id = run_id,\n",
    "                                         mlflow_tracking_uri = mlflow_tracking_uri)\n",
    "\n",
    "\n",
    "#4. Inference\n",
    "ptycho_inference = InferenceEngine(ptycho_model = trained_ptycho_model,\n",
    "                                   config_manager = config_manager_mlflow)   "
   ]
  },
  {
   "cell_type": "markdown",
   "id": "719c8d2c",
   "metadata": {},
   "source": [
    "Now with everything available (model, dataloader, inference engine), we can call the inference engine (instantiated with a specific model and configuration) to infer/stitch a given dataloader which we have just prepped."
   ]
  },
  {
   "cell_type": "code",
   "execution_count": 11,
   "id": "b4d38e01",
   "metadata": {},
   "outputs": [],
   "source": [
    "import ptycho_torch.reassembly\n",
    "importlib.reload(ptycho_torch.reassembly)\n",
    "import ptycho_torch.reassembly"
   ]
  },
  {
   "cell_type": "code",
   "execution_count": 16,
   "id": "a3ca4e8b",
   "metadata": {},
   "outputs": [
    {
     "name": "stdout",
     "output_type": "stream",
     "text": [
      "Beginning inference...\n"
     ]
    }
   ],
   "source": [
    "print(f\"Beginning inference...\")\n",
    "\n",
    "res_cpu = ptycho_inference.predict_and_stitch(tensordict_dataloader)"
   ]
  },
  {
   "cell_type": "code",
   "execution_count": 21,
   "id": "905d1628",
   "metadata": {},
   "outputs": [
    {
     "data": {
      "text/plain": [
       "<matplotlib.image.AxesImage at 0x7f431fa6d810>"
      ]
     },
     "execution_count": 21,
     "metadata": {},
     "output_type": "execute_result"
    },
    {
     "data": {
      "image/png": "[encoded data removed]",
      "text/plain": [
       "<Figure size 700x500 with 2 Axes>"
      ]
     },
     "metadata": {},
     "output_type": "display_data"
    }
   ],
   "source": [
    "im_to_plot = res_cpu[20:-20,10:-10] #Due to edge effects\n",
    "\n",
    "fig, axs = plt.subplots(1,2,figsize=(7,5))\n",
    "axs[0].imshow(np.abs(im_to_plot))\n",
    "axs[1].imshow(np.angle(im_to_plot))"
   ]
  },
  {
   "cell_type": "markdown",
   "id": "12fcff09",
   "metadata": {},
   "source": [
    "# Datagen"
   ]
  },
  {
   "cell_type": "markdown",
   "id": "e76975a7",
   "metadata": {},
   "source": []
  }
 ],
 "metadata": {
  "kernelspec": {
   "display_name": "PtychoPINN_torch",
   "language": "python",
   "name": "python3"
  },
  "language_info": {
   "codemirror_mode": {
    "name": "ipython",
    "version": 3
   },
   "file_extension": ".py",
   "mimetype": "text/x-python",
   "name": "python",
   "nbconvert_exporter": "python",
   "pygments_lexer": "ipython3",
   "version": "3.10.13"
  }
 },
 "nbformat": 4,
 "nbformat_minor": 5
}
